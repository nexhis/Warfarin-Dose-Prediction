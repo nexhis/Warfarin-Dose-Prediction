{
  "cells": [
    {
      "cell_type": "markdown",
      "metadata": {
        "id": "VHaoXu-SrP7V"
      },
      "source": [
        "# Importing libraries"
      ]
    },
    {
      "cell_type": "code",
      "execution_count": null,
      "metadata": {
        "id": "9B-Yq2iZlMed"
      },
      "outputs": [],
      "source": [
        "## Basic imports\n",
        "import matplotlib.pyplot as plt\n",
        "import pandas as pd\n",
        "import numpy as np"
      ]
    },
    {
      "cell_type": "code",
      "execution_count": null,
      "metadata": {
        "id": "CCnOCCwulSf8"
      },
      "outputs": [],
      "source": [
        "## Specific imports\n",
        "from sklearn.model_selection import train_test_split\n",
        "from sklearn.model_selection import StratifiedShuffleSplit\n",
        "from sklearn.impute import SimpleImputer\n",
        "from sklearn.preprocessing import OneHotEncoder\n",
        "from sklearn import preprocessing\n",
        "from sklearn.base import BaseEstimator, TransformerMixin\n",
        "from sklearn.pipeline import Pipeline\n",
        "from sklearn.preprocessing import StandardScaler\n",
        "from sklearn.compose import ColumnTransformer\n",
        "from sklearn.preprocessing import OrdinalEncoder\n",
        "from sklearn.linear_model import LinearRegression"
      ]
    },
    {
      "cell_type": "markdown",
      "metadata": {
        "id": "M9hEur54lVnt"
      },
      "source": [
        "#Loading the DataSet and Reducing the Features of Interest"
      ]
    },
    {
      "cell_type": "code",
      "execution_count": null,
      "metadata": {
        "id": "vf0fmc53lehj"
      },
      "outputs": [],
      "source": [
        "from google.colab import drive\n",
        "drive.mount('/content/drive/')\n",
        "!ls /content/drive/MyDrive/Warfarin_Dose_Prediction_Dataset.xls"
      ]
    },
    {
      "cell_type": "code",
      "execution_count": null,
      "metadata": {
        "id": "3tenciHPmY7n"
      },
      "outputs": [],
      "source": []
    },
    {
      "cell_type": "code",
      "execution_count": null,
      "metadata": {
        "colab": {
          "base_uri": "https://localhost:8080/"
        },
        "id": "4Y8b0-GTlyyP",
        "outputId": "16797b8f-27ff-4db7-f80a-0fbee553c5be"
      },
      "outputs": [
        {
          "name": "stdout",
          "output_type": "stream",
          "text": [
            "Looking in indexes: https://pypi.org/simple, https://us-python.pkg.dev/colab-wheels/public/simple/\n",
            "Requirement already satisfied: xlrd in /usr/local/lib/python3.8/dist-packages (1.2.0)\n",
            "Collecting xlrd\n",
            "  Downloading xlrd-2.0.1-py2.py3-none-any.whl (96 kB)\n",
            "\u001b[K     |████████████████████████████████| 96 kB 6.0 MB/s \n",
            "\u001b[?25hInstalling collected packages: xlrd\n",
            "  Attempting uninstall: xlrd\n",
            "    Found existing installation: xlrd 1.2.0\n",
            "    Uninstalling xlrd-1.2.0:\n",
            "      Successfully uninstalled xlrd-1.2.0\n",
            "Successfully installed xlrd-2.0.1\n"
          ]
        }
      ],
      "source": [
        "!pip install --upgrade xlrd"
      ]
    },
    {
      "cell_type": "code",
      "execution_count": null,
      "metadata": {
        "id": "rejcsiX2l4MV"
      },
      "outputs": [],
      "source": [
        "import pandas as pd\n",
        "original_df = pd.read_excel('/content/drive/MyDrive/Warfarin_Dose_Prediction_Dataset.xls')"
      ]
    },
    {
      "cell_type": "code",
      "execution_count": null,
      "metadata": {
        "id": "Fl8sfQp6mLBz"
      },
      "outputs": [],
      "source": []
    },
    {
      "cell_type": "code",
      "execution_count": null,
      "metadata": {
        "colab": {
          "base_uri": "https://localhost:8080/"
        },
        "id": "3lK_6t7JliqB",
        "outputId": "6c2930a5-248d-4d42-a723-8f183ba50f85"
      },
      "outputs": [
        {
          "name": "stdout",
          "output_type": "stream",
          "text": [
            "<class 'pandas.core.frame.DataFrame'>\n",
            "RangeIndex: 5700 entries, 0 to 5699\n",
            "Data columns (total 68 columns):\n",
            " #   Column                                                                Non-Null Count  Dtype  \n",
            "---  ------                                                                --------------  -----  \n",
            " 0   PharmGKB Subject ID                                                   5700 non-null   object \n",
            " 1   PharmGKB Sample ID                                                    5700 non-null   object \n",
            " 2   Project Site                                                          5700 non-null   int64  \n",
            " 3   Gender                                                                5696 non-null   object \n",
            " 4   Race (Reported)                                                       5194 non-null   object \n",
            " 5   Race (OMB)                                                            5700 non-null   object \n",
            " 6   Ethnicity (Reported)                                                  4461 non-null   object \n",
            " 7   Ethnicity (OMB)                                                       5700 non-null   object \n",
            " 8   Age                                                                   5658 non-null   object \n",
            " 9   Height (cm)                                                           4554 non-null   float64\n",
            " 10  Weight (kg)                                                           5413 non-null   float64\n",
            " 11  Indication for Warfarin Treatment                                     5002 non-null   object \n",
            " 12  Comorbidities                                                         3745 non-null   object \n",
            " 13  Diabetes                                                              3283 non-null   float64\n",
            " 14  Congestive Heart Failure and/or Cardiomyopathy                        4012 non-null   float64\n",
            " 15  Valve Replacement                                                     3958 non-null   float64\n",
            " 16  Medications                                                           4303 non-null   object \n",
            " 17  Aspirin                                                               3840 non-null   float64\n",
            " 18  Acetaminophen or Paracetamol (Tylenol)                                2274 non-null   float64\n",
            " 19  Was Dose of Acetaminophen or Paracetamol (Tylenol) >1300mg/day        1159 non-null   float64\n",
            " 20  Simvastatin (Zocor)                                                   3861 non-null   float64\n",
            " 21  Atorvastatin (Lipitor)                                                2455 non-null   float64\n",
            " 22  Fluvastatin (Lescol)                                                  2423 non-null   float64\n",
            " 23  Lovastatin (Mevacor)                                                  2431 non-null   float64\n",
            " 24  Pravastatin (Pravachol)                                               2433 non-null   float64\n",
            " 25  Rosuvastatin (Crestor)                                                2424 non-null   float64\n",
            " 26  Cerivastatin (Baycol)                                                 2136 non-null   float64\n",
            " 27  Amiodarone (Cordarone)                                                4182 non-null   float64\n",
            " 28  Carbamazepine (Tegretol)                                              2430 non-null   float64\n",
            " 29  Phenytoin (Dilantin)                                                  2424 non-null   float64\n",
            " 30  Rifampin or Rifampicin                                                2423 non-null   float64\n",
            " 31  Sulfonamide Antibiotics                                               2422 non-null   float64\n",
            " 32  Macrolide Antibiotics                                                 2423 non-null   float64\n",
            " 33  Anti-fungal Azoles                                                    2426 non-null   float64\n",
            " 34  Herbal Medications, Vitamins, Supplements                             1908 non-null   float64\n",
            " 35  Target INR                                                            1259 non-null   float64\n",
            " 36  Estimated Target INR Range Based on Indication                        3818 non-null   object \n",
            " 37  Subject Reached Stable Dose of Warfarin                               5651 non-null   float64\n",
            " 38  Therapeutic Dose of Warfarin                                          5528 non-null   float64\n",
            " 39  INR on Reported Therapeutic Dose of Warfarin                          4968 non-null   float64\n",
            " 40  Current Smoker                                                        3220 non-null   float64\n",
            " 41  Cyp2C9 genotypes                                                      5567 non-null   object \n",
            " 42  Genotyped QC Cyp2C9*2                                                 478 non-null    object \n",
            " 43  Genotyped QC Cyp2C9*3                                                 478 non-null    object \n",
            " 44  Combined QC CYP2C9                                                    478 non-null    object \n",
            " 45  VKORC1 genotype: -1639 G>A (3673); chr16:31015190; rs9923231; C/T     4046 non-null   object \n",
            " 46  VKORC1 QC genotype: -1639 G>A (3673); chr16:31015190; rs9923231; C/T  478 non-null    object \n",
            " 47  VKORC1 genotype: 497T>G (5808); chr16:31013055; rs2884737; A/C        1599 non-null   object \n",
            " 48  VKORC1 QC genotype: 497T>G (5808); chr16:31013055; rs2884737; A/C     478 non-null    object \n",
            " 49  VKORC1 genotype: 1173 C>T(6484); chr16:31012379; rs9934438; A/G       3363 non-null   object \n",
            " 50  VKORC1 QC genotype: 1173 C>T(6484); chr16:31012379; rs9934438; A/G    478 non-null    object \n",
            " 51  VKORC1 genotype: 1542G>C (6853); chr16:31012010; rs8050894; C/G       3330 non-null   object \n",
            " 52  VKORC1 QC genotype: 1542G>C (6853); chr16:31012010; rs8050894; C/G    478 non-null    object \n",
            " 53  VKORC1 genotype: 3730 G>A (9041); chr16:31009822; rs7294;  A/G        3124 non-null   object \n",
            " 54  VKORC1 QC genotype: 3730 G>A (9041); chr16:31009822; rs7294;  A/G     478 non-null    object \n",
            " 55  VKORC1 genotype: 2255C>T (7566); chr16:31011297; rs2359612; A/G       2223 non-null   object \n",
            " 56  VKORC1 QC genotype: 2255C>T (7566); chr16:31011297; rs2359612; A/G    478 non-null    object \n",
            " 57  VKORC1 genotype: -4451 C>A (861); Chr16:31018002; rs17880887; A/C     540 non-null    object \n",
            " 58  VKORC1 QC genotype: -4451 C>A (861); Chr16:31018002; rs17880887; A/C  451 non-null    object \n",
            " 59  CYP2C9 consensus                                                      5556 non-null   object \n",
            " 60  VKORC1 -1639 consensus                                                4201 non-null   object \n",
            " 61  VKORC1 497 consensus                                                  1883 non-null   object \n",
            " 62  VKORC1 1173 consensus                                                 3591 non-null   object \n",
            " 63  VKORC1 1542 consensus                                                 3521 non-null   object \n",
            " 64  VKORC1 3730 consensus                                                 3344 non-null   object \n",
            " 65  VKORC1 2255 consensus                                                 2536 non-null   object \n",
            " 66  VKORC1 -4451 consensus                                                912 non-null    object \n",
            " 67  Comments regarding Project Site Dataset                               157 non-null    object \n",
            "dtypes: float64(28), int64(1), object(39)\n",
            "memory usage: 3.0+ MB\n"
          ]
        }
      ],
      "source": [
        "original_df.info()"
      ]
    },
    {
      "cell_type": "code",
      "execution_count": null,
      "metadata": {
        "id": "lQO9UotcmG1J"
      },
      "outputs": [],
      "source": [
        "patients = original_df[['Gender','Race (Reported)', 'Age', 'Height (cm)', 'Weight (kg)', 'Diabetes', 'Simvastatin (Zocor)', 'Amiodarone (Cordarone)',\n",
        "                     'Target INR', 'INR on Reported Therapeutic Dose of Warfarin', 'Cyp2C9 genotypes',\n",
        "                     'VKORC1 genotype: -1639 G>A (3673); chr16:31015190; rs9923231; C/T', 'Therapeutic Dose of Warfarin']].copy()"
      ]
    },
    {
      "cell_type": "code",
      "execution_count": null,
      "metadata": {
        "colab": {
          "base_uri": "https://localhost:8080/",
          "height": 372
        },
        "id": "lVQ8ml6PmRVJ",
        "outputId": "584ef984-2284-4e4a-f9e9-f1363f75ce48"
      },
      "outputs": [
        {
          "data": {
            "text/html": [
              "\n",
              "  <div id=\"df-67499c28-aeb0-472b-a2c4-87cff1d43738\">\n",
              "    <div class=\"colab-df-container\">\n",
              "      <div>\n",
              "<style scoped>\n",
              "    .dataframe tbody tr th:only-of-type {\n",
              "        vertical-align: middle;\n",
              "    }\n",
              "\n",
              "    .dataframe tbody tr th {\n",
              "        vertical-align: top;\n",
              "    }\n",
              "\n",
              "    .dataframe thead th {\n",
              "        text-align: right;\n",
              "    }\n",
              "</style>\n",
              "<table border=\"1\" class=\"dataframe\">\n",
              "  <thead>\n",
              "    <tr style=\"text-align: right;\">\n",
              "      <th></th>\n",
              "      <th>Gender</th>\n",
              "      <th>Race (Reported)</th>\n",
              "      <th>Age</th>\n",
              "      <th>Height (cm)</th>\n",
              "      <th>Weight (kg)</th>\n",
              "      <th>Diabetes</th>\n",
              "      <th>Simvastatin (Zocor)</th>\n",
              "      <th>Amiodarone (Cordarone)</th>\n",
              "      <th>Target INR</th>\n",
              "      <th>INR on Reported Therapeutic Dose of Warfarin</th>\n",
              "      <th>Cyp2C9 genotypes</th>\n",
              "      <th>VKORC1 genotype: -1639 G&gt;A (3673); chr16:31015190; rs9923231; C/T</th>\n",
              "      <th>Therapeutic Dose of Warfarin</th>\n",
              "    </tr>\n",
              "  </thead>\n",
              "  <tbody>\n",
              "    <tr>\n",
              "      <th>0</th>\n",
              "      <td>male</td>\n",
              "      <td>White</td>\n",
              "      <td>60 - 69</td>\n",
              "      <td>193.040</td>\n",
              "      <td>115.7</td>\n",
              "      <td>NaN</td>\n",
              "      <td>0.0</td>\n",
              "      <td>0.0</td>\n",
              "      <td>2.5</td>\n",
              "      <td>2.60</td>\n",
              "      <td>*1/*1</td>\n",
              "      <td>A/G</td>\n",
              "      <td>49.0</td>\n",
              "    </tr>\n",
              "    <tr>\n",
              "      <th>1</th>\n",
              "      <td>female</td>\n",
              "      <td>White</td>\n",
              "      <td>50 - 59</td>\n",
              "      <td>176.530</td>\n",
              "      <td>144.2</td>\n",
              "      <td>NaN</td>\n",
              "      <td>0.0</td>\n",
              "      <td>0.0</td>\n",
              "      <td>2.5</td>\n",
              "      <td>2.15</td>\n",
              "      <td>*1/*1</td>\n",
              "      <td>A/A</td>\n",
              "      <td>42.0</td>\n",
              "    </tr>\n",
              "    <tr>\n",
              "      <th>2</th>\n",
              "      <td>female</td>\n",
              "      <td>White</td>\n",
              "      <td>40 - 49</td>\n",
              "      <td>162.560</td>\n",
              "      <td>77.1</td>\n",
              "      <td>NaN</td>\n",
              "      <td>0.0</td>\n",
              "      <td>0.0</td>\n",
              "      <td>2.5</td>\n",
              "      <td>1.90</td>\n",
              "      <td>*1/*1</td>\n",
              "      <td>G/G</td>\n",
              "      <td>53.0</td>\n",
              "    </tr>\n",
              "    <tr>\n",
              "      <th>3</th>\n",
              "      <td>male</td>\n",
              "      <td>White</td>\n",
              "      <td>60 - 69</td>\n",
              "      <td>182.245</td>\n",
              "      <td>90.7</td>\n",
              "      <td>NaN</td>\n",
              "      <td>0.0</td>\n",
              "      <td>0.0</td>\n",
              "      <td>2.5</td>\n",
              "      <td>2.40</td>\n",
              "      <td>*1/*1</td>\n",
              "      <td>A/G</td>\n",
              "      <td>28.0</td>\n",
              "    </tr>\n",
              "    <tr>\n",
              "      <th>4</th>\n",
              "      <td>male</td>\n",
              "      <td>White</td>\n",
              "      <td>50 - 59</td>\n",
              "      <td>167.640</td>\n",
              "      <td>72.6</td>\n",
              "      <td>NaN</td>\n",
              "      <td>0.0</td>\n",
              "      <td>0.0</td>\n",
              "      <td>2.5</td>\n",
              "      <td>1.90</td>\n",
              "      <td>*1/*3</td>\n",
              "      <td>A/G</td>\n",
              "      <td>42.0</td>\n",
              "    </tr>\n",
              "  </tbody>\n",
              "</table>\n",
              "</div>\n",
              "      <button class=\"colab-df-convert\" onclick=\"convertToInteractive('df-67499c28-aeb0-472b-a2c4-87cff1d43738')\"\n",
              "              title=\"Convert this dataframe to an interactive table.\"\n",
              "              style=\"display:none;\">\n",
              "        \n",
              "  <svg xmlns=\"http://www.w3.org/2000/svg\" height=\"24px\"viewBox=\"0 0 24 24\"\n",
              "       width=\"24px\">\n",
              "    <path d=\"M0 0h24v24H0V0z\" fill=\"none\"/>\n",
              "    <path d=\"M18.56 5.44l.94 2.06.94-2.06 2.06-.94-2.06-.94-.94-2.06-.94 2.06-2.06.94zm-11 1L8.5 8.5l.94-2.06 2.06-.94-2.06-.94L8.5 2.5l-.94 2.06-2.06.94zm10 10l.94 2.06.94-2.06 2.06-.94-2.06-.94-.94-2.06-.94 2.06-2.06.94z\"/><path d=\"M17.41 7.96l-1.37-1.37c-.4-.4-.92-.59-1.43-.59-.52 0-1.04.2-1.43.59L10.3 9.45l-7.72 7.72c-.78.78-.78 2.05 0 2.83L4 21.41c.39.39.9.59 1.41.59.51 0 1.02-.2 1.41-.59l7.78-7.78 2.81-2.81c.8-.78.8-2.07 0-2.86zM5.41 20L4 18.59l7.72-7.72 1.47 1.35L5.41 20z\"/>\n",
              "  </svg>\n",
              "      </button>\n",
              "      \n",
              "  <style>\n",
              "    .colab-df-container {\n",
              "      display:flex;\n",
              "      flex-wrap:wrap;\n",
              "      gap: 12px;\n",
              "    }\n",
              "\n",
              "    .colab-df-convert {\n",
              "      background-color: #E8F0FE;\n",
              "      border: none;\n",
              "      border-radius: 50%;\n",
              "      cursor: pointer;\n",
              "      display: none;\n",
              "      fill: #1967D2;\n",
              "      height: 32px;\n",
              "      padding: 0 0 0 0;\n",
              "      width: 32px;\n",
              "    }\n",
              "\n",
              "    .colab-df-convert:hover {\n",
              "      background-color: #E2EBFA;\n",
              "      box-shadow: 0px 1px 2px rgba(60, 64, 67, 0.3), 0px 1px 3px 1px rgba(60, 64, 67, 0.15);\n",
              "      fill: #174EA6;\n",
              "    }\n",
              "\n",
              "    [theme=dark] .colab-df-convert {\n",
              "      background-color: #3B4455;\n",
              "      fill: #D2E3FC;\n",
              "    }\n",
              "\n",
              "    [theme=dark] .colab-df-convert:hover {\n",
              "      background-color: #434B5C;\n",
              "      box-shadow: 0px 1px 3px 1px rgba(0, 0, 0, 0.15);\n",
              "      filter: drop-shadow(0px 1px 2px rgba(0, 0, 0, 0.3));\n",
              "      fill: #FFFFFF;\n",
              "    }\n",
              "  </style>\n",
              "\n",
              "      <script>\n",
              "        const buttonEl =\n",
              "          document.querySelector('#df-67499c28-aeb0-472b-a2c4-87cff1d43738 button.colab-df-convert');\n",
              "        buttonEl.style.display =\n",
              "          google.colab.kernel.accessAllowed ? 'block' : 'none';\n",
              "\n",
              "        async function convertToInteractive(key) {\n",
              "          const element = document.querySelector('#df-67499c28-aeb0-472b-a2c4-87cff1d43738');\n",
              "          const dataTable =\n",
              "            await google.colab.kernel.invokeFunction('convertToInteractive',\n",
              "                                                     [key], {});\n",
              "          if (!dataTable) return;\n",
              "\n",
              "          const docLinkHtml = 'Like what you see? Visit the ' +\n",
              "            '<a target=\"_blank\" href=https://colab.research.google.com/notebooks/data_table.ipynb>data table notebook</a>'\n",
              "            + ' to learn more about interactive tables.';\n",
              "          element.innerHTML = '';\n",
              "          dataTable['output_type'] = 'display_data';\n",
              "          await google.colab.output.renderOutput(dataTable, element);\n",
              "          const docLink = document.createElement('div');\n",
              "          docLink.innerHTML = docLinkHtml;\n",
              "          element.appendChild(docLink);\n",
              "        }\n",
              "      </script>\n",
              "    </div>\n",
              "  </div>\n",
              "  "
            ],
            "text/plain": [
              "   Gender Race (Reported)      Age  Height (cm)  Weight (kg)  Diabetes  \\\n",
              "0    male           White  60 - 69      193.040        115.7       NaN   \n",
              "1  female           White  50 - 59      176.530        144.2       NaN   \n",
              "2  female           White  40 - 49      162.560         77.1       NaN   \n",
              "3    male           White  60 - 69      182.245         90.7       NaN   \n",
              "4    male           White  50 - 59      167.640         72.6       NaN   \n",
              "\n",
              "   Simvastatin (Zocor)  Amiodarone (Cordarone)  Target INR  \\\n",
              "0                  0.0                     0.0         2.5   \n",
              "1                  0.0                     0.0         2.5   \n",
              "2                  0.0                     0.0         2.5   \n",
              "3                  0.0                     0.0         2.5   \n",
              "4                  0.0                     0.0         2.5   \n",
              "\n",
              "   INR on Reported Therapeutic Dose of Warfarin Cyp2C9 genotypes  \\\n",
              "0                                          2.60            *1/*1   \n",
              "1                                          2.15            *1/*1   \n",
              "2                                          1.90            *1/*1   \n",
              "3                                          2.40            *1/*1   \n",
              "4                                          1.90            *1/*3   \n",
              "\n",
              "  VKORC1 genotype: -1639 G>A (3673); chr16:31015190; rs9923231; C/T  \\\n",
              "0                                                A/G                  \n",
              "1                                                A/A                  \n",
              "2                                                G/G                  \n",
              "3                                                A/G                  \n",
              "4                                                A/G                  \n",
              "\n",
              "   Therapeutic Dose of Warfarin  \n",
              "0                          49.0  \n",
              "1                          42.0  \n",
              "2                          53.0  \n",
              "3                          28.0  \n",
              "4                          42.0  "
            ]
          },
          "execution_count": 10,
          "metadata": {},
          "output_type": "execute_result"
        }
      ],
      "source": [
        "patients.head(n=5)"
      ]
    },
    {
      "cell_type": "code",
      "execution_count": null,
      "metadata": {
        "colab": {
          "base_uri": "https://localhost:8080/",
          "height": 300
        },
        "id": "8aCNSHPdmfXs",
        "outputId": "d83183d6-a1df-49dc-8ae0-36f3be88b2c6"
      },
      "outputs": [
        {
          "data": {
            "text/html": [
              "\n",
              "  <div id=\"df-5f0589dc-e63d-498d-b5f6-6e5928f8ca49\">\n",
              "    <div class=\"colab-df-container\">\n",
              "      <div>\n",
              "<style scoped>\n",
              "    .dataframe tbody tr th:only-of-type {\n",
              "        vertical-align: middle;\n",
              "    }\n",
              "\n",
              "    .dataframe tbody tr th {\n",
              "        vertical-align: top;\n",
              "    }\n",
              "\n",
              "    .dataframe thead th {\n",
              "        text-align: right;\n",
              "    }\n",
              "</style>\n",
              "<table border=\"1\" class=\"dataframe\">\n",
              "  <thead>\n",
              "    <tr style=\"text-align: right;\">\n",
              "      <th></th>\n",
              "      <th>Height (cm)</th>\n",
              "      <th>Weight (kg)</th>\n",
              "      <th>Diabetes</th>\n",
              "      <th>Simvastatin (Zocor)</th>\n",
              "      <th>Amiodarone (Cordarone)</th>\n",
              "      <th>Target INR</th>\n",
              "      <th>INR on Reported Therapeutic Dose of Warfarin</th>\n",
              "      <th>Therapeutic Dose of Warfarin</th>\n",
              "    </tr>\n",
              "  </thead>\n",
              "  <tbody>\n",
              "    <tr>\n",
              "      <th>count</th>\n",
              "      <td>4554.000000</td>\n",
              "      <td>5413.000000</td>\n",
              "      <td>3283.000000</td>\n",
              "      <td>3861.000000</td>\n",
              "      <td>4182.000000</td>\n",
              "      <td>1259.000000</td>\n",
              "      <td>4968.000000</td>\n",
              "      <td>5528.000000</td>\n",
              "    </tr>\n",
              "    <tr>\n",
              "      <th>mean</th>\n",
              "      <td>168.047778</td>\n",
              "      <td>77.852569</td>\n",
              "      <td>0.187024</td>\n",
              "      <td>0.146335</td>\n",
              "      <td>0.066236</td>\n",
              "      <td>2.538324</td>\n",
              "      <td>2.364438</td>\n",
              "      <td>30.977887</td>\n",
              "    </tr>\n",
              "    <tr>\n",
              "      <th>std</th>\n",
              "      <td>10.845992</td>\n",
              "      <td>21.859764</td>\n",
              "      <td>0.389990</td>\n",
              "      <td>0.353488</td>\n",
              "      <td>0.248724</td>\n",
              "      <td>0.198140</td>\n",
              "      <td>0.464644</td>\n",
              "      <td>16.801048</td>\n",
              "    </tr>\n",
              "    <tr>\n",
              "      <th>min</th>\n",
              "      <td>124.968000</td>\n",
              "      <td>30.000000</td>\n",
              "      <td>0.000000</td>\n",
              "      <td>0.000000</td>\n",
              "      <td>0.000000</td>\n",
              "      <td>1.300000</td>\n",
              "      <td>0.800000</td>\n",
              "      <td>2.100000</td>\n",
              "    </tr>\n",
              "    <tr>\n",
              "      <th>25%</th>\n",
              "      <td>160.020000</td>\n",
              "      <td>62.000000</td>\n",
              "      <td>0.000000</td>\n",
              "      <td>0.000000</td>\n",
              "      <td>0.000000</td>\n",
              "      <td>2.500000</td>\n",
              "      <td>2.100000</td>\n",
              "      <td>19.530000</td>\n",
              "    </tr>\n",
              "    <tr>\n",
              "      <th>50%</th>\n",
              "      <td>167.894000</td>\n",
              "      <td>75.000000</td>\n",
              "      <td>0.000000</td>\n",
              "      <td>0.000000</td>\n",
              "      <td>0.000000</td>\n",
              "      <td>2.500000</td>\n",
              "      <td>2.400000</td>\n",
              "      <td>28.000000</td>\n",
              "    </tr>\n",
              "    <tr>\n",
              "      <th>75%</th>\n",
              "      <td>176.022000</td>\n",
              "      <td>90.000000</td>\n",
              "      <td>0.000000</td>\n",
              "      <td>0.000000</td>\n",
              "      <td>0.000000</td>\n",
              "      <td>2.500000</td>\n",
              "      <td>2.610000</td>\n",
              "      <td>38.500000</td>\n",
              "    </tr>\n",
              "    <tr>\n",
              "      <th>max</th>\n",
              "      <td>202.000000</td>\n",
              "      <td>237.700000</td>\n",
              "      <td>1.000000</td>\n",
              "      <td>1.000000</td>\n",
              "      <td>1.000000</td>\n",
              "      <td>3.500000</td>\n",
              "      <td>6.100000</td>\n",
              "      <td>315.000000</td>\n",
              "    </tr>\n",
              "  </tbody>\n",
              "</table>\n",
              "</div>\n",
              "      <button class=\"colab-df-convert\" onclick=\"convertToInteractive('df-5f0589dc-e63d-498d-b5f6-6e5928f8ca49')\"\n",
              "              title=\"Convert this dataframe to an interactive table.\"\n",
              "              style=\"display:none;\">\n",
              "        \n",
              "  <svg xmlns=\"http://www.w3.org/2000/svg\" height=\"24px\"viewBox=\"0 0 24 24\"\n",
              "       width=\"24px\">\n",
              "    <path d=\"M0 0h24v24H0V0z\" fill=\"none\"/>\n",
              "    <path d=\"M18.56 5.44l.94 2.06.94-2.06 2.06-.94-2.06-.94-.94-2.06-.94 2.06-2.06.94zm-11 1L8.5 8.5l.94-2.06 2.06-.94-2.06-.94L8.5 2.5l-.94 2.06-2.06.94zm10 10l.94 2.06.94-2.06 2.06-.94-2.06-.94-.94-2.06-.94 2.06-2.06.94z\"/><path d=\"M17.41 7.96l-1.37-1.37c-.4-.4-.92-.59-1.43-.59-.52 0-1.04.2-1.43.59L10.3 9.45l-7.72 7.72c-.78.78-.78 2.05 0 2.83L4 21.41c.39.39.9.59 1.41.59.51 0 1.02-.2 1.41-.59l7.78-7.78 2.81-2.81c.8-.78.8-2.07 0-2.86zM5.41 20L4 18.59l7.72-7.72 1.47 1.35L5.41 20z\"/>\n",
              "  </svg>\n",
              "      </button>\n",
              "      \n",
              "  <style>\n",
              "    .colab-df-container {\n",
              "      display:flex;\n",
              "      flex-wrap:wrap;\n",
              "      gap: 12px;\n",
              "    }\n",
              "\n",
              "    .colab-df-convert {\n",
              "      background-color: #E8F0FE;\n",
              "      border: none;\n",
              "      border-radius: 50%;\n",
              "      cursor: pointer;\n",
              "      display: none;\n",
              "      fill: #1967D2;\n",
              "      height: 32px;\n",
              "      padding: 0 0 0 0;\n",
              "      width: 32px;\n",
              "    }\n",
              "\n",
              "    .colab-df-convert:hover {\n",
              "      background-color: #E2EBFA;\n",
              "      box-shadow: 0px 1px 2px rgba(60, 64, 67, 0.3), 0px 1px 3px 1px rgba(60, 64, 67, 0.15);\n",
              "      fill: #174EA6;\n",
              "    }\n",
              "\n",
              "    [theme=dark] .colab-df-convert {\n",
              "      background-color: #3B4455;\n",
              "      fill: #D2E3FC;\n",
              "    }\n",
              "\n",
              "    [theme=dark] .colab-df-convert:hover {\n",
              "      background-color: #434B5C;\n",
              "      box-shadow: 0px 1px 3px 1px rgba(0, 0, 0, 0.15);\n",
              "      filter: drop-shadow(0px 1px 2px rgba(0, 0, 0, 0.3));\n",
              "      fill: #FFFFFF;\n",
              "    }\n",
              "  </style>\n",
              "\n",
              "      <script>\n",
              "        const buttonEl =\n",
              "          document.querySelector('#df-5f0589dc-e63d-498d-b5f6-6e5928f8ca49 button.colab-df-convert');\n",
              "        buttonEl.style.display =\n",
              "          google.colab.kernel.accessAllowed ? 'block' : 'none';\n",
              "\n",
              "        async function convertToInteractive(key) {\n",
              "          const element = document.querySelector('#df-5f0589dc-e63d-498d-b5f6-6e5928f8ca49');\n",
              "          const dataTable =\n",
              "            await google.colab.kernel.invokeFunction('convertToInteractive',\n",
              "                                                     [key], {});\n",
              "          if (!dataTable) return;\n",
              "\n",
              "          const docLinkHtml = 'Like what you see? Visit the ' +\n",
              "            '<a target=\"_blank\" href=https://colab.research.google.com/notebooks/data_table.ipynb>data table notebook</a>'\n",
              "            + ' to learn more about interactive tables.';\n",
              "          element.innerHTML = '';\n",
              "          dataTable['output_type'] = 'display_data';\n",
              "          await google.colab.output.renderOutput(dataTable, element);\n",
              "          const docLink = document.createElement('div');\n",
              "          docLink.innerHTML = docLinkHtml;\n",
              "          element.appendChild(docLink);\n",
              "        }\n",
              "      </script>\n",
              "    </div>\n",
              "  </div>\n",
              "  "
            ],
            "text/plain": [
              "       Height (cm)  Weight (kg)     Diabetes  Simvastatin (Zocor)  \\\n",
              "count  4554.000000  5413.000000  3283.000000          3861.000000   \n",
              "mean    168.047778    77.852569     0.187024             0.146335   \n",
              "std      10.845992    21.859764     0.389990             0.353488   \n",
              "min     124.968000    30.000000     0.000000             0.000000   \n",
              "25%     160.020000    62.000000     0.000000             0.000000   \n",
              "50%     167.894000    75.000000     0.000000             0.000000   \n",
              "75%     176.022000    90.000000     0.000000             0.000000   \n",
              "max     202.000000   237.700000     1.000000             1.000000   \n",
              "\n",
              "       Amiodarone (Cordarone)   Target INR  \\\n",
              "count             4182.000000  1259.000000   \n",
              "mean                 0.066236     2.538324   \n",
              "std                  0.248724     0.198140   \n",
              "min                  0.000000     1.300000   \n",
              "25%                  0.000000     2.500000   \n",
              "50%                  0.000000     2.500000   \n",
              "75%                  0.000000     2.500000   \n",
              "max                  1.000000     3.500000   \n",
              "\n",
              "       INR on Reported Therapeutic Dose of Warfarin  \\\n",
              "count                                   4968.000000   \n",
              "mean                                       2.364438   \n",
              "std                                        0.464644   \n",
              "min                                        0.800000   \n",
              "25%                                        2.100000   \n",
              "50%                                        2.400000   \n",
              "75%                                        2.610000   \n",
              "max                                        6.100000   \n",
              "\n",
              "       Therapeutic Dose of Warfarin  \n",
              "count                   5528.000000  \n",
              "mean                      30.977887  \n",
              "std                       16.801048  \n",
              "min                        2.100000  \n",
              "25%                       19.530000  \n",
              "50%                       28.000000  \n",
              "75%                       38.500000  \n",
              "max                      315.000000  "
            ]
          },
          "execution_count": 11,
          "metadata": {},
          "output_type": "execute_result"
        }
      ],
      "source": [
        "patients.describe()"
      ]
    },
    {
      "cell_type": "code",
      "execution_count": null,
      "metadata": {
        "colab": {
          "base_uri": "https://localhost:8080/"
        },
        "id": "PoCeEbiwmiBb",
        "outputId": "85effcdc-d950-4796-e0fa-e2328e84bc27"
      },
      "outputs": [
        {
          "name": "stdout",
          "output_type": "stream",
          "text": [
            "<class 'pandas.core.frame.DataFrame'>\n",
            "RangeIndex: 5700 entries, 0 to 5699\n",
            "Data columns (total 13 columns):\n",
            " #   Column                                                             Non-Null Count  Dtype  \n",
            "---  ------                                                             --------------  -----  \n",
            " 0   Gender                                                             5696 non-null   object \n",
            " 1   Race (Reported)                                                    5194 non-null   object \n",
            " 2   Age                                                                5658 non-null   object \n",
            " 3   Height (cm)                                                        4554 non-null   float64\n",
            " 4   Weight (kg)                                                        5413 non-null   float64\n",
            " 5   Diabetes                                                           3283 non-null   float64\n",
            " 6   Simvastatin (Zocor)                                                3861 non-null   float64\n",
            " 7   Amiodarone (Cordarone)                                             4182 non-null   float64\n",
            " 8   Target INR                                                         1259 non-null   float64\n",
            " 9   INR on Reported Therapeutic Dose of Warfarin                       4968 non-null   float64\n",
            " 10  Cyp2C9 genotypes                                                   5567 non-null   object \n",
            " 11  VKORC1 genotype: -1639 G>A (3673); chr16:31015190; rs9923231; C/T  4046 non-null   object \n",
            " 12  Therapeutic Dose of Warfarin                                       5528 non-null   float64\n",
            "dtypes: float64(8), object(5)\n",
            "memory usage: 579.0+ KB\n"
          ]
        }
      ],
      "source": [
        "patients.info()"
      ]
    },
    {
      "cell_type": "code",
      "execution_count": null,
      "metadata": {
        "id": "neIv4UMWmlGm"
      },
      "outputs": [],
      "source": [
        "patients.to_excel(\"patients_df_reduced.xlsx\")"
      ]
    },
    {
      "cell_type": "markdown",
      "metadata": {
        "id": "R0jZwHmempSt"
      },
      "source": [
        "# Setting aside a validation set right away\n",
        "separates dataset into patients_df (95%) and validation_set (5%)"
      ]
    },
    {
      "cell_type": "code",
      "execution_count": null,
      "metadata": {
        "id": "4gM3aFO6mx9o"
      },
      "outputs": [],
      "source": [
        "from sklearn.model_selection import train_test_split\n",
        "\n",
        "patients_df, validation_set = train_test_split(patients, test_size=0.05, random_state=42)"
      ]
    },
    {
      "cell_type": "markdown",
      "metadata": {
        "id": "Csja_vwWm8pZ"
      },
      "source": [
        "# Visualizing Data Features and Correlations on whole dataset (minus validation set)"
      ]
    },
    {
      "cell_type": "markdown",
      "metadata": {
        "id": "Qf_4tKl5m-WT"
      },
      "source": [
        "###Looking at Numerical Data (note that some of these are numerical catagorical but are entered as 0 or 1)"
      ]
    },
    {
      "cell_type": "code",
      "execution_count": null,
      "metadata": {
        "colab": {
          "base_uri": "https://localhost:8080/"
        },
        "id": "WnYcD3mmnD4V",
        "outputId": "a26390cb-312a-493e-c34d-d0a3559bb406"
      },
      "outputs": [
        {
          "data": {
            "image/png": "[encoded data removed]",
            "text/plain": [
              "<Figure size 1440x1080 with 9 Axes>"
            ]
          },
          "metadata": {},
          "output_type": "display_data"
        }
      ],
      "source": [
        "%matplotlib inline\n",
        "patients_df.hist(bins=50, figsize=(20,15))\n",
        "plt.show()"
      ]
    },
    {
      "cell_type": "code",
      "execution_count": null,
      "metadata": {
        "colab": {
          "base_uri": "https://localhost:8080/"
        },
        "id": "-gP1ChtwnWhe",
        "outputId": "8b875bf1-37df-465c-c1b1-7b5f300aa687"
      },
      "outputs": [
        {
          "data": {
            "text/plain": [
              "Therapeutic Dose of Warfarin                    1.000000\n",
              "Weight (kg)                                     0.396088\n",
              "Height (cm)                                     0.326714\n",
              "INR on Reported Therapeutic Dose of Warfarin    0.194468\n",
              "Target INR                                      0.075469\n",
              "Diabetes                                        0.038240\n",
              "Simvastatin (Zocor)                             0.020619\n",
              "Amiodarone (Cordarone)                         -0.101876\n",
              "Name: Therapeutic Dose of Warfarin, dtype: float64"
            ]
          },
          "execution_count": 16,
          "metadata": {},
          "output_type": "execute_result"
        }
      ],
      "source": [
        "corr_matrix = patients_df.corr()\n",
        "corr_matrix[\"Therapeutic Dose of Warfarin\"].sort_values(ascending=False)"
      ]
    },
    {
      "cell_type": "code",
      "execution_count": null,
      "metadata": {
        "colab": {
          "base_uri": "https://localhost:8080/"
        },
        "id": "i7xs6J5vnfnm",
        "outputId": "852f6b9c-fd4b-4dac-c994-9d3b08df0a21"
      },
      "outputs": [
        {
          "data": {
            "text/plain": [
              "Target INR                                      1.000000\n",
              "INR on Reported Therapeutic Dose of Warfarin    0.417300\n",
              "Therapeutic Dose of Warfarin                    0.075469\n",
              "Simvastatin (Zocor)                             0.015419\n",
              "Weight (kg)                                    -0.035896\n",
              "Amiodarone (Cordarone)                         -0.049894\n",
              "Height (cm)                                    -0.051297\n",
              "Diabetes                                       -0.056115\n",
              "Name: Target INR, dtype: float64"
            ]
          },
          "execution_count": 17,
          "metadata": {},
          "output_type": "execute_result"
        }
      ],
      "source": [
        "# note that Target INR and INR on Reported Therapeutic Dose of Warfarin are linearly related. Target INR has so few values that I will remove it as part of pre-processing\n",
        "corr_matrix[\"Target INR\"].sort_values(ascending=False)"
      ]
    },
    {
      "cell_type": "markdown",
      "metadata": {
        "id": "SN8EP36Dnmy4"
      },
      "source": [
        "### Looking at Catagorical Text Data (Use these catagories for gradio implementation later)"
      ]
    },
    {
      "cell_type": "code",
      "execution_count": null,
      "metadata": {
        "colab": {
          "base_uri": "https://localhost:8080/"
        },
        "id": "_G5PHycGnoxU",
        "outputId": "1132e408-2ab5-4769-ad51-da5a3cb5819a"
      },
      "outputs": [
        {
          "data": {
            "text/plain": [
              "male      3151\n",
              "female    2260\n",
              "Name: Gender, dtype: int64"
            ]
          },
          "execution_count": 18,
          "metadata": {},
          "output_type": "execute_result"
        }
      ],
      "source": [
        "patients_df['Gender'].value_counts()"
      ]
    },
    {
      "cell_type": "code",
      "execution_count": null,
      "metadata": {
        "colab": {
          "base_uri": "https://localhost:8080/"
        },
        "id": "TmThHRQ1nsQx",
        "outputId": "60a26fe4-6ca0-41fe-be37-00ab9f3d48c1"
      },
      "outputs": [
        {
          "data": {
            "text/plain": [
              "70 - 79    1487\n",
              "60 - 69    1311\n",
              "50 - 59    1036\n",
              "80 - 89     639\n",
              "40 - 49     518\n",
              "30 - 39     220\n",
              "20 - 29     122\n",
              "90+          32\n",
              "10 - 19      13\n",
              "Name: Age, dtype: int64"
            ]
          },
          "execution_count": 19,
          "metadata": {},
          "output_type": "execute_result"
        }
      ],
      "source": [
        "patients_df['Age'].value_counts()"
      ]
    },
    {
      "cell_type": "code",
      "execution_count": null,
      "metadata": {
        "colab": {
          "base_uri": "https://localhost:8080/"
        },
        "id": "n3_0Q65InxaJ",
        "outputId": "f8397321-dc30-4a1b-9420-86d40c4ce785"
      },
      "outputs": [
        {
          "data": {
            "text/plain": [
              "White                        2121\n",
              "Japanese                      785\n",
              "Caucasian                     673\n",
              "Korean                        256\n",
              "Han Chinese                   237\n",
              "Black                         231\n",
              "Black or African American     223\n",
              "Chinese                       141\n",
              "Malay                          82\n",
              "Intermediate                   62\n",
              "Indian                         37\n",
              "African-American               19\n",
              "Other Mixed Race               17\n",
              "Asian                          17\n",
              "Hispanic                       12\n",
              "Other                          10\n",
              "Black other                     3\n",
              "other                           1\n",
              "Black African                   1\n",
              "Other (Black British)           1\n",
              "Other (Hungarian)               1\n",
              "Black Caribbean                 1\n",
              "Name: Race (Reported), dtype: int64"
            ]
          },
          "execution_count": 20,
          "metadata": {},
          "output_type": "execute_result"
        }
      ],
      "source": [
        "patients_df['Race (Reported)'].value_counts()"
      ]
    },
    {
      "cell_type": "code",
      "execution_count": null,
      "metadata": {
        "colab": {
          "base_uri": "https://localhost:8080/"
        },
        "id": "nYWyCih2n0US",
        "outputId": "db644c03-1bc6-4016-c918-48b61e860be8"
      },
      "outputs": [
        {
          "data": {
            "text/plain": [
              "2.50    985\n",
              "3.00    117\n",
              "2.20     53\n",
              "2.70     10\n",
              "3.50      8\n",
              "1.75      5\n",
              "2.00      3\n",
              "2.80      3\n",
              "2.30      3\n",
              "3.25      1\n",
              "1.30      1\n",
              "2.60      1\n",
              "Name: Target INR, dtype: int64"
            ]
          },
          "execution_count": 21,
          "metadata": {},
          "output_type": "execute_result"
        }
      ],
      "source": [
        "patients_df['Target INR'].value_counts()"
      ]
    },
    {
      "cell_type": "code",
      "execution_count": null,
      "metadata": {
        "colab": {
          "base_uri": "https://localhost:8080/"
        },
        "id": "KpEreCKIn3Uj",
        "outputId": "b98d6f3b-57c3-4fec-ea22-6c22db225817"
      },
      "outputs": [
        {
          "data": {
            "text/plain": [
              "0.0    2539\n",
              "1.0     590\n",
              "Name: Diabetes, dtype: int64"
            ]
          },
          "execution_count": 22,
          "metadata": {},
          "output_type": "execute_result"
        }
      ],
      "source": [
        "patients_df['Diabetes'].value_counts()"
      ]
    },
    {
      "cell_type": "code",
      "execution_count": null,
      "metadata": {
        "colab": {
          "base_uri": "https://localhost:8080/"
        },
        "id": "9D2i7sdDn8jd",
        "outputId": "74ebe151-6b46-4a6b-a786-825558cd3abb"
      },
      "outputs": [
        {
          "data": {
            "text/plain": [
              "0.0    3136\n",
              "1.0     532\n",
              "Name: Simvastatin (Zocor), dtype: int64"
            ]
          },
          "execution_count": 23,
          "metadata": {},
          "output_type": "execute_result"
        }
      ],
      "source": [
        "patients_df['Simvastatin (Zocor)'].value_counts()"
      ]
    },
    {
      "cell_type": "code",
      "execution_count": null,
      "metadata": {
        "colab": {
          "base_uri": "https://localhost:8080/"
        },
        "id": "WotSaIbOoABi",
        "outputId": "5955bbaf-e3a3-4d43-c7f6-f9a66967b5f1"
      },
      "outputs": [
        {
          "data": {
            "text/plain": [
              "0.0    3711\n",
              "1.0     263\n",
              "Name: Amiodarone (Cordarone), dtype: int64"
            ]
          },
          "execution_count": 24,
          "metadata": {},
          "output_type": "execute_result"
        }
      ],
      "source": [
        "patients_df['Amiodarone (Cordarone)'].value_counts()"
      ]
    },
    {
      "cell_type": "code",
      "execution_count": null,
      "metadata": {
        "colab": {
          "base_uri": "https://localhost:8080/"
        },
        "id": "47Tmi6JyoDTN",
        "outputId": "eda0680d-39f2-48c2-acd0-61d638453f4e"
      },
      "outputs": [
        {
          "data": {
            "text/plain": [
              "*1/*1     3948\n",
              "*1/*2      711\n",
              "*1/*3      477\n",
              "*2/*3       67\n",
              "*2/*2       54\n",
              "*3/*3       21\n",
              "*1/*5        6\n",
              "*1/*11       4\n",
              "*1/*6        3\n",
              "*1/*14       1\n",
              "*1/*13       1\n",
              "Name: Cyp2C9 genotypes, dtype: int64"
            ]
          },
          "execution_count": 25,
          "metadata": {},
          "output_type": "execute_result"
        }
      ],
      "source": [
        "patients_df['Cyp2C9 genotypes'].value_counts()"
      ]
    },
    {
      "cell_type": "code",
      "execution_count": null,
      "metadata": {
        "colab": {
          "base_uri": "https://localhost:8080/"
        },
        "id": "yGPQGxCsoJ_r",
        "outputId": "f8497551-3a3a-4417-c13c-0b2eb83ebd9a"
      },
      "outputs": [
        {
          "data": {
            "text/plain": [
              "A/A    1389\n",
              "A/G    1348\n",
              "G/G    1097\n",
              "Name: VKORC1 genotype: -1639 G>A (3673); chr16:31015190; rs9923231; C/T, dtype: int64"
            ]
          },
          "execution_count": 26,
          "metadata": {},
          "output_type": "execute_result"
        }
      ],
      "source": [
        "patients_df['VKORC1 genotype: -1639 G>A (3673); chr16:31015190; rs9923231; C/T'].value_counts()"
      ]
    },
    {
      "cell_type": "markdown",
      "metadata": {
        "id": "06rzhBxQoNeg"
      },
      "source": [
        "# Dropping any rows that have Nan in the target column ON WHOLE DATASET"
      ]
    },
    {
      "cell_type": "code",
      "execution_count": null,
      "metadata": {
        "colab": {
          "base_uri": "https://localhost:8080/"
        },
        "id": "I0c9M7GsoPDK",
        "outputId": "935b4ed4-856f-4055-a06e-6f62e853f484"
      },
      "outputs": [
        {
          "name": "stdout",
          "output_type": "stream",
          "text": [
            "<class 'pandas.core.frame.DataFrame'>\n",
            "Int64Index: 5257 entries, 4796 to 860\n",
            "Data columns (total 13 columns):\n",
            " #   Column                                                             Non-Null Count  Dtype  \n",
            "---  ------                                                             --------------  -----  \n",
            " 0   Gender                                                             5253 non-null   object \n",
            " 1   Race (Reported)                                                    4773 non-null   object \n",
            " 2   Age                                                                5222 non-null   object \n",
            " 3   Height (cm)                                                        4231 non-null   float64\n",
            " 4   Weight (kg)                                                        4999 non-null   float64\n",
            " 5   Diabetes                                                           2983 non-null   float64\n",
            " 6   Simvastatin (Zocor)                                                3568 non-null   float64\n",
            " 7   Amiodarone (Cordarone)                                             3828 non-null   float64\n",
            " 8   Target INR                                                         1190 non-null   float64\n",
            " 9   INR on Reported Therapeutic Dose of Warfarin                       4727 non-null   float64\n",
            " 10  Cyp2C9 genotypes                                                   5155 non-null   object \n",
            " 11  VKORC1 genotype: -1639 G>A (3673); chr16:31015190; rs9923231; C/T  3694 non-null   object \n",
            " 12  Therapeutic Dose of Warfarin                                       5257 non-null   float64\n",
            "dtypes: float64(8), object(5)\n",
            "memory usage: 575.0+ KB\n"
          ]
        }
      ],
      "source": [
        "# Dropping any rows that have Nan in the target column\n",
        "patients_df.dropna(subset=['Therapeutic Dose of Warfarin'], inplace=True)\n",
        "patients_df.info()"
      ]
    },
    {
      "cell_type": "markdown",
      "metadata": {
        "id": "RU9UIihZorLx"
      },
      "source": [
        "# Dividing Data into Statified Train (80%) and Test Set (20%)\n",
        "This includes minimal pre-processing of gender and weight on the full dataset that was necessary for the statified sampling based on weight\n",
        "Test and Train Sets with features and labels are stored in ;'strat_train_set' and 'strat_test_set'\n",
        "\n",
        "patients_df -> strat_train_set, strat_test_set"
      ]
    },
    {
      "cell_type": "markdown",
      "metadata": {
        "id": "ILtJCrrGq6th"
      },
      "source": [
        "### Perform Statified Sampling based on Weight (Chapter 2 Pages 54-55)"
      ]
    },
    {
      "cell_type": "markdown",
      "metadata": {
        "id": "tS71bp2trVAR"
      },
      "source": [
        "### Dropping Rows with Nan Gender Columns (since there are only 4 of them) -- NEED TO DO BEFORE STAT SAMPLING IN THIS CASE"
      ]
    },
    {
      "cell_type": "code",
      "execution_count": null,
      "metadata": {
        "id": "vGJStnALozmc"
      },
      "outputs": [],
      "source": [
        "patients_df.dropna(subset=['Gender'], inplace=True)"
      ]
    },
    {
      "cell_type": "markdown",
      "metadata": {
        "id": "yXs8FaYirlOR"
      },
      "source": [
        "#### Replacing Nan values in weight group with median based on Gender as is needed to perform statified sampling for the weight group"
      ]
    },
    {
      "cell_type": "code",
      "execution_count": null,
      "metadata": {
        "colab": {
          "base_uri": "https://localhost:8080/"
        },
        "id": "cW34nJ1MoskY",
        "outputId": "f8ece005-6f6b-402e-ea88-5ad1b90ef5b3"
      },
      "outputs": [
        {
          "data": {
            "text/plain": [
              "66.7"
            ]
          },
          "execution_count": 29,
          "metadata": {},
          "output_type": "execute_result"
        }
      ],
      "source": [
        "median_female_weight=patients_df.loc[patients_df['Gender'] == 'female', 'Weight (kg)'].median()\n",
        "median_female_weight"
      ]
    },
    {
      "cell_type": "code",
      "execution_count": null,
      "metadata": {
        "colab": {
          "base_uri": "https://localhost:8080/"
        },
        "id": "aZIAvCklrxpQ",
        "outputId": "c40da9a8-4dd5-4d13-82a2-ae6635ce11ee"
      },
      "outputs": [
        {
          "data": {
            "text/plain": [
              "80.0"
            ]
          },
          "execution_count": 30,
          "metadata": {},
          "output_type": "execute_result"
        }
      ],
      "source": [
        "median_male_weight=patients_df.loc[patients_df['Gender'] == 'male', 'Weight (kg)'].median()\n",
        "median_male_weight"
      ]
    },
    {
      "cell_type": "code",
      "execution_count": null,
      "metadata": {
        "id": "Y3Fda-5Rrx_y"
      },
      "outputs": [],
      "source": [
        "medians = patients_df.groupby(['Gender'])['Weight (kg)'].median()\n",
        "patients_df = patients_df.set_index(['Gender'])\n",
        "patients_df['Weight (kg)'] = patients_df['Weight (kg)'].fillna(medians)\n",
        "patients_df = patients_df.reset_index()"
      ]
    },
    {
      "cell_type": "code",
      "execution_count": null,
      "metadata": {
        "colab": {
          "base_uri": "https://localhost:8080/"
        },
        "id": "07liFz-bryCh",
        "outputId": "fc00144f-e510-4bff-d9c9-4b404730d347"
      },
      "outputs": [
        {
          "name": "stdout",
          "output_type": "stream",
          "text": [
            "<class 'pandas.core.frame.DataFrame'>\n",
            "RangeIndex: 5253 entries, 0 to 5252\n",
            "Data columns (total 13 columns):\n",
            " #   Column                                                             Non-Null Count  Dtype  \n",
            "---  ------                                                             --------------  -----  \n",
            " 0   Gender                                                             5253 non-null   object \n",
            " 1   Race (Reported)                                                    4769 non-null   object \n",
            " 2   Age                                                                5220 non-null   object \n",
            " 3   Height (cm)                                                        4227 non-null   float64\n",
            " 4   Weight (kg)                                                        5253 non-null   float64\n",
            " 5   Diabetes                                                           2983 non-null   float64\n",
            " 6   Simvastatin (Zocor)                                                3568 non-null   float64\n",
            " 7   Amiodarone (Cordarone)                                             3828 non-null   float64\n",
            " 8   Target INR                                                         1190 non-null   float64\n",
            " 9   INR on Reported Therapeutic Dose of Warfarin                       4723 non-null   float64\n",
            " 10  Cyp2C9 genotypes                                                   5151 non-null   object \n",
            " 11  VKORC1 genotype: -1639 G>A (3673); chr16:31015190; rs9923231; C/T  3690 non-null   object \n",
            " 12  Therapeutic Dose of Warfarin                                       5253 non-null   float64\n",
            "dtypes: float64(8), object(5)\n",
            "memory usage: 533.6+ KB\n"
          ]
        }
      ],
      "source": [
        "patients_df.info()"
      ]
    },
    {
      "cell_type": "markdown",
      "metadata": {
        "id": "goAf2qgqsxvH"
      },
      "source": [
        "#### Creating Weight Catagories from which the test set will sample from"
      ]
    },
    {
      "cell_type": "code",
      "execution_count": null,
      "metadata": {
        "colab": {
          "base_uri": "https://localhost:8080/"
        },
        "id": "O4b9srQfryFj",
        "outputId": "0277b651-bd71-4665-b4d7-9c10c976443f"
      },
      "outputs": [
        {
          "data": {
            "text/plain": [
              "<matplotlib.axes._subplots.AxesSubplot at 0x7fa8a620dd90>"
            ]
          },
          "execution_count": 33,
          "metadata": {},
          "output_type": "execute_result"
        },
        {
          "data": {
            "image/png": "[encoded data removed]",
            "text/plain": [
              "<Figure size 432x288 with 1 Axes>"
            ]
          },
          "metadata": {},
          "output_type": "display_data"
        }
      ],
      "source": [
        "patients_df[\"weight_cat\"] = pd.cut(patients_df[\"Weight (kg)\"], bins=[0, 50, 75, 100, np.inf],\n",
        "labels=[1, 2, 3, 4])\n",
        "patients_df[\"weight_cat\"].hist()"
      ]
    },
    {
      "cell_type": "markdown",
      "metadata": {
        "id": "r6uN1w8Us76Y"
      },
      "source": [
        "#### Dividing patients_df into strat_train_set (80%) and strat_test_set (20%) distribution"
      ]
    },
    {
      "cell_type": "code",
      "execution_count": null,
      "metadata": {
        "id": "ZxNKjJ7os9hS"
      },
      "outputs": [],
      "source": [
        "from sklearn.model_selection import StratifiedShuffleSplit\n",
        "split = StratifiedShuffleSplit(n_splits=1, test_size=0.2, random_state=42)\n",
        "for train_index, test_index in split.split(patients_df, patients_df[\"weight_cat\"]):\n",
        "  strat_train_set = patients_df.loc[train_index]\n",
        "  strat_test_set = patients_df.loc[test_index]"
      ]
    },
    {
      "cell_type": "markdown",
      "metadata": {
        "id": "Ke4_DjYHiueM"
      },
      "source": [
        "#### Comparing proportion of samples per weight catagory between test set and original dataset\n",
        "#####(distrbutions are the same, showing that the stratified sampling worked)"
      ]
    },
    {
      "cell_type": "code",
      "execution_count": null,
      "metadata": {
        "colab": {
          "base_uri": "https://localhost:8080/"
        },
        "id": "bfma1rvNi4YG",
        "outputId": "3b18d5e2-f8a6-471b-91c7-162d70bad97b"
      },
      "outputs": [
        {
          "data": {
            "text/plain": [
              "2    0.447193\n",
              "3    0.362512\n",
              "4    0.128449\n",
              "1    0.061846\n",
              "Name: weight_cat, dtype: float64"
            ]
          },
          "execution_count": 35,
          "metadata": {},
          "output_type": "execute_result"
        }
      ],
      "source": [
        "strat_test_set[\"weight_cat\"].value_counts() / len(strat_test_set)"
      ]
    },
    {
      "cell_type": "code",
      "execution_count": null,
      "metadata": {
        "id": "KpNUI5TBi7IO"
      },
      "outputs": [],
      "source": [
        "for set_ in (strat_train_set, strat_test_set):\n",
        " set_.drop(\"weight_cat\", axis=1, inplace=True)"
      ]
    },
    {
      "cell_type": "code",
      "execution_count": null,
      "metadata": {
        "colab": {
          "base_uri": "https://localhost:8080/"
        },
        "id": "50twhEayi-s-",
        "outputId": "95a66b54-cbd6-4902-9618-6ce4d92079b4"
      },
      "outputs": [
        {
          "data": {
            "text/plain": [
              "2    0.447363\n",
              "3    0.362460\n",
              "4    0.128117\n",
              "1    0.062060\n",
              "Name: weight_cat, dtype: float64"
            ]
          },
          "execution_count": 37,
          "metadata": {},
          "output_type": "execute_result"
        }
      ],
      "source": [
        "patients_df[\"weight_cat\"].value_counts() / len(patients_df)"
      ]
    },
    {
      "cell_type": "markdown",
      "metadata": {
        "id": "a1CAKrvxjEIl"
      },
      "source": [
        "## Visualizing Training Set Features and Visualizing Effects of Pre-processing Steps\n",
        "##### (height, weight, and some catagorical variables)--nothing permanent done here--all incorporated into transformer later"
      ]
    },
    {
      "cell_type": "markdown",
      "metadata": {
        "id": "X2AidcVAjLAH"
      },
      "source": [
        "### Visualizing Outliers in Weight Class\n",
        "##### (not getting rid of outliers as they represent natural variation)"
      ]
    },
    {
      "cell_type": "code",
      "execution_count": null,
      "metadata": {
        "id": "-FQeNmWLjE-s"
      },
      "outputs": [],
      "source": [
        "# reference: https://statisticsbyjim.com/basics/remove-outliers/"
      ]
    },
    {
      "cell_type": "code",
      "execution_count": null,
      "metadata": {
        "colab": {
          "base_uri": "https://localhost:8080/"
        },
        "id": "xC3hlcsojO7t",
        "outputId": "c7b2551f-7ee8-4d55-a928-ea22753db85c"
      },
      "outputs": [
        {
          "data": {
            "text/plain": [
              "<matplotlib.axes._subplots.AxesSubplot at 0x7fa8a64261f0>"
            ]
          },
          "execution_count": 39,
          "metadata": {},
          "output_type": "execute_result"
        },
        {
          "data": {
            "image/png": "[encoded data removed]",
            "text/plain": [
              "<Figure size 432x288 with 1 Axes>"
            ]
          },
          "metadata": {},
          "output_type": "display_data"
        }
      ],
      "source": [
        "strat_train_set.boxplot(column='Weight (kg)')"
      ]
    },
    {
      "cell_type": "code",
      "execution_count": null,
      "metadata": {
        "colab": {
          "base_uri": "https://localhost:8080/"
        },
        "id": "vw1AF2fljTqS",
        "outputId": "3c84ff03-62ad-4c21-f0c6-fcb70623e706"
      },
      "outputs": [
        {
          "data": {
            "text/html": [
              "\n",
              "  <div id=\"df-1dbe68c4-724d-4331-99e1-2b95776de5f3\">\n",
              "    <div class=\"colab-df-container\">\n",
              "      <div>\n",
              "<style scoped>\n",
              "    .dataframe tbody tr th:only-of-type {\n",
              "        vertical-align: middle;\n",
              "    }\n",
              "\n",
              "    .dataframe tbody tr th {\n",
              "        vertical-align: top;\n",
              "    }\n",
              "\n",
              "    .dataframe thead th {\n",
              "        text-align: right;\n",
              "    }\n",
              "</style>\n",
              "<table border=\"1\" class=\"dataframe\">\n",
              "  <thead>\n",
              "    <tr style=\"text-align: right;\">\n",
              "      <th></th>\n",
              "      <th>Weight (kg)</th>\n",
              "    </tr>\n",
              "  </thead>\n",
              "  <tbody>\n",
              "    <tr>\n",
              "      <th>count</th>\n",
              "      <td>4202.000000</td>\n",
              "    </tr>\n",
              "    <tr>\n",
              "      <th>mean</th>\n",
              "      <td>77.770239</td>\n",
              "    </tr>\n",
              "    <tr>\n",
              "      <th>std</th>\n",
              "      <td>21.522528</td>\n",
              "    </tr>\n",
              "    <tr>\n",
              "      <th>min</th>\n",
              "      <td>30.000000</td>\n",
              "    </tr>\n",
              "    <tr>\n",
              "      <th>25%</th>\n",
              "      <td>63.000000</td>\n",
              "    </tr>\n",
              "    <tr>\n",
              "      <th>50%</th>\n",
              "      <td>75.000000</td>\n",
              "    </tr>\n",
              "    <tr>\n",
              "      <th>75%</th>\n",
              "      <td>88.900000</td>\n",
              "    </tr>\n",
              "    <tr>\n",
              "      <th>max</th>\n",
              "      <td>237.700000</td>\n",
              "    </tr>\n",
              "  </tbody>\n",
              "</table>\n",
              "</div>\n",
              "      <button class=\"colab-df-convert\" onclick=\"convertToInteractive('df-1dbe68c4-724d-4331-99e1-2b95776de5f3')\"\n",
              "              title=\"Convert this dataframe to an interactive table.\"\n",
              "              style=\"display:none;\">\n",
              "        \n",
              "  <svg xmlns=\"http://www.w3.org/2000/svg\" height=\"24px\"viewBox=\"0 0 24 24\"\n",
              "       width=\"24px\">\n",
              "    <path d=\"M0 0h24v24H0V0z\" fill=\"none\"/>\n",
              "    <path d=\"M18.56 5.44l.94 2.06.94-2.06 2.06-.94-2.06-.94-.94-2.06-.94 2.06-2.06.94zm-11 1L8.5 8.5l.94-2.06 2.06-.94-2.06-.94L8.5 2.5l-.94 2.06-2.06.94zm10 10l.94 2.06.94-2.06 2.06-.94-2.06-.94-.94-2.06-.94 2.06-2.06.94z\"/><path d=\"M17.41 7.96l-1.37-1.37c-.4-.4-.92-.59-1.43-.59-.52 0-1.04.2-1.43.59L10.3 9.45l-7.72 7.72c-.78.78-.78 2.05 0 2.83L4 21.41c.39.39.9.59 1.41.59.51 0 1.02-.2 1.41-.59l7.78-7.78 2.81-2.81c.8-.78.8-2.07 0-2.86zM5.41 20L4 18.59l7.72-7.72 1.47 1.35L5.41 20z\"/>\n",
              "  </svg>\n",
              "      </button>\n",
              "      \n",
              "  <style>\n",
              "    .colab-df-container {\n",
              "      display:flex;\n",
              "      flex-wrap:wrap;\n",
              "      gap: 12px;\n",
              "    }\n",
              "\n",
              "    .colab-df-convert {\n",
              "      background-color: #E8F0FE;\n",
              "      border: none;\n",
              "      border-radius: 50%;\n",
              "      cursor: pointer;\n",
              "      display: none;\n",
              "      fill: #1967D2;\n",
              "      height: 32px;\n",
              "      padding: 0 0 0 0;\n",
              "      width: 32px;\n",
              "    }\n",
              "\n",
              "    .colab-df-convert:hover {\n",
              "      background-color: #E2EBFA;\n",
              "      box-shadow: 0px 1px 2px rgba(60, 64, 67, 0.3), 0px 1px 3px 1px rgba(60, 64, 67, 0.15);\n",
              "      fill: #174EA6;\n",
              "    }\n",
              "\n",
              "    [theme=dark] .colab-df-convert {\n",
              "      background-color: #3B4455;\n",
              "      fill: #D2E3FC;\n",
              "    }\n",
              "\n",
              "    [theme=dark] .colab-df-convert:hover {\n",
              "      background-color: #434B5C;\n",
              "      box-shadow: 0px 1px 3px 1px rgba(0, 0, 0, 0.15);\n",
              "      filter: drop-shadow(0px 1px 2px rgba(0, 0, 0, 0.3));\n",
              "      fill: #FFFFFF;\n",
              "    }\n",
              "  </style>\n",
              "\n",
              "      <script>\n",
              "        const buttonEl =\n",
              "          document.querySelector('#df-1dbe68c4-724d-4331-99e1-2b95776de5f3 button.colab-df-convert');\n",
              "        buttonEl.style.display =\n",
              "          google.colab.kernel.accessAllowed ? 'block' : 'none';\n",
              "\n",
              "        async function convertToInteractive(key) {\n",
              "          const element = document.querySelector('#df-1dbe68c4-724d-4331-99e1-2b95776de5f3');\n",
              "          const dataTable =\n",
              "            await google.colab.kernel.invokeFunction('convertToInteractive',\n",
              "                                                     [key], {});\n",
              "          if (!dataTable) return;\n",
              "\n",
              "          const docLinkHtml = 'Like what you see? Visit the ' +\n",
              "            '<a target=\"_blank\" href=https://colab.research.google.com/notebooks/data_table.ipynb>data table notebook</a>'\n",
              "            + ' to learn more about interactive tables.';\n",
              "          element.innerHTML = '';\n",
              "          dataTable['output_type'] = 'display_data';\n",
              "          await google.colab.output.renderOutput(dataTable, element);\n",
              "          const docLink = document.createElement('div');\n",
              "          docLink.innerHTML = docLinkHtml;\n",
              "          element.appendChild(docLink);\n",
              "        }\n",
              "      </script>\n",
              "    </div>\n",
              "  </div>\n",
              "  "
            ],
            "text/plain": [
              "       Weight (kg)\n",
              "count  4202.000000\n",
              "mean     77.770239\n",
              "std      21.522528\n",
              "min      30.000000\n",
              "25%      63.000000\n",
              "50%      75.000000\n",
              "75%      88.900000\n",
              "max     237.700000"
            ]
          },
          "execution_count": 40,
          "metadata": {},
          "output_type": "execute_result"
        }
      ],
      "source": [
        "strat_train_set[['Weight (kg)']].describe()\n",
        "# note that the high of 237.7 kg represents around 522 lbs which is plausible to see in a population"
      ]
    },
    {
      "cell_type": "markdown",
      "metadata": {
        "id": "68Xu_eAqjZIM"
      },
      "source": [
        "### Visualizing method for replacing Nan values in height group with median based on Gender"
      ]
    },
    {
      "cell_type": "code",
      "execution_count": null,
      "metadata": {
        "id": "PmhIKikEjaAL"
      },
      "outputs": [],
      "source": [
        "# souce 1: https://stackoverflow.com/questions/33457191/python-pandas-dataframe-fill-nans-with-a-conditional-mean\n",
        "# source 2: https://www.statology.org/conditional-mean-pandas/"
      ]
    },
    {
      "cell_type": "code",
      "execution_count": null,
      "metadata": {
        "colab": {
          "base_uri": "https://localhost:8080/"
        },
        "id": "cG4bNMEOjdpO",
        "outputId": "7a0b1a1b-97ac-4c15-fe99-37fd34d934d8"
      },
      "outputs": [
        {
          "data": {
            "text/plain": [
              "160.01999999982718"
            ]
          },
          "execution_count": 42,
          "metadata": {},
          "output_type": "execute_result"
        }
      ],
      "source": [
        "median_female_height=strat_train_set.loc[strat_train_set['Gender'] == 'female', 'Height (cm)'].median()\n",
        "median_female_height"
      ]
    },
    {
      "cell_type": "code",
      "execution_count": null,
      "metadata": {
        "colab": {
          "base_uri": "https://localhost:8080/"
        },
        "id": "hlYDM2QTji4o",
        "outputId": "4dd3a276-6096-44c5-f77a-79134a29869d"
      },
      "outputs": [
        {
          "data": {
            "text/plain": [
              "173.98999999981208"
            ]
          },
          "execution_count": 43,
          "metadata": {},
          "output_type": "execute_result"
        }
      ],
      "source": [
        "median_male_height=strat_train_set.loc[strat_train_set['Gender'] == 'male', 'Height (cm)'].median()\n",
        "median_male_height"
      ]
    },
    {
      "cell_type": "markdown",
      "metadata": {
        "id": "xoCnHHjujlvG"
      },
      "source": [
        "##### Copy of Strat_train_set created for testing purposes"
      ]
    },
    {
      "cell_type": "code",
      "execution_count": null,
      "metadata": {
        "id": "4JWjOjspjmPY"
      },
      "outputs": [],
      "source": [
        "strat_train_set_copy = strat_train_set.copy()"
      ]
    },
    {
      "cell_type": "code",
      "execution_count": null,
      "metadata": {
        "colab": {
          "base_uri": "https://localhost:8080/"
        },
        "id": "SXBRIowOjpj6",
        "outputId": "b80a0954-11a2-4764-8889-1ffd5562eea3"
      },
      "outputs": [
        {
          "data": {
            "text/html": [
              "\n",
              "  <div id=\"df-6513280a-bb91-45d5-a786-e2752c72807b\">\n",
              "    <div class=\"colab-df-container\">\n",
              "      <div>\n",
              "<style scoped>\n",
              "    .dataframe tbody tr th:only-of-type {\n",
              "        vertical-align: middle;\n",
              "    }\n",
              "\n",
              "    .dataframe tbody tr th {\n",
              "        vertical-align: top;\n",
              "    }\n",
              "\n",
              "    .dataframe thead th {\n",
              "        text-align: right;\n",
              "    }\n",
              "</style>\n",
              "<table border=\"1\" class=\"dataframe\">\n",
              "  <thead>\n",
              "    <tr style=\"text-align: right;\">\n",
              "      <th></th>\n",
              "      <th>Gender</th>\n",
              "      <th>Race (Reported)</th>\n",
              "      <th>Age</th>\n",
              "      <th>Height (cm)</th>\n",
              "      <th>Weight (kg)</th>\n",
              "      <th>Diabetes</th>\n",
              "      <th>Simvastatin (Zocor)</th>\n",
              "      <th>Amiodarone (Cordarone)</th>\n",
              "      <th>Target INR</th>\n",
              "      <th>INR on Reported Therapeutic Dose of Warfarin</th>\n",
              "      <th>Cyp2C9 genotypes</th>\n",
              "      <th>VKORC1 genotype: -1639 G&gt;A (3673); chr16:31015190; rs9923231; C/T</th>\n",
              "      <th>Therapeutic Dose of Warfarin</th>\n",
              "    </tr>\n",
              "  </thead>\n",
              "  <tbody>\n",
              "    <tr>\n",
              "      <th>813</th>\n",
              "      <td>male</td>\n",
              "      <td>White</td>\n",
              "      <td>50 - 59</td>\n",
              "      <td>175.006</td>\n",
              "      <td>84.0</td>\n",
              "      <td>0.0</td>\n",
              "      <td>1.0</td>\n",
              "      <td>0.0</td>\n",
              "      <td>NaN</td>\n",
              "      <td>2.20</td>\n",
              "      <td>*1/*1</td>\n",
              "      <td>A/G</td>\n",
              "      <td>38.5</td>\n",
              "    </tr>\n",
              "    <tr>\n",
              "      <th>4632</th>\n",
              "      <td>male</td>\n",
              "      <td>Japanese</td>\n",
              "      <td>50 - 59</td>\n",
              "      <td>169.926</td>\n",
              "      <td>78.0</td>\n",
              "      <td>NaN</td>\n",
              "      <td>NaN</td>\n",
              "      <td>NaN</td>\n",
              "      <td>NaN</td>\n",
              "      <td>1.35</td>\n",
              "      <td>*1/*1</td>\n",
              "      <td>A/G</td>\n",
              "      <td>7.0</td>\n",
              "    </tr>\n",
              "    <tr>\n",
              "      <th>829</th>\n",
              "      <td>male</td>\n",
              "      <td>Japanese</td>\n",
              "      <td>50 - 59</td>\n",
              "      <td>171.958</td>\n",
              "      <td>60.2</td>\n",
              "      <td>NaN</td>\n",
              "      <td>NaN</td>\n",
              "      <td>NaN</td>\n",
              "      <td>NaN</td>\n",
              "      <td>1.27</td>\n",
              "      <td>*1/*1</td>\n",
              "      <td>A/A</td>\n",
              "      <td>14.0</td>\n",
              "    </tr>\n",
              "  </tbody>\n",
              "</table>\n",
              "</div>\n",
              "      <button class=\"colab-df-convert\" onclick=\"convertToInteractive('df-6513280a-bb91-45d5-a786-e2752c72807b')\"\n",
              "              title=\"Convert this dataframe to an interactive table.\"\n",
              "              style=\"display:none;\">\n",
              "        \n",
              "  <svg xmlns=\"http://www.w3.org/2000/svg\" height=\"24px\"viewBox=\"0 0 24 24\"\n",
              "       width=\"24px\">\n",
              "    <path d=\"M0 0h24v24H0V0z\" fill=\"none\"/>\n",
              "    <path d=\"M18.56 5.44l.94 2.06.94-2.06 2.06-.94-2.06-.94-.94-2.06-.94 2.06-2.06.94zm-11 1L8.5 8.5l.94-2.06 2.06-.94-2.06-.94L8.5 2.5l-.94 2.06-2.06.94zm10 10l.94 2.06.94-2.06 2.06-.94-2.06-.94-.94-2.06-.94 2.06-2.06.94z\"/><path d=\"M17.41 7.96l-1.37-1.37c-.4-.4-.92-.59-1.43-.59-.52 0-1.04.2-1.43.59L10.3 9.45l-7.72 7.72c-.78.78-.78 2.05 0 2.83L4 21.41c.39.39.9.59 1.41.59.51 0 1.02-.2 1.41-.59l7.78-7.78 2.81-2.81c.8-.78.8-2.07 0-2.86zM5.41 20L4 18.59l7.72-7.72 1.47 1.35L5.41 20z\"/>\n",
              "  </svg>\n",
              "      </button>\n",
              "      \n",
              "  <style>\n",
              "    .colab-df-container {\n",
              "      display:flex;\n",
              "      flex-wrap:wrap;\n",
              "      gap: 12px;\n",
              "    }\n",
              "\n",
              "    .colab-df-convert {\n",
              "      background-color: #E8F0FE;\n",
              "      border: none;\n",
              "      border-radius: 50%;\n",
              "      cursor: pointer;\n",
              "      display: none;\n",
              "      fill: #1967D2;\n",
              "      height: 32px;\n",
              "      padding: 0 0 0 0;\n",
              "      width: 32px;\n",
              "    }\n",
              "\n",
              "    .colab-df-convert:hover {\n",
              "      background-color: #E2EBFA;\n",
              "      box-shadow: 0px 1px 2px rgba(60, 64, 67, 0.3), 0px 1px 3px 1px rgba(60, 64, 67, 0.15);\n",
              "      fill: #174EA6;\n",
              "    }\n",
              "\n",
              "    [theme=dark] .colab-df-convert {\n",
              "      background-color: #3B4455;\n",
              "      fill: #D2E3FC;\n",
              "    }\n",
              "\n",
              "    [theme=dark] .colab-df-convert:hover {\n",
              "      background-color: #434B5C;\n",
              "      box-shadow: 0px 1px 3px 1px rgba(0, 0, 0, 0.15);\n",
              "      filter: drop-shadow(0px 1px 2px rgba(0, 0, 0, 0.3));\n",
              "      fill: #FFFFFF;\n",
              "    }\n",
              "  </style>\n",
              "\n",
              "      <script>\n",
              "        const buttonEl =\n",
              "          document.querySelector('#df-6513280a-bb91-45d5-a786-e2752c72807b button.colab-df-convert');\n",
              "        buttonEl.style.display =\n",
              "          google.colab.kernel.accessAllowed ? 'block' : 'none';\n",
              "\n",
              "        async function convertToInteractive(key) {\n",
              "          const element = document.querySelector('#df-6513280a-bb91-45d5-a786-e2752c72807b');\n",
              "          const dataTable =\n",
              "            await google.colab.kernel.invokeFunction('convertToInteractive',\n",
              "                                                     [key], {});\n",
              "          if (!dataTable) return;\n",
              "\n",
              "          const docLinkHtml = 'Like what you see? Visit the ' +\n",
              "            '<a target=\"_blank\" href=https://colab.research.google.com/notebooks/data_table.ipynb>data table notebook</a>'\n",
              "            + ' to learn more about interactive tables.';\n",
              "          element.innerHTML = '';\n",
              "          dataTable['output_type'] = 'display_data';\n",
              "          await google.colab.output.renderOutput(dataTable, element);\n",
              "          const docLink = document.createElement('div');\n",
              "          docLink.innerHTML = docLinkHtml;\n",
              "          element.appendChild(docLink);\n",
              "        }\n",
              "      </script>\n",
              "    </div>\n",
              "  </div>\n",
              "  "
            ],
            "text/plain": [
              "     Gender Race (Reported)      Age  Height (cm)  Weight (kg)  Diabetes  \\\n",
              "813    male           White  50 - 59      175.006         84.0       0.0   \n",
              "4632   male        Japanese  50 - 59      169.926         78.0       NaN   \n",
              "829    male        Japanese  50 - 59      171.958         60.2       NaN   \n",
              "\n",
              "      Simvastatin (Zocor)  Amiodarone (Cordarone)  Target INR  \\\n",
              "813                   1.0                     0.0         NaN   \n",
              "4632                  NaN                     NaN         NaN   \n",
              "829                   NaN                     NaN         NaN   \n",
              "\n",
              "      INR on Reported Therapeutic Dose of Warfarin Cyp2C9 genotypes  \\\n",
              "813                                           2.20            *1/*1   \n",
              "4632                                          1.35            *1/*1   \n",
              "829                                           1.27            *1/*1   \n",
              "\n",
              "     VKORC1 genotype: -1639 G>A (3673); chr16:31015190; rs9923231; C/T  \\\n",
              "813                                                 A/G                  \n",
              "4632                                                A/G                  \n",
              "829                                                 A/A                  \n",
              "\n",
              "      Therapeutic Dose of Warfarin  \n",
              "813                           38.5  \n",
              "4632                           7.0  \n",
              "829                           14.0  "
            ]
          },
          "execution_count": 45,
          "metadata": {},
          "output_type": "execute_result"
        }
      ],
      "source": [
        "strat_train_set_copy.head(n=3)"
      ]
    },
    {
      "cell_type": "code",
      "execution_count": null,
      "metadata": {
        "id": "HBSOTL0Ijum4"
      },
      "outputs": [],
      "source": [
        "# getting gender specific medians for training set\n",
        "medians = strat_train_set_copy.groupby(['Gender'])['Height (cm)'].median()"
      ]
    },
    {
      "cell_type": "code",
      "execution_count": null,
      "metadata": {
        "id": "ktpzz5dKjxXz"
      },
      "outputs": [],
      "source": [
        "strat_train_set_copy = strat_train_set_copy.set_index(['Gender'])\n",
        "strat_train_set_copy['Height (cm)'] = strat_train_set_copy['Height (cm)'].fillna(medians)\n",
        "strat_train_set_copy = strat_train_set_copy.reset_index()"
      ]
    },
    {
      "cell_type": "code",
      "execution_count": null,
      "metadata": {
        "colab": {
          "base_uri": "https://localhost:8080/"
        },
        "id": "M6Uq1zDDjzcH",
        "outputId": "faf36f86-3dea-4db7-e979-cb7d407e63a7"
      },
      "outputs": [
        {
          "data": {
            "text/html": [
              "\n",
              "  <div id=\"df-a3013a69-3b34-4a4a-8228-ccb614498e6b\">\n",
              "    <div class=\"colab-df-container\">\n",
              "      <div>\n",
              "<style scoped>\n",
              "    .dataframe tbody tr th:only-of-type {\n",
              "        vertical-align: middle;\n",
              "    }\n",
              "\n",
              "    .dataframe tbody tr th {\n",
              "        vertical-align: top;\n",
              "    }\n",
              "\n",
              "    .dataframe thead th {\n",
              "        text-align: right;\n",
              "    }\n",
              "</style>\n",
              "<table border=\"1\" class=\"dataframe\">\n",
              "  <thead>\n",
              "    <tr style=\"text-align: right;\">\n",
              "      <th></th>\n",
              "      <th>Gender</th>\n",
              "      <th>Race (Reported)</th>\n",
              "      <th>Age</th>\n",
              "      <th>Height (cm)</th>\n",
              "      <th>Weight (kg)</th>\n",
              "      <th>Diabetes</th>\n",
              "      <th>Simvastatin (Zocor)</th>\n",
              "      <th>Amiodarone (Cordarone)</th>\n",
              "      <th>Target INR</th>\n",
              "      <th>INR on Reported Therapeutic Dose of Warfarin</th>\n",
              "      <th>Cyp2C9 genotypes</th>\n",
              "      <th>VKORC1 genotype: -1639 G&gt;A (3673); chr16:31015190; rs9923231; C/T</th>\n",
              "      <th>Therapeutic Dose of Warfarin</th>\n",
              "    </tr>\n",
              "  </thead>\n",
              "  <tbody>\n",
              "    <tr>\n",
              "      <th>0</th>\n",
              "      <td>male</td>\n",
              "      <td>White</td>\n",
              "      <td>50 - 59</td>\n",
              "      <td>175.006</td>\n",
              "      <td>84.0</td>\n",
              "      <td>0.0</td>\n",
              "      <td>1.0</td>\n",
              "      <td>0.0</td>\n",
              "      <td>NaN</td>\n",
              "      <td>2.20</td>\n",
              "      <td>*1/*1</td>\n",
              "      <td>A/G</td>\n",
              "      <td>38.5</td>\n",
              "    </tr>\n",
              "    <tr>\n",
              "      <th>1</th>\n",
              "      <td>male</td>\n",
              "      <td>Japanese</td>\n",
              "      <td>50 - 59</td>\n",
              "      <td>169.926</td>\n",
              "      <td>78.0</td>\n",
              "      <td>NaN</td>\n",
              "      <td>NaN</td>\n",
              "      <td>NaN</td>\n",
              "      <td>NaN</td>\n",
              "      <td>1.35</td>\n",
              "      <td>*1/*1</td>\n",
              "      <td>A/G</td>\n",
              "      <td>7.0</td>\n",
              "    </tr>\n",
              "    <tr>\n",
              "      <th>2</th>\n",
              "      <td>male</td>\n",
              "      <td>Japanese</td>\n",
              "      <td>50 - 59</td>\n",
              "      <td>171.958</td>\n",
              "      <td>60.2</td>\n",
              "      <td>NaN</td>\n",
              "      <td>NaN</td>\n",
              "      <td>NaN</td>\n",
              "      <td>NaN</td>\n",
              "      <td>1.27</td>\n",
              "      <td>*1/*1</td>\n",
              "      <td>A/A</td>\n",
              "      <td>14.0</td>\n",
              "    </tr>\n",
              "  </tbody>\n",
              "</table>\n",
              "</div>\n",
              "      <button class=\"colab-df-convert\" onclick=\"convertToInteractive('df-a3013a69-3b34-4a4a-8228-ccb614498e6b')\"\n",
              "              title=\"Convert this dataframe to an interactive table.\"\n",
              "              style=\"display:none;\">\n",
              "        \n",
              "  <svg xmlns=\"http://www.w3.org/2000/svg\" height=\"24px\"viewBox=\"0 0 24 24\"\n",
              "       width=\"24px\">\n",
              "    <path d=\"M0 0h24v24H0V0z\" fill=\"none\"/>\n",
              "    <path d=\"M18.56 5.44l.94 2.06.94-2.06 2.06-.94-2.06-.94-.94-2.06-.94 2.06-2.06.94zm-11 1L8.5 8.5l.94-2.06 2.06-.94-2.06-.94L8.5 2.5l-.94 2.06-2.06.94zm10 10l.94 2.06.94-2.06 2.06-.94-2.06-.94-.94-2.06-.94 2.06-2.06.94z\"/><path d=\"M17.41 7.96l-1.37-1.37c-.4-.4-.92-.59-1.43-.59-.52 0-1.04.2-1.43.59L10.3 9.45l-7.72 7.72c-.78.78-.78 2.05 0 2.83L4 21.41c.39.39.9.59 1.41.59.51 0 1.02-.2 1.41-.59l7.78-7.78 2.81-2.81c.8-.78.8-2.07 0-2.86zM5.41 20L4 18.59l7.72-7.72 1.47 1.35L5.41 20z\"/>\n",
              "  </svg>\n",
              "      </button>\n",
              "      \n",
              "  <style>\n",
              "    .colab-df-container {\n",
              "      display:flex;\n",
              "      flex-wrap:wrap;\n",
              "      gap: 12px;\n",
              "    }\n",
              "\n",
              "    .colab-df-convert {\n",
              "      background-color: #E8F0FE;\n",
              "      border: none;\n",
              "      border-radius: 50%;\n",
              "      cursor: pointer;\n",
              "      display: none;\n",
              "      fill: #1967D2;\n",
              "      height: 32px;\n",
              "      padding: 0 0 0 0;\n",
              "      width: 32px;\n",
              "    }\n",
              "\n",
              "    .colab-df-convert:hover {\n",
              "      background-color: #E2EBFA;\n",
              "      box-shadow: 0px 1px 2px rgba(60, 64, 67, 0.3), 0px 1px 3px 1px rgba(60, 64, 67, 0.15);\n",
              "      fill: #174EA6;\n",
              "    }\n",
              "\n",
              "    [theme=dark] .colab-df-convert {\n",
              "      background-color: #3B4455;\n",
              "      fill: #D2E3FC;\n",
              "    }\n",
              "\n",
              "    [theme=dark] .colab-df-convert:hover {\n",
              "      background-color: #434B5C;\n",
              "      box-shadow: 0px 1px 3px 1px rgba(0, 0, 0, 0.15);\n",
              "      filter: drop-shadow(0px 1px 2px rgba(0, 0, 0, 0.3));\n",
              "      fill: #FFFFFF;\n",
              "    }\n",
              "  </style>\n",
              "\n",
              "      <script>\n",
              "        const buttonEl =\n",
              "          document.querySelector('#df-a3013a69-3b34-4a4a-8228-ccb614498e6b button.colab-df-convert');\n",
              "        buttonEl.style.display =\n",
              "          google.colab.kernel.accessAllowed ? 'block' : 'none';\n",
              "\n",
              "        async function convertToInteractive(key) {\n",
              "          const element = document.querySelector('#df-a3013a69-3b34-4a4a-8228-ccb614498e6b');\n",
              "          const dataTable =\n",
              "            await google.colab.kernel.invokeFunction('convertToInteractive',\n",
              "                                                     [key], {});\n",
              "          if (!dataTable) return;\n",
              "\n",
              "          const docLinkHtml = 'Like what you see? Visit the ' +\n",
              "            '<a target=\"_blank\" href=https://colab.research.google.com/notebooks/data_table.ipynb>data table notebook</a>'\n",
              "            + ' to learn more about interactive tables.';\n",
              "          element.innerHTML = '';\n",
              "          dataTable['output_type'] = 'display_data';\n",
              "          await google.colab.output.renderOutput(dataTable, element);\n",
              "          const docLink = document.createElement('div');\n",
              "          docLink.innerHTML = docLinkHtml;\n",
              "          element.appendChild(docLink);\n",
              "        }\n",
              "      </script>\n",
              "    </div>\n",
              "  </div>\n",
              "  "
            ],
            "text/plain": [
              "  Gender Race (Reported)      Age  Height (cm)  Weight (kg)  Diabetes  \\\n",
              "0   male           White  50 - 59      175.006         84.0       0.0   \n",
              "1   male        Japanese  50 - 59      169.926         78.0       NaN   \n",
              "2   male        Japanese  50 - 59      171.958         60.2       NaN   \n",
              "\n",
              "   Simvastatin (Zocor)  Amiodarone (Cordarone)  Target INR  \\\n",
              "0                  1.0                     0.0         NaN   \n",
              "1                  NaN                     NaN         NaN   \n",
              "2                  NaN                     NaN         NaN   \n",
              "\n",
              "   INR on Reported Therapeutic Dose of Warfarin Cyp2C9 genotypes  \\\n",
              "0                                          2.20            *1/*1   \n",
              "1                                          1.35            *1/*1   \n",
              "2                                          1.27            *1/*1   \n",
              "\n",
              "  VKORC1 genotype: -1639 G>A (3673); chr16:31015190; rs9923231; C/T  \\\n",
              "0                                                A/G                  \n",
              "1                                                A/G                  \n",
              "2                                                A/A                  \n",
              "\n",
              "   Therapeutic Dose of Warfarin  \n",
              "0                          38.5  \n",
              "1                           7.0  \n",
              "2                          14.0  "
            ]
          },
          "execution_count": 48,
          "metadata": {},
          "output_type": "execute_result"
        }
      ],
      "source": [
        "strat_train_set_copy.head(n=3)"
      ]
    },
    {
      "cell_type": "markdown",
      "metadata": {
        "id": "eTFu_m-0j_tE"
      },
      "source": [
        "### Visualizing Race Distribution\n",
        "#### Includes Visualization of pre-processing steps implemented later"
      ]
    },
    {
      "cell_type": "code",
      "execution_count": null,
      "metadata": {
        "id": "EIrhiIyIkALn"
      },
      "outputs": [],
      "source": [
        "strat_train_set_copy = strat_train_set.copy()"
      ]
    },
    {
      "cell_type": "code",
      "execution_count": null,
      "metadata": {
        "colab": {
          "base_uri": "https://localhost:8080/"
        },
        "id": "kpR3fy3LkDJQ",
        "outputId": "82b44258-7f0b-434d-caca-5e9b1c982b49"
      },
      "outputs": [
        {
          "data": {
            "text/plain": [
              "<matplotlib.axes._subplots.AxesSubplot at 0x7fa8a7d86b50>"
            ]
          },
          "execution_count": 50,
          "metadata": {},
          "output_type": "execute_result"
        },
        {
          "data": {
            "image/png": "[encoded data removed]",
            "text/plain": [
              "<Figure size 432x288 with 1 Axes>"
            ]
          },
          "metadata": {},
          "output_type": "display_data"
        }
      ],
      "source": [
        "strat_train_set_copy['Race (Reported)'].value_counts().plot(kind='bar')"
      ]
    },
    {
      "cell_type": "code",
      "execution_count": null,
      "metadata": {
        "id": "nh2QNYGakFlO"
      },
      "outputs": [],
      "source": [
        "strat_train_set_copy['Race (Reported)'] = strat_train_set_copy['Race (Reported)'].fillna(\"UNSPECIFIED\")\n",
        "strat_train_set_copy['Race (Reported)'] = strat_train_set_copy['Race (Reported)'].str.upper()"
      ]
    },
    {
      "cell_type": "code",
      "execution_count": null,
      "metadata": {
        "id": "Se6FkUn4kH-8"
      },
      "outputs": [],
      "source": [
        "strat_train_set_copy = strat_train_set_copy.replace({'Race (Reported)': {'AFRICAN-AMERICAN': 'BLACK OR AFRICAN AMERICAN', 'BLACK': 'BLACK OR AFRICAN AMERICAN'}})"
      ]
    },
    {
      "cell_type": "code",
      "execution_count": null,
      "metadata": {
        "colab": {
          "base_uri": "https://localhost:8080/"
        },
        "id": "tQMi8K0AkJyn",
        "outputId": "5a12317d-ad26-4f91-9afd-d136c240a2cb"
      },
      "outputs": [
        {
          "data": {
            "text/plain": [
              "<matplotlib.axes._subplots.AxesSubplot at 0x7fa8a7f05d60>"
            ]
          },
          "execution_count": 53,
          "metadata": {},
          "output_type": "execute_result"
        },
        {
          "data": {
            "image/png": "[encoded data removed]",
            "text/plain": [
              "<Figure size 432x288 with 1 Axes>"
            ]
          },
          "metadata": {},
          "output_type": "display_data"
        }
      ],
      "source": [
        "strat_train_set_copy['Race (Reported)'].value_counts().plot(kind='bar')"
      ]
    },
    {
      "cell_type": "markdown",
      "metadata": {
        "id": "qnhqflzQkNBu"
      },
      "source": [
        "### Visualizing Age Distribution\n",
        "#### Replace Age Nan Values with mode from train set in pipeline"
      ]
    },
    {
      "cell_type": "code",
      "execution_count": null,
      "metadata": {
        "colab": {
          "base_uri": "https://localhost:8080/"
        },
        "id": "gTPLEAPfkNmh",
        "outputId": "ab92ad39-f274-4d2e-b985-5f465e17c4ab"
      },
      "outputs": [
        {
          "data": {
            "text/plain": [
              "<matplotlib.axes._subplots.AxesSubplot at 0x7fa8a7d17be0>"
            ]
          },
          "execution_count": 54,
          "metadata": {},
          "output_type": "execute_result"
        },
        {
          "data": {
            "image/png": "[encoded data removed]",
            "text/plain": [
              "<Figure size 432x288 with 1 Axes>"
            ]
          },
          "metadata": {},
          "output_type": "display_data"
        }
      ],
      "source": [
        "patients_df['Age'].value_counts().plot(kind='bar')"
      ]
    },
    {
      "cell_type": "markdown",
      "metadata": {
        "id": "DJTqPE1ZkSt4"
      },
      "source": [
        "### Visualizing Diabetes Distribution\n",
        "#### Replace Diabetes Nan Values with mode from train set in pipeline"
      ]
    },
    {
      "cell_type": "code",
      "execution_count": null,
      "metadata": {
        "colab": {
          "base_uri": "https://localhost:8080/"
        },
        "id": "Ig1BEmuNkTZh",
        "outputId": "8b4f2467-954f-49fc-f13e-fe7370facc8e"
      },
      "outputs": [
        {
          "data": {
            "text/plain": [
              "<matplotlib.axes._subplots.AxesSubplot at 0x7fa8a7ce0220>"
            ]
          },
          "execution_count": 55,
          "metadata": {},
          "output_type": "execute_result"
        },
        {
          "data": {
            "image/png": "[encoded data removed]",
            "text/plain": [
              "<Figure size 432x288 with 1 Axes>"
            ]
          },
          "metadata": {},
          "output_type": "display_data"
        }
      ],
      "source": [
        "patients_df['Diabetes'].value_counts().plot(kind='bar')"
      ]
    },
    {
      "cell_type": "markdown",
      "metadata": {
        "id": "N1EW2r4PkX7h"
      },
      "source": [
        "### Visualizing Simvastatin Distribution\n",
        "#### Replace Simvastatin Nan Values with mode from train set in pipeline"
      ]
    },
    {
      "cell_type": "code",
      "execution_count": null,
      "metadata": {
        "colab": {
          "base_uri": "https://localhost:8080/"
        },
        "id": "dJ_hT3ISkYrC",
        "outputId": "64f68c0d-0234-436e-d925-d2f535de026a"
      },
      "outputs": [
        {
          "data": {
            "text/plain": [
              "<matplotlib.axes._subplots.AxesSubplot at 0x7fa8a60ed310>"
            ]
          },
          "execution_count": 56,
          "metadata": {},
          "output_type": "execute_result"
        },
        {
          "data": {
            "image/png": "[encoded data removed]",
            "text/plain": [
              "<Figure size 432x288 with 1 Axes>"
            ]
          },
          "metadata": {},
          "output_type": "display_data"
        }
      ],
      "source": [
        "patients_df['Simvastatin (Zocor)'].value_counts().plot(kind='bar')"
      ]
    },
    {
      "cell_type": "markdown",
      "metadata": {
        "id": "BuGK1Z03kcjG"
      },
      "source": [
        "### Visualizing Amiodarone Distribution\n",
        "#### Replace Amiodarone Nan Values with mode from train set in pipeline"
      ]
    },
    {
      "cell_type": "code",
      "execution_count": null,
      "metadata": {
        "colab": {
          "base_uri": "https://localhost:8080/"
        },
        "id": "8fR0Q8kFkdIo",
        "outputId": "b0899658-3ebb-45dd-ddd0-5741628c85ea"
      },
      "outputs": [
        {
          "data": {
            "text/plain": [
              "<matplotlib.axes._subplots.AxesSubplot at 0x7fa8a60f0070>"
            ]
          },
          "execution_count": 57,
          "metadata": {},
          "output_type": "execute_result"
        },
        {
          "data": {
            "image/png": "[encoded data removed]",
            "text/plain": [
              "<Figure size 432x288 with 1 Axes>"
            ]
          },
          "metadata": {},
          "output_type": "display_data"
        }
      ],
      "source": [
        "patients_df['Amiodarone (Cordarone)'].value_counts().plot(kind='bar')"
      ]
    },
    {
      "cell_type": "markdown",
      "metadata": {
        "id": "3rJ3qIZ2kg1-"
      },
      "source": [
        "### Visualizing Cyp2C9 Distribution\n",
        "#### Includes Visualization of Pre-processing steps implemented later\n",
        "#### Replace Cyp2C9 Nan Values with mode from train set in pipeline"
      ]
    },
    {
      "cell_type": "code",
      "execution_count": null,
      "metadata": {
        "id": "6bh3SY_5khdK"
      },
      "outputs": [],
      "source": [
        "strat_train_set_copy = strat_train_set.copy()"
      ]
    },
    {
      "cell_type": "code",
      "execution_count": null,
      "metadata": {
        "colab": {
          "base_uri": "https://localhost:8080/"
        },
        "id": "zmK7_rwQlJTa",
        "outputId": "aa285e0f-14cb-4637-c6cf-47016b6c9206"
      },
      "outputs": [
        {
          "data": {
            "text/plain": [
              "*1/*1     3076\n",
              "*1/*2      537\n",
              "*1/*3      375\n",
              "*2/*3       56\n",
              "*2/*2       43\n",
              "*3/*3       15\n",
              "*1/*5        5\n",
              "*1/*11       4\n",
              "*1/*6        3\n",
              "*1/*13       1\n",
              "*1/*14       1\n",
              "Name: Cyp2C9 genotypes, dtype: int64"
            ]
          },
          "execution_count": 59,
          "metadata": {},
          "output_type": "execute_result"
        }
      ],
      "source": [
        "strat_train_set_copy['Cyp2C9 genotypes'].value_counts()"
      ]
    },
    {
      "cell_type": "code",
      "execution_count": null,
      "metadata": {
        "colab": {
          "base_uri": "https://localhost:8080/"
        },
        "id": "OBZihOktlLwb",
        "outputId": "5d44a1a9-8492-47c4-b79b-c44547785da4"
      },
      "outputs": [
        {
          "data": {
            "text/plain": [
              "<matplotlib.axes._subplots.AxesSubplot at 0x7fa8a5e3ae50>"
            ]
          },
          "execution_count": 60,
          "metadata": {},
          "output_type": "execute_result"
        },
        {
          "data": {
            "image/png": "[encoded data removed]",
            "text/plain": [
              "<Figure size 432x288 with 1 Axes>"
            ]
          },
          "metadata": {},
          "output_type": "display_data"
        }
      ],
      "source": [
        "strat_train_set_copy['Cyp2C9 genotypes'].value_counts().plot(kind='bar')"
      ]
    },
    {
      "cell_type": "code",
      "execution_count": null,
      "metadata": {
        "id": "uwXntgK-lOt0"
      },
      "outputs": [],
      "source": [
        "strat_train_set_copy['Cyp2C9 genotypes'] = strat_train_set_copy['Cyp2C9 genotypes'].fillna(strat_train_set_copy['Cyp2C9 genotypes'].mode()[0])"
      ]
    },
    {
      "cell_type": "code",
      "execution_count": null,
      "metadata": {
        "colab": {
          "base_uri": "https://localhost:8080/"
        },
        "id": "QGhKm3IWlRNK",
        "outputId": "0f394913-6d74-42f4-ccb3-946ab74ff914"
      },
      "outputs": [
        {
          "data": {
            "application/vnd.google.colaboratory.intrinsic+json": {
              "type": "string"
            },
            "text/plain": [
              "'*1/*1'"
            ]
          },
          "execution_count": 62,
          "metadata": {},
          "output_type": "execute_result"
        }
      ],
      "source": [
        "strat_train_set['Cyp2C9 genotypes'].mode()[0]"
      ]
    },
    {
      "cell_type": "code",
      "execution_count": null,
      "metadata": {
        "colab": {
          "base_uri": "https://localhost:8080/"
        },
        "id": "IosYXY5IlUE4",
        "outputId": "388e7fa6-aa19-4e3a-dfd9-d4f2df31006c"
      },
      "outputs": [
        {
          "data": {
            "text/plain": [
              "*1/*1     3162\n",
              "*1/*2      537\n",
              "*1/*3      375\n",
              "*2/*3       56\n",
              "*2/*2       43\n",
              "*3/*3       15\n",
              "*1/*5        5\n",
              "*1/*11       4\n",
              "*1/*6        3\n",
              "*1/*13       1\n",
              "*1/*14       1\n",
              "Name: Cyp2C9 genotypes, dtype: int64"
            ]
          },
          "execution_count": 63,
          "metadata": {},
          "output_type": "execute_result"
        }
      ],
      "source": [
        "strat_train_set_copy['Cyp2C9 genotypes'].value_counts()"
      ]
    },
    {
      "cell_type": "code",
      "execution_count": null,
      "metadata": {
        "colab": {
          "base_uri": "https://localhost:8080/"
        },
        "id": "0bYApHFElWqn",
        "outputId": "d28631cc-32fc-47f0-952e-b4c45ec072e5"
      },
      "outputs": [
        {
          "data": {
            "text/plain": [
              "<matplotlib.axes._subplots.AxesSubplot at 0x7fa8a61668b0>"
            ]
          },
          "execution_count": 64,
          "metadata": {},
          "output_type": "execute_result"
        },
        {
          "data": {
            "image/png": "[encoded data removed]",
            "text/plain": [
              "<Figure size 432x288 with 1 Axes>"
            ]
          },
          "metadata": {},
          "output_type": "display_data"
        }
      ],
      "source": [
        "strat_train_set_copy['Cyp2C9 genotypes'].value_counts().plot(kind='bar')"
      ]
    },
    {
      "cell_type": "markdown",
      "metadata": {
        "id": "0vpwWlmClaIy"
      },
      "source": [
        "### Visualizing VKORC1 genotype\n",
        "#### Includes Visualization of Pre-processing Steps Implemented Later\n",
        "#### Replacing VKORC1 genotype Nan Values with 'Unknown' since there is no obvious mode (creates new catagory)"
      ]
    },
    {
      "cell_type": "code",
      "execution_count": null,
      "metadata": {
        "id": "uv-fY8lHla6R"
      },
      "outputs": [],
      "source": [
        "strat_train_set_copy = strat_train_set.copy()"
      ]
    },
    {
      "cell_type": "code",
      "execution_count": null,
      "metadata": {
        "colab": {
          "base_uri": "https://localhost:8080/"
        },
        "id": "9tlYPdpGldL5",
        "outputId": "b7b0aca3-39da-47c9-82ff-e4cbedc13cad"
      },
      "outputs": [
        {
          "data": {
            "text/plain": [
              "<matplotlib.axes._subplots.AxesSubplot at 0x7fa8a6070520>"
            ]
          },
          "execution_count": 66,
          "metadata": {},
          "output_type": "execute_result"
        },
        {
          "data": {
            "image/png": "[encoded data removed]",
            "text/plain": [
              "<Figure size 432x288 with 1 Axes>"
            ]
          },
          "metadata": {},
          "output_type": "display_data"
        }
      ],
      "source": [
        "strat_train_set_copy['VKORC1 genotype: -1639 G>A (3673); chr16:31015190; rs9923231; C/T'].value_counts().plot(kind='bar')"
      ]
    },
    {
      "cell_type": "code",
      "execution_count": null,
      "metadata": {
        "id": "3n5B87r3lhHa"
      },
      "outputs": [],
      "source": [
        "strat_train_set_copy['VKORC1 genotype: -1639 G>A (3673); chr16:31015190; rs9923231; C/T']=strat_train_set_copy['VKORC1 genotype: -1639 G>A (3673); chr16:31015190; rs9923231; C/T'].fillna(\"Unknown\")"
      ]
    },
    {
      "cell_type": "code",
      "execution_count": null,
      "metadata": {
        "colab": {
          "base_uri": "https://localhost:8080/"
        },
        "id": "2LbGpjiOlk9A",
        "outputId": "8f31f328-53f6-4866-a719-a32e7149ec02"
      },
      "outputs": [
        {
          "data": {
            "text/plain": [
              "<matplotlib.axes._subplots.AxesSubplot at 0x7fa8a6577340>"
            ]
          },
          "execution_count": 68,
          "metadata": {},
          "output_type": "execute_result"
        },
        {
          "data": {
            "image/png": "[encoded data removed]",
            "text/plain": [
              "<Figure size 432x288 with 1 Axes>"
            ]
          },
          "metadata": {},
          "output_type": "display_data"
        }
      ],
      "source": [
        "strat_train_set_copy['VKORC1 genotype: -1639 G>A (3673); chr16:31015190; rs9923231; C/T'].value_counts().plot(kind='bar')"
      ]
    },
    {
      "cell_type": "markdown",
      "metadata": {
        "id": "lfHtt1-Glos2"
      },
      "source": [
        "## Deciding whether to add a New Class (BMI) based on correlations\n",
        "#####(just testing things but decided not to add BMI due to multicollinearity with weight)\n",
        "##### BSA decided per reference https://doi.org/10.1155/2015/560108"
      ]
    },
    {
      "cell_type": "markdown",
      "metadata": {
        "id": "A5RXjfCulr5C"
      },
      "source": [
        "### Making a copy of original dataset for manipulation"
      ]
    },
    {
      "cell_type": "code",
      "execution_count": null,
      "metadata": {
        "id": "rMKJo-A4lpcB"
      },
      "outputs": [],
      "source": [
        "patients_df_copy = patients_df.copy()"
      ]
    },
    {
      "cell_type": "markdown",
      "metadata": {
        "id": "WQpCMcvblxsf"
      },
      "source": [
        "### Looking at Correlations in the Original Data Set (Chapter 2 Pages 58-61)"
      ]
    },
    {
      "cell_type": "code",
      "execution_count": null,
      "metadata": {
        "id": "nim2HT73lyJK"
      },
      "outputs": [],
      "source": [
        "corr_matrix = patients_df.corr()"
      ]
    },
    {
      "cell_type": "code",
      "execution_count": null,
      "metadata": {
        "colab": {
          "base_uri": "https://localhost:8080/"
        },
        "id": "lwdQZefrl1vZ",
        "outputId": "7d3c4e2f-bd60-45e9-a1b0-e58ca1e7ad61"
      },
      "outputs": [
        {
          "data": {
            "text/plain": [
              "Therapeutic Dose of Warfarin                    1.000000\n",
              "Weight (kg)                                     0.387442\n",
              "Height (cm)                                     0.327824\n",
              "INR on Reported Therapeutic Dose of Warfarin    0.195234\n",
              "Target INR                                      0.075469\n",
              "Diabetes                                        0.038240\n",
              "Simvastatin (Zocor)                             0.020619\n",
              "Amiodarone (Cordarone)                         -0.101876\n",
              "Name: Therapeutic Dose of Warfarin, dtype: float64"
            ]
          },
          "execution_count": 71,
          "metadata": {},
          "output_type": "execute_result"
        }
      ],
      "source": [
        "corr_matrix[\"Therapeutic Dose of Warfarin\"].sort_values(ascending=False)\n",
        "# I tested it and the correlation is not as good when the weight and height are filled with the overall median rather the median associated with a certain gender"
      ]
    },
    {
      "cell_type": "code",
      "execution_count": null,
      "metadata": {
        "id": "GXwdynhul7-c"
      },
      "outputs": [],
      "source": [
        "from pandas.plotting import scatter_matrix\n",
        "attributes = [\"Therapeutic Dose of Warfarin\", \"Weight (kg)\", \"Height (cm)\", \"INR on Reported Therapeutic Dose of Warfarin\", \"Diabetes\", \"Simvastatin (Zocor)\", \"Amiodarone (Cordarone)\"]\n",
        "# scatter_matrix(patients_train_copy[attributes], figsize=(18, 12))"
      ]
    },
    {
      "cell_type": "markdown",
      "metadata": {
        "id": "TWtClR-Ul_si"
      },
      "source": [
        "### Testing the Correlation for a New Feature (BMI) (Chapter 2 Page 62)"
      ]
    },
    {
      "cell_type": "code",
      "execution_count": null,
      "metadata": {
        "id": "3HGedTAumAKN"
      },
      "outputs": [],
      "source": [
        "patients_df_copy[\"BMI\"] = patients_df_copy[\"Weight (kg)\"]/((patients_df_copy[\"Height (cm)\"]/100)**2)"
      ]
    },
    {
      "cell_type": "code",
      "execution_count": null,
      "metadata": {
        "colab": {
          "base_uri": "https://localhost:8080/"
        },
        "id": "AHvqZLGQmD0c",
        "outputId": "4bcfb057-7243-472e-baff-954b2e1be4d8"
      },
      "outputs": [
        {
          "data": {
            "text/html": [
              "\n",
              "  <div id=\"df-889269b2-1e15-4f9e-917e-263a5f15fc52\">\n",
              "    <div class=\"colab-df-container\">\n",
              "      <div>\n",
              "<style scoped>\n",
              "    .dataframe tbody tr th:only-of-type {\n",
              "        vertical-align: middle;\n",
              "    }\n",
              "\n",
              "    .dataframe tbody tr th {\n",
              "        vertical-align: top;\n",
              "    }\n",
              "\n",
              "    .dataframe thead th {\n",
              "        text-align: right;\n",
              "    }\n",
              "</style>\n",
              "<table border=\"1\" class=\"dataframe\">\n",
              "  <thead>\n",
              "    <tr style=\"text-align: right;\">\n",
              "      <th></th>\n",
              "      <th>Gender</th>\n",
              "      <th>Race (Reported)</th>\n",
              "      <th>Age</th>\n",
              "      <th>Height (cm)</th>\n",
              "      <th>Weight (kg)</th>\n",
              "      <th>Diabetes</th>\n",
              "      <th>Simvastatin (Zocor)</th>\n",
              "      <th>Amiodarone (Cordarone)</th>\n",
              "      <th>Target INR</th>\n",
              "      <th>INR on Reported Therapeutic Dose of Warfarin</th>\n",
              "      <th>Cyp2C9 genotypes</th>\n",
              "      <th>VKORC1 genotype: -1639 G&gt;A (3673); chr16:31015190; rs9923231; C/T</th>\n",
              "      <th>Therapeutic Dose of Warfarin</th>\n",
              "      <th>weight_cat</th>\n",
              "      <th>BMI</th>\n",
              "    </tr>\n",
              "  </thead>\n",
              "  <tbody>\n",
              "    <tr>\n",
              "      <th>0</th>\n",
              "      <td>male</td>\n",
              "      <td>Malay</td>\n",
              "      <td>60 - 69</td>\n",
              "      <td>NaN</td>\n",
              "      <td>62.0</td>\n",
              "      <td>NaN</td>\n",
              "      <td>NaN</td>\n",
              "      <td>NaN</td>\n",
              "      <td>NaN</td>\n",
              "      <td>2.27</td>\n",
              "      <td>*1/*1</td>\n",
              "      <td>NaN</td>\n",
              "      <td>14.0</td>\n",
              "      <td>2</td>\n",
              "      <td>NaN</td>\n",
              "    </tr>\n",
              "    <tr>\n",
              "      <th>1</th>\n",
              "      <td>female</td>\n",
              "      <td>White</td>\n",
              "      <td>80 - 89</td>\n",
              "      <td>156.9974</td>\n",
              "      <td>75.0</td>\n",
              "      <td>0.0</td>\n",
              "      <td>0.0</td>\n",
              "      <td>0.0</td>\n",
              "      <td>NaN</td>\n",
              "      <td>2.30</td>\n",
              "      <td>*1/*3</td>\n",
              "      <td>G/G</td>\n",
              "      <td>14.0</td>\n",
              "      <td>2</td>\n",
              "      <td>30.428206</td>\n",
              "    </tr>\n",
              "    <tr>\n",
              "      <th>2</th>\n",
              "      <td>male</td>\n",
              "      <td>Japanese</td>\n",
              "      <td>30 - 39</td>\n",
              "      <td>172.9740</td>\n",
              "      <td>52.0</td>\n",
              "      <td>NaN</td>\n",
              "      <td>NaN</td>\n",
              "      <td>NaN</td>\n",
              "      <td>NaN</td>\n",
              "      <td>2.19</td>\n",
              "      <td>*1/*1</td>\n",
              "      <td>A/A</td>\n",
              "      <td>14.0</td>\n",
              "      <td>2</td>\n",
              "      <td>17.379676</td>\n",
              "    </tr>\n",
              "  </tbody>\n",
              "</table>\n",
              "</div>\n",
              "      <button class=\"colab-df-convert\" onclick=\"convertToInteractive('df-889269b2-1e15-4f9e-917e-263a5f15fc52')\"\n",
              "              title=\"Convert this dataframe to an interactive table.\"\n",
              "              style=\"display:none;\">\n",
              "        \n",
              "  <svg xmlns=\"http://www.w3.org/2000/svg\" height=\"24px\"viewBox=\"0 0 24 24\"\n",
              "       width=\"24px\">\n",
              "    <path d=\"M0 0h24v24H0V0z\" fill=\"none\"/>\n",
              "    <path d=\"M18.56 5.44l.94 2.06.94-2.06 2.06-.94-2.06-.94-.94-2.06-.94 2.06-2.06.94zm-11 1L8.5 8.5l.94-2.06 2.06-.94-2.06-.94L8.5 2.5l-.94 2.06-2.06.94zm10 10l.94 2.06.94-2.06 2.06-.94-2.06-.94-.94-2.06-.94 2.06-2.06.94z\"/><path d=\"M17.41 7.96l-1.37-1.37c-.4-.4-.92-.59-1.43-.59-.52 0-1.04.2-1.43.59L10.3 9.45l-7.72 7.72c-.78.78-.78 2.05 0 2.83L4 21.41c.39.39.9.59 1.41.59.51 0 1.02-.2 1.41-.59l7.78-7.78 2.81-2.81c.8-.78.8-2.07 0-2.86zM5.41 20L4 18.59l7.72-7.72 1.47 1.35L5.41 20z\"/>\n",
              "  </svg>\n",
              "      </button>\n",
              "      \n",
              "  <style>\n",
              "    .colab-df-container {\n",
              "      display:flex;\n",
              "      flex-wrap:wrap;\n",
              "      gap: 12px;\n",
              "    }\n",
              "\n",
              "    .colab-df-convert {\n",
              "      background-color: #E8F0FE;\n",
              "      border: none;\n",
              "      border-radius: 50%;\n",
              "      cursor: pointer;\n",
              "      display: none;\n",
              "      fill: #1967D2;\n",
              "      height: 32px;\n",
              "      padding: 0 0 0 0;\n",
              "      width: 32px;\n",
              "    }\n",
              "\n",
              "    .colab-df-convert:hover {\n",
              "      background-color: #E2EBFA;\n",
              "      box-shadow: 0px 1px 2px rgba(60, 64, 67, 0.3), 0px 1px 3px 1px rgba(60, 64, 67, 0.15);\n",
              "      fill: #174EA6;\n",
              "    }\n",
              "\n",
              "    [theme=dark] .colab-df-convert {\n",
              "      background-color: #3B4455;\n",
              "      fill: #D2E3FC;\n",
              "    }\n",
              "\n",
              "    [theme=dark] .colab-df-convert:hover {\n",
              "      background-color: #434B5C;\n",
              "      box-shadow: 0px 1px 3px 1px rgba(0, 0, 0, 0.15);\n",
              "      filter: drop-shadow(0px 1px 2px rgba(0, 0, 0, 0.3));\n",
              "      fill: #FFFFFF;\n",
              "    }\n",
              "  </style>\n",
              "\n",
              "      <script>\n",
              "        const buttonEl =\n",
              "          document.querySelector('#df-889269b2-1e15-4f9e-917e-263a5f15fc52 button.colab-df-convert');\n",
              "        buttonEl.style.display =\n",
              "          google.colab.kernel.accessAllowed ? 'block' : 'none';\n",
              "\n",
              "        async function convertToInteractive(key) {\n",
              "          const element = document.querySelector('#df-889269b2-1e15-4f9e-917e-263a5f15fc52');\n",
              "          const dataTable =\n",
              "            await google.colab.kernel.invokeFunction('convertToInteractive',\n",
              "                                                     [key], {});\n",
              "          if (!dataTable) return;\n",
              "\n",
              "          const docLinkHtml = 'Like what you see? Visit the ' +\n",
              "            '<a target=\"_blank\" href=https://colab.research.google.com/notebooks/data_table.ipynb>data table notebook</a>'\n",
              "            + ' to learn more about interactive tables.';\n",
              "          element.innerHTML = '';\n",
              "          dataTable['output_type'] = 'display_data';\n",
              "          await google.colab.output.renderOutput(dataTable, element);\n",
              "          const docLink = document.createElement('div');\n",
              "          docLink.innerHTML = docLinkHtml;\n",
              "          element.appendChild(docLink);\n",
              "        }\n",
              "      </script>\n",
              "    </div>\n",
              "  </div>\n",
              "  "
            ],
            "text/plain": [
              "   Gender Race (Reported)      Age  Height (cm)  Weight (kg)  Diabetes  \\\n",
              "0    male           Malay  60 - 69          NaN         62.0       NaN   \n",
              "1  female           White  80 - 89     156.9974         75.0       0.0   \n",
              "2    male        Japanese  30 - 39     172.9740         52.0       NaN   \n",
              "\n",
              "   Simvastatin (Zocor)  Amiodarone (Cordarone)  Target INR  \\\n",
              "0                  NaN                     NaN         NaN   \n",
              "1                  0.0                     0.0         NaN   \n",
              "2                  NaN                     NaN         NaN   \n",
              "\n",
              "   INR on Reported Therapeutic Dose of Warfarin Cyp2C9 genotypes  \\\n",
              "0                                          2.27            *1/*1   \n",
              "1                                          2.30            *1/*3   \n",
              "2                                          2.19            *1/*1   \n",
              "\n",
              "  VKORC1 genotype: -1639 G>A (3673); chr16:31015190; rs9923231; C/T  \\\n",
              "0                                                NaN                  \n",
              "1                                                G/G                  \n",
              "2                                                A/A                  \n",
              "\n",
              "   Therapeutic Dose of Warfarin weight_cat        BMI  \n",
              "0                          14.0          2        NaN  \n",
              "1                          14.0          2  30.428206  \n",
              "2                          14.0          2  17.379676  "
            ]
          },
          "execution_count": 74,
          "metadata": {},
          "output_type": "execute_result"
        }
      ],
      "source": [
        "patients_df_copy.head(n=3)"
      ]
    },
    {
      "cell_type": "code",
      "execution_count": null,
      "metadata": {
        "colab": {
          "base_uri": "https://localhost:8080/"
        },
        "id": "uPVO_cxbmIDO",
        "outputId": "53d3007f-d340-4467-927d-a452afb1a8b0"
      },
      "outputs": [
        {
          "data": {
            "text/plain": [
              "BMI                                             1.000000\n",
              "Weight (kg)                                     0.883323\n",
              "Therapeutic Dose of Warfarin                    0.312606\n",
              "Diabetes                                        0.192105\n",
              "INR on Reported Therapeutic Dose of Warfarin    0.164335\n",
              "Height (cm)                                     0.134963\n",
              "Simvastatin (Zocor)                             0.072737\n",
              "Amiodarone (Cordarone)                         -0.007698\n",
              "Target INR                                     -0.023432\n",
              "Name: BMI, dtype: float64"
            ]
          },
          "execution_count": 75,
          "metadata": {},
          "output_type": "execute_result"
        }
      ],
      "source": [
        "corr_matrix = patients_df_copy.corr()\n",
        "corr_matrix[\"BMI\"].sort_values(ascending=False)"
      ]
    },
    {
      "cell_type": "markdown",
      "metadata": {
        "id": "xhk_3RJemLeX"
      },
      "source": [
        "## Separate the data from the labels in training set:\n",
        "##### strat_train_set -> patients_info and patients_labels"
      ]
    },
    {
      "cell_type": "code",
      "execution_count": null,
      "metadata": {
        "id": "QhiKzgLYmMRj"
      },
      "outputs": [],
      "source": [
        "patients_info = strat_train_set.drop(\"Therapeutic Dose of Warfarin\", axis=1) # drop labels for training set\n",
        "patients_labels = strat_train_set[\"Therapeutic Dose of Warfarin\"].copy()"
      ]
    },
    {
      "cell_type": "markdown",
      "metadata": {
        "id": "7XWuzXMbmWMR"
      },
      "source": [
        "## Code for testing/understanding use of imputers and catagorical encoders\n",
        "##### (currently commented out--can un-comment for testing use)"
      ]
    },
    {
      "cell_type": "markdown",
      "metadata": {
        "id": "k4niFN3rmZNz"
      },
      "source": [
        "### Removing Columns with Text Attributes (testing)"
      ]
    },
    {
      "cell_type": "code",
      "execution_count": null,
      "metadata": {
        "id": "jXVE7qyXmWzF"
      },
      "outputs": [],
      "source": [
        "# patients_num = patients_info[['Height (cm)', 'Weight (kg)', 'INR on Reported Therapeutic Dose of Warfarin']]\n",
        "# patients_num.head()"
      ]
    },
    {
      "cell_type": "code",
      "execution_count": null,
      "metadata": {
        "id": "MD6P2o6_mcmK"
      },
      "outputs": [],
      "source": [
        "# from sklearn.impute import SimpleImputer\n",
        "# imputer = SimpleImputer(strategy=\"median\")"
      ]
    },
    {
      "cell_type": "code",
      "execution_count": null,
      "metadata": {
        "id": "CTVqHv3wmeNr"
      },
      "outputs": [],
      "source": [
        "# imputer.fit(patients_num)"
      ]
    },
    {
      "cell_type": "code",
      "execution_count": null,
      "metadata": {
        "id": "EY-3sQdNmfsC"
      },
      "outputs": [],
      "source": [
        "# imputer.statistics_"
      ]
    },
    {
      "cell_type": "markdown",
      "metadata": {
        "id": "6h_n1t0Jmi1s"
      },
      "source": [
        "#### Transform the Training Set (testing)"
      ]
    },
    {
      "cell_type": "code",
      "execution_count": null,
      "metadata": {
        "id": "TOPlBlwymjeP"
      },
      "outputs": [],
      "source": [
        "# X = imputer.transform(patients_num)"
      ]
    },
    {
      "cell_type": "code",
      "execution_count": null,
      "metadata": {
        "id": "D32Qg_tdmkvP"
      },
      "outputs": [],
      "source": [
        "# patients_tr = pd.DataFrame(X, columns=patients_num.columns,\n",
        "#                           index=patients_info.index)"
      ]
    },
    {
      "cell_type": "code",
      "execution_count": null,
      "metadata": {
        "id": "smzpsj3XmnO2"
      },
      "outputs": [],
      "source": [
        "# patients_tr.loc[patients_info.index.values]"
      ]
    },
    {
      "cell_type": "code",
      "execution_count": null,
      "metadata": {
        "id": "UQxAviApmn0y"
      },
      "outputs": [],
      "source": [
        "# imputer.strategy"
      ]
    },
    {
      "cell_type": "markdown",
      "metadata": {
        "id": "W12bQIAlmpJ6"
      },
      "source": [
        "### Handling Text and Categorical Attributes (testing)"
      ]
    },
    {
      "cell_type": "code",
      "execution_count": null,
      "metadata": {
        "id": "JNR7PFh6mssG"
      },
      "outputs": [],
      "source": [
        "# patients_cat = patients_info[[\"Gender\"]]\n",
        "# patients_cat.head(5)"
      ]
    },
    {
      "cell_type": "markdown",
      "metadata": {
        "id": "mKAK1iibmrNP"
      },
      "source": [
        "#### Testing Using 1Hot Encoder"
      ]
    },
    {
      "cell_type": "code",
      "execution_count": null,
      "metadata": {
        "id": "RGDvIG_OmwgV"
      },
      "outputs": [],
      "source": [
        "# from sklearn.preprocessing import OneHotEncoder\n",
        "# from sklearn import preprocessing\n",
        "\n",
        "# cat_encoder = OneHotEncoder(sparse=False, handle_unknown='ignore')\n",
        "# patients_cat_1hot = cat_encoder.fit_transform(patients_cat)"
      ]
    },
    {
      "cell_type": "code",
      "execution_count": null,
      "metadata": {
        "id": "9Wc8T2iomySx"
      },
      "outputs": [],
      "source": [
        "# cat_encoder.categories_"
      ]
    },
    {
      "cell_type": "markdown",
      "metadata": {
        "id": "s34MHf6JmzfO"
      },
      "source": [
        "## Custom Transformers for Pre-processing (Important Part)\n",
        "##### reference: Chapter 2 Textbook associated google collab notebook"
      ]
    },
    {
      "cell_type": "markdown",
      "metadata": {
        "id": "TT92VqOqm3uA"
      },
      "source": [
        "##### creating a custom transformer to handle catagorical attributes Nan Values:\n",
        "##### includes Gender, Cyp2C9 genotypes, VKORC1 genotype, Diabetes, Amiodarone, Simvastatin, Race, Age"
      ]
    },
    {
      "cell_type": "code",
      "execution_count": null,
      "metadata": {
        "id": "Y5ZH5_fJm1rF"
      },
      "outputs": [],
      "source": [
        "from sklearn.base import BaseEstimator, TransformerMixin\n",
        "\n",
        "class CatTransformer(BaseEstimator, TransformerMixin):\n",
        "    \"\"\"\n",
        "    REPLACEMENT OF NAN FOR ALL CATAGORICAL FEATURES\n",
        "    for Gender, fills with mode from training set\n",
        "    for Cyp2C9 genotypes, fills with mode from training set as there is a most common class by far\n",
        "    for VKORC1 genotype, many more are unknown, and there is not a most common class, so fills with \"unknown\", thus creating a new catagory\n",
        "    for Diabetes phenotype, fills with mode--assumes no diabetes\n",
        "    for Amiodarone (Cordarone) drug, fills with mode from training set as there is a most common class by far\n",
        "    for Simvastatin (Zocor), fills with mode from training set as there is a most common class by far\n",
        "    for Race, fills nan with \"unknown\" and converts all classes to upper so that the several groups labelled \"other\" are grouped together\n",
        "    for Race, only a few were missing--replacement of nan with Mode\n",
        "    for Race, due to there already being a catagory for \"Black or African American\", the catagories \"Black\" and \"African American\" were grouped together under \"Black or African American\"\n",
        "    for Age, fills nan with mode from training set--not many Age values are missing. Even though there is not a most common class by a lot, I think this is best\n",
        "    \"\"\"\n",
        "    def __init__(self): # no *args or **kwargs\n",
        "      pass\n",
        "    def fit(self, X, y=None):\n",
        "      self.mode_Gen = X['Gender'].mode()[0]\n",
        "      self.mode_Cyp = X['Cyp2C9 genotypes'].mode()[0]\n",
        "      self.mode_Amio = X['Amiodarone (Cordarone)'].mode()[0]\n",
        "      self.mode_Simv = X['Simvastatin (Zocor)'].mode()[0]\n",
        "      self.mode_Diab = X['Diabetes'].mode()[0]\n",
        "      self.mode_Age = X['Age'].mode()[0]\n",
        "      return self\n",
        "    def transform(self, X):\n",
        "      X['Cyp2C9 genotypes']=X['Cyp2C9 genotypes'].fillna(self.mode_Cyp)\n",
        "      X['VKORC1 genotype: -1639 G>A (3673); chr16:31015190; rs9923231; C/T']=X['VKORC1 genotype: -1639 G>A (3673); chr16:31015190; rs9923231; C/T'].fillna(\"Unknown\")\n",
        "      X['Amiodarone (Cordarone)']=X['Amiodarone (Cordarone)'].fillna(self.mode_Amio)\n",
        "      X['Simvastatin (Zocor)']=X['Simvastatin (Zocor)'].fillna(self.mode_Simv)\n",
        "      X['Diabetes']=X['Diabetes'].fillna(self.mode_Diab)\n",
        "      X['Race (Reported)'] = X['Race (Reported)'].fillna(\"UNSPECIFIED\")\n",
        "      X['Race (Reported)'] = X['Race (Reported)'].str.upper()\n",
        "      X=X.replace({'Race (Reported)': {'AFRICAN-AMERICAN': 'BLACK OR AFRICAN AMERICAN', 'BLACK': 'BLACK OR AFRICAN AMERICAN'}})\n",
        "      X['Age']=X['Age'].fillna(self.mode_Age)\n",
        "      X['Gender']=X['Gender'].fillna(self.mode_Gen)\n",
        "      return X"
      ]
    },
    {
      "cell_type": "markdown",
      "metadata": {
        "id": "u1rmeiAqnAZ4"
      },
      "source": [
        "##### creating a custom transformer to handle the transformation of height nan variables based on gender-depenedent median"
      ]
    },
    {
      "cell_type": "code",
      "execution_count": null,
      "metadata": {
        "id": "ISZ_SbfRm_s6"
      },
      "outputs": [],
      "source": [
        "from sklearn.base import BaseEstimator, TransformerMixin\n",
        "\n",
        "class GenderTransformer(BaseEstimator, TransformerMixin):\n",
        "    \"\"\"\n",
        "    replaces missing Height variables by median for the associated gender\n",
        "    replaces missing Weight variables by median for the associated gender\n",
        "    \"\"\"\n",
        "    def __init__(self): # no *args or **kwargs\n",
        "      pass\n",
        "    def fit(self, X, y=None):\n",
        "      self.medians_height = X.groupby(['Gender'])[\"Height (cm)\"].median()\n",
        "      self.medians_weight = X.groupby(['Gender'])[\"Weight (kg)\"].median()\n",
        "      return self\n",
        "    def transform(self, X):\n",
        "      X = X.set_index(['Gender'])\n",
        "      X[\"Height (cm)\"] = X[\"Height (cm)\"].fillna(self.medians_height)\n",
        "      X[\"Weight (kg)\"] = X[\"Weight (kg)\"].fillna(self.medians_weight)\n",
        "      X = X.reset_index()\n",
        "      return X"
      ]
    },
    {
      "cell_type": "markdown",
      "metadata": {
        "id": "gyJP0_mInGrt"
      },
      "source": [
        "##### creating a custom transformer to add extra attributes (BMI, BSA):"
      ]
    },
    {
      "cell_type": "code",
      "execution_count": null,
      "metadata": {
        "id": "jqClyNyhm7qJ"
      },
      "outputs": [],
      "source": [
        "from sklearn.base import BaseEstimator, TransformerMixin\n",
        "\n",
        "# column index\n",
        "col_names = [\"Height (cm)\", \"Weight (kg)\"]\n",
        "weight_ix, height_ix = [0, 1] # get the column indices; they are 0 and 1\n",
        "class CombinedAttributesAdder(BaseEstimator, TransformerMixin):\n",
        "    \"\"\"\n",
        "    adds the variables for BSA (body surface area) to the data\n",
        "    def transform returns numpy array\n",
        "    Body Surface Area (as calculated from the DuBois and DuBois formula)\n",
        "    reference: https://www.uptodate.com/contents/image?imageKey=ONC%2F96451&topicKey=ONC%2F83810&search=Pharmacogenomics&rank=3~18&source=see_link\n",
        "    \"\"\"\n",
        "    def __init__(self): # no *args or **kwargs\n",
        "        pass\n",
        "    def fit(self, X, y=None):\n",
        "        return self  # nothing else to do\n",
        "    def transform(self, X):\n",
        "      # BMI = X[:, weight_ix] / ((X[:, height_ix]/100)**2)\n",
        "      BSA = ((0.007184*(X[:, weight_ix])**0.425)) * ((X[:, height_ix])**0.725)\n",
        "      return np.c_[X, BSA]\n"
      ]
    },
    {
      "cell_type": "markdown",
      "metadata": {
        "id": "Nx06QyvNneMA"
      },
      "source": [
        "#### Working Transformer Pipelines"
      ]
    },
    {
      "cell_type": "markdown",
      "metadata": {
        "id": "KN6_l36Nng4k"
      },
      "source": [
        "##### pipeline for dealing with missing height and weight values"
      ]
    },
    {
      "cell_type": "code",
      "execution_count": null,
      "metadata": {
        "id": "wbQvR8MDnfHK"
      },
      "outputs": [],
      "source": [
        "from sklearn.pipeline import Pipeline\n",
        "from sklearn.preprocessing import StandardScaler\n",
        "\n",
        "gender_pipeline = Pipeline([\n",
        "        ('gender_transformer', GenderTransformer()),\n",
        "    ])"
      ]
    },
    {
      "cell_type": "markdown",
      "metadata": {
        "id": "Ft1K1xdGnsyD"
      },
      "source": [
        "##### pipeline for dealing with catagorical data nan values"
      ]
    },
    {
      "cell_type": "code",
      "execution_count": null,
      "metadata": {
        "id": "Gy8oiCuintbf"
      },
      "outputs": [],
      "source": [
        "from sklearn.pipeline import Pipeline\n",
        "from sklearn.preprocessing import StandardScaler\n",
        "\n",
        "cat_pipeline = Pipeline([\n",
        "        ('catagorical_transformer',  CatTransformer()),\n",
        "    ])\n"
      ]
    },
    {
      "cell_type": "markdown",
      "metadata": {
        "id": "Tpa8e0Qbn2Gh"
      },
      "source": [
        "##### pipeline for dealing with numerical data: height, weight, INR\n",
        "##### uses CombinedAttributeAdder class for the addition of BSA (or BMI)\n",
        "##### uses SimpleImputer to replace any remaining Nan values with the median for that feature\n",
        "##### uses StandardScaler for scaling"
      ]
    },
    {
      "cell_type": "code",
      "execution_count": null,
      "metadata": {
        "id": "1Z6x-pRRn2tE"
      },
      "outputs": [],
      "source": [
        "from sklearn.pipeline import Pipeline\n",
        "from sklearn.preprocessing import StandardScaler\n",
        "\n",
        "num_pipeline = Pipeline([\n",
        "        ('imputer', SimpleImputer(strategy=\"median\")),\n",
        "        ('attribs_adder', CombinedAttributesAdder()),\n",
        "        ('std_scaler', StandardScaler()),\n",
        "    ])"
      ]
    },
    {
      "cell_type": "markdown",
      "metadata": {
        "id": "4IJt-FYTn7sT"
      },
      "source": [
        "##### full pipuline using ColumnTransformer\n",
        "##### Adds Attributes (from num_pipeline), Scales and imputes numerical data (from num_pipeline), Uses ordinal encoder for Ordinal Catagorical Data (Age), Uses 1Hot Encoder for non-ordinal Catagorical Data"
      ]
    },
    {
      "cell_type": "code",
      "execution_count": null,
      "metadata": {
        "id": "44bp0T61n9PD"
      },
      "outputs": [],
      "source": [
        "from sklearn.compose import ColumnTransformer\n",
        "from sklearn.preprocessing import OrdinalEncoder\n",
        "\n",
        "num_attribs = ['Height (cm)', 'Weight (kg)', 'INR on Reported Therapeutic Dose of Warfarin']\n",
        "cat_attribs_ordinal = ['Age', 'Gender', 'Diabetes', 'Simvastatin (Zocor)', 'Amiodarone (Cordarone)']\n",
        "cat_attribs_1hot = [\"Race (Reported)\",\n",
        "                    'Cyp2C9 genotypes', 'VKORC1 genotype: -1639 G>A (3673); chr16:31015190; rs9923231; C/T']\n",
        "\"\"\"\n",
        "Pipeline using column transformer\n",
        "Adds BSA attribute (from num_pipeline)\n",
        "imputes remaining nan numerical data using median (from num_pipeline)\n",
        "scales numerical data using StandardScaler (from num_pipeline)\n",
        "Uses ordinal encoder for Ordinal Catagorical Data (Age) and Binary Catagorical Data (gender, diabetes, simvastatin, amiodorone)--see cat_attrib_ordinal\n",
        "Uses 1Hot Encoder for non-ordinal Catagorical Data--see cat_attribs_1hot\n",
        "\"\"\"\n",
        "scale_encode_pipeline = ColumnTransformer([\n",
        "        (\"num\", num_pipeline, num_attribs),\n",
        "        ('cat_ord', OrdinalEncoder(), cat_attribs_ordinal),\n",
        "        (\"cat_1hot\", OneHotEncoder(sparse=False, handle_unknown='ignore'), cat_attribs_1hot),\n",
        "    ]) #input list of (name, transformer, columns) tuples specifying the transformer objects to be applied to subsets of the data."
      ]
    },
    {
      "cell_type": "markdown",
      "metadata": {
        "id": "4l4D1gYRoG_7"
      },
      "source": [
        "## Full PreProcess Function to incorporate all pipelines\n",
        "##### contains \"full_preprocess_function()\""
      ]
    },
    {
      "cell_type": "code",
      "execution_count": null,
      "metadata": {
        "id": "6PsTlqRSoHoJ"
      },
      "outputs": [],
      "source": [
        "def series_to_df(data_series):\n",
        "  \"\"\"\n",
        "  function to help with processing new data (potentially useful for Gradio implementation)\n",
        "  input: Series with dimensions (12,)\n",
        "  output: pandas dataframe with features as column names; can now be sent through full_preprocess_function\n",
        "  \"\"\"\n",
        "  data_df = data_series.to_frame()\n",
        "  data_df = data_df.transpose()\n",
        "  return data_df"
      ]
    },
    {
      "cell_type": "code",
      "execution_count": null,
      "metadata": {
        "id": "MV6MoSPPoKQn"
      },
      "outputs": [],
      "source": [
        "def full_preprocess_function(data_df, train=False):\n",
        "  \"\"\"\n",
        "  INPUT: program expects the equivalent of an instance (or multiple instances) from the non pre-processed dataset (without the label) in the form of a pandas_df\n",
        "\n",
        "        --input should have the following 12 features as column names: Gender, Race (Reported), Age, Height (cm), Weight (kg), Diabetes, Simvastatin (Zocor), Amiodarone (Cordarone),\n",
        "        Target INR, INR on Reported Therapeutic Dose of Warfarin,\n",
        "        Cyp2C9 genotypes, VKORC1 genotype: -1639 G>A (3673); chr16:31015190; rs9923231; C/T\n",
        "        --input should either contain a value for each feature of Nan\n",
        "\n",
        "  program will remove the Target INR column from dataset as there were too few values and it was multicollinearly related to INR Reported\n",
        "  if train==True, function will send training data to pre-processing be fit and transformed\n",
        "\n",
        "  else, function will send new data to pre-processing to be transformed (not fit)\n",
        "  OUTPUT: function returns pandas df of features, including feature names as column names\n",
        "  Note for encoded variables:\n",
        "  Gender: 0=female, 1=male;\n",
        "  Diabetes: 0=no, 1=yes;\n",
        "  Simvastatin: 0=no, 1=yes;\n",
        "  Amiodorone: 0=no, 1=yes;\n",
        "  Age: {0: '10 - 19', 1:'20 - 29', 2:'30 - 39', 3:'40 - 49', 4:'50 - 59', 5:'60 - 69', 6:'70 - 79', 7:'80 - 89', 8:'90+'}\n",
        "  \"\"\"\n",
        "  if isinstance(data_df, pd.Series) and data_df.shape == (12,):\n",
        "    raise TypeError(\"Expects pd.DataFrame; Send your data through the series_to_df() function for conversion to proper format\")\n",
        "  if not isinstance(data_df, pd.DataFrame):\n",
        "    raise TypeError(\"Expects pd.DataFrame; See full_preprocess function documentation for input expectations\")\n",
        "  # prepared_feature_names = ['Height (cm)', 'Weight (kg)', 'INR (Reported)', 'BSA (m**2)', 'Age', 'Gender', 'Diabetes', 'Simvastatin', 'Amiodorone',\n",
        "  #                  'ASIAN', 'BLACK OR AFRICAN AMERICAN', 'CAUCASIAN', 'CHINESE', 'HAN CHINESE', 'HISPANIC', 'INDIAN', 'INTERMEDIATE', 'JAPANESE', 'KOREAN', 'MALAY', 'OTHER','OTHER MIXED RACE', 'UNSPECIFIED', 'WHITE',\n",
        "  #                  '*1/*1', '*1/*11', '*1/*13', '*1/*14', '*1/*2', '*1/*3', '*1/*5', '*1/*6', '*2/*2', '*2/*3', '*3/*3',\n",
        "  #                  'A/A', 'A/G', 'G/G', 'Unknown']\n",
        "  data_df.drop(['Target INR'], axis=1, inplace=True) # remove Target INR due to too few values and collinearity with INR Reported\n",
        "  if train==True:\n",
        "    data_cat_tr = cat_pipeline.fit_transform(data_df)\n",
        "    data_height_tr = gender_pipeline.fit_transform(data_cat_tr)\n",
        "    data_prepared = scale_encode_pipeline.fit_transform(data_height_tr)\n",
        "  else:\n",
        "    data_cat_tr = cat_pipeline.transform(data_df)\n",
        "    data_height_tr = gender_pipeline.transform(data_cat_tr )\n",
        "    data_prepared = scale_encode_pipeline.transform(data_height_tr)\n",
        "  data_prepared_df =  pd.DataFrame(data_prepared)\n",
        "  # data_prepared_df.drop(['Weight (kg)'], axis=1, inplace=True) # removing weight to address multicollinearity\n",
        "  return data_prepared_df"
      ]
    },
    {
      "cell_type": "markdown",
      "metadata": {
        "id": "CKA3E046oRnj"
      },
      "source": [
        "##### Example test input for full_preprocess_function()\n",
        "![example_input.PNG](data:image/png;base64,iVBORw0KGgoAAAANSUhEUgAABwMAAACBCAYAAAAsaxXvAAAAAXNSR0IArs4c6QAAAARnQU1BAACxjwv8YQUAAAAJcEhZcwAAFiUAABYlAUlSJPAAAEysSURBVHhe7b2/axzX3sD9/ivqFlQYXBhSxJXFW0SkiEgjCEHgQhCIIBDEBSMSjHAjXBgRMOJCEOIGEQisIaDCIHjN3VsEpTBykUfmwciFeVQEtjB3C8F5z6/vzJkzZ36svLJ2Zz8f+Nwbr2Znds6c39+ZM//Pf//7X4WIiIiIiIiIiIiIiIiIs+nJyYn63//9X/V///d/ajgcqhCCgYiIiIiIiIiIiIiIiIgzbG0w0P8/AAAAAAAAAAAAAAAAAMwgBAMBAAAAAAAAAAAAAAAAOgrBQAAAAAAAAAAAAAAAAICOQjAQAAAAAAAAAAAAAAAAoKMQDAQAAAAAAAAAAAAAAADoKAQDAQAAAAAAAAAAAAAAADoKwUAAAAAAAAAAAAAAAACAjkIwEAAAAAAAAAAAAAAAAKCjEAwEAAAAAAAAAAAAAAAA6CgEAwEAAAAAAAAAAAAAAAA6CsFAAAAAAAAAAAAAAAAAgI5CMBAAAAAAAAAAAAAAAACgoxAMBAAAAAAAAAAAAAAAAOgoBAMBAAAAAAAAAAAAAAAAOgrBQAAAAAAAAAAAAAAAAICOQjAQAAAAAAAAAAAAAAAAoKMQDAQAAAAAAAAAAAAAAADoKAQDAQAAAAAAAAAAAAAAADoKwUAAAAAAAAAAAAAAAACAjkIwEAAAAAAAAAAAAAAAALrL2yO1eX9Hnbz3/542Lodq8GhVbQ+KgbpJQTAQAAAAAAAAAAAAAAAAusn7E7V9b0Et3F5X/bf+s2lD/8adz3pqYWFJbf8x8h9ODoKBANfEySNduSwE3l5Sqw8O1dm03nkA14RuaGweWFOH7/xHmotf12y+WPv1wn/SktGJ2jWNgmm4gv21Q37Ltv6vOkbq7PcdtfHlxhWOMQX8sW3TdvsP/+8AWy5XD9W5/3crSHOYUYav+mp7fUndsnnwllpa31WDRP66eLaut+mp5ScnOidOM0N1crCl1u/tNpSnekavj9TOdytq47ea+vddX63fXlC9z/SxpjtRusvrfbVs8672wfGV8+Zk8/eFOlwzv6nYpsNVkPaxwkcfUsqvj1b1x6zg+0tlJX/n16j3wyAvP/57tg/77lCtZd8z9tSdz9bV7mAa06ec527dW1Vbv55Ncdt3Df1Due5ty1hlPnG6/nbb/m7XaNcvmZ1+Voe4HKrTZ9v62txyeXXxjlp7MlAXl/7vE2L46lBtfXlH9fwxVlLzPe8Gak+3G3cWXZm59cWWOvwryAn677vry/7vug79Mvo7TC+Xuu6z163cLwzne2RuMJufuDxT+1+Yz+6q7YG/1ibP/rqlVj4xAQDd7n6i+xoHJ2ooebZte3t5oQZPN7L9LNxeKbRzo4szNfjVtCs+364d6t7tjPP3idp/sK6WdB3beS5H6vxl352vHqsW8lWIzk9nz/fUxlcyF6AN2v3ifLWpdzbUXpSXLl7sqvXPGuq3Fly8iH6Hcex8N1LHD+T7y2r/tf94bC5U/74uG4u6zMaBwKi/Y8vg00S78e5EHT5aV8tSxoLyX4oDBGZzv22PI0HLxQ119Lf/bEIQDAS4Jqoqgd63R3rYAPODDI6LHcTpDgbO+GSnb1zLnSLT8OvzGrfjQZrDLPJqVy3ZvBeZyP+zM0nVtjzV06r+JRh445z9vKyv07pa/8Zc8y11fMXrQDBwWpHyXOGUBgOv3H+bRiqDPJK/w2u0ovbf2G9l37NpUJqcFJfU7iu//dRQled6auP3aR2dXUOdI9edYOAEaHfeBAM/NiN18mipkE+L+XUyDJ9vuknyyMJ8z1tdR/ogYEHpj+v+ZvLv1zD5C9fDySMXECj2C6Tudm1nHAyUvsSSroddnVCdZ5ce+23atLeX5+rQBDpK2/g25PJU7X7qP1vsdScYOG67NsMMdXvirqm+fr7uSM17HX2fyE+VwUAx7+td/LbWXL81Up2vC/nuzaHa+Ha/PtA4OlZb+nvL36zbm0WXfz7zfxiP0fGWPa+1XxKPB1T0d1YO8m1Hr/bUSqnOzvtotcFAuZGwxXGE0WBb3dV/u5vVFZOBYCDANRE3+KPX+77xnrdB0rwjg8TiIP5mJpPaDtRnfLJTD7pWTdkb+H9n+PP6qB3eOUlzmDpOf7pr65iNZxdq5O8yG70ZqN1H/Y+Y/yfNZCYbOzWZ31l8nagHnOe/b+jr1ZvoBN7Voa6+FmSCawYmpLpZf1TVrf5zP2F498mp+9hPYhSCgXLtLofq+KFrf6YvjaLzvBypswN3Pad3AvEa6pwPmDStzv+TaZ9nj3k97+lm9MJN9i4srqidF+euH2yfktlR+3+6bSaCCbz8Y1sdv/VTtG/i+Z5z//TXglr6/lCd+uDe6O2J2n96ZOvM819W3d8fDdwTYPp3njxZsZ+lJoZh+sjyWxgkGR6pDfPZ5/vKhCwKc4N/67+ZYMI9nU8k+PFq1074L9zbUse+rh++0vnJBh3WVd/knRbt7fmByzsL9zbV4Uv/a0bn6uRgTx35/Z4+XVNbByfq4s3s9L0amaNgoMk/m/d31fFr8045kz/KwcAsT+r81NfbNaLz0tEDF0Ref2ZrJnW4ava9pLZf+O8PT9Surc+Cm8OakJuTw7q4xEjnyRX7e3uf6fq0KjPqa9xbuKt2X/mA9pXyra+TF7eUPJBbx/DIp+M3Mn8idXpPrf10os7bROdGup9gfm/NDR7l44TIMfX3W1zKthAMBLgm4mDg8OWea2w/3VV+KJ0NqDJTS4leXtjlR1ZliQtrccAx+itYnkKWghu/ZoRrQQaJDcFAs5zDk/xRf/OoeHHZItmPmJgUMIOHg2BJiFDbMfL7WN1Xx8+21Io9Vk/dub+nTm2ei48ROkMTn76j7NLWdRZW7Z0/fkJFOomkOXQYGQyaTnXVIKDUBkUDKNuOrW6r3X8s6/bF3NF+rI4fm/9eULdMZ3U0UFtmkBp3qP2de7a9053+Vm3d8FQdPljNyqPTt3WVd8Ia8/aw6Ti1d+pJXVw6VrG9zeqRtX01MGXal32z5NPRtL5zYBYJ63F/g0cvy5+u3lx9uKs2zVPbi8tq9/jYv1fhlh/ENudvi813+dJdrh04zZdk0lwMwqVt5C7cvH5uk79d3tN56fJcHdnyZI61ofaDZcDsUjxZXy9e1rdlvmts16aUeIIrYCLp29hWG0bqLFieyxxnPVhSrlX9MbNIXySu7/zna7tq1zyhKxMZdcHAkb4GD/zNKOM8bRfl3Tj9s9/y8EidPJXtwv5UG6Lz1Pni9J8uf939SUZnmqZy5M9/++hE7clS3NEybM3nI3mqKt/Kb00Z9g/r863l/ZnqB8tZ9Rb9tqk6sQEpj+U8739vZX/X0TRmdfs352cmB1eztN0OZgfjstj7ZLlwzrKP/Rf97Fi9T9aipfQa0i1VJ4WTzaW+Qmhejkr1VyrNdV5pGuvDeAweunRc/mf6yRHpI8fBttMnpu6SJ4VTdc6thmXyojrG918WFjbVccV35Oa9lX+e5jfv/eEn0B+W7myFaUTGPcEqFubpI5sH/dNLUm+Zd38NbABvSe38mbUYfjWMct0qeXnL7LixvZUAzoLafJ7vu5KavlcjE+hXpctYud2o6x+X6thQ8zuqxqp/99W62ebebjBW/cB2Q/Cry5ix8nn8twmT5yv/gUWW0xzjRsrRmX+idEnt/WU+kCdIV9TeK59wlyN18pN7yq98032arH5rcWPD+e+brt67vV4YHwn2CdxF02eScnGFubKLvsvzbepWc8PYL+7pyKWnvi2RV1iMUWYkjy6F/cyQ1HEiZB+2Hoi5Yn4jGAhwTSQnDRaX1U7w8s+qxiuf8Bqqo28TDWw4QNAV0krp79p7OyxtNhXUDealw2ca7NR17uWPkpf2U278hkduqZI1aWz93Ym97+Uuterf4hrout96hcb2pvAdW5u20mDbO/XCYCBpDh0ne+m0z0+3zVr0x+os6OuV2qBokirZjmW6tfrdxElx0leWL1l/5j5r19aV/561dVeddPPKcerOJxt8l44VtLcWeUqjbOGdWvBBDO3TgObuT/MvPyDNbqaqqze1/i7spvxt7tTcMe9hCLfxyoDN/A5Tx5e3yevn5vwteW9NbcZL9nyxr0xLULUUT34XaZt816Zdm1JqJqQmkb7NbbWZiPN300fK8lyt6o+ZRcpUXN/5z/V1OfN3mdu+SyoYGDnepIR/f0tiP/lyVE39qTak99H7TI+ZsonHFuVIgkKJbbZemNzS5nwkT1Xl27p6Lq9/mvKtXRKuop4r1YktkPJYzvMtrk+LMavbf09tfB/VvcFEblVZlN9UVWeETzM0pluqTrqWYGCLsT6MSd5eVk6ESyDAtxEWCRr44EBdnq7q78nyc9lybpJnaiaOR3ob+0RYyjEmnOEmKQdf3NKh+XvNpN7a/skFeuPAQPb3KM8W6tzG9lbybMs5hJq+VxOT6FfVlTFpN5r6x9X1vdbXtxLkd+2zw90QkC8RPpF2w5Pva4wn6K5IOt9IHbiq9n7bU2s+eHnrXvn9ksX2dEltZTfemOU93Rg/Zbt+r4zvy+XAmsh3o7/2bWCr+FsMfizo+1BunDjmTWeGsP9aRdTHW/rhOA/4yt9+2Ff9ByvuhqW6dylmwejEU4F1x4mp+d1XzW8EAwGuiWLFagxeDlzB6OVe8U6DcLmAN6nvjtTgB1O564bsmSyBca72mzrA8BGpG8z7Cl13nuzg+ItddeIbieELPzAoNZLSuCcCU75RXJfJisrAVE+t/OReRj16vul+S2FwWn2M2cCdp0lb0ziuPd1TG/ZOvRO1oxvjnu6wkeYwF5gXjL/YV1v35S587e3N6s5oNEnl2jHXdrk7Vnu6XJ2rc9/ptG2MDCT1QNTl+eblN0ptnf5f+z5PU04eHqrB63xp0yJSntpNkpWP45BOc/1ApupYUlZ1p/17P/j+K30cuCp+8Ojv/jS4SRUJDvpr8+m2Grw/U/ufm2113fn23F+b6JpV5G+pv3v39QDO59XhH7uubVjc0fvw+9bH3TqSpW2a6+pUvsv6hPp32rtdLwdq2z5haNomufs2WIpndK7637nBuwtAtMh3Y7VrU8YYE1Ljp2+LtjoYrPcrl3tztKs/Zo2q+s5/btPa1+263J0cB5MSqclJvf04dyfn4x1dpn3eHb3tu2XUdFnr26SW39jUn6pD9hFo6xH/Z0ObciR1ihmf+fxyHi432up8mvOto6bOaZFv5emUhbW9bInCqjqxDdX5v+n6tBuz5pNafiJQb+POP59MjBn+XswHso/e/X13zpdD/ySO/91tynuqTkqmW1XZiahK88axPoxP3l5Wz4XIRLf0K4J2wt/Ill9bnRef+zxb0S5YzJKLJl+FSz/KdQ/zUYLz59vZk0/mif/+gS+3PBk4M0j+sU+ZX+q8Y/JCsCKY1Pdr9/0TQJMKBhbaW8mzLecTxuh7xUymX9XUbrTpH3vq2jU5z+xmnOAmQ592E2k3hA9+MlDSJbDiGqXzTV4Hli0GjLJ+iLi4nKe1bn+PH4VPRffV/g9uu3ZPBsrvWNVjNPdJ4XhV+e71nuuH6WNm8+e+rcz6HqVr2hKfT8p9mADJS5k9tazrYnuc0t9yUzeJyFPoyacC644T4883+bt5MhBguihUzNI5NAPosIZ4N1B738XLoml9xWjuhDH/rr7jta6ir+sAw8cj3SkrdOxqGpVyI1kzKTA8Vlt3eurOJ34ZBXOXynf76iSr2+W3BB0WOXah41RzjJnAnefqL6fq6FszyDMTuuZOvYH9nDSHueRvnf/90wGljmQyT0o75vKuq7Nc/pT6y7UxMsHnBxd6YGQ68Nm7pQwNbZ3lYqB2Zbk1a2oppkR5CmlzHE2h/q2k6liJsvoBg2lIkC23VNYtt+Svjc2v/nrYtJdrE12zqvz92E0mbL3wH1jC657KA6nr35zvpE+4knrZvSxZ82XwhIKmmE9b5Lux2rUpo64MfWj6Gpraajl+0mJ+ald/zBpV9Z3/3Kd19tT3N+7/bRqE185Mnj1yT7mNkz7p8U6c5xO/saJsV1Pcx7lflil7isfQphyljht81u58WuRbS6LsCy3ybTK/jp1uOdX5v+n6yHmklTGr7L/34Lg0qSYMX/XV9vpytrxzpj+f1G8sfNamvKfqpGS6VZWdiIo0bx7rw/jkq03IEo1JCv3VoeqbpZCD4ED62qav9+jlrlox+dEEdcOiIcHeQoC/Galra38/TBfhOwL9dQ+Xn87nBuXJ8SX933mmqFom1N0Mp79ngi+N7a0EzyqWE4xJ1XNtmUi/qqHdaNU/9tS2azJW9e9e1OXVXJ888D+hdmNiSLoEVlyjPF/5DyzS3vbUymO/jKnOL7XvczY3ED/fcst0BkHsIr6erLk5J0bGWmFaZ+eXOKeqJwOlfJQdr26VfJJMgwSjNzqf2/kTf+OI5DPzTs5X7pxGryuCwu/1d20AWf/G1FODAaXjxPy5457Ebfm720AwEOCaiCtmWUot6+zLHUN3/B2ppgI+3i7e7ewLffXdgtLZDe9ah+lCGvPiIL7QuZCBgrlr96KpNaueFHB3nmyqo8p9NHS4MuQYy2ov1RhNPe4JwIVv1tW6f7LErFd+98muPX/SHLqPHmj+Y1PtvzhTWdY0d1LaDrwuA+GdlIaKAZRrx1zedXWWKwNSf2UDDz+oMpMWrq3zgy1Dm7YuRP/94vWx2vnSDR4K73HKypMuc8U+61jHkd+//DQ91HEkyq4lUR98yGAaSmRPsqQMl8+z+dVfD5v2cm2ia1aRv2UStvBk4IvtYCDs2xJ9reUu2osXO27CT65/y3yXHqwLcpzwzmd5d4csgdMi343Vrk0ZVWVoIunboq2WSbxPt9RRw9M57eqPWaOqvvOfS1qP9L/9RKPR9qfiayfL79U8HV4iG+/o6+zbjtFrvV9bLjZ8fZ/4jRVlu5poH2YJTXs+wZ3ybcpRfFzdvh7/4CZlbZvV6nya862jpn/YIt9KPXfX3G1uxonmPamyLGnrdMspjF8KNF2fdmPW6v17JL/d122B2cfoQp0duMCJnE9pH3+fqv2wPm1T3uU4Mon37lhty9LrhXST8070S0Kq8mrjWB+uggTTFhZX1O4ffrWJy6E6/XVT7f3ptjF50vaLzTV+6QKDxXwX1xe6/UlMlp8/M++56qnlfySeysjqGPdUv9zgNno7ULuP+sX2zmD6wC8P1aadFL7+JQZhkuT9tK0HJnBxV+2+9H/SFOr7t75+CZ9M13VE3G4MX+27dkPa0xbtrcw5mmBFX967ptuowZNt1Y/mMSr7Xi2YTL+qqd1o0z/2yPfMk4mp9sWPVVd+PtXttf5+9JDGRNoN4cbfGWg+N79d9xte+t96edH4PmcTiHP5MhEMfH9h609b/4XLKzcw8kvM2xUQXspx/XWP8t2FHv/Z/ZfeGSgrtaQsLv/aiASYa244KmBWoLHl2gfppMwE+Wz4ai+ZbrKs7Eqbmzri40S4/FnxDsi/j9Smzm/FJe+bIRgIcE2UKuZgUGEb65o737OK8VJXCmZJntI2eYM50oMIW2nWbAM3iXRyioGkYoej+t0iWYdEOjgJZRt5QW/BxTtq7dGx74g0dbgEWbIvtPj7pxvpjGtl6QDpYGtlYpU0h+4SlIHYxeZ3kEl+de2Y+29XZ7k8KfVX3iGVO6pX1Mqn0TIZbdq6rJyULd4tL4PCUF+2Wh3HIZOjoVKm5dxSuvPNB/tZ+fyAwTSUcQPYuP6TgaD53OcXW4f662HTXq6NyRPN+dsMntyyfbH5u8FO/Yvyy/rf1zLfNU36Vx4ne5dWm3zXol2bVqrK0MTSt6mtHqmTxxXXIJq8r6s/Zo7Kfo7kM1/WgrSWJY+M9rxL1y5/z0zrp51q3mtXfreQL7+GZH+qjvI+pM7P260P6B8urrnJ1lbn05xvHXX9wxb5trKe07ZOt5zi+CWk+fq0GbNW798j7wJP6Y9T2Y5n9Wmb8p4Hcaq3MdT0S/S1a2yHWoz14QroMrgXvjc7sFDefICgt6i3DQIqDsnTsXkf4eLZeja+jJU8bN6tlq96EZjVmanj9NRy9B4ymH4KdU+w1L0hru8lUNC7L0HhqrbHvaLB0qa99YGB8n6k3WhRL7VgMv2q5najuX/skRsrQgt1tQT/e3a7uH8ymXbDke8r6LNPksq+W9B2vnLvpixtky1jXJUPgvyWOs7istoJnmhtxCz1XdGnCvPx6dMVe116n20Xn642+HwfvivcMPI3j8af15O/ziT1tF5VPjA3jrp8bW5saiinhoanApuPE5LfuJK6yc60Q/L9yr5TAoKBANdEeYAnj6fnjc/571tqJXih6/azPbVpCnIw6DZ3CfQfratlv52z2FBfDPbUxpfBO6ES28BNIZ2cYmdAGoCswvbXOV4GK/t7m0Zf7jJL6PJcc4cr4+2R2irkqWvqzFwLeecmS5tgQjErk6Q5dJl3J2r/QbC03u0ltfrdnsrfG948GHTtmPtvV2e5PCn1Vzihkt35F90Ja2hu68oTIW6709LdneZ9YfJeFWdetlq1qQY9MDl6sFJYYkzKdFXn3OjOV9ItKJ9VgQwYH3kSzCyz5D8S8qVm/j+XX2wd6q+HTXu5NiZPNOdvy5tjtZ0tT9tTdz5bV7svgquo80r4gvi1JwN18kteFgxt8l3jpP/lUJ0cbGT7seX1waE6zcZmLfNdU7s2rdSUoYmkb2Nbrbm8UIOnwTUQ47a6pv6YOSr7OZLPfN0cXhd5EkFrzzt17fzye1UTF0mGus36Lk/XW/dW1davYRswRn+qksQ+5D1A4VM4bfuHflLR1A0rpn2VsmloPJ8W+Vao6x+2yLfDP/fUmpShL7bU4V+63ou2aUtp/JLR7vo0jVmr9y+YSUO5NrrO/nJD7f2yo1aD48g+eibAYz7X9en6o35Qn2papJvpb7h0M8fR6fbc3/0fpVt1v6RlO9RirA9XILrGvU9WSmVQtzBZMDYODuR5WpdzW459fgv6CHV9xjAPu6Vtpa9xSy2t7wb1hRxHq+uS5fUttR/2Q2B2kLZPGwcoSvV9dtNIEESI2h7T5yn0Sdu2t8PTmv20rJeamEi/qkW70dg/FsK2wRvX1dlTauW+yaTaDct1PxlY2XeL6p0/9/P2Vvop2Z+jfJCqe4Lj9D5ZVusP9ov9nLb4dFvN2kldB36u+/O/n+mr5nlzqDa+1WO/msBZaelbecrPPJE3Rjqb912aNFlJPLFXrNPduHDrwC+1KhTepejK1/az4Fw0EsROHcPQ6jiekb4O5qaVwitYQt7rcuRvQOs9jvJiDQQD6/CVaLFj1qLD/kEkBvsAM8tIHT+QstN+bWm4CmdqzzYCuu7wL+g1yEv1x2kYoC0zkualDqPugH2lB7N5bzBndKJ2zZ20t9fLS4k0Msn2y3T8t9T6vd32gxIAAIAS9I9gwsSTlTBVyCRbdUARwDF63XdLciZvXEgEKgBAM4P9KhNU/Mk9fVYO/NNuzBXZ04rF93ZOJRLo021U3XsHz39Ztfm3agnYFAQDqzB3OgR3fIYSDARoiX8aa/mbdbukCy/Bvk5kOZt11X/rGzXd6XEvll5Kv4gWPpAZSfPKu8ei5QwMUxMMZAAOAACTgP4RTBiCgVMNk7rQRPxURumJEwtjEYA0s9SvknLs/WJfnSWevqLdmDPeHfkbQYoB7ani/Zl/b2VD0PLvgQ0YppcYrYZgYJJ8Hdil7w/VqX+B68eBYCB0CD1Y7tmXoPoOQ2L5J5ggdrmz5XzpKvu4/3b+8miYPLOQ5vGkle6sn/68VrlMxtUhGAgAAFMI/SOYJAQDpxomdaEJySN2+cTUSikWxiIAlcxMv8qXY/37Vh4cJpehNNBuzCFv+5VLk04Flxfq+OFazTsa3dybWQJ742l6idE6CAamGB6pDVthNE2SjtTZr/l7LOy6wk+Ci+AHCttHJ2pP1gjXldDa09PCerJ27fyv8veVuDXJw8nUhuNIBWcGJG+P1KZ9WXJP3ZnmjA1zwckjnRf9y5MHD+N8rSm8qyc02O5ioHbD9/mYdzYweQPQnuSklQTuTLDe/Du6ay4V0JP3FGSa5UbD8ij73FL9Pw/V1hdmXXhdZu/vBuvTa+rKdOkYocFg3Kw9/yRfq929B6S4Vvvwlf4NWdvqZeIOAAAAAAAAAADmEIKBKV7t2hc0Ljw4dhOL0eSkLBN69vNKPsEYuPT4xH1PJmBL5i8ol5dXlrfJJ2IbjyOTuGub7lHXYJvUesgAHwf/NOC3R8pULSavmzyZr2Ps1xr/dFsNzEdmaYGHd/U2S2rvL7eFen/sX+ofubh2hSUMAeaUijvYiy8yv0ow0OsD/nkwUG5qCfxiX9nWqKlMtwoGmneR+ptjCvbU2m8+6ig39cQSDAQAAAAAAAAAgDmEYGAKmTh9OHD/TgUDRwM3obm4ka+T/Gbfb+cnLGU/iytq90+TuCN1/H2wD3Wm9j83/76rto7O1agwmeonYtscJ5jE7d33TwMOzPKM+jMJaAJ8bHxQPXvUXsqRDw5mwcLPd9RJRTDw/MAFwleenKihKR/ZNjzCD9CaVsFAIWqD6hidqj3bhsm2eTBw7edTV2aHA7Vt3yngtmlfpqVdC54GFHQbuGL+9sWuOvHLeA9fbLubeGQp4ou+q290+7v960CdXdASAgAAAAAAAADA/EIwMIVMIn66q05tgM4h6wjbidM2Ty8kJmDTT2KEk53RRGyrpyRkPytq/7X9AODGOft5Ocqv4paSd3Tbp15v38nWGjfr9m8/z59mlfKSkmAgQEuSwcBztf+FKUvLUbtREww0S3M+3VCr98zyn3lZLAcDw+8WP2tfpmuCgXI+KYP3kl4MdtV6+Ftvl5cSBQAAAAAAAAAAmAcIBiaRSdIFtfTDsTr3M4eFYKAsQfbpljp6UzG12CIYuGODIGvZsqEXL3bUiv/MTqa2OU7dpOkMM3q5q9a+7avzICALFbw5VOvfHE5RWslTryl7auuFzsv+qdflpyf+qdgypz/5J4b+eap4sCfCvB/0/o46uY73gpqnub7yy7dCzqymedwWjc7V4PGKe3pclu/MqA4G2neALtxR26b8akbmnZ/JJwPz7w5f7qs126ZtqCN9bu3LtLRrm/Z7BWQp77U9ddqmYhhdqLPn0rbKOxLh5hjpfLCmNn6b7WXMz39ZV+u/sBT7h9ON/DA1mKetH62qbRpwAAAAAAAAiCAYWMHoj221ZCciy7pA3kidPF5K/j2bcG0MBpqJ0Yp9ZJOpLY7TxWDg20M7gdz77Jom3jvG+W/r6pbOA737UxIQ9E+09oK8bxgdb9m8az+veKfXrS821P5LP8H/ru8DCbHlQMVc8V6XefO+xdvrqv/WfzZBRn/sqGWT7vd0nUL5c8xymlc9Sbe4ovZe+bJWtY3WPbFn3tOX/ns5GFg2e8dt6zItN8uESht3ofr3U+8MDJ4urDyf/J29cDOc/7qmegs9tZy993gGuTxX/W/MU6c9necIYn0IncgP04Ruq3Y+M/Xjkh5rkKIAAAAAAACQQzCwhtFffbW9vpwtYdj7ZFmtfreXvaNIlkxb+SSalBwjGGgnlB6s2EDOwuIdtfZkoE5+MU8gBhOjTcfpWjBwdKJ2zKR7aVJczjP31r3VKV/2bahODrbU+r3diV2bUh7yuAm1BbX006n/5OaQp2i3ZD1QobAEr7l7vSLQvbilBv6rrhwuuTKSOc/BQB8IWdRpcA1BKUFuiOhl73icZ6rTXPL6JJatvbY0jwJjpi1bf3SoTsIyVBk8C87t7ZHa+vKOe6Lw9pLeR1/t2ffgSnnU9d1P62o5WJrTLv37zL8/0NO2TI9e7hWX+QzbuPdnqv9oXS3dDvdRFwy8pZbWt1X/Fbn5Jhn9uWPz+JLuvxRah7ol0YOlX6cK3X87tEHpJZ42vSKV+cEzfBXWFT115/6uGlx3ZpC6I+i7zxxy88rihjqSMcucI211Wd+uZG2GX73C4/rcvn0q1VM6T362rnavPVNCFynlycU7atn0U/5K1YYzxsVA7Rb6eeU+XgpX3lLzGW4OYPU6nsbX/cnDByvZfI8xHmNPgotn5sbdnlp+wo0vU8XfJ2r/gR5P6OsCMB9UrwI0FmblnReHauc7qT8r9jc8U8fRa0bGqmNL8xgrauPpQF2EcwsXZ2rw647akHmK1NhRt0t72W918wLH4Q3CLc6nqi+Zz+2P1PnLvqtT/BxF6Vwvh+r01608PcycypPi+egfo86ebWfzIPacD04K8ylTQ5vzeWf6BBJX0X3nL7fUYdTXGb46zOeZdH9o5cGhOgtjAS3ygRqeBu154jhxP97PZxWO0zZfT4I4ztPwSpvRiy2bPuvPzHxW9U341hbzJwQDYeqw75FbuKu2JRqUUQ4GOntq4/dpneCdfKC2KhhoJyYn0bB/JIZHm7Yyu/twkFd4o1O155cd7DO3ksQ8XWnSbe3al6cbqcFDs6SjLotz/nRBXZpPMhhImkOnuTxzS7B/uq0G8dOvNcHA7KnSacSsYmB+57QGLKeZuvygqVyh47qDdF0IBmpGg227nPLdikDrvNE+GKgNls+uDwaK3BAA41OdJ2f8qd7LU7VrbkYonFO7sWllMNDfTDqZvnbIUB19G91srSUYOEd0pM0HaM9kgoGnT9yrP8xcbK8qaPLuSG2W2oMPCwaKKwe+p2banE/954v6t5j/j8dlfx+pDfsbIxfXVN//5jbn0xQMHOp63n0m+4jPtXrVv/CBjqrVA6dvTNzifKpWhQpuWBw+d/PC8TaFG+Sb8sHwWG02HKeqH9/7IZ+PbpWvJ0F2U3Hxt1Qfz7/KLntohmAgdA3/Hrnye6wMUWDtcqTODnyFPLUduI8YDNTI3QJ3p+DpwCaGv2/Y81h+PMjuchm91hW0vv48jVZF3AhcM2/21YrJv3N9PerTfLLBQA1pDh1F2qes016HPNl0zzxF7j+bSkZq8IPpyPMuynGpzQ/SF9QDsRXdR5B3dw9fH6udg2vu73VmYlDef+7e1woemQiIB8n+uvcWfXl+6T5OBgPlu5dDdWxv4LmOIAV0nVL/cXSujn/wk2rJcfCMIOVkdV+djdl+n/+yqs9/Ww3i7/l9Tr6cyTh9S8WL2cCcQDAQ5o4JPRn4ck+tPdhXJ++qHkiQMdKCWvqhr84mtFLF8MiNHxa+6Wf9uNOna2pLjw8u3qT7eBLgWfrh2D1JFqxQdveJnzdtPJ+83a4MZv59pDbv76rj12b/Zh/RtpcD1+aY1aZe+0bnXd8FKmWu6e++Wvfb7PsVjWSOdGFhXfWnacWPFufj2nWd9o/8nK9O+5Mn5uGfMKCr0/wf2+r4rd/Hm313HWvm0FP54PzXTbX9/FyN7HH0OMgHy6qu1+jVnpt3u72bH6dFPpgE5wcuDRbubarDl36gpvuBJwd76ih1vJe79ibP9DzK1WIOBANhuvhzxxbq9DIgcTBwqE7/6SrkQvDLPG77JH802zxCHD5u6ypxXbm+6GePIvc+WSsu8xPto/y4s/8tpuP4Vlf69v0sPXXnWz3wMXe4V9x14AwL6Uid/boVPBpcfqy6uFxt1V0mnkv9u8zfP9e/w380tZiG4KC4ZIBZ9rX0uDfkyDKrDwf+gwTvz9WxzrvL4bLCvkNkJ7VWt9XuP5Z1vjd3px6r48fmv3XaBw1pjnQW53iQ3JDm8WTOSDfUK6YMhu8WfHOcWBbTmOpckObQTU4emzpptcXyxvKE7Iraf+0/8ly82A2WjjVLvOyqQVSGRrq85UuROAsTiIUlRKSPECxlG0w6mqVqV20/4JZaeeQHkDF/bNs6dPnnqW91p4ra/DDwk3Of79VOJheWlDF9MLMcTLAUsPT3Dt+N1OnTVVcH315R28dBfvBLDkub2bPBIL1dNjEofU+xvDRkq+M05LtU39QuF/N72B9u7jOGSPtUWrJ9nokDeoKfEF57ousY/f9yU1ptMFAP2o8euAmm6V2hBKaVuP9okXFcEMRvqudkzFro98f9y4axcSsaxsZyPklbBlryulT/45WZ+PJthC97MvaVG2NFu/x9WBc2teMSAEoZ1A0ffBxNKV3itPC/ZfvoRO3JWMG8Oubp6XjXZ4Y4f54vf1cwS/umts63yw+P1MlTyZO6bNzfU6fBSgN1Zac5v0ogo7h0tN6r6n9jtvNPhKeuX2mptxZtt+0jrOblyzq5m8lhzqiZD9K5P5trOPpjT635bW59of8d9Mld/afz4KXu69i5I1MHbqj90lLWFcHF0bHaMsddNPvwn1Vy4d7FHs6fpDAPg/ziX430NDHuSvbx5MnBPJB28ce+n7/Vn5fmTauDpVJvVAYDA6T9KGw7PFIb5piLOq0lqDfS5/6d2da1d/LARBakNMusPvFjC22hT/+ur9Z1nWHm8c4b07hM3uZWj19sPfpVNI8l7ViL8zn9yfWTV/6p2zT/G0d/7LrVXyrnNGXsVVEHNuUDT/IaBAxf+Ff0fJ+6Cb86Hzha5tkk5+pw1f22zedtWnpZxaAqGNyQXhUQDISpor6CjSdknL3PdoJ3C47U8YOg0cvsqbXffPNX2flbUft23Wj/frDENvkTa/63rG2WHn230XppiJLmhdQtiVreJnsEXA+EkstkadNpJJXWeBUBzAgyWRVOHIQkl+bR+g5RPKgtulyaeDe471Q1gnNAQ5pLfWL/bpYMNJM4hXcLnqk9c03MUnim8jB3otlAx5La+8ttETP3aQ4dpH3b5Jbl1W32r8Wbgi5+c53+Yr2lDZf/qGgzs/Ir7yRObJMvZ+La7963m9GSMvGEkEfa+5aTnWCozw9ZP60mTeV9g/n1EfMlG91+emrj+41i3pG7b6vaTGN27HTfM6yjG4/TIt9V9k1lH5rGPmNMU59hHklOFGmytDrzE8BuTFBojyv69ledhIH5ptB/zChOPrWp52SirWjYh2weGzfTPDaurMOMLdtHtw/3289+XrbftYF2X/Zk7Fs1nsnSsqkd9+U9aVA3fPBxNKV0idOi8rfIvETH+GvP5mnzmhB7M8xwoLbNRP29vWxCvrmtq2qX86cmmspOq/zqn8QIl5CTFVyyOaHK65fngebzMRO95b8znwNXomE+yNTnrp0pG+Z16f9sfh8tA1l6cr3YbmVIn2l1T/Wfrvmb4fyNnHHTE/Svkk8+ReUse8IvRvZT6OPlgZIj8y7yr+IbEeJyVnE+mrjeuHVvXW0/C24oDZD2ozhnW532RrOtHGPt4MS+T2650LYU+wz577lae+G+XzN+kWBfbNaONZ+Pee2DqUdTfy/1xT1uLkC3E/o4Wd1raJsPDO+P3Sozn+rrG+4kyGvGO+v7hZtIcqrzgaUpz9YiebJi3zG+3ckCxCXyPD5Om0EwEKYKqdDSga5Exy9+14wssffFrjrxk4Mm4m8rIF/ZyDF693XBN9tkk/O+crV3Iurt7+l9+32M3vrHnXWBde+yy3+L2Y99GnDgng5YeHAcVFo1BVOWwVrcUP3kI9Fm8OaOsfbPvJFJNyw57u/jVQQwI/gGsDhxkCN3Etm8fVFoOi0ub7j3cbpBtptwP68pd668tGyoukhDmkt9svpwOw8EFjpj/m60z3fUSctg4NynOXQQ6VA3tE2+4967fxhNrstdnUtq+4XvrI7OVf87NznpJjRlMkXXaz+fqkQVGNSRh+rM/334x67rNyzqMmo+CDr3Msg4/8WV8/TTf76dbznZCYb6/CD1anWaBtf6lzO/HEy+7Ezvsfteth+db7bMXa7Zu5XdzS9msGn/vrbn+oMGGWhWHVsf5+h7s4+8zWw6Tpt8l+3j3qbqmzbk8kzJO5RtW9DYZ0zg83JV+zWXJCeKNGFbL4NunQeO/WSYvQbRBIJV74dAIFwFKfPF8hlOPrWr59xT1rq9Wt9T/Zd+eayQFmPjRlqNjT1VZawNthyaczfpsKb2nuq604yr7cpBPbXzp98uYvj7pk2DrN5u3Y6PN4F29eNoqtoW+XxxRe3+afo3evwftTGdwuelZZ1/k8HAVm2dXLeeWvnJ7Wf0PLw27cqOpbbNl/KYP6nrgu/5UtLZ9+9tZUvcnYevsWl1PibYbv6tz+fhoRq8viiXY4CWNM0H5fla11vf+5uZ/tpTyyZPBvW2zDna5SrN04BmSUhb58erF4Xtlv/IkOoziYmAYu1TVlLOMntq2dxQ4P+ckWx/8nlb8dZXZinPo4r6v+J8NHl/v2gqGFQ5Zzs8Ufvf+ZVC7FPgfbVnnxJzT9KVjrG4rDYPTtSJr1cKfYaJPBlojpMev2QrZOn2afvXgTpLDq7rz8cQPg1unkDtH/jxV+rJQLPUq9mX7m/kD/x42uYDcx72BqbEO5gT+fLWN/n4LKc6Hzg+5MlAyZNV+y7ilrmtC/iO15cRCAbCVCEVUrrzW8zkprNdumOgVEEE+kYhNfgKPzNPH5j/LlbqcWUgv0UXysTTVDk1BbOugbTbpyug+mCgdCbHqwhgRvD5uzhxkCMTAlsv/AcRYaDY5XmXt+rKndtnu4aqkzSkuaTd8tpaNrESd8bsHaG372TLw9m7yJ5X30E092kOHUTas7q2yUze6LyvB53yMvcMGYx8WRw8FtvzE7XjB6ml9w150nVk1E5L27yoB7vJOwUj5LclJ5IgTX1+kImM6iXPK6619AH9tZD80SvcpJVTzD+eaB9mAvH0mR7EfiZLjeVKm9l0nDb5rvxboj5gY58xgV96v6r9mkuSE0WaQlsvy8Ctq3X7/9E1MN/V+ULeN0P6wlVI1j/Z+1LNZGu7es4sdRwuQWwmx+7cD568kO1TxuWggnZjY09VGWuD/a2r6vDlkdr4dFedvt5Xy2aJObt0dH6coXm6I1oO3Cpp0rodrxmnayZ3HE183YTE5/Vj/Rnn8kztf6nHQp9Im2qeFNpWxzLJKWmaVK5T4roV0rFl2TFUXRePvN94/dlQ/3Z/Y9o3/XzyuWmfrc5HczFQu4VXStxSKw8O3Q3nAGPQNB+UrLsT9bbUQyuNr0FoaAsWV9TOC7/Xv49d8D/edgzM6yC27JOPife1J84jrw90P/2z4P1spn0x264etnvSMeZypC6Oq2+saV2PS71i2319dN/emjpg9Ym8Nz1/SGS75m1B49I0fjFcDMJXdGhLyyBHROeTYvhs3e4rvmkme92OubmioQNRmQ/e6+N/acqAD3DWMLo4Vft+1YPycv8t88GVkDSKln1N4d8hWXeNTB6v68tUQTAQpgs/cVF7971k8qyiCaLkcueiucs7eSdMXullg6+/o0rA/4bC3Y/ZS1vlzrC2BU6228zuKMuQx64/3VJHb1K/VQJ7d7MnIcyazbIsabJhkXdNXGUABtOPTDpXTWz6zkP9k4Euz7py4Bo3KRPlPOUbwVZrvXeUpjTP6pMznb5uYnBJD/6ybf3EzvJT/VmrNCTNoZu4wam/0zCBWwa0V9EploFc+GTgmb/rTzrw+Z3VVU8G5nVk8ISWf1/Agpl4NB8kB5I1/OFWBSAgMB61+UFenq+vpbnrX67l8KXuA/3TtmD5tQ7u+pfgjLxHutTfi5D8kC9XdqoOZTkkP7GX7cNPgo8uztS+DRDlbWbb49Tlu/I+okFoY5+xjNtnr5sTylelqnz7yVtJ/+KyRv4axN+VfBos5QrQllKZ1+NRqX/cUm3t6rmQ0ZsTtS91mCxj2GJs3EirsbFn3DY0xB9n/Zt11bN1sBnr31W7T0z5jMqhHuvYm+9GF+rswE0sZgGZ1r+hZjw/0eNoUkEjQ+LzLgcDXXBtWe39WZEXW7V1ietWSMcxyo58z7wzymwXI/NNX+ixtV267q6+LsHviq/f6Fwd/xAcZ9y22wQYXh+rHTuZnS7nAHU0zQeV+peGRF3Wvh6qCJrIvOTnuu2Rn/HuSG3Z+duo3TBltu1TVu91P9wer20wUN7/uaBWnvgnkoMxZPmdcxXnE6PL6vnRlmtfs1dJ5bRJv9HwXA0er9h2L1uiVZ7m/3RD9V+7hMvGDIvRnPLfR2rztv5u4bVZ7WkavxQwbeDzHResS6W9Jnk+IaZ+M2M5O59dfNLt/NmmPseeWv5Hy6ccU/ngTd/u2wR97SorTehzOvYrBI4fDDQrxeg8u7isduKnD1vgnvbT+zcrwsh7OHX7MdD9nfCm6PMD80S7Pkd5Gj1JTV+mBoKBMF3IHZG6w3VWqgTKmVwqsLyyMZ0/V7HHSiUn3yl5T1eiZiem0+cDbrHlteqbClx+J0qufGekTh77AVus71Cau+Pt4CthsmHxa9uPv24xzAbnav8Lff2r7kCVtbGjvCIdorGDgXInSqoxnxvq07zQicqWJNCDT3nfWcVa67e+2FD7LxOpSppDR5G7q1dSN/u86/tJxYS+/jr9qaK9lLZbM/LvGIi3ySdbdXlMHkeXWXl30jiTe5rmpTsgRW1+0Jw+XU73f5r6R8GTpYX6OUVlftD648h7q1JKm3n14+T5rryPeBDa3Gcs4p9uI1BlkfQt6/vkfkI3T3/f9ttt/DUo1Q36mjxyg3n63TAulXny3qY68nVYcz0n9UTZccbGjbQaG3vGbEMLyHe1MjF38kh+u588lqc5Ukpd2Po31IznJ3Kc6usT1z1hPd7lYGD25H/BW2rlu33/3qY2bV3iukXp2KaPYJFAd2hwLQzuKZae6pl2PF7eUI4bmx1nnPMpS9sCY9MwH5TXS0GQI1GXNdVD1f2q/DtVY7fCjdOGoO6P26Wq4+SvlGhRz77V+0+lSbAUZfP5VB1nSe3IzQ1V9YFWzit5nEIQ1PQtU+kWzC95LvwTdsbW7XmA/JbK71aeTz7ubT6fVP3Ws0tFSx4w55Gsr7W16abN8sFFX61XjekkX1edz1j5wGOOJ39r7Gsk8IHc+BiFchnERupbgraxiSIEA2HqcI1G6umARCbPllMJJuLen6n+o3W1FBWuuCLpLfrBxe0ltf6or07D/B+ufay3uXVvVW39Gr4ctn2BG73cKz5aHX7n8sK+GHblk2iQJp3Dy6E6CV64a5eLeO4qsXLDLA2Urnzl3TfQOWRwUzWBapYZ2ftutZj/fQM1XjBQJrma7kTpPnVpLmmXdaLe67rBTpjIGuX5naglS5O0pDl0GJlMTAXWawZPWQfbtIcHQXup2+5V3SYW2m7NxWBPbXwVLrUUDXLeHKvtbCmmnrrz2braleVrDK0nETWybbhkFLSjLj94Ll7oa/mlX0ps8Y7tA4XXO3wHhfn78vquGgSTfKX6OcHwzz215vOUeY/F4V86f5j9ST/s/anak/xifsN3e+rw8ardXtrMNsdpynflfSQma5r6jAHyZFv1y+bnC0nfsr5P7uug8BrKMkbVwUCN3MFN0BXGJM6TZqy58fRYnUWNSX09V56c7H2yovczsO+vy2gYG7eicWzsGacNjckmhPN6z9zk436vjJ9H6vSpnIuuS7/cUHu/7KhVs43Uha1/Q914fhLHaTFJLf2foB7vcjDQviPw/w3TITcLYDe2dYnrlkjHpj6CI7zO3mAflmy+qae2XkQVvRx3sZf3VXQ/oXCc1ueTa18p8SxRvgDaUDMflNdLQf8yUZdNIhgYj92S7ZOl+snA4nFc/3nrINxHi3pWM/rrUG2FY4rv9tVJ0N42n090HDMOjcu61AcJpb0Nj2Pb/cfRPLTB1BlP8nqp8hUz2byTTtvwXagtkd9S2RconY9b1rn/Kv/BzecT1G+2Ht5S++G4W1OX9ql0S+aDrP+QUPJ1dD6p31v3W4plIQja+ve/j83wtNA3M9c5HBvKjSildqdEXV+mGoKBMH1IpbaoG6ixX8bZTGOlN6Oc6/OqDRJBN6h7Ie4EMROJZjmC+vWp54QPSPPh0aYtl2YZuuybo1O197lpsNdUP6iGSHPoOlkez+7mnGGyemGl4d3BUEWn8sM0kfWjqwOtAAAAHxezrJrpN91V28HdE+bGafsU5v1+FoiYJoZ/+PdYpZ7OkMnlOIAIAPAROP/F3aBYXuYSrp23h+4GocQysR+M3DRrXidxTWNkgoEwlYxe7fmXh25faf3jOroYDLw43mJCbZ54d+TW2r6mgPnor323lMI1lL+Z5YppLsvhLD/276TSyHtWekHHgTSH+cDcge3eJVBaImaWuLzw74QpL9kC49CR/DBNmHdofIQbhgAAAMZjqI6+1WOdhWW1M/AjoMuROvvFvTN62iaz5ckoZ8WNXwQDAeCm+Htgb/5jDvgGkPfQXtd8rH+dxvqz62sXCQbC1DL6Y0etPTxOPEb+YXQxGGgCCRvftnzZKnSDt319zffV2XUEji6O1fb9q72IuNNcJc398hirwVLBbimoaIkM0hzmBvP+lDW1fTzLbfBInf28oTZ+IxD44XQhP0wRJlD9cO1KL7MHAAC4Vuxys+HyhbfU0lcbam8wfX0AFww0S8SaJcQr2lSCgQDw0XFLllYvuwrXiY0npJaEnjEIBgIAAAAAAAAAAAAAAAB0FIKBAAAAAAAAAAAAAAAAAB2FYCAAAAAAAAAAAAAAAABARyEYCAAAAAAAAAAAAAAAANBRCAYCAAAAAAAAAAAAAAAAdBSCgQAAAAAAAAAAAAAAAAAdhWAgAAAAAAAAAAAAAAAAQEchGAgAAAAAAAAAAAAAAADQUQgGAgAAAAAAAAAAAAAAAHQUgoEAAAAAAAAAAAAAAAAAHYVgIAAAAAAAAAAAAAAAAEBHGSsY+D//8z+IiIiIiIiIiIiIiIiIOAMaxgoG/ve//0VERERERERERERERETEGdBAMBARERERERERERERERGxgxoIBiIiIiIiIiIiIiIiIiJ2UAPBQERERERERERERERERMQOaiAYiIiIiIiIiIiIiIiIiNhBDQQDERERERERERERERERETuogWAgIiIiIiIiIiIiIiIiYgc1EAxERERERERERERERERE7KAGgoGIiIiIiIiIiIiIiIiIHdRAMBARERERERERERERERGxgxoIBiIiIiIiIiIiIiIiIiJ2UAPBQES8Hv/9o1pYWMj8+l9vS9u8/dfXwTZfq4M3xb8jIiIiIiIiIiIiIuLVNRAMRMTJ6wOBP/7b//vNgfo6Cgi6QOCP6j8V/0ZERERERERERERExA/TQDAQESfsW3XwdflJQBvs+/pAvbX//o/6sfS0YPp7iIiIiIiIiIiIiIh4NQ0EAxFxstqnABuW/KzYphgwRERERERERERERETED9FAMBARJ6tdItQs9+me/ku+MzDbJvielqVCEREREREREREREREnp4FgICJOVBfQMwHAIKgXvzOQYCAiIiIiIiIiIiIi4rVrIBiIiBPVBfQqlgCVQB/BQERERERERERERETEa9dAMBARJ2plQM8GAH2QkGAgIiIiIiIiIiIiIuK1ayAYiIiTtSLQVwgG2mVDK54e/PpAvQ0+K/wteAdh1XaIiIiIiIiIiIiIiOg0XGsw8D8P/aT9w/8U/2aDAsGkfvz3/75VB18Hfxejyf9icKAcWOiuLn2y969hOVA0s0+XdeHa/kf9qK/Bj/8ufl586s9tUzxP8nV7pY6syOdh4DX195KT3l+XdXk3q2tSQemojWuXp+Ua1Oy3c5KPcTq8Un8yKudxm4f44V6lXZjHtiR08u2AG89WfMe/E5vyjzgPRmOAlnXJWH0M6pQp1Fz3uuvm2p30NTN/C79bt63XtFNz13YjInZQ36aXY15OO8YYq76fzDjHcH3BQDnp+MSjyZPMQuLEHS1vkEjl4I+xXYds9nUZgKCJ0eeVqABJ/qAjfTMWA39aX+7DPOu2ycts6TtYozQC2lTDMvZk16T311V9OmVp5P8d1j/xIN7/u76+rthv6lp0yknnu0nvD+fBuO1p1RbFeYm8hRP3Ku3CVb7TNSffDmQ3t6YG60zcI86Jfs4hqFfisWzK8foYef1FnTINyjU/0NflR3VQce2kjUheM9NG2LbDX1v93wcPdZ75V0VbJHOoqfYGERFnS6nTK9qIqwcDtR8wzjFcUzAw+IHRj8wGVPKZ/bHms6BhbWwE82ChS9D8ePMRIHPnSzCwvvC4vNYwoYfXZ1a2w7Ja1A2IZJvxJmfm22IdW0rbsSe7Jr2/jppKB9te5Z+l6iSbz+sa+Rb77abkY7xpXX+y2J9q6mP5fBZ1wG3ZT3XKEa/iVdqFuW1LQiffDmRj11JdofVj1tJxELFb2rojnldI9wdyx+tjhONi6pQp0l57uWZv1dus/cjnJCuvmflumD98m+E+C/cVzYuMNTmMiIhTqdT51oqbScaq7yczzjFcSzCwOMGvrZsc8Y1rmADZ96u+J98JEzOxn2lQJofCgaT87sJn8blm5yiGFzTViSx2RuaiA9E0AP+3TvfCZ8WCYy2ku0vD4v5SnfworeNCXXvttIUKwRh+P3FtS9sXf6MEGv5TKHfzNPEzj0q+NHcq6v+Py7vNg8U8UKyD4u+Mv7+5NJUOtnzWp01TIy9luPj3RF3QOcnHeMNWlN90mRRTfQWtzV/lTj7iVbxKuzC/bUnoFdoB+5neNjPR7uj9HNj2JyrjTWMRROy0tn6omrMap48h2/6bOmW69H2+f5nrEtb/fj7IXMeadsDkj/xzaY8P9HeL+cLmCb+PpnEjIiLOiNI+2DakPB5L1ff2M9O+iIW/T2a+y3ANwUAJlPyofpSTSHaQ/EnYbRODLjlxMdyHDNrCE88GctM1ESPnkl10nxlSn2X/TlxAtx85t3hg79M8SKPi9h3VplPbc5RCE+SjON2TE3zR90rfkc6b/x1N104qg+AY9u9ZXo6ubWJ7d7z8GNJ5zM/N/+a4YsAOGeTLRJ6M82ExjxnjOmO8/c2vUX3QpqwlynCsvT7ZPsX4WF2UfIw3rM0T5X5EoV2PtXkrkY/IXzhBr9IuzG9bEjpmO5AotzYdg/Kftz3l8VabNh4Ru6qrEwp1TGjrPka53qJOmRLNNfRjD9MWJK915TUz+SO4znY792+bByra5bzNKf8NERFnyKB9iOfxjXF9X67/r2e+yzDxYKD98f5k5b/TDZ0/KW9+Av7kgr9l+v1kwY8wkXxCVE7e3JAuDRKdvcIFDi6ofCdOs8JFddtLmqUnrRo6px0wfd4V2vwRF4piukuaFTtyxW3sMWs6Z43XrrFwJq5tfLygQsm2idOhZSWAs2qizgivd+H6p/K1/06Wt8bZH7r08cblPTNo42rqDGOy3ijVT12UfIw3rM0T5X5Ebf8i2Z/Qkr9wgl6lXZjftiR0vHYgmWapbXw74+qGoC2K+uSIOD+6+qCm3W/bxwi3o06ZPauumfm8YQyYMmxzUn9HRMQZsdA++PnBoH4v1vcfb77LMNlgoD1w/MPyfyf1iZP/YJlAjU8o/0wGYoVGMttPxeTNDZlqzO1nhTSpHqhnaVhIE7e9Cxg1fLcu7Wfc2sm6OrO84s3SKFX4wvStTuuU6Wsn+bsqUBte2+Lfsnzvld9pP4/yWNtKAGfVOC9GDUvl9c/zn7WiUWm/vznT1x1h+XTlvL4eaqqr0nX1ePXNbEo+xhvW5oly2awts7YeSOQj8hdO0Ku0C/PbloRevR1I99v953E7I/WD7xeUJoERsdvauqRqPO9t1cdwdVRWh1CnzJ4V18xc59r8UWGxzUFExJk1bh+ivkN1fX+9812GCQYDZXAUDZ7MD6sdgMr36jpT+TYmEV0HSv87TDSfqJWTNzdk6uLazwppEl3Q7FyMPj0LF9Vt79IrT5uktWk/49o0aXu9o3Sy6RKle9wZD78XbN/c6ZfjpK6dsXzN8mNGx/CVR2G7qEKx5SGuQErHxG4Z512tz3s270TXP6uLjT6vFOum8fY3r6bqc6k3auuFhm3KbYIxcU06J/kYb1ibJ5om6iJtG5zIR+QvnKBXaRfmty0JHbMd8H9z+s+jbYrtjFb65uYY8SAfEbtvWKek/i7a7er7GKV6mzpl9kxeM9MWXa1PWGpzEBFxNk20D7aO9+OMuL53f/Ne43yXYXLBQBkYVWo6PHl0M08MfzL6s/zHy/blbez3UtvIZ1PWcKYac/tZYVAeXtDExTUWLqrbxnVAK7afB5s6y+Hfk4UiTrt2wcDqtK74e/LYov9O8tqm80983gQD59F0XnONh64Xw+tfUU4aGxXZJt5f8Pd5s1x3GyvKfcH6YGCyDEd1QTclH+MNa/NVOU+ky6SY6itobf4K+qWIH+BV2oX5bUtCx2kH0tvGfehiO+O0aW22+Xe6bULEjmrrh5Z1amMfI58bS1o7tsCpMTlGMdf2an3CVJuDiIgzaGX74Nr4Qn3/Eee7DB85GOh/uPm3/Pjge+6k805R1snyna78pPJtJKHcyU/fYDfVmNvPChcvvKDu3JIZIDt/t72ca+oY8TZdNX3uwd98Jyw5QSJ5L7sWLu2LaZYXVPPvuuO1u3Ypw++F1y19Dd0ERH6c5Lm1rARwVg3rjPBzn1+t/vrbvBAPRvx2Wb4ZY3+Fv8+XzXVtRTpWNOyZqfJqv9P1NCcf403r8kaxnQ3LdLht8e9xPrP1QynvIV7Rq7QLc9uWhI7TDrjPmvrtdW2/219N+46I3dHWsXX9g9gr9DGaxgw4faaumckrV+wTptscREScOavadN+fsEp9bz/7OPNdhsm+MzDSDaaiHxqedGiwjQQ7YsNOU3qb6Rvsphpz+1nh4oUX1P93+J0gzVwmijuR/sKX0jDOSF00LhzOOGAmaZgXQp/Ohe+W076Uh31hLnTg7b5N3mtx7bJt/d+1xWtVvLbu+MF19Mc3+5Nt7Pej808dZzoNroM1kWeDcw7Pe7716VaoR7xZnvPXP5Fns3wd5btW+4v/Pk9WpmWQb316leqauIwWjLepuR6dknyMN69rg/N80ar/FJdz+2/yFk7Sq7QLV/lO1xynHYjTK9wmL9+2rUm14UH/NG/zEbGTJvqhbRy7j+GPQ50yQyaumWk3rnoNK9scREScLWva9GwuS+r7RD/juua7DB8/GGj0J+l+aOLvWtdRyrdJdbyK20znJEyqMbefFc45vqBhVNeoL3whY7jti2mS+E72t+6bF5Lq80/lKfe9cNtiOmbbFK5XnNZh3mu6dnqbYKKh/P342vq8UdjWH8P/JntecYdxJiYm/bkFv710PUoVYirvz6M+7RJ1Z55ngusf5zn9PVceZJsx9zfXtqhrE+kd/j1ZZrN09pb+3kXJxzgdFvsHcR5xZb7UiY/yIxN3OHkb2gXbR4rza8N3Ou+47UBzv932TSvSUcYflH/EbitlPWlWP6T7C/V9jEhf/1CnzJCla2bamquPN+raHEREnCHr2nT/t0J9/5HmuwzXGgxERKzUVnRxIKU4iEp2hm2lefUONiIiIiIiIiIiIiLivGggGIiIN6IN9CXvaBDdnQ3lpwArntJARERERERERERERMSCBoKBiHgD5oG+4tIp4ZOC9cFAlgpFRERERERERERERKzXQDAQEW/A/B0tYVDPvY8hDwhWLxNKMBARERERERERERERsUkDwUBEvAF9MLC0TGj01J9/gWoe+JOXohIMRERERERERERERERs0kAwEBFvwKqlPn2wLwwS+oCg82t18IZlQhERERERERERERER22ggGIiIN2DV+wATwcBYv0zoj/9O/A0RERERERERERERETMNBAMR8UZ8+6+vy+8DjJ4YTL0z0H4veK8gIiIiIiIiIiIiIiKmNRAMRMQbMl7uU94HGAT6/BKh2VOA/qlAlghFRERERERERERERGzWQDAQEW9QCQB6S08KagvvDGR5UERERERERERERETEthoIBiIiIiIiIiIiIiIiIiJ2UAPBQERERERERERERERERMQOaiAYiIiIiIiIiIiIiIiIiNhBDQQDERERERERERERERERETuogWAgIiIiIiIiIiIiIiIiYgc1EAxERERERERERERERERE7KAGgoGIiIiIiIiIiIiIiIiIHdRAMBARERERERERERERERGxgxoIBiIiIiIiIiIiIiIiIiJ2UAPBQERERERERERERERERMQOaiAYiIiIiIiIiIiIiIiIiNhBDQQDERERERERERERERERETuogWAgIiIiIiIiIiIiIiIiYgc1jBUMBAAAAAAAAAAAAAAAAIDZgWAgAAAAAAAAAAAAAAAAQEchGAgAAAAAAAAAAAAAAADQUQgGAgAAAAAAAAAAAAAAAHQUgoEAAAAAAAAAAAAAAAAAHYVgIAAAAAAAAAAAAAAAAEBHIRgIAAAAAAAAAAAAAAAA0FGqg4FK/f/iav+e06yChQAAAABJRU5ErkJggg==)"
      ]
    },
    {
      "cell_type": "markdown",
      "metadata": {
        "id": "8Rt-YSKNoZJN"
      },
      "source": [
        "#### Getting OneHotEncoder Catagory Info and Testing Ordinal Encoding for Age (can be ignored)"
      ]
    },
    {
      "cell_type": "code",
      "execution_count": null,
      "metadata": {
        "id": "Ilzt4guooUiA"
      },
      "outputs": [],
      "source": [
        "# data_cat_tr = cat_pipeline.fit_transform(patients_info)\n",
        "# data_height_tr = gender_pipeline.fit_transform(data_cat_tr)"
      ]
    },
    {
      "cell_type": "code",
      "execution_count": null,
      "metadata": {
        "id": "qP0EhjaMobxS"
      },
      "outputs": [],
      "source": [
        "# data_height_tr"
      ]
    },
    {
      "cell_type": "code",
      "execution_count": null,
      "metadata": {
        "id": "BCQI7V3hoc97"
      },
      "outputs": [],
      "source": [
        "# data_height_tr_age = data_height_tr[['Age']]"
      ]
    },
    {
      "cell_type": "code",
      "execution_count": null,
      "metadata": {
        "id": "vvEBXMgqoeSq"
      },
      "outputs": [],
      "source": [
        "# cat_encoder = OrdinalEncoder()"
      ]
    },
    {
      "cell_type": "code",
      "execution_count": null,
      "metadata": {
        "id": "mPPhHPHXofm7"
      },
      "outputs": [],
      "source": [
        "# patients_age_ord = cat_encoder.fit_transform(data_height_tr_age)"
      ]
    },
    {
      "cell_type": "code",
      "execution_count": null,
      "metadata": {
        "id": "_NHA0DvUohKj"
      },
      "outputs": [],
      "source": [
        "# patients_age_ord"
      ]
    },
    {
      "cell_type": "code",
      "execution_count": null,
      "metadata": {
        "id": "4eohE7ZkohR0"
      },
      "outputs": [],
      "source": [
        "# cat_encoder.categories_\n",
        "# array([[7.],\n",
        "#        [6.],\n",
        "#        [6.],\n",
        "#        ...,\n",
        "#        [4.],\n",
        "#        [7.],\n",
        "#        [5.]])\n",
        "# [array(['10 - 19', '20 - 29', '30 - 39', '40 - 49', '50 - 59', '60 - 69',\n",
        "#         '70 - 79', '80 - 89', '90+'], dtype=object)]"
      ]
    },
    {
      "cell_type": "code",
      "execution_count": null,
      "metadata": {
        "id": "3Egvk_NHokmh"
      },
      "outputs": [],
      "source": [
        "# cat_encoder.categories_\n",
        "# [array(['10 - 19', '20 - 29', '30 - 39', '40 - 49', '50 - 59', '60 - 69',\n",
        "#         '70 - 79', '80 - 89', '90+'], dtype=object),\n",
        "#  array(['female', 'male'], dtype=object),\n",
        "#  array(['ASIAN', 'BLACK OR AFRICAN AMERICAN',\n",
        "#         'CAUCASIAN', 'CHINESE', 'HAN CHINESE', 'HISPANIC', 'INDIAN',\n",
        "#         'INTERMEDIATE', 'JAPANESE', 'KOREAN', 'MALAY', 'OTHER',\n",
        "#         'OTHER MIXED RACE', 'UNSPECIFIED', 'WHITE'], dtype=object),\n",
        "#  array([0., 1.]),\n",
        "#  array([0., 1.]),\n",
        "#  array([0., 1.]),\n",
        "#  array(['*1/*1', '*1/*11', '*1/*13', '*1/*14', '*1/*2', '*1/*3', '*1/*5',\n",
        "#         '*1/*6', '*2/*2', '*2/*3', '*3/*3'], dtype=object),\n",
        "#  array(['A/A', 'A/G', 'G/G', 'Unknown'], dtype=object)]"
      ]
    },
    {
      "cell_type": "markdown",
      "metadata": {
        "id": "AUsAvK7Wot7E"
      },
      "source": [
        "## Visualizing Multicollinearity for BSA, BMI, Weight, Height\n",
        "##### see corr_matrix within, ignore code (will not run based on current dataset)\n",
        "##### already incorporated results into full_preprocess_function"
      ]
    },
    {
      "cell_type": "markdown",
      "metadata": {
        "id": "HUh_ebSeoyuC"
      },
      "source": [
        "#### Correlation Matrix showing multi-collinearity between several variables\n",
        "![corr_matrix.PNG](data:image/png;base64,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)"
      ]
    },
    {
      "cell_type": "code",
      "execution_count": null,
      "metadata": {
        "id": "0joiKTGwoufw"
      },
      "outputs": [],
      "source": [
        "# corr_matrix = X_train_prepared.corr()\n",
        "# corr_matrix[\"Weight (kg)\"].sort_values(ascending=False)\n",
        "## Highest correlated\n",
        "# Weight (kg)                  1.000000\n",
        "# BSA                          0.992465\n",
        "# Height (cm)                  0.539149\n",
        "# BMI                         -0.869163"
      ]
    },
    {
      "cell_type": "code",
      "execution_count": null,
      "metadata": {
        "id": "TPkBsD3AozgA"
      },
      "outputs": [],
      "source": [
        "# corr_matrix[\"Height (cm)\"].sort_values(ascending=False)\n",
        "# highest correlations with height\n",
        "# male                         0.655107\n",
        "# BSA                          0.632226\n",
        "# Weight (kg)                  0.539149\n",
        "# BMI                         -0.495230\n",
        "# female                      -0.655107"
      ]
    },
    {
      "cell_type": "code",
      "execution_count": null,
      "metadata": {
        "id": "juDmUevIo4yN"
      },
      "outputs": [],
      "source": [
        "# corr_matrix[\"BMI\"].sort_values(ascending=False)\n",
        "# highest correlations with BMI\n",
        "# Height (cm)                 -0.495230\n",
        "# Weight (kg)                 -0.869163\n",
        "# BSA (m**2)                  -0.882906"
      ]
    },
    {
      "cell_type": "code",
      "execution_count": null,
      "metadata": {
        "id": "QMFyrB9Jo41r"
      },
      "outputs": [],
      "source": [
        "# h_w_bmi_bsa = X_train_prepared[['Height (cm)', 'Weight (kg)', 'BSA (m**2)', 'BMI']]"
      ]
    },
    {
      "cell_type": "code",
      "execution_count": null,
      "metadata": {
        "id": "mAUeXAVRo44v"
      },
      "outputs": [],
      "source": [
        "# import seaborn as sns\n",
        "# ax = sns.heatmap(h_w_bmi_bsa.corr(), annot=True)"
      ]
    },
    {
      "cell_type": "code",
      "execution_count": null,
      "metadata": {
        "id": "QOap-1vBo48P"
      },
      "outputs": [],
      "source": [
        "# Based on these correlations, I removed weight and not add BMI. I kept BSA since BSA is known to be directly used to estimate drug dosage"
      ]
    },
    {
      "cell_type": "markdown",
      "metadata": {
        "id": "PSIyA9uYo-lB"
      },
      "source": [
        "## Sending training features data through pre-processing pipeline\n",
        "##### patients_info -> 'X_train_prepared'\n",
        "##### y_train stored in 'patients_labels'"
      ]
    },
    {
      "cell_type": "code",
      "execution_count": null,
      "metadata": {
        "colab": {
          "base_uri": "https://localhost:8080/"
        },
        "id": "hxHHOKDPpAfM",
        "outputId": "5d3aa884-eab1-4225-a329-509e9533d06e"
      },
      "outputs": [
        {
          "data": {
            "text/html": [
              "\n",
              "  <div id=\"df-07813ea3-1447-4a9a-b6e8-3ae8f59f7d6b\">\n",
              "    <div class=\"colab-df-container\">\n",
              "      <div>\n",
              "<style scoped>\n",
              "    .dataframe tbody tr th:only-of-type {\n",
              "        vertical-align: middle;\n",
              "    }\n",
              "\n",
              "    .dataframe tbody tr th {\n",
              "        vertical-align: top;\n",
              "    }\n",
              "\n",
              "    .dataframe thead th {\n",
              "        text-align: right;\n",
              "    }\n",
              "</style>\n",
              "<table border=\"1\" class=\"dataframe\">\n",
              "  <thead>\n",
              "    <tr style=\"text-align: right;\">\n",
              "      <th></th>\n",
              "      <th>Gender</th>\n",
              "      <th>Race (Reported)</th>\n",
              "      <th>Age</th>\n",
              "      <th>Height (cm)</th>\n",
              "      <th>Weight (kg)</th>\n",
              "      <th>Diabetes</th>\n",
              "      <th>Simvastatin (Zocor)</th>\n",
              "      <th>Amiodarone (Cordarone)</th>\n",
              "      <th>Target INR</th>\n",
              "      <th>INR on Reported Therapeutic Dose of Warfarin</th>\n",
              "      <th>Cyp2C9 genotypes</th>\n",
              "      <th>VKORC1 genotype: -1639 G&gt;A (3673); chr16:31015190; rs9923231; C/T</th>\n",
              "    </tr>\n",
              "  </thead>\n",
              "  <tbody>\n",
              "    <tr>\n",
              "      <th>813</th>\n",
              "      <td>male</td>\n",
              "      <td>White</td>\n",
              "      <td>50 - 59</td>\n",
              "      <td>175.006</td>\n",
              "      <td>84.00</td>\n",
              "      <td>0.0</td>\n",
              "      <td>1.0</td>\n",
              "      <td>0.0</td>\n",
              "      <td>NaN</td>\n",
              "      <td>2.20</td>\n",
              "      <td>*1/*1</td>\n",
              "      <td>A/G</td>\n",
              "    </tr>\n",
              "    <tr>\n",
              "      <th>4632</th>\n",
              "      <td>male</td>\n",
              "      <td>Japanese</td>\n",
              "      <td>50 - 59</td>\n",
              "      <td>169.926</td>\n",
              "      <td>78.00</td>\n",
              "      <td>NaN</td>\n",
              "      <td>NaN</td>\n",
              "      <td>NaN</td>\n",
              "      <td>NaN</td>\n",
              "      <td>1.35</td>\n",
              "      <td>*1/*1</td>\n",
              "      <td>A/G</td>\n",
              "    </tr>\n",
              "    <tr>\n",
              "      <th>829</th>\n",
              "      <td>male</td>\n",
              "      <td>Japanese</td>\n",
              "      <td>50 - 59</td>\n",
              "      <td>171.958</td>\n",
              "      <td>60.20</td>\n",
              "      <td>NaN</td>\n",
              "      <td>NaN</td>\n",
              "      <td>NaN</td>\n",
              "      <td>NaN</td>\n",
              "      <td>1.27</td>\n",
              "      <td>*1/*1</td>\n",
              "      <td>A/A</td>\n",
              "    </tr>\n",
              "    <tr>\n",
              "      <th>4969</th>\n",
              "      <td>female</td>\n",
              "      <td>White</td>\n",
              "      <td>70 - 79</td>\n",
              "      <td>162.560</td>\n",
              "      <td>67.73</td>\n",
              "      <td>1.0</td>\n",
              "      <td>0.0</td>\n",
              "      <td>0.0</td>\n",
              "      <td>NaN</td>\n",
              "      <td>2.90</td>\n",
              "      <td>*1/*1</td>\n",
              "      <td>NaN</td>\n",
              "    </tr>\n",
              "    <tr>\n",
              "      <th>5151</th>\n",
              "      <td>female</td>\n",
              "      <td>Black</td>\n",
              "      <td>50 - 59</td>\n",
              "      <td>166.878</td>\n",
              "      <td>80.00</td>\n",
              "      <td>0.0</td>\n",
              "      <td>0.0</td>\n",
              "      <td>0.0</td>\n",
              "      <td>NaN</td>\n",
              "      <td>2.50</td>\n",
              "      <td>*1/*1</td>\n",
              "      <td>G/G</td>\n",
              "    </tr>\n",
              "  </tbody>\n",
              "</table>\n",
              "</div>\n",
              "      <button class=\"colab-df-convert\" onclick=\"convertToInteractive('df-07813ea3-1447-4a9a-b6e8-3ae8f59f7d6b')\"\n",
              "              title=\"Convert this dataframe to an interactive table.\"\n",
              "              style=\"display:none;\">\n",
              "        \n",
              "  <svg xmlns=\"http://www.w3.org/2000/svg\" height=\"24px\"viewBox=\"0 0 24 24\"\n",
              "       width=\"24px\">\n",
              "    <path d=\"M0 0h24v24H0V0z\" fill=\"none\"/>\n",
              "    <path d=\"M18.56 5.44l.94 2.06.94-2.06 2.06-.94-2.06-.94-.94-2.06-.94 2.06-2.06.94zm-11 1L8.5 8.5l.94-2.06 2.06-.94-2.06-.94L8.5 2.5l-.94 2.06-2.06.94zm10 10l.94 2.06.94-2.06 2.06-.94-2.06-.94-.94-2.06-.94 2.06-2.06.94z\"/><path d=\"M17.41 7.96l-1.37-1.37c-.4-.4-.92-.59-1.43-.59-.52 0-1.04.2-1.43.59L10.3 9.45l-7.72 7.72c-.78.78-.78 2.05 0 2.83L4 21.41c.39.39.9.59 1.41.59.51 0 1.02-.2 1.41-.59l7.78-7.78 2.81-2.81c.8-.78.8-2.07 0-2.86zM5.41 20L4 18.59l7.72-7.72 1.47 1.35L5.41 20z\"/>\n",
              "  </svg>\n",
              "      </button>\n",
              "      \n",
              "  <style>\n",
              "    .colab-df-container {\n",
              "      display:flex;\n",
              "      flex-wrap:wrap;\n",
              "      gap: 12px;\n",
              "    }\n",
              "\n",
              "    .colab-df-convert {\n",
              "      background-color: #E8F0FE;\n",
              "      border: none;\n",
              "      border-radius: 50%;\n",
              "      cursor: pointer;\n",
              "      display: none;\n",
              "      fill: #1967D2;\n",
              "      height: 32px;\n",
              "      padding: 0 0 0 0;\n",
              "      width: 32px;\n",
              "    }\n",
              "\n",
              "    .colab-df-convert:hover {\n",
              "      background-color: #E2EBFA;\n",
              "      box-shadow: 0px 1px 2px rgba(60, 64, 67, 0.3), 0px 1px 3px 1px rgba(60, 64, 67, 0.15);\n",
              "      fill: #174EA6;\n",
              "    }\n",
              "\n",
              "    [theme=dark] .colab-df-convert {\n",
              "      background-color: #3B4455;\n",
              "      fill: #D2E3FC;\n",
              "    }\n",
              "\n",
              "    [theme=dark] .colab-df-convert:hover {\n",
              "      background-color: #434B5C;\n",
              "      box-shadow: 0px 1px 3px 1px rgba(0, 0, 0, 0.15);\n",
              "      filter: drop-shadow(0px 1px 2px rgba(0, 0, 0, 0.3));\n",
              "      fill: #FFFFFF;\n",
              "    }\n",
              "  </style>\n",
              "\n",
              "      <script>\n",
              "        const buttonEl =\n",
              "          document.querySelector('#df-07813ea3-1447-4a9a-b6e8-3ae8f59f7d6b button.colab-df-convert');\n",
              "        buttonEl.style.display =\n",
              "          google.colab.kernel.accessAllowed ? 'block' : 'none';\n",
              "\n",
              "        async function convertToInteractive(key) {\n",
              "          const element = document.querySelector('#df-07813ea3-1447-4a9a-b6e8-3ae8f59f7d6b');\n",
              "          const dataTable =\n",
              "            await google.colab.kernel.invokeFunction('convertToInteractive',\n",
              "                                                     [key], {});\n",
              "          if (!dataTable) return;\n",
              "\n",
              "          const docLinkHtml = 'Like what you see? Visit the ' +\n",
              "            '<a target=\"_blank\" href=https://colab.research.google.com/notebooks/data_table.ipynb>data table notebook</a>'\n",
              "            + ' to learn more about interactive tables.';\n",
              "          element.innerHTML = '';\n",
              "          dataTable['output_type'] = 'display_data';\n",
              "          await google.colab.output.renderOutput(dataTable, element);\n",
              "          const docLink = document.createElement('div');\n",
              "          docLink.innerHTML = docLinkHtml;\n",
              "          element.appendChild(docLink);\n",
              "        }\n",
              "      </script>\n",
              "    </div>\n",
              "  </div>\n",
              "  "
            ],
            "text/plain": [
              "      Gender Race (Reported)      Age  Height (cm)  Weight (kg)  Diabetes  \\\n",
              "813     male           White  50 - 59      175.006        84.00       0.0   \n",
              "4632    male        Japanese  50 - 59      169.926        78.00       NaN   \n",
              "829     male        Japanese  50 - 59      171.958        60.20       NaN   \n",
              "4969  female           White  70 - 79      162.560        67.73       1.0   \n",
              "5151  female           Black  50 - 59      166.878        80.00       0.0   \n",
              "\n",
              "      Simvastatin (Zocor)  Amiodarone (Cordarone)  Target INR  \\\n",
              "813                   1.0                     0.0         NaN   \n",
              "4632                  NaN                     NaN         NaN   \n",
              "829                   NaN                     NaN         NaN   \n",
              "4969                  0.0                     0.0         NaN   \n",
              "5151                  0.0                     0.0         NaN   \n",
              "\n",
              "      INR on Reported Therapeutic Dose of Warfarin Cyp2C9 genotypes  \\\n",
              "813                                           2.20            *1/*1   \n",
              "4632                                          1.35            *1/*1   \n",
              "829                                           1.27            *1/*1   \n",
              "4969                                          2.90            *1/*1   \n",
              "5151                                          2.50            *1/*1   \n",
              "\n",
              "     VKORC1 genotype: -1639 G>A (3673); chr16:31015190; rs9923231; C/T  \n",
              "813                                                 A/G                 \n",
              "4632                                                A/G                 \n",
              "829                                                 A/A                 \n",
              "4969                                                NaN                 \n",
              "5151                                                G/G                 "
            ]
          },
          "execution_count": 111,
          "metadata": {},
          "output_type": "execute_result"
        }
      ],
      "source": [
        "## showing un-pre-processed dataset\n",
        "patients_info.head()"
      ]
    },
    {
      "cell_type": "code",
      "execution_count": null,
      "metadata": {
        "id": "VxBy1dV-pFqT"
      },
      "outputs": [],
      "source": [
        "X_train_prepared = full_preprocess_function(patients_info, train=True)"
      ]
    },
    {
      "cell_type": "code",
      "execution_count": null,
      "metadata": {
        "colab": {
          "base_uri": "https://localhost:8080/"
        },
        "id": "w2S8WlV1pkaZ",
        "outputId": "7f194eb9-5e3a-4201-851b-fffc76982626"
      },
      "outputs": [
        {
          "data": {
            "text/html": [
              "\n",
              "  <div id=\"df-f1b18cf8-0cbb-4bfd-9f7e-9403a8adb953\">\n",
              "    <div class=\"colab-df-container\">\n",
              "      <div>\n",
              "<style scoped>\n",
              "    .dataframe tbody tr th:only-of-type {\n",
              "        vertical-align: middle;\n",
              "    }\n",
              "\n",
              "    .dataframe tbody tr th {\n",
              "        vertical-align: top;\n",
              "    }\n",
              "\n",
              "    .dataframe thead th {\n",
              "        text-align: right;\n",
              "    }\n",
              "</style>\n",
              "<table border=\"1\" class=\"dataframe\">\n",
              "  <thead>\n",
              "    <tr style=\"text-align: right;\">\n",
              "      <th></th>\n",
              "      <th>0</th>\n",
              "      <th>1</th>\n",
              "      <th>2</th>\n",
              "      <th>3</th>\n",
              "      <th>4</th>\n",
              "      <th>5</th>\n",
              "      <th>6</th>\n",
              "      <th>7</th>\n",
              "      <th>8</th>\n",
              "      <th>9</th>\n",
              "      <th>...</th>\n",
              "      <th>31</th>\n",
              "      <th>32</th>\n",
              "      <th>33</th>\n",
              "      <th>34</th>\n",
              "      <th>35</th>\n",
              "      <th>36</th>\n",
              "      <th>37</th>\n",
              "      <th>38</th>\n",
              "      <th>39</th>\n",
              "      <th>40</th>\n",
              "    </tr>\n",
              "  </thead>\n",
              "  <tbody>\n",
              "    <tr>\n",
              "      <th>0</th>\n",
              "      <td>0.689150</td>\n",
              "      <td>0.289487</td>\n",
              "      <td>-0.387597</td>\n",
              "      <td>0.382503</td>\n",
              "      <td>4.0</td>\n",
              "      <td>1.0</td>\n",
              "      <td>0.0</td>\n",
              "      <td>1.0</td>\n",
              "      <td>0.0</td>\n",
              "      <td>0.0</td>\n",
              "      <td>...</td>\n",
              "      <td>0.0</td>\n",
              "      <td>0.0</td>\n",
              "      <td>0.0</td>\n",
              "      <td>0.0</td>\n",
              "      <td>0.0</td>\n",
              "      <td>0.0</td>\n",
              "      <td>0.0</td>\n",
              "      <td>1.0</td>\n",
              "      <td>0.0</td>\n",
              "      <td>0.0</td>\n",
              "    </tr>\n",
              "    <tr>\n",
              "      <th>1</th>\n",
              "      <td>0.189763</td>\n",
              "      <td>0.010677</td>\n",
              "      <td>-2.318512</td>\n",
              "      <td>0.055882</td>\n",
              "      <td>4.0</td>\n",
              "      <td>1.0</td>\n",
              "      <td>0.0</td>\n",
              "      <td>0.0</td>\n",
              "      <td>0.0</td>\n",
              "      <td>0.0</td>\n",
              "      <td>...</td>\n",
              "      <td>0.0</td>\n",
              "      <td>0.0</td>\n",
              "      <td>0.0</td>\n",
              "      <td>0.0</td>\n",
              "      <td>0.0</td>\n",
              "      <td>0.0</td>\n",
              "      <td>0.0</td>\n",
              "      <td>1.0</td>\n",
              "      <td>0.0</td>\n",
              "      <td>0.0</td>\n",
              "    </tr>\n",
              "    <tr>\n",
              "      <th>2</th>\n",
              "      <td>0.389518</td>\n",
              "      <td>-0.816462</td>\n",
              "      <td>-2.500245</td>\n",
              "      <td>-0.740618</td>\n",
              "      <td>4.0</td>\n",
              "      <td>1.0</td>\n",
              "      <td>0.0</td>\n",
              "      <td>0.0</td>\n",
              "      <td>0.0</td>\n",
              "      <td>0.0</td>\n",
              "      <td>...</td>\n",
              "      <td>0.0</td>\n",
              "      <td>0.0</td>\n",
              "      <td>0.0</td>\n",
              "      <td>0.0</td>\n",
              "      <td>0.0</td>\n",
              "      <td>0.0</td>\n",
              "      <td>1.0</td>\n",
              "      <td>0.0</td>\n",
              "      <td>0.0</td>\n",
              "      <td>0.0</td>\n",
              "    </tr>\n",
              "    <tr>\n",
              "      <th>3</th>\n",
              "      <td>-0.534349</td>\n",
              "      <td>-0.466555</td>\n",
              "      <td>1.202569</td>\n",
              "      <td>-0.488400</td>\n",
              "      <td>6.0</td>\n",
              "      <td>0.0</td>\n",
              "      <td>1.0</td>\n",
              "      <td>0.0</td>\n",
              "      <td>0.0</td>\n",
              "      <td>0.0</td>\n",
              "      <td>...</td>\n",
              "      <td>0.0</td>\n",
              "      <td>0.0</td>\n",
              "      <td>0.0</td>\n",
              "      <td>0.0</td>\n",
              "      <td>0.0</td>\n",
              "      <td>0.0</td>\n",
              "      <td>0.0</td>\n",
              "      <td>0.0</td>\n",
              "      <td>0.0</td>\n",
              "      <td>1.0</td>\n",
              "    </tr>\n",
              "    <tr>\n",
              "      <th>4</th>\n",
              "      <td>-0.109870</td>\n",
              "      <td>0.103614</td>\n",
              "      <td>0.293903</td>\n",
              "      <td>0.107003</td>\n",
              "      <td>4.0</td>\n",
              "      <td>0.0</td>\n",
              "      <td>0.0</td>\n",
              "      <td>0.0</td>\n",
              "      <td>0.0</td>\n",
              "      <td>0.0</td>\n",
              "      <td>...</td>\n",
              "      <td>0.0</td>\n",
              "      <td>0.0</td>\n",
              "      <td>0.0</td>\n",
              "      <td>0.0</td>\n",
              "      <td>0.0</td>\n",
              "      <td>0.0</td>\n",
              "      <td>0.0</td>\n",
              "      <td>0.0</td>\n",
              "      <td>1.0</td>\n",
              "      <td>0.0</td>\n",
              "    </tr>\n",
              "  </tbody>\n",
              "</table>\n",
              "<p>5 rows × 41 columns</p>\n",
              "</div>\n",
              "      <button class=\"colab-df-convert\" onclick=\"convertToInteractive('df-f1b18cf8-0cbb-4bfd-9f7e-9403a8adb953')\"\n",
              "              title=\"Convert this dataframe to an interactive table.\"\n",
              "              style=\"display:none;\">\n",
              "        \n",
              "  <svg xmlns=\"http://www.w3.org/2000/svg\" height=\"24px\"viewBox=\"0 0 24 24\"\n",
              "       width=\"24px\">\n",
              "    <path d=\"M0 0h24v24H0V0z\" fill=\"none\"/>\n",
              "    <path d=\"M18.56 5.44l.94 2.06.94-2.06 2.06-.94-2.06-.94-.94-2.06-.94 2.06-2.06.94zm-11 1L8.5 8.5l.94-2.06 2.06-.94-2.06-.94L8.5 2.5l-.94 2.06-2.06.94zm10 10l.94 2.06.94-2.06 2.06-.94-2.06-.94-.94-2.06-.94 2.06-2.06.94z\"/><path d=\"M17.41 7.96l-1.37-1.37c-.4-.4-.92-.59-1.43-.59-.52 0-1.04.2-1.43.59L10.3 9.45l-7.72 7.72c-.78.78-.78 2.05 0 2.83L4 21.41c.39.39.9.59 1.41.59.51 0 1.02-.2 1.41-.59l7.78-7.78 2.81-2.81c.8-.78.8-2.07 0-2.86zM5.41 20L4 18.59l7.72-7.72 1.47 1.35L5.41 20z\"/>\n",
              "  </svg>\n",
              "      </button>\n",
              "      \n",
              "  <style>\n",
              "    .colab-df-container {\n",
              "      display:flex;\n",
              "      flex-wrap:wrap;\n",
              "      gap: 12px;\n",
              "    }\n",
              "\n",
              "    .colab-df-convert {\n",
              "      background-color: #E8F0FE;\n",
              "      border: none;\n",
              "      border-radius: 50%;\n",
              "      cursor: pointer;\n",
              "      display: none;\n",
              "      fill: #1967D2;\n",
              "      height: 32px;\n",
              "      padding: 0 0 0 0;\n",
              "      width: 32px;\n",
              "    }\n",
              "\n",
              "    .colab-df-convert:hover {\n",
              "      background-color: #E2EBFA;\n",
              "      box-shadow: 0px 1px 2px rgba(60, 64, 67, 0.3), 0px 1px 3px 1px rgba(60, 64, 67, 0.15);\n",
              "      fill: #174EA6;\n",
              "    }\n",
              "\n",
              "    [theme=dark] .colab-df-convert {\n",
              "      background-color: #3B4455;\n",
              "      fill: #D2E3FC;\n",
              "    }\n",
              "\n",
              "    [theme=dark] .colab-df-convert:hover {\n",
              "      background-color: #434B5C;\n",
              "      box-shadow: 0px 1px 3px 1px rgba(0, 0, 0, 0.15);\n",
              "      filter: drop-shadow(0px 1px 2px rgba(0, 0, 0, 0.3));\n",
              "      fill: #FFFFFF;\n",
              "    }\n",
              "  </style>\n",
              "\n",
              "      <script>\n",
              "        const buttonEl =\n",
              "          document.querySelector('#df-f1b18cf8-0cbb-4bfd-9f7e-9403a8adb953 button.colab-df-convert');\n",
              "        buttonEl.style.display =\n",
              "          google.colab.kernel.accessAllowed ? 'block' : 'none';\n",
              "\n",
              "        async function convertToInteractive(key) {\n",
              "          const element = document.querySelector('#df-f1b18cf8-0cbb-4bfd-9f7e-9403a8adb953');\n",
              "          const dataTable =\n",
              "            await google.colab.kernel.invokeFunction('convertToInteractive',\n",
              "                                                     [key], {});\n",
              "          if (!dataTable) return;\n",
              "\n",
              "          const docLinkHtml = 'Like what you see? Visit the ' +\n",
              "            '<a target=\"_blank\" href=https://colab.research.google.com/notebooks/data_table.ipynb>data table notebook</a>'\n",
              "            + ' to learn more about interactive tables.';\n",
              "          element.innerHTML = '';\n",
              "          dataTable['output_type'] = 'display_data';\n",
              "          await google.colab.output.renderOutput(dataTable, element);\n",
              "          const docLink = document.createElement('div');\n",
              "          docLink.innerHTML = docLinkHtml;\n",
              "          element.appendChild(docLink);\n",
              "        }\n",
              "      </script>\n",
              "    </div>\n",
              "  </div>\n",
              "  "
            ],
            "text/plain": [
              "         0         1         2         3    4    5    6    7    8    9   ...  \\\n",
              "0  0.689150  0.289487 -0.387597  0.382503  4.0  1.0  0.0  1.0  0.0  0.0  ...   \n",
              "1  0.189763  0.010677 -2.318512  0.055882  4.0  1.0  0.0  0.0  0.0  0.0  ...   \n",
              "2  0.389518 -0.816462 -2.500245 -0.740618  4.0  1.0  0.0  0.0  0.0  0.0  ...   \n",
              "3 -0.534349 -0.466555  1.202569 -0.488400  6.0  0.0  1.0  0.0  0.0  0.0  ...   \n",
              "4 -0.109870  0.103614  0.293903  0.107003  4.0  0.0  0.0  0.0  0.0  0.0  ...   \n",
              "\n",
              "    31   32   33   34   35   36   37   38   39   40  \n",
              "0  0.0  0.0  0.0  0.0  0.0  0.0  0.0  1.0  0.0  0.0  \n",
              "1  0.0  0.0  0.0  0.0  0.0  0.0  0.0  1.0  0.0  0.0  \n",
              "2  0.0  0.0  0.0  0.0  0.0  0.0  1.0  0.0  0.0  0.0  \n",
              "3  0.0  0.0  0.0  0.0  0.0  0.0  0.0  0.0  0.0  1.0  \n",
              "4  0.0  0.0  0.0  0.0  0.0  0.0  0.0  0.0  1.0  0.0  \n",
              "\n",
              "[5 rows x 41 columns]"
            ]
          },
          "execution_count": 113,
          "metadata": {},
          "output_type": "execute_result"
        }
      ],
      "source": [
        "# showing pre-processed training dataset\n",
        "X_train_prepared.head()"
      ]
    },
    {
      "cell_type": "code",
      "execution_count": null,
      "metadata": {
        "colab": {
          "base_uri": "https://localhost:8080/"
        },
        "id": "ekZ6RFwopmns",
        "outputId": "e6b4885a-ba0f-4a80-dd97-eef197259e46"
      },
      "outputs": [
        {
          "name": "stdout",
          "output_type": "stream",
          "text": [
            "<class 'pandas.core.frame.DataFrame'>\n",
            "RangeIndex: 4202 entries, 0 to 4201\n",
            "Data columns (total 41 columns):\n",
            " #   Column  Non-Null Count  Dtype  \n",
            "---  ------  --------------  -----  \n",
            " 0   0       4202 non-null   float64\n",
            " 1   1       4202 non-null   float64\n",
            " 2   2       4202 non-null   float64\n",
            " 3   3       4202 non-null   float64\n",
            " 4   4       4202 non-null   float64\n",
            " 5   5       4202 non-null   float64\n",
            " 6   6       4202 non-null   float64\n",
            " 7   7       4202 non-null   float64\n",
            " 8   8       4202 non-null   float64\n",
            " 9   9       4202 non-null   float64\n",
            " 10  10      4202 non-null   float64\n",
            " 11  11      4202 non-null   float64\n",
            " 12  12      4202 non-null   float64\n",
            " 13  13      4202 non-null   float64\n",
            " 14  14      4202 non-null   float64\n",
            " 15  15      4202 non-null   float64\n",
            " 16  16      4202 non-null   float64\n",
            " 17  17      4202 non-null   float64\n",
            " 18  18      4202 non-null   float64\n",
            " 19  19      4202 non-null   float64\n",
            " 20  20      4202 non-null   float64\n",
            " 21  21      4202 non-null   float64\n",
            " 22  22      4202 non-null   float64\n",
            " 23  23      4202 non-null   float64\n",
            " 24  24      4202 non-null   float64\n",
            " 25  25      4202 non-null   float64\n",
            " 26  26      4202 non-null   float64\n",
            " 27  27      4202 non-null   float64\n",
            " 28  28      4202 non-null   float64\n",
            " 29  29      4202 non-null   float64\n",
            " 30  30      4202 non-null   float64\n",
            " 31  31      4202 non-null   float64\n",
            " 32  32      4202 non-null   float64\n",
            " 33  33      4202 non-null   float64\n",
            " 34  34      4202 non-null   float64\n",
            " 35  35      4202 non-null   float64\n",
            " 36  36      4202 non-null   float64\n",
            " 37  37      4202 non-null   float64\n",
            " 38  38      4202 non-null   float64\n",
            " 39  39      4202 non-null   float64\n",
            " 40  40      4202 non-null   float64\n",
            "dtypes: float64(41)\n",
            "memory usage: 1.3 MB\n"
          ]
        }
      ],
      "source": [
        "X_train_prepared.info()"
      ]
    },
    {
      "cell_type": "markdown",
      "metadata": {
        "id": "k7ADu3Fqpoom"
      },
      "source": [
        "##### Send pre-processed train_data to excel (labels too)"
      ]
    },
    {
      "cell_type": "code",
      "execution_count": null,
      "metadata": {
        "id": "w8siwpjlpnG_"
      },
      "outputs": [],
      "source": [
        "X_train_prepared.to_excel(\"X_patients_train.xlsx\")\n",
        "patients_labels.to_excel('y_patients_train.xlsx')"
      ]
    },
    {
      "cell_type": "markdown",
      "metadata": {
        "id": "GzKWibfCptPO"
      },
      "source": [
        "## Making Sure Pre-processed training set works with basic model"
      ]
    },
    {
      "cell_type": "code",
      "execution_count": null,
      "metadata": {
        "colab": {
          "base_uri": "https://localhost:8080/"
        },
        "id": "r4DVpo-4ppiU",
        "outputId": "3b5e846c-a4ae-4868-87c8-9d9b4d74305c"
      },
      "outputs": [
        {
          "data": {
            "text/plain": [
              "LinearRegression()"
            ]
          },
          "execution_count": 116,
          "metadata": {},
          "output_type": "execute_result"
        }
      ],
      "source": [
        "from sklearn.linear_model import LinearRegression\n",
        "\n",
        "lin_reg = LinearRegression()\n",
        "lin_reg.fit(X_train_prepared, patients_labels)"
      ]
    },
    {
      "cell_type": "code",
      "execution_count": null,
      "metadata": {
        "colab": {
          "base_uri": "https://localhost:8080/"
        },
        "id": "TdYxKzQApzxB",
        "outputId": "5d290329-46c8-4e49-c7a5-489ff75df7b8"
      },
      "outputs": [
        {
          "data": {
            "text/plain": [
              "813     38.500000\n",
              "4632     7.000000\n",
              "829     14.000000\n",
              "4969    39.974286\n",
              "5151    32.500000\n",
              "          ...    \n",
              "1692    33.250000\n",
              "4154    41.250000\n",
              "1921    45.000000\n",
              "1282    22.500000\n",
              "1107    24.000000\n",
              "Name: Therapeutic Dose of Warfarin, Length: 4202, dtype: float64"
            ]
          },
          "execution_count": 117,
          "metadata": {},
          "output_type": "execute_result"
        }
      ],
      "source": [
        "patients_labels"
      ]
    },
    {
      "cell_type": "code",
      "execution_count": null,
      "metadata": {
        "colab": {
          "base_uri": "https://localhost:8080/"
        },
        "id": "aCiN0vwWp0cF",
        "outputId": "54281534-042d-4602-97c5-96f1bddcfe1b"
      },
      "outputs": [
        {
          "data": {
            "text/plain": [
              "12.45383742691575"
            ]
          },
          "execution_count": 118,
          "metadata": {},
          "output_type": "execute_result"
        }
      ],
      "source": [
        "from sklearn.metrics import mean_squared_error\n",
        "\n",
        "patients_predictions = lin_reg.predict(X_train_prepared)\n",
        "lin_mse = mean_squared_error(patients_labels, patients_predictions)\n",
        "lin_rmse = np.sqrt(lin_mse)\n",
        "lin_rmse"
      ]
    },
    {
      "cell_type": "markdown",
      "metadata": {
        "id": "wMB33z2up5uL"
      },
      "source": [
        "## Pre-processing on Test Set (currently stored in strat_test_set)\n",
        "##### note: strat_test_set contains features and labels\n",
        "##### produces X_test_prepared and y_test"
      ]
    },
    {
      "cell_type": "markdown",
      "metadata": {
        "id": "kYAB7FrIp9x4"
      },
      "source": [
        "#### Separate strat_test_set features from labels\n",
        "##### stored in X_test and y_test"
      ]
    },
    {
      "cell_type": "code",
      "execution_count": null,
      "metadata": {
        "id": "uTpQyntHp2ed"
      },
      "outputs": [],
      "source": [
        "X_test = strat_test_set.drop(\"Therapeutic Dose of Warfarin\", axis=1)\n",
        "y_test = strat_test_set[\"Therapeutic Dose of Warfarin\"].copy()"
      ]
    },
    {
      "cell_type": "markdown",
      "metadata": {
        "id": "rp-K4sRDqDK1"
      },
      "source": [
        "#### Send X_test to pre-processing function/pipeline\n",
        "##### stored in X_test_prepared"
      ]
    },
    {
      "cell_type": "code",
      "execution_count": null,
      "metadata": {
        "id": "AvzHxN30p8p9"
      },
      "outputs": [],
      "source": [
        "X_test_prepared = full_preprocess_function(X_test)"
      ]
    },
    {
      "cell_type": "markdown",
      "metadata": {
        "id": "D88y6cEOqHem"
      },
      "source": [
        "##### Send pre-processed test_data to excel (labels too)"
      ]
    },
    {
      "cell_type": "code",
      "execution_count": null,
      "metadata": {
        "id": "ruPi8tvgqIAB"
      },
      "outputs": [],
      "source": [
        "X_test_prepared.to_excel(\"X_patients_test.xlsx\")\n",
        "y_test.to_excel(\"y_patients_test.xlsx\")"
      ]
    },
    {
      "cell_type": "markdown",
      "metadata": {
        "id": "uyNVOH1pqJoL"
      },
      "source": [
        "## Making sure Pre-processed testing set works with simple regression model"
      ]
    },
    {
      "cell_type": "code",
      "execution_count": null,
      "metadata": {
        "id": "6_OFmWp5qMo1"
      },
      "outputs": [],
      "source": [
        "test_predictions = lin_reg.predict(X_test_prepared)"
      ]
    },
    {
      "cell_type": "markdown",
      "metadata": {
        "id": "N_jl3xlUqQSy"
      },
      "source": [
        "#### Evaluate mse and rmse"
      ]
    },
    {
      "cell_type": "code",
      "execution_count": null,
      "metadata": {
        "id": "EDWyiohpqOtT"
      },
      "outputs": [],
      "source": [
        "test_mse = mean_squared_error(y_test, test_predictions)\n",
        "test_rmse = np.sqrt(test_mse)"
      ]
    },
    {
      "cell_type": "code",
      "execution_count": null,
      "metadata": {
        "colab": {
          "base_uri": "https://localhost:8080/"
        },
        "id": "9z3RghK0qSj6",
        "outputId": "b32de5a1-d366-4274-a52b-acfcfc3c12b1"
      },
      "outputs": [
        {
          "data": {
            "text/plain": [
              "11.799842965950868"
            ]
          },
          "execution_count": 124,
          "metadata": {},
          "output_type": "execute_result"
        }
      ],
      "source": [
        "test_rmse"
      ]
    },
    {
      "cell_type": "markdown",
      "metadata": {
        "id": "8K4wUh32qYYe"
      },
      "source": [
        "## Pre-processing on Validation Set\n",
        "##### produces X_val_prepared and y_val"
      ]
    },
    {
      "cell_type": "markdown",
      "metadata": {
        "id": "eDEhfEIXqdnB"
      },
      "source": [
        "#### Dropping nan labels and Separating validation_set features from labels\n",
        "##### oridinally stored in 'X_val' and 'y_val'"
      ]
    },
    {
      "cell_type": "code",
      "execution_count": null,
      "metadata": {
        "id": "6mOGe6rkqT_c"
      },
      "outputs": [],
      "source": [
        "validation_set.dropna(subset=['Therapeutic Dose of Warfarin'], inplace=True)\n",
        "X_val = validation_set.drop(\"Therapeutic Dose of Warfarin\", axis=1)\n",
        "y_val = validation_set[\"Therapeutic Dose of Warfarin\"].copy()"
      ]
    },
    {
      "cell_type": "markdown",
      "metadata": {
        "id": "NjxQRdj9ql8R"
      },
      "source": [
        "## Sending a single instance from X_val through pre-processing pipeline and making sure it works with simple regression model"
      ]
    },
    {
      "cell_type": "code",
      "execution_count": null,
      "metadata": {
        "colab": {
          "base_uri": "https://localhost:8080/"
        },
        "id": "1lyd27wiqbdt",
        "outputId": "7c7a9d5b-9e52-47a9-94cd-82ad83ba64f2"
      },
      "outputs": [
        {
          "data": {
            "text/plain": [
              "Gender                                                                    female\n",
              "Race (Reported)                                                      Han Chinese\n",
              "Age                                                                      70 - 79\n",
              "Height (cm)                                                             150.0124\n",
              "Weight (kg)                                                                 53.0\n",
              "Diabetes                                                                     0.0\n",
              "Simvastatin (Zocor)                                                          0.0\n",
              "Amiodarone (Cordarone)                                                       0.0\n",
              "Target INR                                                                   NaN\n",
              "INR on Reported Therapeutic Dose of Warfarin                                2.16\n",
              "Cyp2C9 genotypes                                                           *1/*1\n",
              "VKORC1 genotype: -1639 G>A (3673); chr16:31015190; rs9923231; C/T            A/A\n",
              "Name: 1448, dtype: object"
            ]
          },
          "execution_count": 126,
          "metadata": {},
          "output_type": "execute_result"
        }
      ],
      "source": [
        "trial = X_val.iloc[3]\n",
        "trial"
      ]
    },
    {
      "cell_type": "code",
      "execution_count": null,
      "metadata": {
        "colab": {
          "base_uri": "https://localhost:8080/"
        },
        "id": "-fq7Zes4qqdA",
        "outputId": "c18547ad-bf53-438b-86f8-090be116d661"
      },
      "outputs": [
        {
          "data": {
            "text/plain": [
              "(12,)"
            ]
          },
          "execution_count": 127,
          "metadata": {},
          "output_type": "execute_result"
        }
      ],
      "source": [
        "trial.shape"
      ]
    },
    {
      "cell_type": "code",
      "execution_count": null,
      "metadata": {
        "id": "2Ug9_g81qq62"
      },
      "outputs": [],
      "source": [
        "trial_df = series_to_df(trial)"
      ]
    },
    {
      "cell_type": "code",
      "execution_count": null,
      "metadata": {
        "colab": {
          "base_uri": "https://localhost:8080/",
          "height": 159
        },
        "id": "mFYtkbuXqsgu",
        "outputId": "f79de416-6d2e-4f6a-eda8-fe09f3eb4d2e"
      },
      "outputs": [
        {
          "data": {
            "text/html": [
              "\n",
              "  <div id=\"df-86542d9b-0e9b-4533-b4e5-e3ad8c63c55c\">\n",
              "    <div class=\"colab-df-container\">\n",
              "      <div>\n",
              "<style scoped>\n",
              "    .dataframe tbody tr th:only-of-type {\n",
              "        vertical-align: middle;\n",
              "    }\n",
              "\n",
              "    .dataframe tbody tr th {\n",
              "        vertical-align: top;\n",
              "    }\n",
              "\n",
              "    .dataframe thead th {\n",
              "        text-align: right;\n",
              "    }\n",
              "</style>\n",
              "<table border=\"1\" class=\"dataframe\">\n",
              "  <thead>\n",
              "    <tr style=\"text-align: right;\">\n",
              "      <th></th>\n",
              "      <th>Gender</th>\n",
              "      <th>Race (Reported)</th>\n",
              "      <th>Age</th>\n",
              "      <th>Height (cm)</th>\n",
              "      <th>Weight (kg)</th>\n",
              "      <th>Diabetes</th>\n",
              "      <th>Simvastatin (Zocor)</th>\n",
              "      <th>Amiodarone (Cordarone)</th>\n",
              "      <th>Target INR</th>\n",
              "      <th>INR on Reported Therapeutic Dose of Warfarin</th>\n",
              "      <th>Cyp2C9 genotypes</th>\n",
              "      <th>VKORC1 genotype: -1639 G&gt;A (3673); chr16:31015190; rs9923231; C/T</th>\n",
              "    </tr>\n",
              "  </thead>\n",
              "  <tbody>\n",
              "    <tr>\n",
              "      <th>1448</th>\n",
              "      <td>female</td>\n",
              "      <td>Han Chinese</td>\n",
              "      <td>70 - 79</td>\n",
              "      <td>150.0124</td>\n",
              "      <td>53.0</td>\n",
              "      <td>0.0</td>\n",
              "      <td>0.0</td>\n",
              "      <td>0.0</td>\n",
              "      <td>NaN</td>\n",
              "      <td>2.16</td>\n",
              "      <td>*1/*1</td>\n",
              "      <td>A/A</td>\n",
              "    </tr>\n",
              "  </tbody>\n",
              "</table>\n",
              "</div>\n",
              "      <button class=\"colab-df-convert\" onclick=\"convertToInteractive('df-86542d9b-0e9b-4533-b4e5-e3ad8c63c55c')\"\n",
              "              title=\"Convert this dataframe to an interactive table.\"\n",
              "              style=\"display:none;\">\n",
              "        \n",
              "  <svg xmlns=\"http://www.w3.org/2000/svg\" height=\"24px\"viewBox=\"0 0 24 24\"\n",
              "       width=\"24px\">\n",
              "    <path d=\"M0 0h24v24H0V0z\" fill=\"none\"/>\n",
              "    <path d=\"M18.56 5.44l.94 2.06.94-2.06 2.06-.94-2.06-.94-.94-2.06-.94 2.06-2.06.94zm-11 1L8.5 8.5l.94-2.06 2.06-.94-2.06-.94L8.5 2.5l-.94 2.06-2.06.94zm10 10l.94 2.06.94-2.06 2.06-.94-2.06-.94-.94-2.06-.94 2.06-2.06.94z\"/><path d=\"M17.41 7.96l-1.37-1.37c-.4-.4-.92-.59-1.43-.59-.52 0-1.04.2-1.43.59L10.3 9.45l-7.72 7.72c-.78.78-.78 2.05 0 2.83L4 21.41c.39.39.9.59 1.41.59.51 0 1.02-.2 1.41-.59l7.78-7.78 2.81-2.81c.8-.78.8-2.07 0-2.86zM5.41 20L4 18.59l7.72-7.72 1.47 1.35L5.41 20z\"/>\n",
              "  </svg>\n",
              "      </button>\n",
              "      \n",
              "  <style>\n",
              "    .colab-df-container {\n",
              "      display:flex;\n",
              "      flex-wrap:wrap;\n",
              "      gap: 12px;\n",
              "    }\n",
              "\n",
              "    .colab-df-convert {\n",
              "      background-color: #E8F0FE;\n",
              "      border: none;\n",
              "      border-radius: 50%;\n",
              "      cursor: pointer;\n",
              "      display: none;\n",
              "      fill: #1967D2;\n",
              "      height: 32px;\n",
              "      padding: 0 0 0 0;\n",
              "      width: 32px;\n",
              "    }\n",
              "\n",
              "    .colab-df-convert:hover {\n",
              "      background-color: #E2EBFA;\n",
              "      box-shadow: 0px 1px 2px rgba(60, 64, 67, 0.3), 0px 1px 3px 1px rgba(60, 64, 67, 0.15);\n",
              "      fill: #174EA6;\n",
              "    }\n",
              "\n",
              "    [theme=dark] .colab-df-convert {\n",
              "      background-color: #3B4455;\n",
              "      fill: #D2E3FC;\n",
              "    }\n",
              "\n",
              "    [theme=dark] .colab-df-convert:hover {\n",
              "      background-color: #434B5C;\n",
              "      box-shadow: 0px 1px 3px 1px rgba(0, 0, 0, 0.15);\n",
              "      filter: drop-shadow(0px 1px 2px rgba(0, 0, 0, 0.3));\n",
              "      fill: #FFFFFF;\n",
              "    }\n",
              "  </style>\n",
              "\n",
              "      <script>\n",
              "        const buttonEl =\n",
              "          document.querySelector('#df-86542d9b-0e9b-4533-b4e5-e3ad8c63c55c button.colab-df-convert');\n",
              "        buttonEl.style.display =\n",
              "          google.colab.kernel.accessAllowed ? 'block' : 'none';\n",
              "\n",
              "        async function convertToInteractive(key) {\n",
              "          const element = document.querySelector('#df-86542d9b-0e9b-4533-b4e5-e3ad8c63c55c');\n",
              "          const dataTable =\n",
              "            await google.colab.kernel.invokeFunction('convertToInteractive',\n",
              "                                                     [key], {});\n",
              "          if (!dataTable) return;\n",
              "\n",
              "          const docLinkHtml = 'Like what you see? Visit the ' +\n",
              "            '<a target=\"_blank\" href=https://colab.research.google.com/notebooks/data_table.ipynb>data table notebook</a>'\n",
              "            + ' to learn more about interactive tables.';\n",
              "          element.innerHTML = '';\n",
              "          dataTable['output_type'] = 'display_data';\n",
              "          await google.colab.output.renderOutput(dataTable, element);\n",
              "          const docLink = document.createElement('div');\n",
              "          docLink.innerHTML = docLinkHtml;\n",
              "          element.appendChild(docLink);\n",
              "        }\n",
              "      </script>\n",
              "    </div>\n",
              "  </div>\n",
              "  "
            ],
            "text/plain": [
              "      Gender Race (Reported)      Age Height (cm) Weight (kg) Diabetes  \\\n",
              "1448  female     Han Chinese  70 - 79    150.0124        53.0      0.0   \n",
              "\n",
              "     Simvastatin (Zocor) Amiodarone (Cordarone) Target INR  \\\n",
              "1448                 0.0                    0.0        NaN   \n",
              "\n",
              "     INR on Reported Therapeutic Dose of Warfarin Cyp2C9 genotypes  \\\n",
              "1448                                         2.16            *1/*1   \n",
              "\n",
              "     VKORC1 genotype: -1639 G>A (3673); chr16:31015190; rs9923231; C/T  \n",
              "1448                                                A/A                 "
            ]
          },
          "execution_count": 129,
          "metadata": {},
          "output_type": "execute_result"
        }
      ],
      "source": [
        "# example of input for full_preprocessing_function()\n",
        "trial_df"
      ]
    },
    {
      "cell_type": "code",
      "execution_count": null,
      "metadata": {
        "id": "dYkRKxu_qt8-"
      },
      "outputs": [],
      "source": [
        "X_val_trial = full_preprocess_function(trial_df)"
      ]
    },
    {
      "cell_type": "code",
      "execution_count": null,
      "metadata": {
        "colab": {
          "base_uri": "https://localhost:8080/",
          "height": 110
        },
        "id": "Sds2pY__qwPH",
        "outputId": "92ff70c3-347a-481f-f1f4-409062659458"
      },
      "outputs": [
        {
          "data": {
            "text/html": [
              "\n",
              "  <div id=\"df-da020c7d-caaa-4aeb-a1ec-4c072334f1bf\">\n",
              "    <div class=\"colab-df-container\">\n",
              "      <div>\n",
              "<style scoped>\n",
              "    .dataframe tbody tr th:only-of-type {\n",
              "        vertical-align: middle;\n",
              "    }\n",
              "\n",
              "    .dataframe tbody tr th {\n",
              "        vertical-align: top;\n",
              "    }\n",
              "\n",
              "    .dataframe thead th {\n",
              "        text-align: right;\n",
              "    }\n",
              "</style>\n",
              "<table border=\"1\" class=\"dataframe\">\n",
              "  <thead>\n",
              "    <tr style=\"text-align: right;\">\n",
              "      <th></th>\n",
              "      <th>0</th>\n",
              "      <th>1</th>\n",
              "      <th>2</th>\n",
              "      <th>3</th>\n",
              "      <th>4</th>\n",
              "      <th>5</th>\n",
              "      <th>6</th>\n",
              "      <th>7</th>\n",
              "      <th>8</th>\n",
              "      <th>9</th>\n",
              "      <th>...</th>\n",
              "      <th>31</th>\n",
              "      <th>32</th>\n",
              "      <th>33</th>\n",
              "      <th>34</th>\n",
              "      <th>35</th>\n",
              "      <th>36</th>\n",
              "      <th>37</th>\n",
              "      <th>38</th>\n",
              "      <th>39</th>\n",
              "      <th>40</th>\n",
              "    </tr>\n",
              "  </thead>\n",
              "  <tbody>\n",
              "    <tr>\n",
              "      <th>0</th>\n",
              "      <td>-1.767836</td>\n",
              "      <td>-1.151035</td>\n",
              "      <td>-0.478463</td>\n",
              "      <td>-1.295217</td>\n",
              "      <td>6.0</td>\n",
              "      <td>0.0</td>\n",
              "      <td>0.0</td>\n",
              "      <td>0.0</td>\n",
              "      <td>0.0</td>\n",
              "      <td>0.0</td>\n",
              "      <td>...</td>\n",
              "      <td>0.0</td>\n",
              "      <td>0.0</td>\n",
              "      <td>0.0</td>\n",
              "      <td>0.0</td>\n",
              "      <td>0.0</td>\n",
              "      <td>0.0</td>\n",
              "      <td>1.0</td>\n",
              "      <td>0.0</td>\n",
              "      <td>0.0</td>\n",
              "      <td>0.0</td>\n",
              "    </tr>\n",
              "  </tbody>\n",
              "</table>\n",
              "<p>1 rows × 41 columns</p>\n",
              "</div>\n",
              "      <button class=\"colab-df-convert\" onclick=\"convertToInteractive('df-da020c7d-caaa-4aeb-a1ec-4c072334f1bf')\"\n",
              "              title=\"Convert this dataframe to an interactive table.\"\n",
              "              style=\"display:none;\">\n",
              "        \n",
              "  <svg xmlns=\"http://www.w3.org/2000/svg\" height=\"24px\"viewBox=\"0 0 24 24\"\n",
              "       width=\"24px\">\n",
              "    <path d=\"M0 0h24v24H0V0z\" fill=\"none\"/>\n",
              "    <path d=\"M18.56 5.44l.94 2.06.94-2.06 2.06-.94-2.06-.94-.94-2.06-.94 2.06-2.06.94zm-11 1L8.5 8.5l.94-2.06 2.06-.94-2.06-.94L8.5 2.5l-.94 2.06-2.06.94zm10 10l.94 2.06.94-2.06 2.06-.94-2.06-.94-.94-2.06-.94 2.06-2.06.94z\"/><path d=\"M17.41 7.96l-1.37-1.37c-.4-.4-.92-.59-1.43-.59-.52 0-1.04.2-1.43.59L10.3 9.45l-7.72 7.72c-.78.78-.78 2.05 0 2.83L4 21.41c.39.39.9.59 1.41.59.51 0 1.02-.2 1.41-.59l7.78-7.78 2.81-2.81c.8-.78.8-2.07 0-2.86zM5.41 20L4 18.59l7.72-7.72 1.47 1.35L5.41 20z\"/>\n",
              "  </svg>\n",
              "      </button>\n",
              "      \n",
              "  <style>\n",
              "    .colab-df-container {\n",
              "      display:flex;\n",
              "      flex-wrap:wrap;\n",
              "      gap: 12px;\n",
              "    }\n",
              "\n",
              "    .colab-df-convert {\n",
              "      background-color: #E8F0FE;\n",
              "      border: none;\n",
              "      border-radius: 50%;\n",
              "      cursor: pointer;\n",
              "      display: none;\n",
              "      fill: #1967D2;\n",
              "      height: 32px;\n",
              "      padding: 0 0 0 0;\n",
              "      width: 32px;\n",
              "    }\n",
              "\n",
              "    .colab-df-convert:hover {\n",
              "      background-color: #E2EBFA;\n",
              "      box-shadow: 0px 1px 2px rgba(60, 64, 67, 0.3), 0px 1px 3px 1px rgba(60, 64, 67, 0.15);\n",
              "      fill: #174EA6;\n",
              "    }\n",
              "\n",
              "    [theme=dark] .colab-df-convert {\n",
              "      background-color: #3B4455;\n",
              "      fill: #D2E3FC;\n",
              "    }\n",
              "\n",
              "    [theme=dark] .colab-df-convert:hover {\n",
              "      background-color: #434B5C;\n",
              "      box-shadow: 0px 1px 3px 1px rgba(0, 0, 0, 0.15);\n",
              "      filter: drop-shadow(0px 1px 2px rgba(0, 0, 0, 0.3));\n",
              "      fill: #FFFFFF;\n",
              "    }\n",
              "  </style>\n",
              "\n",
              "      <script>\n",
              "        const buttonEl =\n",
              "          document.querySelector('#df-da020c7d-caaa-4aeb-a1ec-4c072334f1bf button.colab-df-convert');\n",
              "        buttonEl.style.display =\n",
              "          google.colab.kernel.accessAllowed ? 'block' : 'none';\n",
              "\n",
              "        async function convertToInteractive(key) {\n",
              "          const element = document.querySelector('#df-da020c7d-caaa-4aeb-a1ec-4c072334f1bf');\n",
              "          const dataTable =\n",
              "            await google.colab.kernel.invokeFunction('convertToInteractive',\n",
              "                                                     [key], {});\n",
              "          if (!dataTable) return;\n",
              "\n",
              "          const docLinkHtml = 'Like what you see? Visit the ' +\n",
              "            '<a target=\"_blank\" href=https://colab.research.google.com/notebooks/data_table.ipynb>data table notebook</a>'\n",
              "            + ' to learn more about interactive tables.';\n",
              "          element.innerHTML = '';\n",
              "          dataTable['output_type'] = 'display_data';\n",
              "          await google.colab.output.renderOutput(dataTable, element);\n",
              "          const docLink = document.createElement('div');\n",
              "          docLink.innerHTML = docLinkHtml;\n",
              "          element.appendChild(docLink);\n",
              "        }\n",
              "      </script>\n",
              "    </div>\n",
              "  </div>\n",
              "  "
            ],
            "text/plain": [
              "         0         1         2         3    4    5    6    7    8    9   ...  \\\n",
              "0 -1.767836 -1.151035 -0.478463 -1.295217  6.0  0.0  0.0  0.0  0.0  0.0  ...   \n",
              "\n",
              "    31   32   33   34   35   36   37   38   39   40  \n",
              "0  0.0  0.0  0.0  0.0  0.0  0.0  1.0  0.0  0.0  0.0  \n",
              "\n",
              "[1 rows x 41 columns]"
            ]
          },
          "execution_count": 131,
          "metadata": {},
          "output_type": "execute_result"
        }
      ],
      "source": [
        "# example of pre-processed single test input\n",
        "X_val_trial"
      ]
    },
    {
      "cell_type": "code",
      "execution_count": null,
      "metadata": {
        "id": "22YysFl-qxyv"
      },
      "outputs": [],
      "source": [
        "trial_val_prediction = lin_reg.predict(X_val_trial)"
      ]
    },
    {
      "cell_type": "code",
      "execution_count": null,
      "metadata": {
        "colab": {
          "base_uri": "https://localhost:8080/"
        },
        "id": "c6wC4dV2qzeZ",
        "outputId": "94ad769a-95b7-41f3-c89c-1866b21b8699"
      },
      "outputs": [
        {
          "data": {
            "text/plain": [
              "array([12.51686591])"
            ]
          },
          "execution_count": 133,
          "metadata": {},
          "output_type": "execute_result"
        }
      ],
      "source": [
        "trial_val_prediction"
      ]
    },
    {
      "cell_type": "code",
      "execution_count": null,
      "metadata": {
        "colab": {
          "base_uri": "https://localhost:8080/"
        },
        "id": "_C_XK_D8q0yZ",
        "outputId": "851b55ce-8486-439c-97f3-34854ca1b75c"
      },
      "outputs": [
        {
          "data": {
            "text/plain": [
              "17.5"
            ]
          },
          "execution_count": 134,
          "metadata": {},
          "output_type": "execute_result"
        }
      ],
      "source": [
        "y_trial = y_val.iloc[3]\n",
        "y_trial"
      ]
    },
    {
      "cell_type": "markdown",
      "metadata": {
        "id": "4KZB5Neiq4bF"
      },
      "source": [
        "#### Sending X_val through pre-processing pipeline"
      ]
    },
    {
      "cell_type": "code",
      "execution_count": null,
      "metadata": {
        "id": "86-CK0Niq27N"
      },
      "outputs": [],
      "source": [
        "X_val_prepared = full_preprocess_function(X_val)"
      ]
    },
    {
      "cell_type": "markdown",
      "metadata": {
        "id": "A-R3jMwAq64j"
      },
      "source": [
        "## Making sure pre-processed validation set works with simple regression model"
      ]
    },
    {
      "cell_type": "code",
      "execution_count": null,
      "metadata": {
        "id": "AY3ABTWvq8lW"
      },
      "outputs": [],
      "source": [
        "val_predictions = lin_reg.predict(X_val_prepared)\n",
        "\n",
        "val_mse = mean_squared_error(y_val, val_predictions)\n",
        "val_rmse = np.sqrt(val_mse)"
      ]
    },
    {
      "cell_type": "code",
      "execution_count": null,
      "metadata": {
        "colab": {
          "base_uri": "https://localhost:8080/"
        },
        "id": "ctgYWp0Iq_dA",
        "outputId": "02d0313b-da58-4aaf-fc44-fea65913e0cc"
      },
      "outputs": [
        {
          "data": {
            "text/plain": [
              "20.28586218528997"
            ]
          },
          "execution_count": 137,
          "metadata": {},
          "output_type": "execute_result"
        }
      ],
      "source": [
        "val_rmse"
      ]
    },
    {
      "cell_type": "markdown",
      "metadata": {
        "id": "3P7nPh3DrCfq"
      },
      "source": [
        "##### Send pre-processed validation_data to excel (labels too)"
      ]
    },
    {
      "cell_type": "code",
      "execution_count": null,
      "metadata": {
        "id": "exhgBurLrC8M"
      },
      "outputs": [],
      "source": [
        "X_val_prepared.to_excel(\"X_patients_val.xlsx\")\n",
        "y_val.to_excel(\"y_patients_val.xlsx\")"
      ]
    },
    {
      "cell_type": "markdown",
      "metadata": {
        "id": "hKMIozOMVqCI"
      },
      "source": [
        "#**PART II ----> ML MODELS FOR BINAY CLASSIFICATION**\n",
        "\n",
        "\n",
        "\n"
      ]
    },
    {
      "cell_type": "markdown",
      "metadata": {
        "id": "LYexK3-kWEju"
      },
      "source": [
        "**First let's create a binary classification dataset by cutting the target values into two categories (<30 mg , >=30 mg)**"
      ]
    },
    {
      "cell_type": "code",
      "execution_count": null,
      "metadata": {
        "colab": {
          "base_uri": "https://localhost:8080/"
        },
        "id": "JegWz0tSVz1y",
        "outputId": "a8853c00-9818-4855-a2cb-68ff2d8a2719"
      },
      "outputs": [
        {
          "name": "stdout",
          "output_type": "stream",
          "text": [
            "binary train labels: 813      True\n",
            "4632    False\n",
            "829     False\n",
            "4969     True\n",
            "5151     True\n",
            "        ...  \n",
            "1692     True\n",
            "4154     True\n",
            "1921     True\n",
            "1282    False\n",
            "1107    False\n",
            "Name: Therapeutic Dose of Warfarin, Length: 4202, dtype: bool\n",
            "binary train labels: 4986    False\n",
            "1622     True\n",
            "608      True\n",
            "788      True\n",
            "4046    False\n",
            "        ...  \n",
            "2145    False\n",
            "3709    False\n",
            "3553    False\n",
            "3944    False\n",
            "1300     True\n",
            "Name: Therapeutic Dose of Warfarin, Length: 1051, dtype: bool\n",
            "binary validation labels: 1436    False\n",
            "748     False\n",
            "4596     True\n",
            "1448    False\n",
            "2543     True\n",
            "        ...  \n",
            "2841     True\n",
            "4840     True\n",
            "453     False\n",
            "691     False\n",
            "1743     True\n",
            "Name: Therapeutic Dose of Warfarin, Length: 271, dtype: bool\n"
          ]
        }
      ],
      "source": [
        "import numpy as np\n",
        "\n",
        "y_train = patients_labels\n",
        "\n",
        "#Preparing training/testing data for binary classifier\n",
        "train_label_binary = (y_train >= 30)\n",
        "print(\"binary train labels:\", train_label_binary)\n",
        "\n",
        "# print(\"original test labels:\", y_test)\n",
        "test_label_binary = (y_test >= 30)\n",
        "print(\"binary train labels:\", test_label_binary)\n",
        "\n",
        "validation_label_binary = (y_val >= 30)\n",
        "print(\"binary validation labels:\", validation_label_binary)"
      ]
    },
    {
      "cell_type": "code",
      "execution_count": null,
      "metadata": {
        "id": "PRn5KpFKDUqy"
      },
      "outputs": [],
      "source": []
    },
    {
      "cell_type": "markdown",
      "metadata": {
        "id": "CpZxYV8QdyxS"
      },
      "source": [
        "## 1.LOGISTIC REGRERSSION MODEL\n",
        "\n",
        "Logistic regression can be used for binary classification because it estimates the probability that one instance belogns to a class or not. So by using a probability threshold e.g 50%, it classifies the instances in positive class (1) if the probability is greater than 50 %. otherwise the instances will be classified in negative class (0). So, this model works in the same way as the Linear Regression but instead of outputing the result, it outputs the logistic of the result."
      ]
    },
    {
      "cell_type": "code",
      "execution_count": null,
      "metadata": {
        "colab": {
          "base_uri": "https://localhost:8080/"
        },
        "id": "ax0Ilnksd2Y5",
        "outputId": "d65a683c-220b-401e-ffd1-029235d682bb"
      },
      "outputs": [
        {
          "name": "stderr",
          "output_type": "stream",
          "text": [
            "/usr/local/lib/python3.8/dist-packages/sklearn/linear_model/_logistic.py:814: ConvergenceWarning: lbfgs failed to converge (status=1):\n",
            "STOP: TOTAL NO. of ITERATIONS REACHED LIMIT.\n",
            "\n",
            "Increase the number of iterations (max_iter) or scale the data as shown in:\n",
            "    https://scikit-learn.org/stable/modules/preprocessing.html\n",
            "Please also refer to the documentation for alternative solver options:\n",
            "    https://scikit-learn.org/stable/modules/linear_model.html#logistic-regression\n",
            "  n_iter_i = _check_optimize_result(\n"
          ]
        },
        {
          "data": {
            "text/plain": [
              "array([ True,  True, False, ...,  True,  True,  True])"
            ]
          },
          "execution_count": 140,
          "metadata": {},
          "output_type": "execute_result"
        }
      ],
      "source": [
        "from sklearn.linear_model import LogisticRegression\n",
        "log_regression = LogisticRegression(penalty = 'l2', C = 1, random_state = 0 )\n",
        "log_regression.fit(X_train_prepared, train_label_binary.values.ravel())\n",
        "log_prediction = log_regression.predict(X_train_prepared)\n",
        "log_prediction"
      ]
    },
    {
      "cell_type": "markdown",
      "metadata": {
        "id": "zUX1Un-wh6ZH"
      },
      "source": [
        "## 2.SUPPORT VECTOR MACHINE\n",
        "The main goal of Support Vector Machines is to fit the widest possible “street” between the classes. So, we need to have a large margin between the decision boundary which separates the classes and the training instances. the objective of SVM to find the optimal classifier is bacause the other linear classifiers might separate linear dataset in the correct way but the decision boundary is so close the training instances so that these models will probably not perform as well on new instances. Tha's why SVM tries to find the widest possible \"street\" between the classes.\n"
      ]
    },
    {
      "cell_type": "code",
      "execution_count": null,
      "metadata": {
        "id": "PmrRnop7iCR5"
      },
      "outputs": [],
      "source": [
        "from sklearn.svm import SVC\n",
        "# # define linear kernel,\n",
        "# svm_model_linear = SVC(kernel = \"linear\",C = 1 )\n",
        "# svm_model_linear.fit(X_train_prepared, train_label_binary.values.ravel())\n",
        "# svm_linear_prediction= svm_model_linear.predict(X_train_prepared)\n",
        "# svm_linear_prediction\n",
        "\n"
      ]
    },
    {
      "cell_type": "code",
      "execution_count": null,
      "metadata": {
        "colab": {
          "base_uri": "https://localhost:8080/"
        },
        "id": "nb0PYdEFk3vq",
        "outputId": "610ecd20-b370-4d6a-bb0d-43bdd5bd99ff"
      },
      "outputs": [
        {
          "data": {
            "text/plain": [
              "array([ True,  True, False, ...,  True,  True,  True])"
            ]
          },
          "execution_count": 142,
          "metadata": {},
          "output_type": "execute_result"
        }
      ],
      "source": [
        "# define polynomial kernel, P158\n",
        "svm_model_polynomial = SVC(kernel = \"poly\", degree = 7, C = 7 )\n",
        "svm_model_polynomial.fit(X_train_prepared, train_label_binary.values.ravel())\n",
        "svm_polynomial_prediction = svm_model_polynomial.predict(X_train_prepared)\n",
        "\n",
        "svm_polynomial_prediction"
      ]
    },
    {
      "cell_type": "markdown",
      "metadata": {
        "id": "t_MELteGiqhm"
      },
      "source": [
        "## 3.DECISION TREE MODEL"
      ]
    },
    {
      "cell_type": "code",
      "execution_count": null,
      "metadata": {
        "colab": {
          "base_uri": "https://localhost:8080/"
        },
        "id": "tJLMB4RqVww1",
        "outputId": "0fc579d9-014d-4020-ec2e-b97ffcbf5507"
      },
      "outputs": [
        {
          "data": {
            "text/plain": [
              "array([ True,  True, False, ...,  True, False,  True])"
            ]
          },
          "execution_count": 143,
          "metadata": {},
          "output_type": "execute_result"
        }
      ],
      "source": [
        "from sklearn.tree import DecisionTreeClassifier\n",
        "# define tree model\n",
        "decision_tree_model = DecisionTreeClassifier(max_depth = 5)\n",
        "decision_tree_model.fit(X_train_prepared, train_label_binary.values.ravel())\n",
        "decision_tree_prediction = decision_tree_model.predict(X_train_prepared)\n",
        "decision_tree_prediction"
      ]
    },
    {
      "cell_type": "markdown",
      "metadata": {
        "id": "1QPfHiqPjHF3"
      },
      "source": [
        "## 4.RANDOM FOREST MODEL"
      ]
    },
    {
      "cell_type": "code",
      "execution_count": null,
      "metadata": {
        "colab": {
          "base_uri": "https://localhost:8080/"
        },
        "id": "njVMjVBhjF1h",
        "outputId": "19ffbe93-a3a4-46a6-a813-a62e548572f8"
      },
      "outputs": [
        {
          "data": {
            "text/plain": [
              "array([ True, False, False, ...,  True, False,  True])"
            ]
          },
          "execution_count": 144,
          "metadata": {},
          "output_type": "execute_result"
        }
      ],
      "source": [
        "from sklearn.ensemble import RandomForestClassifier\n",
        "random_forest_model = RandomForestClassifier(n_estimators = 500, max_depth= 10, max_leaf_nodes = -1)\n",
        "random_forest_model.fit(X_train_prepared, train_label_binary.values.ravel())\n",
        "random_forest_prediction = random_forest_model.predict(X_train_prepared)\n",
        "random_forest_prediction"
      ]
    },
    {
      "cell_type": "markdown",
      "metadata": {
        "id": "A5QxPFktRKqT"
      },
      "source": [
        "# 5. NEURAL NETWORK"
      ]
    },
    {
      "cell_type": "code",
      "execution_count": null,
      "metadata": {
        "colab": {
          "base_uri": "https://localhost:8080/"
        },
        "id": "Tcwj_pB6RNHq",
        "outputId": "08bdffb0-fc3f-42c3-e7ea-9f1faaf4f58a"
      },
      "outputs": [
        {
          "name": "stdout",
          "output_type": "stream",
          "text": [
            "Epoch 1/20\n",
            "33/33 [==============================] - 1s 8ms/step - loss: 0.9322 - accuracy: 0.4617 - val_loss: 0.7572 - val_accuracy: 0.4723\n",
            "Epoch 2/20\n",
            "33/33 [==============================] - 0s 3ms/step - loss: 0.6963 - accuracy: 0.5545 - val_loss: 0.6390 - val_accuracy: 0.6494\n",
            "Epoch 3/20\n",
            "33/33 [==============================] - 0s 4ms/step - loss: 0.6379 - accuracy: 0.6397 - val_loss: 0.5971 - val_accuracy: 0.6974\n",
            "Epoch 4/20\n",
            "33/33 [==============================] - 0s 4ms/step - loss: 0.6093 - accuracy: 0.6740 - val_loss: 0.5658 - val_accuracy: 0.7306\n",
            "Epoch 5/20\n",
            "33/33 [==============================] - 0s 4ms/step - loss: 0.5867 - accuracy: 0.6909 - val_loss: 0.5428 - val_accuracy: 0.7454\n",
            "Epoch 6/20\n",
            "33/33 [==============================] - 0s 5ms/step - loss: 0.5683 - accuracy: 0.7085 - val_loss: 0.5227 - val_accuracy: 0.7454\n",
            "Epoch 7/20\n",
            "33/33 [==============================] - 0s 4ms/step - loss: 0.5518 - accuracy: 0.7199 - val_loss: 0.5042 - val_accuracy: 0.7565\n",
            "Epoch 8/20\n",
            "33/33 [==============================] - 0s 4ms/step - loss: 0.5357 - accuracy: 0.7349 - val_loss: 0.4887 - val_accuracy: 0.7491\n",
            "Epoch 9/20\n",
            "33/33 [==============================] - 0s 4ms/step - loss: 0.5215 - accuracy: 0.7408 - val_loss: 0.4729 - val_accuracy: 0.7638\n",
            "Epoch 10/20\n",
            "33/33 [==============================] - 0s 4ms/step - loss: 0.5088 - accuracy: 0.7482 - val_loss: 0.4613 - val_accuracy: 0.7749\n",
            "Epoch 11/20\n",
            "33/33 [==============================] - 0s 4ms/step - loss: 0.4994 - accuracy: 0.7520 - val_loss: 0.4538 - val_accuracy: 0.7934\n",
            "Epoch 12/20\n",
            "33/33 [==============================] - 0s 4ms/step - loss: 0.4934 - accuracy: 0.7575 - val_loss: 0.4463 - val_accuracy: 0.7970\n",
            "Epoch 13/20\n",
            "33/33 [==============================] - 0s 4ms/step - loss: 0.4893 - accuracy: 0.7580 - val_loss: 0.4422 - val_accuracy: 0.8081\n",
            "Epoch 14/20\n",
            "33/33 [==============================] - 0s 4ms/step - loss: 0.4865 - accuracy: 0.7623 - val_loss: 0.4418 - val_accuracy: 0.7712\n",
            "Epoch 15/20\n",
            "33/33 [==============================] - 0s 3ms/step - loss: 0.4850 - accuracy: 0.7623 - val_loss: 0.4382 - val_accuracy: 0.7897\n",
            "Epoch 16/20\n",
            "33/33 [==============================] - 0s 4ms/step - loss: 0.4824 - accuracy: 0.7651 - val_loss: 0.4343 - val_accuracy: 0.8081\n",
            "Epoch 17/20\n",
            "33/33 [==============================] - 0s 4ms/step - loss: 0.4814 - accuracy: 0.7639 - val_loss: 0.4329 - val_accuracy: 0.7860\n",
            "Epoch 18/20\n",
            "33/33 [==============================] - 0s 4ms/step - loss: 0.4807 - accuracy: 0.7687 - val_loss: 0.4318 - val_accuracy: 0.7970\n",
            "Epoch 19/20\n",
            "33/33 [==============================] - 0s 4ms/step - loss: 0.4801 - accuracy: 0.7653 - val_loss: 0.4294 - val_accuracy: 0.8044\n",
            "Epoch 20/20\n",
            "33/33 [==============================] - 0s 4ms/step - loss: 0.4794 - accuracy: 0.7646 - val_loss: 0.4301 - val_accuracy: 0.7934\n",
            "132/132 [==============================] - 0s 1ms/step\n"
          ]
        }
      ],
      "source": [
        "import tensorflow as tf\n",
        "from tensorflow.keras.models import Sequential\n",
        "from tensorflow.keras.layers import Dense\n",
        "from tensorflow.keras.layers import Flatten\n",
        "from tensorflow.keras.layers import Dropout\n",
        "\n",
        "# Define decision threshold\n",
        "NN_threshold = 0.5;\n",
        "\n",
        "def build_NN(n_layers = 3, n_neurons = 1000, dropout = 0):\n",
        "   model = Sequential() # create Sequential model\n",
        "   for i in range(n_layers-1):\n",
        "       model.add(Dense(n_neurons, activation = 'relu'))\n",
        "       model.add(Dropout(dropout))\n",
        "   model.add(Dense(1, activation = 'sigmoid'))  # 2 output neurons for binary classification\n",
        "   model.compile(loss = \"binary_crossentropy\", optimizer = \"adam\", metrics = ['accuracy']) # binary cross-entropy because it's binary classification!\n",
        "   return model\n",
        "\n",
        "# Build random NN\n",
        "NN_model = build_NN(n_layers = 3, n_neurons = 10)\n",
        "\n",
        "train_history = NN_model.fit(X_train_prepared, train_label_binary.values.ravel(), validation_data=(X_val_prepared,validation_label_binary.values.ravel()), batch_size=128, epochs = 20)\n",
        "NN_prediction = NN_model.predict(X_train_prepared)\n",
        "\n",
        "# Prepare prediction to be comparable\n",
        "NN_prediction = (NN_prediction >= NN_threshold)"
      ]
    },
    {
      "cell_type": "markdown",
      "metadata": {
        "id": "isVlI3XojXJz"
      },
      "source": [
        "## **Calculating the performance of each model in the train dataset**"
      ]
    },
    {
      "cell_type": "code",
      "execution_count": null,
      "metadata": {
        "id": "VhxC4L8rjfW_"
      },
      "outputs": [],
      "source": [
        "from sklearn.metrics import accuracy_score, precision_score, recall_score, roc_auc_score, f1_score\n",
        "methods = [decision_tree_prediction, random_forest_prediction,svm_polynomial_prediction,log_prediction,NN_prediction]\n",
        "names = [\"Decision_tree_model\", \"Random_forest_model\",\"Support Vector Machine_model\",\"LogisticRegression_model\",'Neural_network model']\n",
        "accuracy = []\n",
        "precision =[]\n",
        "recall = []\n",
        "ROC = []\n",
        "F1= []\n",
        "for method in methods:\n",
        "  accuracyy = accuracy_score(train_label_binary, method)\n",
        "  accuracy.append(accuracyy)\n",
        "  precision1 = precision_score(train_label_binary, method)\n",
        "  precision.append(precision1)\n",
        "  recall1 = recall_score(train_label_binary, method)\n",
        "  recall.append(recall1)\n",
        "  ROC1 = roc_auc_score(train_label_binary, method)\n",
        "  ROC.append(ROC1)\n",
        "  F11 = f1_score(train_label_binary, method)\n",
        "  F1.append(F11)"
      ]
    },
    {
      "cell_type": "code",
      "execution_count": null,
      "metadata": {
        "colab": {
          "base_uri": "https://localhost:8080/",
          "height": 206
        },
        "id": "KSH9CBkaj2e6",
        "outputId": "6da4d819-36b5-4220-e07f-f07751204e67"
      },
      "outputs": [
        {
          "data": {
            "text/html": [
              "\n",
              "  <div id=\"df-81cb5fab-2e7c-45c0-a20a-f2e360f596ad\">\n",
              "    <div class=\"colab-df-container\">\n",
              "      <div>\n",
              "<style scoped>\n",
              "    .dataframe tbody tr th:only-of-type {\n",
              "        vertical-align: middle;\n",
              "    }\n",
              "\n",
              "    .dataframe tbody tr th {\n",
              "        vertical-align: top;\n",
              "    }\n",
              "\n",
              "    .dataframe thead th {\n",
              "        text-align: right;\n",
              "    }\n",
              "</style>\n",
              "<table border=\"1\" class=\"dataframe\">\n",
              "  <thead>\n",
              "    <tr style=\"text-align: right;\">\n",
              "      <th></th>\n",
              "      <th>Method</th>\n",
              "      <th>Accuracy</th>\n",
              "      <th>Precision</th>\n",
              "      <th>Recall</th>\n",
              "      <th>ROC</th>\n",
              "      <th>F1 score</th>\n",
              "    </tr>\n",
              "  </thead>\n",
              "  <tbody>\n",
              "    <tr>\n",
              "      <th>0</th>\n",
              "      <td>Decision_tree_model</td>\n",
              "      <td>0.747739</td>\n",
              "      <td>0.709946</td>\n",
              "      <td>0.755869</td>\n",
              "      <td>0.748394</td>\n",
              "      <td>0.732188</td>\n",
              "    </tr>\n",
              "    <tr>\n",
              "      <th>1</th>\n",
              "      <td>Random_forest_model</td>\n",
              "      <td>0.844122</td>\n",
              "      <td>0.834926</td>\n",
              "      <td>0.820553</td>\n",
              "      <td>0.842224</td>\n",
              "      <td>0.827677</td>\n",
              "    </tr>\n",
              "    <tr>\n",
              "      <th>2</th>\n",
              "      <td>Support Vector Machine_model</td>\n",
              "      <td>0.781057</td>\n",
              "      <td>0.711139</td>\n",
              "      <td>0.875848</td>\n",
              "      <td>0.788690</td>\n",
              "      <td>0.784946</td>\n",
              "    </tr>\n",
              "    <tr>\n",
              "      <th>3</th>\n",
              "      <td>LogisticRegression_model</td>\n",
              "      <td>0.767492</td>\n",
              "      <td>0.745047</td>\n",
              "      <td>0.745436</td>\n",
              "      <td>0.765716</td>\n",
              "      <td>0.745241</td>\n",
              "    </tr>\n",
              "    <tr>\n",
              "      <th>4</th>\n",
              "      <td>Neural_network model</td>\n",
              "      <td>0.765826</td>\n",
              "      <td>0.746695</td>\n",
              "      <td>0.736568</td>\n",
              "      <td>0.763470</td>\n",
              "      <td>0.741597</td>\n",
              "    </tr>\n",
              "  </tbody>\n",
              "</table>\n",
              "</div>\n",
              "      <button class=\"colab-df-convert\" onclick=\"convertToInteractive('df-81cb5fab-2e7c-45c0-a20a-f2e360f596ad')\"\n",
              "              title=\"Convert this dataframe to an interactive table.\"\n",
              "              style=\"display:none;\">\n",
              "        \n",
              "  <svg xmlns=\"http://www.w3.org/2000/svg\" height=\"24px\"viewBox=\"0 0 24 24\"\n",
              "       width=\"24px\">\n",
              "    <path d=\"M0 0h24v24H0V0z\" fill=\"none\"/>\n",
              "    <path d=\"M18.56 5.44l.94 2.06.94-2.06 2.06-.94-2.06-.94-.94-2.06-.94 2.06-2.06.94zm-11 1L8.5 8.5l.94-2.06 2.06-.94-2.06-.94L8.5 2.5l-.94 2.06-2.06.94zm10 10l.94 2.06.94-2.06 2.06-.94-2.06-.94-.94-2.06-.94 2.06-2.06.94z\"/><path d=\"M17.41 7.96l-1.37-1.37c-.4-.4-.92-.59-1.43-.59-.52 0-1.04.2-1.43.59L10.3 9.45l-7.72 7.72c-.78.78-.78 2.05 0 2.83L4 21.41c.39.39.9.59 1.41.59.51 0 1.02-.2 1.41-.59l7.78-7.78 2.81-2.81c.8-.78.8-2.07 0-2.86zM5.41 20L4 18.59l7.72-7.72 1.47 1.35L5.41 20z\"/>\n",
              "  </svg>\n",
              "      </button>\n",
              "      \n",
              "  <style>\n",
              "    .colab-df-container {\n",
              "      display:flex;\n",
              "      flex-wrap:wrap;\n",
              "      gap: 12px;\n",
              "    }\n",
              "\n",
              "    .colab-df-convert {\n",
              "      background-color: #E8F0FE;\n",
              "      border: none;\n",
              "      border-radius: 50%;\n",
              "      cursor: pointer;\n",
              "      display: none;\n",
              "      fill: #1967D2;\n",
              "      height: 32px;\n",
              "      padding: 0 0 0 0;\n",
              "      width: 32px;\n",
              "    }\n",
              "\n",
              "    .colab-df-convert:hover {\n",
              "      background-color: #E2EBFA;\n",
              "      box-shadow: 0px 1px 2px rgba(60, 64, 67, 0.3), 0px 1px 3px 1px rgba(60, 64, 67, 0.15);\n",
              "      fill: #174EA6;\n",
              "    }\n",
              "\n",
              "    [theme=dark] .colab-df-convert {\n",
              "      background-color: #3B4455;\n",
              "      fill: #D2E3FC;\n",
              "    }\n",
              "\n",
              "    [theme=dark] .colab-df-convert:hover {\n",
              "      background-color: #434B5C;\n",
              "      box-shadow: 0px 1px 3px 1px rgba(0, 0, 0, 0.15);\n",
              "      filter: drop-shadow(0px 1px 2px rgba(0, 0, 0, 0.3));\n",
              "      fill: #FFFFFF;\n",
              "    }\n",
              "  </style>\n",
              "\n",
              "      <script>\n",
              "        const buttonEl =\n",
              "          document.querySelector('#df-81cb5fab-2e7c-45c0-a20a-f2e360f596ad button.colab-df-convert');\n",
              "        buttonEl.style.display =\n",
              "          google.colab.kernel.accessAllowed ? 'block' : 'none';\n",
              "\n",
              "        async function convertToInteractive(key) {\n",
              "          const element = document.querySelector('#df-81cb5fab-2e7c-45c0-a20a-f2e360f596ad');\n",
              "          const dataTable =\n",
              "            await google.colab.kernel.invokeFunction('convertToInteractive',\n",
              "                                                     [key], {});\n",
              "          if (!dataTable) return;\n",
              "\n",
              "          const docLinkHtml = 'Like what you see? Visit the ' +\n",
              "            '<a target=\"_blank\" href=https://colab.research.google.com/notebooks/data_table.ipynb>data table notebook</a>'\n",
              "            + ' to learn more about interactive tables.';\n",
              "          element.innerHTML = '';\n",
              "          dataTable['output_type'] = 'display_data';\n",
              "          await google.colab.output.renderOutput(dataTable, element);\n",
              "          const docLink = document.createElement('div');\n",
              "          docLink.innerHTML = docLinkHtml;\n",
              "          element.appendChild(docLink);\n",
              "        }\n",
              "      </script>\n",
              "    </div>\n",
              "  </div>\n",
              "  "
            ],
            "text/plain": [
              "                         Method  Accuracy  Precision    Recall       ROC  \\\n",
              "0           Decision_tree_model  0.747739   0.709946  0.755869  0.748394   \n",
              "1           Random_forest_model  0.844122   0.834926  0.820553  0.842224   \n",
              "2  Support Vector Machine_model  0.781057   0.711139  0.875848  0.788690   \n",
              "3      LogisticRegression_model  0.767492   0.745047  0.745436  0.765716   \n",
              "4          Neural_network model  0.765826   0.746695  0.736568  0.763470   \n",
              "\n",
              "   F1 score  \n",
              "0  0.732188  \n",
              "1  0.827677  \n",
              "2  0.784946  \n",
              "3  0.745241  \n",
              "4  0.741597  "
            ]
          },
          "execution_count": 150,
          "metadata": {},
          "output_type": "execute_result"
        }
      ],
      "source": [
        "data = {'Method': names,\n",
        "        'Accuracy': accuracy,\n",
        "        'Precision': precision,\n",
        "        'Recall': recall,\n",
        "        'ROC': ROC,\n",
        "        'F1 score': F1,\n",
        "        }\n",
        "evaluation = pd.DataFrame(data, columns=['Method', \"Accuracy\", \"Precision\",\"Recall\", \"ROC\", \"F1 score\"])\n",
        "evaluation"
      ]
    },
    {
      "cell_type": "markdown",
      "metadata": {
        "id": "Nf0OuH4ngosN"
      },
      "source": [
        "## **Let's do a better Evaluation Using Cross-Validation**"
      ]
    },
    {
      "cell_type": "markdown",
      "metadata": {
        "id": "tdHwq_0fhBwZ"
      },
      "source": [
        "**Logistic Regression cross validation**"
      ]
    },
    {
      "cell_type": "code",
      "execution_count": null,
      "metadata": {
        "colab": {
          "base_uri": "https://localhost:8080/"
        },
        "id": "GkwMvCTNg2Z1",
        "outputId": "82b24459-5b5b-481b-ad00-0703d1d2ada9"
      },
      "outputs": [
        {
          "name": "stdout",
          "output_type": "stream",
          "text": [
            "Best penalty: l2\n",
            "Best C: 1\n"
          ]
        }
      ],
      "source": [
        "from sklearn.model_selection import cross_val_score, GridSearchCV\n",
        "from sklearn.linear_model import LogisticRegression\n",
        "log_regression= LogisticRegression(solver ='liblinear')\n",
        "penalty = ['l1', 'l2']\n",
        "C = [1,0.1,0.01,0.001]\n",
        "hyperparameters = dict(C=C, penalty=penalty)\n",
        "classifier = GridSearchCV(log_regression, hyperparameters, cv=10, verbose =0)\n",
        "best_model = classifier.fit(X_train_prepared, train_label_binary )\n",
        "\n",
        "#printing out the best parameters for Logistic Regression model\n",
        "print('Best penalty:', best_model.best_estimator_.get_params()['penalty'])\n",
        "print('Best C:', best_model.best_estimator_.get_params()['C'])"
      ]
    },
    {
      "cell_type": "code",
      "execution_count": null,
      "metadata": {
        "colab": {
          "base_uri": "https://localhost:8080/"
        },
        "id": "WYyLTm0Oh0D4",
        "outputId": "3d515ffd-f7e4-47d7-acef-f4a21cc3fbf4"
      },
      "outputs": [
        {
          "data": {
            "text/plain": [
              "array([ True,  True, False, ...,  True,  True,  True])"
            ]
          },
          "execution_count": 152,
          "metadata": {},
          "output_type": "execute_result"
        }
      ],
      "source": [
        "model = LogisticRegression(solver ='liblinear', **best_model.best_params_)\n",
        "model.fit(X_train_prepared, train_label_binary )\n",
        "logistic_prediction= model.predict(X_train_prepared)\n",
        "logistic_prediction"
      ]
    },
    {
      "cell_type": "code",
      "execution_count": null,
      "metadata": {
        "colab": {
          "base_uri": "https://localhost:8080/"
        },
        "id": "PegiDQUXq2mM",
        "outputId": "34304b1e-d84e-41e7-a48b-8ccabc0acf03"
      },
      "outputs": [
        {
          "name": "stdout",
          "output_type": "stream",
          "text": [
            "0.76 accuracy with a standard deviation of 0.01\n"
          ]
        }
      ],
      "source": [
        "#calculating the accuracy of the model\n",
        "scores = cross_val_score(model, X_train_prepared, train_label_binary )\n",
        "scores\n",
        "print(\"%0.2f accuracy with a standard deviation of %0.2f\" % (scores.mean(), scores.std()))"
      ]
    },
    {
      "cell_type": "code",
      "execution_count": null,
      "metadata": {
        "colab": {
          "base_uri": "https://localhost:8080/",
          "height": 295
        },
        "id": "YdhVNvdplsh4",
        "outputId": "64bb3ca7-c4a3-43aa-cc77-cc7293caa2e5"
      },
      "outputs": [
        {
          "data": {
            "image/png": "[encoded data removed]",
            "text/plain": [
              "<Figure size 432x288 with 1 Axes>"
            ]
          },
          "metadata": {},
          "output_type": "display_data"
        }
      ],
      "source": [
        "from sklearn.model_selection import cross_val_predict\n",
        "from sklearn.metrics import roc_curve\n",
        "\n",
        "y_scores = cross_val_predict(model, X_train_prepared, train_label_binary, cv= 10, method = \"decision_function\")  #decision_function\n",
        "fpr, tpr, thresholds = roc_curve (train_label_binary, y_scores)\n",
        "\n",
        "def plot_roc_curve(fpr, tpr, label =None):\n",
        "  plt.plot(fpr, tpr, linewidth=2, label = label)\n",
        "  plt.plot([0,1], [0,1], \"k--\")\n",
        "plot_roc_curve(fpr, tpr)\n",
        "plt.title('ROC curve for Logistic Regression')\n",
        "plt.xlabel('False Positive Rate (1- specifity')\n",
        "plt.ylabel('True Positive Rate (Recall)')\n",
        "plt.legend(['Logistic Regression'],loc =\"lower right\")\n",
        "plt.grid()\n",
        "plt.show()"
      ]
    },
    {
      "cell_type": "markdown",
      "metadata": {
        "id": "NQkbqoK7iC5Y"
      },
      "source": [
        "**Support Vector Machine Cross validation**"
      ]
    },
    {
      "cell_type": "code",
      "execution_count": null,
      "metadata": {
        "colab": {
          "base_uri": "https://localhost:8080/"
        },
        "id": "9vFXRYKaiEd8",
        "outputId": "423f6319-7fd8-402e-c478-f155148d8c88"
      },
      "outputs": [
        {
          "name": "stdout",
          "output_type": "stream",
          "text": [
            "Best kernel: linear\n",
            "Best C: 0.1\n",
            "Best gamma: 0.001\n"
          ]
        }
      ],
      "source": [
        "from sklearn.svm import SVC\n",
        "\n",
        "hyperparameter_set = {'C': [0.001, 0.01, 0.1, 1, 10], 'kernel': ['linear', 'rbf'], 'gamma': [0.001, 0.01, 0.1, 1]}\n",
        "svm = SVC()\n",
        "classifier2 = GridSearchCV(svm, hyperparameter_set, cv=10, verbose =0)\n",
        "best_model2 = classifier2.fit(X_train_prepared, train_label_binary  )\n",
        "\n",
        "#printing out the best parameters for SVM model\n",
        "print('Best kernel:', best_model2.best_params_['kernel'])\n",
        "print('Best C:', best_model2.best_params_['C'])\n",
        "print('Best gamma:', best_model2.best_params_['gamma'])"
      ]
    },
    {
      "cell_type": "code",
      "execution_count": null,
      "metadata": {
        "colab": {
          "background_save": true
        },
        "id": "wYQw5umgkk92",
        "outputId": "f65f6654-afcf-4734-d76f-cf18376c7a56"
      },
      "outputs": [
        {
          "data": {
            "text/plain": [
              "array([ True,  True, False, ...,  True,  True,  True])"
            ]
          },
          "execution_count": 156,
          "metadata": {},
          "output_type": "execute_result"
        }
      ],
      "source": [
        "model2 = SVC(C=0.1, kernel= 'linear', gamma = 'scale', probability=True)\n",
        "model2.fit(X_train_prepared, train_label_binary)\n",
        "svm_prediction= model2.predict(X_train_prepared)\n",
        "svm_prediction"
      ]
    },
    {
      "cell_type": "code",
      "execution_count": null,
      "metadata": {
        "colab": {
          "background_save": true
        },
        "id": "E8zFefB6vFlO",
        "outputId": "d9d64f1e-d03d-4acb-9a7e-342072334bd4"
      },
      "outputs": [
        {
          "name": "stdout",
          "output_type": "stream",
          "text": [
            "0.76 accuracy with a standard deviation of 0.01\n"
          ]
        }
      ],
      "source": [
        "#calculating the accuracy of the model\n",
        "scores = cross_val_score(model2, X_train_prepared, train_label_binary )\n",
        "scores\n",
        "print(\"%0.2f accuracy with a standard deviation of %0.2f\" % (scores.mean(), scores.std()))"
      ]
    },
    {
      "cell_type": "code",
      "execution_count": null,
      "metadata": {
        "colab": {
          "background_save": true
        },
        "id": "8JtpbyGal1xF",
        "outputId": "341f31c3-3cb8-4066-e8c1-a5e023f9006a"
      },
      "outputs": [
        {
          "data": {
            "image/png": "[encoded data removed]",
            "text/plain": [
              "<Figure size 432x288 with 1 Axes>"
            ]
          },
          "metadata": {},
          "output_type": "display_data"
        }
      ],
      "source": [
        "#Drawing the ROC curve for SVM\n",
        "from sklearn.model_selection import cross_val_predict\n",
        "from sklearn.metrics import roc_curve\n",
        "\n",
        "y_scores = cross_val_predict(model, X_train_prepared, train_label_binary, cv= 10, method = \"decision_function\")\n",
        "fpr, tpr, thresholds = roc_curve (train_label_binary, y_scores)\n",
        "\n",
        "def plot_roc_curve(fpr, tpr, label =None):\n",
        "  plt.plot(fpr, tpr, linewidth=2, label = label)\n",
        "  plt.plot([0,1], [0,1], \"k--\")\n",
        "plot_roc_curve(fpr, tpr)\n",
        "plt.title('ROC curve for Support Vector Machine')\n",
        "plt.xlabel('False Positive Rate (1- specifity')\n",
        "plt.ylabel('True Positive Rate (Recall)')\n",
        "plt.legend(['Support Vector Machine '],loc =\"lower right\")\n",
        "plt.grid()\n",
        "plt.show()"
      ]
    },
    {
      "cell_type": "markdown",
      "metadata": {
        "id": "Kbd7IYnIk811"
      },
      "source": [
        "**Random Forest Cross Validation**"
      ]
    },
    {
      "cell_type": "code",
      "execution_count": null,
      "metadata": {
        "colab": {
          "background_save": true
        },
        "id": "6Rb2OWw5k-QA",
        "outputId": "b0fb0f79-05c4-4ebf-b65f-89c7f9922705"
      },
      "outputs": [
        {
          "name": "stdout",
          "output_type": "stream",
          "text": [
            "Best n_estimators: 400\n",
            "Best max_features: sqrt\n"
          ]
        }
      ],
      "source": [
        "hyperparameter_set = {'n_estimators': [100, 200, 300, 400], 'max_features': ['auto', 'sqrt']}\n",
        "random_forest = RandomForestClassifier()\n",
        "\n",
        "classifier3 = GridSearchCV(random_forest, hyperparameter_set, cv=10, verbose =0)\n",
        "best_model3 = classifier3.fit(X_train_prepared, train_label_binary )\n",
        "\n",
        "print('Best n_estimators:', best_model3.best_params_['n_estimators'])\n",
        "print('Best max_features:', best_model3.best_params_['max_features'])"
      ]
    },
    {
      "cell_type": "code",
      "execution_count": null,
      "metadata": {
        "colab": {
          "background_save": true
        },
        "id": "LszuhxiglmBH",
        "outputId": "21187d5e-b276-41b7-d9ac-bec3081f838b"
      },
      "outputs": [
        {
          "data": {
            "text/plain": [
              "array([ True, False, False, ...,  True, False, False])"
            ]
          },
          "execution_count": 160,
          "metadata": {},
          "output_type": "execute_result"
        }
      ],
      "source": [
        "model3 = RandomForestClassifier(n_estimators = 200, max_features= 'auto')\n",
        "model3.fit(X_train_prepared, train_label_binary)\n",
        "random_forest_prediction= model3.predict(X_train_prepared)\n",
        "random_forest_prediction"
      ]
    },
    {
      "cell_type": "code",
      "execution_count": null,
      "metadata": {
        "colab": {
          "background_save": true
        },
        "id": "BXB6TlP2vz2J",
        "outputId": "251a05d8-3b33-4c69-d9b8-1c56e1083711"
      },
      "outputs": [
        {
          "name": "stdout",
          "output_type": "stream",
          "text": [
            "0.74 accuracy with a standard deviation of 0.01\n"
          ]
        }
      ],
      "source": [
        "#calculating the accuracy of the model\n",
        "scores = cross_val_score(model3, X_train_prepared, train_label_binary )\n",
        "scores\n",
        "print(\"%0.2f accuracy with a standard deviation of %0.2f\" % (scores.mean(), scores.std()))"
      ]
    },
    {
      "cell_type": "code",
      "execution_count": null,
      "metadata": {
        "colab": {
          "background_save": true
        },
        "id": "2uXTmVWtoI2h",
        "outputId": "3b0578f8-9a81-4f58-e7e4-2407b358c4a3"
      },
      "outputs": [
        {
          "data": {
            "image/png": "[encoded data removed]",
            "text/plain": [
              "<Figure size 432x288 with 1 Axes>"
            ]
          },
          "metadata": {},
          "output_type": "display_data"
        }
      ],
      "source": [
        "#Drawing the ROC curve for SVM\n",
        "from sklearn.model_selection import cross_val_predict\n",
        "from sklearn.metrics import roc_curve\n",
        "\n",
        "y_scores = cross_val_predict(model, X_train_prepared, train_label_binary, cv= 10, method = \"decision_function\")  #decision_function\n",
        "fpr, tpr, thresholds = roc_curve (train_label_binary, y_scores)\n",
        "\n",
        "def plot_roc_curve(fpr, tpr, label =None):\n",
        "  plt.plot(fpr, tpr, linewidth=2, label = label)\n",
        "  plt.plot([0,1], [0,1], \"k--\")\n",
        "plot_roc_curve(fpr, tpr)\n",
        "plt.title('ROC curve for Random Forest')\n",
        "plt.xlabel('False Positive Rate (1- specifity')\n",
        "plt.ylabel('True Positive Rate (Recall)')\n",
        "plt.legend(['Random Forest '],loc =\"lower right\")\n",
        "plt.grid()\n",
        "plt.show()"
      ]
    },
    {
      "cell_type": "markdown",
      "metadata": {
        "id": "MZ2O46_FqWoh"
      },
      "source": [
        "**Showing the feature importance analysis in random forest.**"
      ]
    },
    {
      "cell_type": "code",
      "execution_count": null,
      "metadata": {
        "colab": {
          "background_save": true
        },
        "id": "j0rKRM3OqcFl",
        "outputId": "aa46f2e2-37a0-4370-ed84-61075b1322cc"
      },
      "outputs": [
        {
          "name": "stdout",
          "output_type": "stream",
          "text": [
            "[1.11844421e-01 1.52047709e-01 1.21025169e-01 1.70778233e-01\n",
            " 8.70844475e-02 1.66567255e-02 1.27727478e-02 1.25190884e-02\n",
            " 1.15231257e-02 5.38530522e-04 1.61614781e-05 1.23670412e-02\n",
            " 1.04903618e-02 6.41467540e-03 7.07634164e-03 1.28547265e-03\n",
            " 2.59242029e-03 2.45761269e-03 2.28580036e-02 6.18927015e-03\n",
            " 2.63263861e-03 5.22837994e-04 8.22698568e-05 7.23367347e-04\n",
            " 6.51793000e-03 1.42001864e-02 2.66172404e-02 5.18922799e-04\n",
            " 3.38159664e-05 3.29744399e-05 1.00405725e-02 1.26260640e-02\n",
            " 4.76854352e-04 1.46727096e-04 2.81686897e-03 5.73964041e-03\n",
            " 1.79994789e-03 7.80390182e-02 1.43268071e-02 4.12787288e-02\n",
            " 1.22890284e-02]\n"
          ]
        }
      ],
      "source": [
        "from pandas import DataFrame\n",
        "random_forest = RandomForestClassifier(n_estimators = 300, random_state=60)\n",
        "random_forest.fit(X_train_prepared,train_label_binary)\n",
        "random_forest_importance = random_forest.feature_importances_\n",
        "print(random_forest_importance)"
      ]
    },
    {
      "cell_type": "code",
      "execution_count": null,
      "metadata": {
        "colab": {
          "background_save": true
        },
        "id": "ijNYBOGjqnaL",
        "outputId": "3767f470-3399-446b-cb58-b7d041e92084"
      },
      "outputs": [
        {
          "data": {
            "image/png": "[encoded data removed]",
            "text/plain": [
              "<Figure size 432x288 with 1 Axes>"
            ]
          },
          "metadata": {},
          "output_type": "display_data"
        }
      ],
      "source": [
        "features = original_df.columns\n",
        "\n",
        "importances = random_forest_importance\n",
        "indices = np.argsort(importances)\n",
        "\n",
        "plt.title('Feature Importances from Random forest')\n",
        "plt.barh(range(len(indices)), importances[indices], color='b', align='center')\n",
        "# plt.yticks(range(len(indices)), [features[i] for i in indices])\n",
        "plt.xlabel('Importance score')\n",
        "plt.ylabel('Features')\n",
        "plt.show()"
      ]
    },
    {
      "cell_type": "markdown",
      "metadata": {
        "id": "Y1Q6-CoDfmBl"
      },
      "source": [
        "![feature_importance.PNG](data:image/png;base64,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)"
      ]
    },
    {
      "cell_type": "markdown",
      "metadata": {
        "id": "yuDbedXPtkT3"
      },
      "source": [
        "**Calculating the evaluation metrics for each model and then adding the data in pandas DataFrame**\n",
        "\n",
        "\n",
        "\n"
      ]
    },
    {
      "cell_type": "code",
      "execution_count": null,
      "metadata": {
        "colab": {
          "background_save": true
        },
        "id": "qGofAMnnl6dB"
      },
      "outputs": [],
      "source": [
        "from sklearn.metrics import accuracy_score, precision_score, recall_score, roc_auc_score, f1_score\n",
        "predictions = [logistic_prediction,svm_prediction, random_forest_prediction]\n",
        "names = [\"Logistic_regression model\",\"Support Vector Machine model\", \"Random_forest_model\"]\n",
        "accuracy = []\n",
        "precision =[]\n",
        "recall = []\n",
        "ROC = []\n",
        "F1= []\n",
        "for i in predictions:\n",
        "  accuracyy = accuracy_score(train_label_binary, i)\n",
        "  accuracy.append(accuracyy)\n",
        "  precision1 = precision_score(train_label_binary, i)\n",
        "  precision.append(precision1)\n",
        "  recall1 = recall_score(train_label_binary, i)\n",
        "  recall.append(recall1)\n",
        "  ROC1 = roc_auc_score(train_label_binary, i)\n",
        "  ROC.append(ROC1)\n",
        "  F11 = f1_score(train_label_binary, i)\n",
        "  F1.append(F11)"
      ]
    },
    {
      "cell_type": "code",
      "execution_count": null,
      "metadata": {
        "colab": {
          "background_save": true
        },
        "id": "iKyzEiDPmb1-",
        "outputId": "eb29017d-a3df-444e-cfb8-48642bfb0395"
      },
      "outputs": [
        {
          "data": {
            "text/html": [
              "\n",
              "  <div id=\"df-d52e2dc3-4674-42ff-9939-2249c68a36c5\">\n",
              "    <div class=\"colab-df-container\">\n",
              "      <div>\n",
              "<style scoped>\n",
              "    .dataframe tbody tr th:only-of-type {\n",
              "        vertical-align: middle;\n",
              "    }\n",
              "\n",
              "    .dataframe tbody tr th {\n",
              "        vertical-align: top;\n",
              "    }\n",
              "\n",
              "    .dataframe thead th {\n",
              "        text-align: right;\n",
              "    }\n",
              "</style>\n",
              "<table border=\"1\" class=\"dataframe\">\n",
              "  <thead>\n",
              "    <tr style=\"text-align: right;\">\n",
              "      <th></th>\n",
              "      <th>Method</th>\n",
              "      <th>Accuracy</th>\n",
              "      <th>Precision</th>\n",
              "      <th>Recall</th>\n",
              "      <th>ROC</th>\n",
              "      <th>F1 score</th>\n",
              "    </tr>\n",
              "  </thead>\n",
              "  <tbody>\n",
              "    <tr>\n",
              "      <th>0</th>\n",
              "      <td>Logistic_regression model</td>\n",
              "      <td>0.767016</td>\n",
              "      <td>0.744526</td>\n",
              "      <td>0.744914</td>\n",
              "      <td>0.765236</td>\n",
              "      <td>0.744720</td>\n",
              "    </tr>\n",
              "    <tr>\n",
              "      <th>1</th>\n",
              "      <td>Support Vector Machine model</td>\n",
              "      <td>0.765350</td>\n",
              "      <td>0.743335</td>\n",
              "      <td>0.741784</td>\n",
              "      <td>0.763452</td>\n",
              "      <td>0.742559</td>\n",
              "    </tr>\n",
              "    <tr>\n",
              "      <th>2</th>\n",
              "      <td>Random_forest_model</td>\n",
              "      <td>0.998572</td>\n",
              "      <td>0.997916</td>\n",
              "      <td>0.998957</td>\n",
              "      <td>0.998603</td>\n",
              "      <td>0.998436</td>\n",
              "    </tr>\n",
              "  </tbody>\n",
              "</table>\n",
              "</div>\n",
              "      <button class=\"colab-df-convert\" onclick=\"convertToInteractive('df-d52e2dc3-4674-42ff-9939-2249c68a36c5')\"\n",
              "              title=\"Convert this dataframe to an interactive table.\"\n",
              "              style=\"display:none;\">\n",
              "        \n",
              "  <svg xmlns=\"http://www.w3.org/2000/svg\" height=\"24px\"viewBox=\"0 0 24 24\"\n",
              "       width=\"24px\">\n",
              "    <path d=\"M0 0h24v24H0V0z\" fill=\"none\"/>\n",
              "    <path d=\"M18.56 5.44l.94 2.06.94-2.06 2.06-.94-2.06-.94-.94-2.06-.94 2.06-2.06.94zm-11 1L8.5 8.5l.94-2.06 2.06-.94-2.06-.94L8.5 2.5l-.94 2.06-2.06.94zm10 10l.94 2.06.94-2.06 2.06-.94-2.06-.94-.94-2.06-.94 2.06-2.06.94z\"/><path d=\"M17.41 7.96l-1.37-1.37c-.4-.4-.92-.59-1.43-.59-.52 0-1.04.2-1.43.59L10.3 9.45l-7.72 7.72c-.78.78-.78 2.05 0 2.83L4 21.41c.39.39.9.59 1.41.59.51 0 1.02-.2 1.41-.59l7.78-7.78 2.81-2.81c.8-.78.8-2.07 0-2.86zM5.41 20L4 18.59l7.72-7.72 1.47 1.35L5.41 20z\"/>\n",
              "  </svg>\n",
              "      </button>\n",
              "      \n",
              "  <style>\n",
              "    .colab-df-container {\n",
              "      display:flex;\n",
              "      flex-wrap:wrap;\n",
              "      gap: 12px;\n",
              "    }\n",
              "\n",
              "    .colab-df-convert {\n",
              "      background-color: #E8F0FE;\n",
              "      border: none;\n",
              "      border-radius: 50%;\n",
              "      cursor: pointer;\n",
              "      display: none;\n",
              "      fill: #1967D2;\n",
              "      height: 32px;\n",
              "      padding: 0 0 0 0;\n",
              "      width: 32px;\n",
              "    }\n",
              "\n",
              "    .colab-df-convert:hover {\n",
              "      background-color: #E2EBFA;\n",
              "      box-shadow: 0px 1px 2px rgba(60, 64, 67, 0.3), 0px 1px 3px 1px rgba(60, 64, 67, 0.15);\n",
              "      fill: #174EA6;\n",
              "    }\n",
              "\n",
              "    [theme=dark] .colab-df-convert {\n",
              "      background-color: #3B4455;\n",
              "      fill: #D2E3FC;\n",
              "    }\n",
              "\n",
              "    [theme=dark] .colab-df-convert:hover {\n",
              "      background-color: #434B5C;\n",
              "      box-shadow: 0px 1px 3px 1px rgba(0, 0, 0, 0.15);\n",
              "      filter: drop-shadow(0px 1px 2px rgba(0, 0, 0, 0.3));\n",
              "      fill: #FFFFFF;\n",
              "    }\n",
              "  </style>\n",
              "\n",
              "      <script>\n",
              "        const buttonEl =\n",
              "          document.querySelector('#df-d52e2dc3-4674-42ff-9939-2249c68a36c5 button.colab-df-convert');\n",
              "        buttonEl.style.display =\n",
              "          google.colab.kernel.accessAllowed ? 'block' : 'none';\n",
              "\n",
              "        async function convertToInteractive(key) {\n",
              "          const element = document.querySelector('#df-d52e2dc3-4674-42ff-9939-2249c68a36c5');\n",
              "          const dataTable =\n",
              "            await google.colab.kernel.invokeFunction('convertToInteractive',\n",
              "                                                     [key], {});\n",
              "          if (!dataTable) return;\n",
              "\n",
              "          const docLinkHtml = 'Like what you see? Visit the ' +\n",
              "            '<a target=\"_blank\" href=https://colab.research.google.com/notebooks/data_table.ipynb>data table notebook</a>'\n",
              "            + ' to learn more about interactive tables.';\n",
              "          element.innerHTML = '';\n",
              "          dataTable['output_type'] = 'display_data';\n",
              "          await google.colab.output.renderOutput(dataTable, element);\n",
              "          const docLink = document.createElement('div');\n",
              "          docLink.innerHTML = docLinkHtml;\n",
              "          element.appendChild(docLink);\n",
              "        }\n",
              "      </script>\n",
              "    </div>\n",
              "  </div>\n",
              "  "
            ],
            "text/plain": [
              "                         Method  Accuracy  Precision    Recall       ROC  \\\n",
              "0     Logistic_regression model  0.767016   0.744526  0.744914  0.765236   \n",
              "1  Support Vector Machine model  0.765350   0.743335  0.741784  0.763452   \n",
              "2           Random_forest_model  0.998572   0.997916  0.998957  0.998603   \n",
              "\n",
              "   F1 score  \n",
              "0  0.744720  \n",
              "1  0.742559  \n",
              "2  0.998436  "
            ]
          },
          "execution_count": 166,
          "metadata": {},
          "output_type": "execute_result"
        }
      ],
      "source": [
        "data2 = {'Method': names,\n",
        "        'Accuracy': accuracy,\n",
        "        'Precision': precision,\n",
        "        'Recall': recall,\n",
        "        'ROC': ROC,\n",
        "        'F1 score': F1,\n",
        "        }\n",
        "evaluation = pd.DataFrame(data2, columns=['Method', \"Accuracy\", \"Precision\",\"Recall\", \"ROC\", \"F1 score\"])\n",
        "evaluation"
      ]
    },
    {
      "cell_type": "markdown",
      "metadata": {
        "id": "Kt30PKIRyJrn"
      },
      "source": [
        "**Drawing the ROC curve of all models on the train dataset**"
      ]
    },
    {
      "cell_type": "code",
      "execution_count": null,
      "metadata": {
        "colab": {
          "background_save": true
        },
        "id": "Ejn2_8DTyMZm",
        "outputId": "d626d038-d3c4-4b45-c335-7585673168dc"
      },
      "outputs": [
        {
          "data": {
            "image/png": "[encoded data removed]",
            "text/plain": [
              "<Figure size 432x288 with 1 Axes>"
            ]
          },
          "metadata": {},
          "output_type": "display_data"
        }
      ],
      "source": [
        "from sklearn.model_selection import cross_val_predict\n",
        "from sklearn.metrics import roc_curve\n",
        "roc_curve_rates = []\n",
        "for model in [model3,model2, model]:  #models are 'Logistic Regression', 'RandomForestClassifier', 'SVC'\n",
        "  #finds the predicted probability for the sets and model\n",
        "  predict_probability = cross_val_predict(model, X_train_prepared, train_label_binary, cv= 10, method = \"predict_proba\")\n",
        "  #gets the probs for pos class\n",
        "  y_scorse = predict_probability[:,1]\n",
        "  #calculates the fpr and tpr with te scores\n",
        "  fpr, tpr, threshold = roc_curve(train_label_binary, y_scorse)\n",
        "  roc_curve_rates.append({'fpr': fpr, 'tpr': tpr})\n",
        "\n",
        "\n",
        "#Takes the dics array and plots each line on the same graph\n",
        "line_names = ['Logistic Regression', 'RandomForestClassifier', 'SVC']\n",
        "plt.plot(fpr, tpr, linewidth=2)\n",
        "for i in range(len(roc_curve_rates)):\n",
        "  plt.plot(roc_curve_rates[i]['fpr'], roc_curve_rates[i]['tpr'], linewidth=2, label=line_names[i])\n",
        "plt.xlim([0,1])\n",
        "plt.ylim([0,1])\n",
        "plt.plot([0,1], [0,1], \"k--\")\n",
        "plt.title('ROC curve on training dataset')\n",
        "plt.xlabel('False Positive Rate (1 - specifity)')\n",
        "plt.ylabel('True Positive Rate (Recall)')\n",
        "plt.legend(loc =\"lower right\")\n",
        "plt.grid()\n",
        "plt.show()"
      ]
    },
    {
      "cell_type": "markdown",
      "metadata": {
        "id": "l2owXIBBR7M9"
      },
      "source": [
        "**Optimizing the Neural Network**"
      ]
    },
    {
      "cell_type": "code",
      "execution_count": null,
      "metadata": {
        "colab": {
          "background_save": true
        },
        "id": "JXs1szP3R_BD",
        "outputId": "4187d5e3-ebe4-4bd2-a039-83b1cb73230b"
      },
      "outputs": [
        {
          "name": "stdout",
          "output_type": "stream",
          "text": [
            "Testing NN - Layers: 3; Neurons per layer:10\n",
            "Epoch 1/30\n",
            "33/33 [==============================] - 1s 8ms/step - loss: 0.7337 - accuracy: 0.5219 - val_loss: 0.6409 - val_accuracy: 0.6347\n",
            "Epoch 2/30\n",
            "33/33 [==============================] - 0s 4ms/step - loss: 0.6417 - accuracy: 0.6366 - val_loss: 0.5903 - val_accuracy: 0.7159\n",
            "Epoch 3/30\n",
            "33/33 [==============================] - 0s 3ms/step - loss: 0.6008 - accuracy: 0.6921 - val_loss: 0.5436 - val_accuracy: 0.7601\n",
            "Epoch 4/30\n",
            "33/33 [==============================] - 0s 4ms/step - loss: 0.5690 - accuracy: 0.7173 - val_loss: 0.5123 - val_accuracy: 0.7565\n",
            "Epoch 5/30\n",
            "33/33 [==============================] - 0s 3ms/step - loss: 0.5481 - accuracy: 0.7313 - val_loss: 0.4930 - val_accuracy: 0.7528\n",
            "Epoch 6/30\n",
            "33/33 [==============================] - 0s 4ms/step - loss: 0.5330 - accuracy: 0.7439 - val_loss: 0.4756 - val_accuracy: 0.7675\n",
            "Epoch 7/30\n",
            "33/33 [==============================] - 0s 3ms/step - loss: 0.5207 - accuracy: 0.7506 - val_loss: 0.4639 - val_accuracy: 0.8007\n",
            "Epoch 8/30\n",
            "33/33 [==============================] - 0s 3ms/step - loss: 0.5101 - accuracy: 0.7539 - val_loss: 0.4578 - val_accuracy: 0.7860\n",
            "Epoch 9/30\n",
            "33/33 [==============================] - 0s 3ms/step - loss: 0.5039 - accuracy: 0.7546 - val_loss: 0.4522 - val_accuracy: 0.7970\n",
            "Epoch 10/30\n",
            "33/33 [==============================] - 0s 3ms/step - loss: 0.4979 - accuracy: 0.7587 - val_loss: 0.4467 - val_accuracy: 0.8007\n",
            "Epoch 11/30\n",
            "33/33 [==============================] - 0s 4ms/step - loss: 0.4931 - accuracy: 0.7620 - val_loss: 0.4432 - val_accuracy: 0.7970\n",
            "Epoch 12/30\n",
            "33/33 [==============================] - 0s 4ms/step - loss: 0.4907 - accuracy: 0.7615 - val_loss: 0.4413 - val_accuracy: 0.7897\n",
            "Epoch 13/30\n",
            "33/33 [==============================] - 0s 3ms/step - loss: 0.4872 - accuracy: 0.7642 - val_loss: 0.4389 - val_accuracy: 0.7860\n",
            "Epoch 14/30\n",
            "33/33 [==============================] - 0s 4ms/step - loss: 0.4858 - accuracy: 0.7608 - val_loss: 0.4367 - val_accuracy: 0.7860\n",
            "Epoch 15/30\n",
            "33/33 [==============================] - 0s 4ms/step - loss: 0.4838 - accuracy: 0.7639 - val_loss: 0.4358 - val_accuracy: 0.7860\n",
            "Epoch 16/30\n",
            "33/33 [==============================] - 0s 4ms/step - loss: 0.4831 - accuracy: 0.7656 - val_loss: 0.4332 - val_accuracy: 0.8007\n",
            "Epoch 17/30\n",
            "33/33 [==============================] - 0s 4ms/step - loss: 0.4814 - accuracy: 0.7684 - val_loss: 0.4342 - val_accuracy: 0.7934\n",
            "Epoch 18/30\n",
            "33/33 [==============================] - 0s 3ms/step - loss: 0.4812 - accuracy: 0.7634 - val_loss: 0.4322 - val_accuracy: 0.7823\n",
            "Epoch 19/30\n",
            "33/33 [==============================] - 0s 4ms/step - loss: 0.4804 - accuracy: 0.7639 - val_loss: 0.4305 - val_accuracy: 0.7897\n",
            "Epoch 20/30\n",
            "33/33 [==============================] - 0s 4ms/step - loss: 0.4796 - accuracy: 0.7634 - val_loss: 0.4302 - val_accuracy: 0.7934\n",
            "Epoch 21/30\n",
            "33/33 [==============================] - 0s 3ms/step - loss: 0.4787 - accuracy: 0.7637 - val_loss: 0.4302 - val_accuracy: 0.7860\n",
            "Epoch 22/30\n",
            "33/33 [==============================] - 0s 4ms/step - loss: 0.4795 - accuracy: 0.7611 - val_loss: 0.4288 - val_accuracy: 0.7860\n",
            "Epoch 23/30\n",
            "33/33 [==============================] - 0s 4ms/step - loss: 0.4788 - accuracy: 0.7639 - val_loss: 0.4297 - val_accuracy: 0.7860\n",
            "Epoch 24/30\n",
            "33/33 [==============================] - 0s 4ms/step - loss: 0.4772 - accuracy: 0.7634 - val_loss: 0.4307 - val_accuracy: 0.7897\n",
            "Epoch 25/30\n",
            "33/33 [==============================] - 0s 4ms/step - loss: 0.4769 - accuracy: 0.7644 - val_loss: 0.4306 - val_accuracy: 0.7897\n",
            "Epoch 26/30\n",
            "33/33 [==============================] - 0s 4ms/step - loss: 0.4760 - accuracy: 0.7658 - val_loss: 0.4307 - val_accuracy: 0.7823\n",
            "Epoch 27/30\n",
            "33/33 [==============================] - 0s 4ms/step - loss: 0.4760 - accuracy: 0.7625 - val_loss: 0.4314 - val_accuracy: 0.7897\n",
            "Testing NN - Layers: 3; Neurons per layer:100\n",
            "Epoch 1/30\n",
            "33/33 [==============================] - 1s 8ms/step - loss: 0.5938 - accuracy: 0.6721 - val_loss: 0.5041 - val_accuracy: 0.7343\n",
            "Epoch 2/30\n",
            "33/33 [==============================] - 0s 3ms/step - loss: 0.5204 - accuracy: 0.7418 - val_loss: 0.4604 - val_accuracy: 0.7934\n",
            "Epoch 3/30\n",
            "33/33 [==============================] - 0s 4ms/step - loss: 0.4912 - accuracy: 0.7601 - val_loss: 0.4393 - val_accuracy: 0.8081\n",
            "Epoch 4/30\n",
            "33/33 [==============================] - 0s 3ms/step - loss: 0.4803 - accuracy: 0.7644 - val_loss: 0.4355 - val_accuracy: 0.8081\n",
            "Epoch 5/30\n",
            "33/33 [==============================] - 0s 3ms/step - loss: 0.4742 - accuracy: 0.7694 - val_loss: 0.4364 - val_accuracy: 0.7749\n",
            "Epoch 6/30\n",
            "33/33 [==============================] - 0s 3ms/step - loss: 0.4712 - accuracy: 0.7706 - val_loss: 0.4332 - val_accuracy: 0.8007\n",
            "Epoch 7/30\n",
            "33/33 [==============================] - 0s 3ms/step - loss: 0.4695 - accuracy: 0.7742 - val_loss: 0.4282 - val_accuracy: 0.8155\n",
            "Epoch 8/30\n",
            "33/33 [==============================] - 0s 4ms/step - loss: 0.4679 - accuracy: 0.7718 - val_loss: 0.4264 - val_accuracy: 0.7823\n",
            "Epoch 9/30\n",
            "33/33 [==============================] - 0s 3ms/step - loss: 0.4640 - accuracy: 0.7753 - val_loss: 0.4323 - val_accuracy: 0.8155\n",
            "Epoch 10/30\n",
            "33/33 [==============================] - 0s 3ms/step - loss: 0.4610 - accuracy: 0.7751 - val_loss: 0.4286 - val_accuracy: 0.7823\n",
            "Epoch 11/30\n",
            "33/33 [==============================] - 0s 4ms/step - loss: 0.4593 - accuracy: 0.7784 - val_loss: 0.4358 - val_accuracy: 0.7934\n",
            "Epoch 12/30\n",
            "33/33 [==============================] - 0s 3ms/step - loss: 0.4575 - accuracy: 0.7772 - val_loss: 0.4343 - val_accuracy: 0.7786\n",
            "Epoch 13/30\n",
            "33/33 [==============================] - 0s 3ms/step - loss: 0.4542 - accuracy: 0.7794 - val_loss: 0.4289 - val_accuracy: 0.7860\n",
            "Testing NN - Layers: 3; Neurons per layer:100\n",
            "Epoch 1/30\n",
            "33/33 [==============================] - 1s 8ms/step - loss: 0.6091 - accuracy: 0.6492 - val_loss: 0.4974 - val_accuracy: 0.7343\n",
            "Epoch 2/30\n",
            "33/33 [==============================] - 0s 4ms/step - loss: 0.5269 - accuracy: 0.7435 - val_loss: 0.4536 - val_accuracy: 0.7823\n",
            "Epoch 3/30\n",
            "33/33 [==============================] - 0s 3ms/step - loss: 0.4964 - accuracy: 0.7615 - val_loss: 0.4456 - val_accuracy: 0.7749\n",
            "Epoch 4/30\n",
            "33/33 [==============================] - 0s 4ms/step - loss: 0.4849 - accuracy: 0.7642 - val_loss: 0.4320 - val_accuracy: 0.7638\n",
            "Epoch 5/30\n",
            "33/33 [==============================] - 0s 4ms/step - loss: 0.4809 - accuracy: 0.7611 - val_loss: 0.4347 - val_accuracy: 0.7970\n",
            "Epoch 6/30\n",
            "33/33 [==============================] - 0s 4ms/step - loss: 0.4743 - accuracy: 0.7689 - val_loss: 0.4288 - val_accuracy: 0.7897\n",
            "Epoch 7/30\n",
            "33/33 [==============================] - 0s 3ms/step - loss: 0.4711 - accuracy: 0.7725 - val_loss: 0.4271 - val_accuracy: 0.7860\n",
            "Epoch 8/30\n",
            "33/33 [==============================] - 0s 3ms/step - loss: 0.4662 - accuracy: 0.7761 - val_loss: 0.4213 - val_accuracy: 0.7934\n",
            "Epoch 9/30\n",
            "33/33 [==============================] - 0s 4ms/step - loss: 0.4669 - accuracy: 0.7694 - val_loss: 0.4314 - val_accuracy: 0.7897\n",
            "Epoch 10/30\n",
            "33/33 [==============================] - 0s 3ms/step - loss: 0.4605 - accuracy: 0.7758 - val_loss: 0.4344 - val_accuracy: 0.7897\n",
            "Epoch 11/30\n",
            "33/33 [==============================] - 0s 4ms/step - loss: 0.4586 - accuracy: 0.7777 - val_loss: 0.4284 - val_accuracy: 0.7786\n",
            "Epoch 12/30\n",
            "33/33 [==============================] - 0s 4ms/step - loss: 0.4564 - accuracy: 0.7813 - val_loss: 0.4196 - val_accuracy: 0.8118\n",
            "Epoch 13/30\n",
            "33/33 [==============================] - 0s 3ms/step - loss: 0.4526 - accuracy: 0.7768 - val_loss: 0.4329 - val_accuracy: 0.7860\n",
            "Epoch 14/30\n",
            "33/33 [==============================] - 0s 3ms/step - loss: 0.4521 - accuracy: 0.7801 - val_loss: 0.4286 - val_accuracy: 0.7786\n",
            "Epoch 15/30\n",
            "33/33 [==============================] - 0s 3ms/step - loss: 0.4480 - accuracy: 0.7830 - val_loss: 0.4389 - val_accuracy: 0.7860\n",
            "Epoch 16/30\n",
            "33/33 [==============================] - 0s 4ms/step - loss: 0.4477 - accuracy: 0.7822 - val_loss: 0.4461 - val_accuracy: 0.7897\n",
            "Epoch 17/30\n",
            "33/33 [==============================] - 0s 3ms/step - loss: 0.4483 - accuracy: 0.7842 - val_loss: 0.4300 - val_accuracy: 0.7823\n",
            "Testing NN - Layers: 3; Neurons per layer:5000\n",
            "Epoch 1/30\n",
            "33/33 [==============================] - 1s 17ms/step - loss: 0.6373 - accuracy: 0.6973 - val_loss: 0.4335 - val_accuracy: 0.7897\n",
            "Epoch 2/30\n",
            "33/33 [==============================] - 0s 12ms/step - loss: 0.4880 - accuracy: 0.7618 - val_loss: 0.4356 - val_accuracy: 0.7823\n",
            "Epoch 3/30\n",
            "33/33 [==============================] - 0s 12ms/step - loss: 0.4723 - accuracy: 0.7701 - val_loss: 0.4479 - val_accuracy: 0.7860\n",
            "Epoch 4/30\n",
            "33/33 [==============================] - 0s 12ms/step - loss: 0.4679 - accuracy: 0.7699 - val_loss: 0.4368 - val_accuracy: 0.7897\n",
            "Epoch 5/30\n",
            "33/33 [==============================] - 0s 12ms/step - loss: 0.4623 - accuracy: 0.7756 - val_loss: 0.4405 - val_accuracy: 0.7638\n",
            "Epoch 6/30\n",
            "33/33 [==============================] - 0s 12ms/step - loss: 0.4579 - accuracy: 0.7796 - val_loss: 0.4506 - val_accuracy: 0.7897\n",
            "Testing NN - Layers: 4; Neurons per layer:10\n",
            "Epoch 1/30\n",
            "33/33 [==============================] - 1s 8ms/step - loss: 0.6899 - accuracy: 0.5255 - val_loss: 0.6719 - val_accuracy: 0.5461\n",
            "Epoch 2/30\n",
            "33/33 [==============================] - 0s 4ms/step - loss: 0.6560 - accuracy: 0.5888 - val_loss: 0.6246 - val_accuracy: 0.6642\n",
            "Epoch 3/30\n",
            "33/33 [==============================] - 0s 4ms/step - loss: 0.6074 - accuracy: 0.6859 - val_loss: 0.5610 - val_accuracy: 0.7048\n",
            "Epoch 4/30\n",
            "33/33 [==============================] - 0s 4ms/step - loss: 0.5631 - accuracy: 0.7178 - val_loss: 0.5089 - val_accuracy: 0.7454\n",
            "Epoch 5/30\n",
            "33/33 [==============================] - 0s 4ms/step - loss: 0.5346 - accuracy: 0.7375 - val_loss: 0.4779 - val_accuracy: 0.7675\n",
            "Epoch 6/30\n",
            "33/33 [==============================] - 0s 4ms/step - loss: 0.5143 - accuracy: 0.7504 - val_loss: 0.4606 - val_accuracy: 0.7934\n",
            "Epoch 7/30\n",
            "33/33 [==============================] - 0s 4ms/step - loss: 0.5002 - accuracy: 0.7561 - val_loss: 0.4538 - val_accuracy: 0.7786\n",
            "Epoch 8/30\n",
            "33/33 [==============================] - 0s 4ms/step - loss: 0.4920 - accuracy: 0.7592 - val_loss: 0.4452 - val_accuracy: 0.7934\n",
            "Epoch 9/30\n",
            "33/33 [==============================] - 0s 4ms/step - loss: 0.4869 - accuracy: 0.7639 - val_loss: 0.4425 - val_accuracy: 0.7897\n",
            "Epoch 10/30\n",
            "33/33 [==============================] - 0s 4ms/step - loss: 0.4830 - accuracy: 0.7665 - val_loss: 0.4387 - val_accuracy: 0.7897\n",
            "Epoch 11/30\n",
            "33/33 [==============================] - 0s 4ms/step - loss: 0.4813 - accuracy: 0.7658 - val_loss: 0.4365 - val_accuracy: 0.7897\n",
            "Epoch 12/30\n",
            "33/33 [==============================] - 0s 4ms/step - loss: 0.4800 - accuracy: 0.7682 - val_loss: 0.4356 - val_accuracy: 0.7897\n",
            "Epoch 13/30\n",
            "33/33 [==============================] - 0s 4ms/step - loss: 0.4788 - accuracy: 0.7665 - val_loss: 0.4327 - val_accuracy: 0.7860\n",
            "Epoch 14/30\n",
            "33/33 [==============================] - 0s 4ms/step - loss: 0.4791 - accuracy: 0.7670 - val_loss: 0.4323 - val_accuracy: 0.7897\n",
            "Epoch 15/30\n",
            "33/33 [==============================] - 0s 4ms/step - loss: 0.4778 - accuracy: 0.7658 - val_loss: 0.4328 - val_accuracy: 0.7823\n",
            "Epoch 16/30\n",
            "33/33 [==============================] - 0s 4ms/step - loss: 0.4778 - accuracy: 0.7630 - val_loss: 0.4300 - val_accuracy: 0.7860\n",
            "Epoch 17/30\n",
            "33/33 [==============================] - 0s 4ms/step - loss: 0.4762 - accuracy: 0.7661 - val_loss: 0.4324 - val_accuracy: 0.7860\n",
            "Epoch 18/30\n",
            "33/33 [==============================] - 0s 4ms/step - loss: 0.4769 - accuracy: 0.7646 - val_loss: 0.4303 - val_accuracy: 0.8007\n",
            "Epoch 19/30\n",
            "33/33 [==============================] - 0s 4ms/step - loss: 0.4758 - accuracy: 0.7661 - val_loss: 0.4318 - val_accuracy: 0.7897\n",
            "Epoch 20/30\n",
            "33/33 [==============================] - 0s 4ms/step - loss: 0.4765 - accuracy: 0.7711 - val_loss: 0.4300 - val_accuracy: 0.7860\n",
            "Epoch 21/30\n",
            "33/33 [==============================] - 0s 4ms/step - loss: 0.4761 - accuracy: 0.7642 - val_loss: 0.4284 - val_accuracy: 0.7934\n",
            "Epoch 22/30\n",
            "33/33 [==============================] - 0s 4ms/step - loss: 0.4740 - accuracy: 0.7634 - val_loss: 0.4295 - val_accuracy: 0.7823\n",
            "Epoch 23/30\n",
            "33/33 [==============================] - 0s 3ms/step - loss: 0.4740 - accuracy: 0.7661 - val_loss: 0.4310 - val_accuracy: 0.7749\n",
            "Epoch 24/30\n",
            "33/33 [==============================] - 0s 4ms/step - loss: 0.4732 - accuracy: 0.7682 - val_loss: 0.4274 - val_accuracy: 0.7897\n",
            "Epoch 25/30\n",
            "33/33 [==============================] - 0s 4ms/step - loss: 0.4720 - accuracy: 0.7692 - val_loss: 0.4326 - val_accuracy: 0.7860\n",
            "Epoch 26/30\n",
            "33/33 [==============================] - 0s 4ms/step - loss: 0.4722 - accuracy: 0.7713 - val_loss: 0.4299 - val_accuracy: 0.7823\n",
            "Epoch 27/30\n",
            "33/33 [==============================] - 0s 4ms/step - loss: 0.4723 - accuracy: 0.7689 - val_loss: 0.4296 - val_accuracy: 0.7823\n",
            "Epoch 28/30\n",
            "33/33 [==============================] - 0s 4ms/step - loss: 0.4717 - accuracy: 0.7677 - val_loss: 0.4290 - val_accuracy: 0.7749\n",
            "Epoch 29/30\n",
            "33/33 [==============================] - 0s 4ms/step - loss: 0.4711 - accuracy: 0.7680 - val_loss: 0.4295 - val_accuracy: 0.7860\n",
            "Testing NN - Layers: 4; Neurons per layer:100\n",
            "Epoch 1/30\n",
            "33/33 [==============================] - 1s 8ms/step - loss: 0.5882 - accuracy: 0.6978 - val_loss: 0.4964 - val_accuracy: 0.7269\n",
            "Epoch 2/30\n",
            "33/33 [==============================] - 0s 3ms/step - loss: 0.5159 - accuracy: 0.7446 - val_loss: 0.4508 - val_accuracy: 0.7786\n",
            "Epoch 3/30\n",
            "33/33 [==============================] - 0s 4ms/step - loss: 0.4930 - accuracy: 0.7582 - val_loss: 0.4379 - val_accuracy: 0.7897\n",
            "Epoch 4/30\n",
            "33/33 [==============================] - 0s 4ms/step - loss: 0.4774 - accuracy: 0.7687 - val_loss: 0.4432 - val_accuracy: 0.7934\n",
            "Epoch 5/30\n",
            "33/33 [==============================] - 0s 3ms/step - loss: 0.4771 - accuracy: 0.7711 - val_loss: 0.4357 - val_accuracy: 0.7934\n",
            "Epoch 6/30\n",
            "33/33 [==============================] - 0s 4ms/step - loss: 0.4707 - accuracy: 0.7696 - val_loss: 0.4319 - val_accuracy: 0.8044\n",
            "Epoch 7/30\n",
            "33/33 [==============================] - 0s 3ms/step - loss: 0.4620 - accuracy: 0.7749 - val_loss: 0.4343 - val_accuracy: 0.7897\n",
            "Epoch 8/30\n",
            "33/33 [==============================] - 0s 4ms/step - loss: 0.4629 - accuracy: 0.7715 - val_loss: 0.4477 - val_accuracy: 0.7823\n",
            "Epoch 9/30\n",
            "33/33 [==============================] - 0s 4ms/step - loss: 0.4562 - accuracy: 0.7780 - val_loss: 0.4222 - val_accuracy: 0.7970\n",
            "Epoch 10/30\n",
            "33/33 [==============================] - 0s 4ms/step - loss: 0.4552 - accuracy: 0.7777 - val_loss: 0.4265 - val_accuracy: 0.8081\n",
            "Epoch 11/30\n",
            "33/33 [==============================] - 0s 4ms/step - loss: 0.4504 - accuracy: 0.7830 - val_loss: 0.4293 - val_accuracy: 0.7934\n",
            "Epoch 12/30\n",
            "33/33 [==============================] - 0s 3ms/step - loss: 0.4462 - accuracy: 0.7877 - val_loss: 0.4309 - val_accuracy: 0.8007\n",
            "Epoch 13/30\n",
            "33/33 [==============================] - 0s 4ms/step - loss: 0.4449 - accuracy: 0.7889 - val_loss: 0.4319 - val_accuracy: 0.8044\n",
            "Epoch 14/30\n",
            "33/33 [==============================] - 0s 4ms/step - loss: 0.4422 - accuracy: 0.7837 - val_loss: 0.4431 - val_accuracy: 0.7970\n",
            "Testing NN - Layers: 4; Neurons per layer:100\n",
            "Epoch 1/30\n",
            "33/33 [==============================] - 1s 8ms/step - loss: 0.6074 - accuracy: 0.6571 - val_loss: 0.4880 - val_accuracy: 0.7565\n",
            "Epoch 2/30\n",
            "33/33 [==============================] - 0s 4ms/step - loss: 0.5116 - accuracy: 0.7465 - val_loss: 0.4486 - val_accuracy: 0.7565\n",
            "Epoch 3/30\n",
            "33/33 [==============================] - 0s 4ms/step - loss: 0.4880 - accuracy: 0.7653 - val_loss: 0.4453 - val_accuracy: 0.7638\n",
            "Epoch 4/30\n",
            "33/33 [==============================] - 0s 4ms/step - loss: 0.4841 - accuracy: 0.7634 - val_loss: 0.4302 - val_accuracy: 0.7823\n",
            "Epoch 5/30\n",
            "33/33 [==============================] - 0s 4ms/step - loss: 0.4755 - accuracy: 0.7706 - val_loss: 0.4348 - val_accuracy: 0.7712\n",
            "Epoch 6/30\n",
            "33/33 [==============================] - 0s 4ms/step - loss: 0.4703 - accuracy: 0.7711 - val_loss: 0.4383 - val_accuracy: 0.7823\n",
            "Epoch 7/30\n",
            "33/33 [==============================] - 0s 4ms/step - loss: 0.4711 - accuracy: 0.7684 - val_loss: 0.4465 - val_accuracy: 0.7970\n",
            "Epoch 8/30\n",
            "33/33 [==============================] - 0s 4ms/step - loss: 0.4736 - accuracy: 0.7649 - val_loss: 0.4341 - val_accuracy: 0.8044\n",
            "Epoch 9/30\n",
            "33/33 [==============================] - 0s 4ms/step - loss: 0.4629 - accuracy: 0.7770 - val_loss: 0.4404 - val_accuracy: 0.7970\n",
            "Testing NN - Layers: 4; Neurons per layer:5000\n",
            "Epoch 1/30\n",
            "33/33 [==============================] - 1s 27ms/step - loss: 0.8212 - accuracy: 0.6649 - val_loss: 0.4765 - val_accuracy: 0.7528\n",
            "Epoch 2/30\n",
            "33/33 [==============================] - 1s 22ms/step - loss: 0.4968 - accuracy: 0.7546 - val_loss: 0.4411 - val_accuracy: 0.7860\n",
            "Epoch 3/30\n",
            "33/33 [==============================] - 1s 21ms/step - loss: 0.4775 - accuracy: 0.7703 - val_loss: 0.4366 - val_accuracy: 0.7970\n",
            "Epoch 4/30\n",
            "33/33 [==============================] - 1s 22ms/step - loss: 0.4779 - accuracy: 0.7684 - val_loss: 0.4487 - val_accuracy: 0.7934\n",
            "Epoch 5/30\n",
            "33/33 [==============================] - 1s 21ms/step - loss: 0.4646 - accuracy: 0.7734 - val_loss: 0.4427 - val_accuracy: 0.7749\n",
            "Epoch 6/30\n",
            "33/33 [==============================] - 1s 21ms/step - loss: 0.4616 - accuracy: 0.7758 - val_loss: 0.4313 - val_accuracy: 0.7786\n",
            "Epoch 7/30\n",
            "33/33 [==============================] - 1s 22ms/step - loss: 0.4551 - accuracy: 0.7780 - val_loss: 0.4483 - val_accuracy: 0.7786\n",
            "Epoch 8/30\n",
            "33/33 [==============================] - 1s 21ms/step - loss: 0.4512 - accuracy: 0.7787 - val_loss: 0.4652 - val_accuracy: 0.7712\n",
            "Epoch 9/30\n",
            "33/33 [==============================] - 1s 22ms/step - loss: 0.4445 - accuracy: 0.7825 - val_loss: 0.4587 - val_accuracy: 0.7934\n",
            "Epoch 10/30\n",
            "33/33 [==============================] - 1s 22ms/step - loss: 0.4256 - accuracy: 0.7958 - val_loss: 0.4797 - val_accuracy: 0.7638\n",
            "Epoch 11/30\n",
            "33/33 [==============================] - 1s 21ms/step - loss: 0.4228 - accuracy: 0.7944 - val_loss: 0.5356 - val_accuracy: 0.7675\n",
            "Testing NN - Layers: 5; Neurons per layer:10\n",
            "Epoch 1/30\n",
            "33/33 [==============================] - 1s 8ms/step - loss: 0.6914 - accuracy: 0.5226 - val_loss: 0.6714 - val_accuracy: 0.6568\n",
            "Epoch 2/30\n",
            "33/33 [==============================] - 0s 4ms/step - loss: 0.6554 - accuracy: 0.6604 - val_loss: 0.6119 - val_accuracy: 0.7085\n",
            "Epoch 3/30\n",
            "33/33 [==============================] - 0s 4ms/step - loss: 0.6035 - accuracy: 0.6847 - val_loss: 0.5537 - val_accuracy: 0.7232\n",
            "Epoch 4/30\n",
            "33/33 [==============================] - 0s 4ms/step - loss: 0.5691 - accuracy: 0.7030 - val_loss: 0.5203 - val_accuracy: 0.7417\n",
            "Epoch 5/30\n",
            "33/33 [==============================] - 0s 4ms/step - loss: 0.5408 - accuracy: 0.7230 - val_loss: 0.4927 - val_accuracy: 0.7601\n",
            "Epoch 6/30\n",
            "33/33 [==============================] - 0s 4ms/step - loss: 0.5161 - accuracy: 0.7470 - val_loss: 0.4721 - val_accuracy: 0.7749\n",
            "Epoch 7/30\n",
            "33/33 [==============================] - 0s 4ms/step - loss: 0.5040 - accuracy: 0.7537 - val_loss: 0.4598 - val_accuracy: 0.7934\n",
            "Epoch 8/30\n",
            "33/33 [==============================] - 0s 4ms/step - loss: 0.4975 - accuracy: 0.7570 - val_loss: 0.4537 - val_accuracy: 0.7860\n",
            "Epoch 9/30\n",
            "33/33 [==============================] - 0s 4ms/step - loss: 0.4906 - accuracy: 0.7639 - val_loss: 0.4482 - val_accuracy: 0.7897\n",
            "Epoch 10/30\n",
            "33/33 [==============================] - 0s 4ms/step - loss: 0.4870 - accuracy: 0.7670 - val_loss: 0.4461 - val_accuracy: 0.7860\n",
            "Epoch 11/30\n",
            "33/33 [==============================] - 0s 4ms/step - loss: 0.4831 - accuracy: 0.7694 - val_loss: 0.4410 - val_accuracy: 0.7934\n",
            "Epoch 12/30\n",
            "33/33 [==============================] - 0s 4ms/step - loss: 0.4817 - accuracy: 0.7663 - val_loss: 0.4377 - val_accuracy: 0.7860\n",
            "Epoch 13/30\n",
            "33/33 [==============================] - 0s 4ms/step - loss: 0.4808 - accuracy: 0.7682 - val_loss: 0.4408 - val_accuracy: 0.7934\n",
            "Epoch 14/30\n",
            "33/33 [==============================] - 0s 4ms/step - loss: 0.4792 - accuracy: 0.7675 - val_loss: 0.4347 - val_accuracy: 0.7970\n",
            "Epoch 15/30\n",
            "33/33 [==============================] - 0s 4ms/step - loss: 0.4777 - accuracy: 0.7696 - val_loss: 0.4367 - val_accuracy: 0.7860\n",
            "Epoch 16/30\n",
            "33/33 [==============================] - 0s 4ms/step - loss: 0.4768 - accuracy: 0.7692 - val_loss: 0.4361 - val_accuracy: 0.7934\n",
            "Epoch 17/30\n",
            "33/33 [==============================] - 0s 4ms/step - loss: 0.4763 - accuracy: 0.7708 - val_loss: 0.4341 - val_accuracy: 0.7897\n",
            "Epoch 18/30\n",
            "33/33 [==============================] - 0s 4ms/step - loss: 0.4752 - accuracy: 0.7706 - val_loss: 0.4349 - val_accuracy: 0.7860\n",
            "Epoch 19/30\n",
            "33/33 [==============================] - 0s 4ms/step - loss: 0.4741 - accuracy: 0.7713 - val_loss: 0.4343 - val_accuracy: 0.7786\n",
            "Epoch 20/30\n",
            "33/33 [==============================] - 0s 4ms/step - loss: 0.4738 - accuracy: 0.7715 - val_loss: 0.4344 - val_accuracy: 0.7823\n",
            "Epoch 21/30\n",
            "33/33 [==============================] - 0s 4ms/step - loss: 0.4728 - accuracy: 0.7730 - val_loss: 0.4329 - val_accuracy: 0.7823\n",
            "Epoch 22/30\n",
            "33/33 [==============================] - 0s 4ms/step - loss: 0.4726 - accuracy: 0.7701 - val_loss: 0.4349 - val_accuracy: 0.7860\n",
            "Epoch 23/30\n",
            "33/33 [==============================] - 0s 4ms/step - loss: 0.4723 - accuracy: 0.7758 - val_loss: 0.4336 - val_accuracy: 0.7786\n",
            "Epoch 24/30\n",
            "33/33 [==============================] - 0s 4ms/step - loss: 0.4712 - accuracy: 0.7696 - val_loss: 0.4350 - val_accuracy: 0.7823\n",
            "Epoch 25/30\n",
            "33/33 [==============================] - 0s 5ms/step - loss: 0.4714 - accuracy: 0.7713 - val_loss: 0.4330 - val_accuracy: 0.7749\n",
            "Epoch 26/30\n",
            "33/33 [==============================] - 0s 4ms/step - loss: 0.4709 - accuracy: 0.7756 - val_loss: 0.4431 - val_accuracy: 0.7786\n",
            "Testing NN - Layers: 5; Neurons per layer:100\n",
            "Epoch 1/30\n",
            "33/33 [==============================] - 1s 9ms/step - loss: 0.5814 - accuracy: 0.6780 - val_loss: 0.4668 - val_accuracy: 0.7638\n",
            "Epoch 2/30\n",
            "33/33 [==============================] - 0s 4ms/step - loss: 0.5026 - accuracy: 0.7561 - val_loss: 0.4446 - val_accuracy: 0.7749\n",
            "Epoch 3/30\n",
            "33/33 [==============================] - 0s 4ms/step - loss: 0.4820 - accuracy: 0.7682 - val_loss: 0.4426 - val_accuracy: 0.7823\n",
            "Epoch 4/30\n",
            "33/33 [==============================] - 0s 4ms/step - loss: 0.4760 - accuracy: 0.7713 - val_loss: 0.4289 - val_accuracy: 0.7786\n",
            "Epoch 5/30\n",
            "33/33 [==============================] - 0s 4ms/step - loss: 0.4708 - accuracy: 0.7742 - val_loss: 0.4283 - val_accuracy: 0.7934\n",
            "Epoch 6/30\n",
            "33/33 [==============================] - 0s 4ms/step - loss: 0.4848 - accuracy: 0.7656 - val_loss: 0.4297 - val_accuracy: 0.7860\n",
            "Epoch 7/30\n",
            "33/33 [==============================] - 0s 4ms/step - loss: 0.4612 - accuracy: 0.7782 - val_loss: 0.4530 - val_accuracy: 0.7749\n",
            "Epoch 8/30\n",
            "33/33 [==============================] - 0s 4ms/step - loss: 0.4596 - accuracy: 0.7813 - val_loss: 0.4447 - val_accuracy: 0.7712\n",
            "Epoch 9/30\n",
            "33/33 [==============================] - 0s 4ms/step - loss: 0.4549 - accuracy: 0.7777 - val_loss: 0.4340 - val_accuracy: 0.7749\n",
            "Epoch 10/30\n",
            "33/33 [==============================] - 0s 4ms/step - loss: 0.4541 - accuracy: 0.7799 - val_loss: 0.4370 - val_accuracy: 0.7860\n",
            "Testing NN - Layers: 5; Neurons per layer:100\n",
            "Epoch 1/30\n",
            "33/33 [==============================] - 1s 9ms/step - loss: 0.5719 - accuracy: 0.7075 - val_loss: 0.4618 - val_accuracy: 0.7934\n",
            "Epoch 2/30\n",
            "33/33 [==============================] - 0s 4ms/step - loss: 0.5030 - accuracy: 0.7494 - val_loss: 0.4502 - val_accuracy: 0.7860\n",
            "Epoch 3/30\n",
            "33/33 [==============================] - 0s 4ms/step - loss: 0.4814 - accuracy: 0.7611 - val_loss: 0.4439 - val_accuracy: 0.7860\n",
            "Epoch 4/30\n",
            "33/33 [==============================] - 0s 4ms/step - loss: 0.4807 - accuracy: 0.7694 - val_loss: 0.4735 - val_accuracy: 0.7675\n",
            "Epoch 5/30\n",
            "33/33 [==============================] - 0s 4ms/step - loss: 0.4770 - accuracy: 0.7730 - val_loss: 0.4362 - val_accuracy: 0.7934\n",
            "Epoch 6/30\n",
            "33/33 [==============================] - 0s 4ms/step - loss: 0.4663 - accuracy: 0.7758 - val_loss: 0.4278 - val_accuracy: 0.7897\n",
            "Epoch 7/30\n",
            "33/33 [==============================] - 0s 4ms/step - loss: 0.4701 - accuracy: 0.7692 - val_loss: 0.4260 - val_accuracy: 0.7897\n",
            "Epoch 8/30\n",
            "33/33 [==============================] - 0s 5ms/step - loss: 0.4627 - accuracy: 0.7753 - val_loss: 0.4403 - val_accuracy: 0.7823\n",
            "Epoch 9/30\n",
            "33/33 [==============================] - 0s 4ms/step - loss: 0.4624 - accuracy: 0.7713 - val_loss: 0.4335 - val_accuracy: 0.7860\n",
            "Epoch 10/30\n",
            "33/33 [==============================] - 0s 4ms/step - loss: 0.4538 - accuracy: 0.7794 - val_loss: 0.4291 - val_accuracy: 0.7860\n",
            "Epoch 11/30\n",
            "33/33 [==============================] - 0s 4ms/step - loss: 0.4496 - accuracy: 0.7794 - val_loss: 0.4238 - val_accuracy: 0.7934\n",
            "Epoch 12/30\n",
            "33/33 [==============================] - 0s 4ms/step - loss: 0.4453 - accuracy: 0.7832 - val_loss: 0.4290 - val_accuracy: 0.7970\n",
            "Epoch 13/30\n",
            "33/33 [==============================] - 0s 5ms/step - loss: 0.4421 - accuracy: 0.7811 - val_loss: 0.4266 - val_accuracy: 0.7934\n",
            "Epoch 14/30\n",
            "33/33 [==============================] - 0s 4ms/step - loss: 0.4426 - accuracy: 0.7842 - val_loss: 0.4357 - val_accuracy: 0.7934\n",
            "Epoch 15/30\n",
            "33/33 [==============================] - 0s 4ms/step - loss: 0.4494 - accuracy: 0.7772 - val_loss: 0.4462 - val_accuracy: 0.7786\n",
            "Epoch 16/30\n",
            "33/33 [==============================] - 0s 4ms/step - loss: 0.4328 - accuracy: 0.7903 - val_loss: 0.4345 - val_accuracy: 0.7749\n",
            "Testing NN - Layers: 5; Neurons per layer:5000\n",
            "Epoch 1/30\n",
            "33/33 [==============================] - 2s 38ms/step - loss: 1.0816 - accuracy: 0.6673 - val_loss: 0.4655 - val_accuracy: 0.7491\n",
            "Epoch 2/30\n",
            "33/33 [==============================] - 1s 32ms/step - loss: 0.4957 - accuracy: 0.7589 - val_loss: 0.4084 - val_accuracy: 0.8044\n",
            "Epoch 3/30\n",
            "33/33 [==============================] - 1s 32ms/step - loss: 0.4799 - accuracy: 0.7718 - val_loss: 0.4597 - val_accuracy: 0.7454\n",
            "Epoch 4/30\n",
            "33/33 [==============================] - 1s 32ms/step - loss: 0.4744 - accuracy: 0.7761 - val_loss: 0.4435 - val_accuracy: 0.8081\n",
            "Epoch 5/30\n",
            "33/33 [==============================] - 1s 32ms/step - loss: 0.4663 - accuracy: 0.7758 - val_loss: 0.4418 - val_accuracy: 0.7823\n",
            "Epoch 6/30\n",
            "33/33 [==============================] - 1s 31ms/step - loss: 0.4645 - accuracy: 0.7692 - val_loss: 0.4721 - val_accuracy: 0.7860\n",
            "Epoch 7/30\n",
            "33/33 [==============================] - 1s 31ms/step - loss: 0.4537 - accuracy: 0.7872 - val_loss: 0.4437 - val_accuracy: 0.7749\n",
            "Testing NN - Layers: 6; Neurons per layer:10\n",
            "Epoch 1/30\n",
            "33/33 [==============================] - 1s 9ms/step - loss: 0.6906 - accuracy: 0.5438 - val_loss: 0.6819 - val_accuracy: 0.5535\n",
            "Epoch 2/30\n",
            "33/33 [==============================] - 0s 4ms/step - loss: 0.6796 - accuracy: 0.5438 - val_loss: 0.6615 - val_accuracy: 0.5535\n",
            "Epoch 3/30\n",
            "33/33 [==============================] - 0s 4ms/step - loss: 0.6552 - accuracy: 0.5652 - val_loss: 0.6118 - val_accuracy: 0.6310\n",
            "Epoch 4/30\n",
            "33/33 [==============================] - 0s 4ms/step - loss: 0.6087 - accuracy: 0.6716 - val_loss: 0.5562 - val_accuracy: 0.7269\n",
            "Epoch 5/30\n",
            "33/33 [==============================] - 0s 5ms/step - loss: 0.5685 - accuracy: 0.7261 - val_loss: 0.5255 - val_accuracy: 0.7491\n",
            "Epoch 6/30\n",
            "33/33 [==============================] - 0s 4ms/step - loss: 0.5341 - accuracy: 0.7487 - val_loss: 0.4978 - val_accuracy: 0.7491\n",
            "Epoch 7/30\n",
            "33/33 [==============================] - 0s 4ms/step - loss: 0.5089 - accuracy: 0.7554 - val_loss: 0.4665 - val_accuracy: 0.7638\n",
            "Epoch 8/30\n",
            "33/33 [==============================] - 0s 4ms/step - loss: 0.5033 - accuracy: 0.7525 - val_loss: 0.4569 - val_accuracy: 0.7749\n",
            "Epoch 9/30\n",
            "33/33 [==============================] - 0s 4ms/step - loss: 0.4933 - accuracy: 0.7599 - val_loss: 0.4444 - val_accuracy: 0.7934\n",
            "Epoch 10/30\n",
            "33/33 [==============================] - 0s 4ms/step - loss: 0.4914 - accuracy: 0.7599 - val_loss: 0.4441 - val_accuracy: 0.7860\n",
            "Epoch 11/30\n",
            "33/33 [==============================] - 0s 4ms/step - loss: 0.4871 - accuracy: 0.7611 - val_loss: 0.4383 - val_accuracy: 0.7897\n",
            "Epoch 12/30\n",
            "33/33 [==============================] - 0s 4ms/step - loss: 0.4847 - accuracy: 0.7670 - val_loss: 0.4444 - val_accuracy: 0.7786\n",
            "Epoch 13/30\n",
            "33/33 [==============================] - 0s 4ms/step - loss: 0.4835 - accuracy: 0.7639 - val_loss: 0.4396 - val_accuracy: 0.7823\n",
            "Epoch 14/30\n",
            "33/33 [==============================] - 0s 4ms/step - loss: 0.4818 - accuracy: 0.7651 - val_loss: 0.4362 - val_accuracy: 0.7860\n",
            "Epoch 15/30\n",
            "33/33 [==============================] - 0s 4ms/step - loss: 0.4795 - accuracy: 0.7680 - val_loss: 0.4373 - val_accuracy: 0.7860\n",
            "Epoch 16/30\n",
            "33/33 [==============================] - 0s 4ms/step - loss: 0.4779 - accuracy: 0.7713 - val_loss: 0.4344 - val_accuracy: 0.7970\n",
            "Epoch 17/30\n",
            "33/33 [==============================] - 0s 4ms/step - loss: 0.4763 - accuracy: 0.7696 - val_loss: 0.4328 - val_accuracy: 0.7934\n",
            "Epoch 18/30\n",
            "33/33 [==============================] - 0s 4ms/step - loss: 0.4750 - accuracy: 0.7694 - val_loss: 0.4352 - val_accuracy: 0.7860\n",
            "Epoch 19/30\n",
            "33/33 [==============================] - 0s 4ms/step - loss: 0.4754 - accuracy: 0.7696 - val_loss: 0.4305 - val_accuracy: 0.7897\n",
            "Epoch 20/30\n",
            "33/33 [==============================] - 0s 4ms/step - loss: 0.4733 - accuracy: 0.7673 - val_loss: 0.4291 - val_accuracy: 0.7970\n",
            "Epoch 21/30\n",
            "33/33 [==============================] - 0s 4ms/step - loss: 0.4739 - accuracy: 0.7718 - val_loss: 0.4274 - val_accuracy: 0.7970\n",
            "Epoch 22/30\n",
            "33/33 [==============================] - 0s 5ms/step - loss: 0.4724 - accuracy: 0.7682 - val_loss: 0.4268 - val_accuracy: 0.7970\n",
            "Epoch 23/30\n",
            "33/33 [==============================] - 0s 4ms/step - loss: 0.4713 - accuracy: 0.7699 - val_loss: 0.4300 - val_accuracy: 0.7860\n",
            "Epoch 24/30\n",
            "33/33 [==============================] - 0s 4ms/step - loss: 0.4697 - accuracy: 0.7713 - val_loss: 0.4294 - val_accuracy: 0.7786\n",
            "Epoch 25/30\n",
            "33/33 [==============================] - 0s 4ms/step - loss: 0.4693 - accuracy: 0.7730 - val_loss: 0.4305 - val_accuracy: 0.7860\n",
            "Epoch 26/30\n",
            "33/33 [==============================] - 0s 4ms/step - loss: 0.4691 - accuracy: 0.7677 - val_loss: 0.4292 - val_accuracy: 0.7860\n",
            "Epoch 27/30\n",
            "33/33 [==============================] - 0s 4ms/step - loss: 0.4686 - accuracy: 0.7696 - val_loss: 0.4293 - val_accuracy: 0.7860\n",
            "Testing NN - Layers: 6; Neurons per layer:100\n",
            "Epoch 1/30\n",
            "33/33 [==============================] - 1s 9ms/step - loss: 0.5766 - accuracy: 0.6906 - val_loss: 0.4699 - val_accuracy: 0.7638\n",
            "Epoch 2/30\n",
            "33/33 [==============================] - 0s 4ms/step - loss: 0.4988 - accuracy: 0.7520 - val_loss: 0.4524 - val_accuracy: 0.7823\n",
            "Epoch 3/30\n",
            "33/33 [==============================] - 0s 4ms/step - loss: 0.4813 - accuracy: 0.7623 - val_loss: 0.4290 - val_accuracy: 0.7897\n",
            "Epoch 4/30\n",
            "33/33 [==============================] - 0s 5ms/step - loss: 0.4751 - accuracy: 0.7668 - val_loss: 0.4302 - val_accuracy: 0.7860\n",
            "Epoch 5/30\n",
            "33/33 [==============================] - 0s 4ms/step - loss: 0.4706 - accuracy: 0.7684 - val_loss: 0.4554 - val_accuracy: 0.7934\n",
            "Epoch 6/30\n",
            "33/33 [==============================] - 0s 4ms/step - loss: 0.4723 - accuracy: 0.7675 - val_loss: 0.4374 - val_accuracy: 0.7860\n",
            "Epoch 7/30\n",
            "33/33 [==============================] - 0s 4ms/step - loss: 0.4584 - accuracy: 0.7796 - val_loss: 0.4306 - val_accuracy: 0.7675\n",
            "Epoch 8/30\n",
            "33/33 [==============================] - 0s 4ms/step - loss: 0.4591 - accuracy: 0.7772 - val_loss: 0.4475 - val_accuracy: 0.8081\n",
            "Testing NN - Layers: 6; Neurons per layer:100\n",
            "Epoch 1/30\n",
            "33/33 [==============================] - 1s 10ms/step - loss: 0.5861 - accuracy: 0.6837 - val_loss: 0.4636 - val_accuracy: 0.7749\n",
            "Epoch 2/30\n",
            "33/33 [==============================] - 0s 5ms/step - loss: 0.5091 - accuracy: 0.7449 - val_loss: 0.4547 - val_accuracy: 0.7712\n",
            "Epoch 3/30\n",
            "33/33 [==============================] - 0s 4ms/step - loss: 0.4851 - accuracy: 0.7611 - val_loss: 0.4509 - val_accuracy: 0.7749\n",
            "Epoch 4/30\n",
            "33/33 [==============================] - 0s 4ms/step - loss: 0.4791 - accuracy: 0.7699 - val_loss: 0.4358 - val_accuracy: 0.7786\n",
            "Epoch 5/30\n",
            "33/33 [==============================] - 0s 5ms/step - loss: 0.4755 - accuracy: 0.7613 - val_loss: 0.4438 - val_accuracy: 0.7749\n",
            "Epoch 6/30\n",
            "33/33 [==============================] - 0s 4ms/step - loss: 0.4671 - accuracy: 0.7732 - val_loss: 0.4485 - val_accuracy: 0.7749\n",
            "Epoch 7/30\n",
            "33/33 [==============================] - 0s 5ms/step - loss: 0.4688 - accuracy: 0.7749 - val_loss: 0.4416 - val_accuracy: 0.7897\n",
            "Epoch 8/30\n",
            "33/33 [==============================] - 0s 4ms/step - loss: 0.4595 - accuracy: 0.7789 - val_loss: 0.4485 - val_accuracy: 0.7712\n",
            "Epoch 9/30\n",
            "33/33 [==============================] - 0s 4ms/step - loss: 0.4532 - accuracy: 0.7834 - val_loss: 0.4360 - val_accuracy: 0.7712\n",
            "Testing NN - Layers: 6; Neurons per layer:5000\n",
            "Epoch 1/30\n",
            "33/33 [==============================] - 2s 46ms/step - loss: 0.9200 - accuracy: 0.6480 - val_loss: 0.4529 - val_accuracy: 0.7786\n",
            "Epoch 2/30\n",
            "33/33 [==============================] - 1s 40ms/step - loss: 0.4983 - accuracy: 0.7599 - val_loss: 0.4472 - val_accuracy: 0.7675\n",
            "Epoch 3/30\n",
            "33/33 [==============================] - 1s 41ms/step - loss: 0.4919 - accuracy: 0.7656 - val_loss: 0.5257 - val_accuracy: 0.6863\n",
            "Epoch 4/30\n",
            "33/33 [==============================] - 1s 40ms/step - loss: 0.4817 - accuracy: 0.7663 - val_loss: 0.4553 - val_accuracy: 0.7749\n",
            "Epoch 5/30\n",
            "33/33 [==============================] - 1s 40ms/step - loss: 0.4687 - accuracy: 0.7725 - val_loss: 0.4430 - val_accuracy: 0.8007\n",
            "Epoch 6/30\n",
            "33/33 [==============================] - 1s 41ms/step - loss: 0.4622 - accuracy: 0.7742 - val_loss: 0.4486 - val_accuracy: 0.7786\n",
            "Epoch 7/30\n",
            "33/33 [==============================] - 1s 41ms/step - loss: 0.4626 - accuracy: 0.7796 - val_loss: 0.4574 - val_accuracy: 0.7860\n",
            "Epoch 8/30\n",
            "33/33 [==============================] - 1s 41ms/step - loss: 0.4521 - accuracy: 0.7834 - val_loss: 0.4765 - val_accuracy: 0.7675\n",
            "Epoch 9/30\n",
            "33/33 [==============================] - 1s 41ms/step - loss: 0.4378 - accuracy: 0.7856 - val_loss: 0.4479 - val_accuracy: 0.7897\n",
            "Epoch 10/30\n",
            "33/33 [==============================] - 1s 42ms/step - loss: 0.4331 - accuracy: 0.7880 - val_loss: 0.4873 - val_accuracy: 0.7749\n",
            "Testing NN - Layers: 7; Neurons per layer:10\n",
            "Epoch 1/30\n",
            "33/33 [==============================] - 1s 9ms/step - loss: 0.6856 - accuracy: 0.5466 - val_loss: 0.6612 - val_accuracy: 0.5572\n",
            "Epoch 2/30\n",
            "33/33 [==============================] - 0s 5ms/step - loss: 0.6426 - accuracy: 0.6278 - val_loss: 0.5844 - val_accuracy: 0.7196\n",
            "Epoch 3/30\n",
            "33/33 [==============================] - 0s 5ms/step - loss: 0.5936 - accuracy: 0.7085 - val_loss: 0.5405 - val_accuracy: 0.7638\n",
            "Epoch 4/30\n",
            "33/33 [==============================] - 0s 4ms/step - loss: 0.5553 - accuracy: 0.7335 - val_loss: 0.4887 - val_accuracy: 0.7712\n",
            "Epoch 5/30\n",
            "33/33 [==============================] - 0s 4ms/step - loss: 0.5225 - accuracy: 0.7461 - val_loss: 0.4671 - val_accuracy: 0.7712\n",
            "Epoch 6/30\n",
            "33/33 [==============================] - 0s 4ms/step - loss: 0.5051 - accuracy: 0.7570 - val_loss: 0.4611 - val_accuracy: 0.7601\n",
            "Epoch 7/30\n",
            "33/33 [==============================] - 0s 4ms/step - loss: 0.4965 - accuracy: 0.7618 - val_loss: 0.4524 - val_accuracy: 0.7712\n",
            "Epoch 8/30\n",
            "33/33 [==============================] - 0s 4ms/step - loss: 0.4930 - accuracy: 0.7623 - val_loss: 0.4478 - val_accuracy: 0.7823\n",
            "Epoch 9/30\n",
            "33/33 [==============================] - 0s 4ms/step - loss: 0.4888 - accuracy: 0.7696 - val_loss: 0.4448 - val_accuracy: 0.7823\n",
            "Epoch 10/30\n",
            "33/33 [==============================] - 0s 4ms/step - loss: 0.4862 - accuracy: 0.7689 - val_loss: 0.4442 - val_accuracy: 0.7823\n",
            "Epoch 11/30\n",
            "33/33 [==============================] - 0s 4ms/step - loss: 0.4858 - accuracy: 0.7658 - val_loss: 0.4428 - val_accuracy: 0.7970\n",
            "Epoch 12/30\n",
            "33/33 [==============================] - 0s 4ms/step - loss: 0.4833 - accuracy: 0.7692 - val_loss: 0.4456 - val_accuracy: 0.7860\n",
            "Epoch 13/30\n",
            "33/33 [==============================] - 0s 4ms/step - loss: 0.4796 - accuracy: 0.7680 - val_loss: 0.4416 - val_accuracy: 0.7786\n",
            "Epoch 14/30\n",
            "33/33 [==============================] - 0s 4ms/step - loss: 0.4809 - accuracy: 0.7670 - val_loss: 0.4438 - val_accuracy: 0.7897\n",
            "Epoch 15/30\n",
            "33/33 [==============================] - 0s 4ms/step - loss: 0.4787 - accuracy: 0.7682 - val_loss: 0.4403 - val_accuracy: 0.7786\n",
            "Epoch 16/30\n",
            "33/33 [==============================] - 0s 4ms/step - loss: 0.4781 - accuracy: 0.7699 - val_loss: 0.4457 - val_accuracy: 0.7860\n",
            "Epoch 17/30\n",
            "33/33 [==============================] - 0s 4ms/step - loss: 0.4772 - accuracy: 0.7682 - val_loss: 0.4472 - val_accuracy: 0.7970\n",
            "Epoch 18/30\n",
            "33/33 [==============================] - 0s 4ms/step - loss: 0.4787 - accuracy: 0.7618 - val_loss: 0.4428 - val_accuracy: 0.7749\n",
            "Epoch 19/30\n",
            "33/33 [==============================] - 0s 5ms/step - loss: 0.4779 - accuracy: 0.7680 - val_loss: 0.4503 - val_accuracy: 0.7786\n",
            "Epoch 20/30\n",
            "33/33 [==============================] - 0s 4ms/step - loss: 0.4782 - accuracy: 0.7706 - val_loss: 0.4412 - val_accuracy: 0.7823\n",
            "Testing NN - Layers: 7; Neurons per layer:100\n",
            "Epoch 1/30\n",
            "33/33 [==============================] - 1s 10ms/step - loss: 0.5789 - accuracy: 0.7025 - val_loss: 0.5327 - val_accuracy: 0.7417\n",
            "Epoch 2/30\n",
            "33/33 [==============================] - 0s 5ms/step - loss: 0.5141 - accuracy: 0.7394 - val_loss: 0.4570 - val_accuracy: 0.7970\n",
            "Epoch 3/30\n",
            "33/33 [==============================] - 0s 5ms/step - loss: 0.4853 - accuracy: 0.7625 - val_loss: 0.4473 - val_accuracy: 0.7860\n",
            "Epoch 4/30\n",
            "33/33 [==============================] - 0s 4ms/step - loss: 0.4840 - accuracy: 0.7611 - val_loss: 0.4424 - val_accuracy: 0.7860\n",
            "Epoch 5/30\n",
            "33/33 [==============================] - 0s 5ms/step - loss: 0.4773 - accuracy: 0.7670 - val_loss: 0.4491 - val_accuracy: 0.7786\n",
            "Epoch 6/30\n",
            "33/33 [==============================] - 0s 5ms/step - loss: 0.4694 - accuracy: 0.7737 - val_loss: 0.4373 - val_accuracy: 0.7823\n",
            "Epoch 7/30\n",
            "33/33 [==============================] - 0s 5ms/step - loss: 0.4693 - accuracy: 0.7713 - val_loss: 0.4323 - val_accuracy: 0.7823\n",
            "Epoch 8/30\n",
            "33/33 [==============================] - 0s 4ms/step - loss: 0.4755 - accuracy: 0.7661 - val_loss: 0.4282 - val_accuracy: 0.7897\n",
            "Epoch 9/30\n",
            "33/33 [==============================] - 0s 5ms/step - loss: 0.4596 - accuracy: 0.7770 - val_loss: 0.4501 - val_accuracy: 0.7823\n",
            "Epoch 10/30\n",
            "33/33 [==============================] - 0s 4ms/step - loss: 0.4608 - accuracy: 0.7758 - val_loss: 0.4367 - val_accuracy: 0.7823\n",
            "Epoch 11/30\n",
            "33/33 [==============================] - 0s 5ms/step - loss: 0.4561 - accuracy: 0.7737 - val_loss: 0.4379 - val_accuracy: 0.7749\n",
            "Epoch 12/30\n",
            "33/33 [==============================] - 0s 5ms/step - loss: 0.4495 - accuracy: 0.7801 - val_loss: 0.4424 - val_accuracy: 0.7675\n",
            "Epoch 13/30\n",
            "33/33 [==============================] - 0s 5ms/step - loss: 0.4430 - accuracy: 0.7827 - val_loss: 0.4841 - val_accuracy: 0.7638\n",
            "Testing NN - Layers: 7; Neurons per layer:100\n",
            "Epoch 1/30\n",
            "33/33 [==============================] - 1s 10ms/step - loss: 0.5799 - accuracy: 0.6851 - val_loss: 0.4599 - val_accuracy: 0.7970\n",
            "Epoch 2/30\n",
            "33/33 [==============================] - 0s 5ms/step - loss: 0.5155 - accuracy: 0.7382 - val_loss: 0.5125 - val_accuracy: 0.7232\n",
            "Epoch 3/30\n",
            "33/33 [==============================] - 0s 5ms/step - loss: 0.4986 - accuracy: 0.7589 - val_loss: 0.4306 - val_accuracy: 0.7897\n",
            "Epoch 4/30\n",
            "33/33 [==============================] - 0s 5ms/step - loss: 0.4769 - accuracy: 0.7713 - val_loss: 0.4286 - val_accuracy: 0.7860\n",
            "Epoch 5/30\n",
            "33/33 [==============================] - 0s 5ms/step - loss: 0.4733 - accuracy: 0.7658 - val_loss: 0.4289 - val_accuracy: 0.7786\n",
            "Epoch 6/30\n",
            "33/33 [==============================] - 0s 4ms/step - loss: 0.4694 - accuracy: 0.7720 - val_loss: 0.4462 - val_accuracy: 0.7823\n",
            "Epoch 7/30\n",
            "33/33 [==============================] - 0s 5ms/step - loss: 0.4668 - accuracy: 0.7732 - val_loss: 0.4268 - val_accuracy: 0.7970\n",
            "Epoch 8/30\n",
            "33/33 [==============================] - 0s 5ms/step - loss: 0.4604 - accuracy: 0.7732 - val_loss: 0.4354 - val_accuracy: 0.7749\n",
            "Epoch 9/30\n",
            "33/33 [==============================] - 0s 5ms/step - loss: 0.4582 - accuracy: 0.7746 - val_loss: 0.4294 - val_accuracy: 0.7675\n",
            "Epoch 10/30\n",
            "33/33 [==============================] - 0s 4ms/step - loss: 0.4532 - accuracy: 0.7794 - val_loss: 0.4221 - val_accuracy: 0.7934\n",
            "Epoch 11/30\n",
            "33/33 [==============================] - 0s 5ms/step - loss: 0.4484 - accuracy: 0.7832 - val_loss: 0.4304 - val_accuracy: 0.7749\n",
            "Epoch 12/30\n",
            "33/33 [==============================] - 0s 4ms/step - loss: 0.4412 - accuracy: 0.7827 - val_loss: 0.4374 - val_accuracy: 0.7860\n",
            "Epoch 13/30\n",
            "33/33 [==============================] - 0s 5ms/step - loss: 0.4498 - accuracy: 0.7813 - val_loss: 0.4479 - val_accuracy: 0.7749\n",
            "Epoch 14/30\n",
            "33/33 [==============================] - 0s 5ms/step - loss: 0.4345 - accuracy: 0.7856 - val_loss: 0.4605 - val_accuracy: 0.7638\n",
            "Epoch 15/30\n",
            "33/33 [==============================] - 0s 5ms/step - loss: 0.4340 - accuracy: 0.7865 - val_loss: 0.4438 - val_accuracy: 0.7675\n",
            "Testing NN - Layers: 7; Neurons per layer:5000\n",
            "Epoch 1/30\n",
            "33/33 [==============================] - 2s 57ms/step - loss: 1.3943 - accuracy: 0.6209 - val_loss: 0.4692 - val_accuracy: 0.7786\n",
            "Epoch 2/30\n",
            "33/33 [==============================] - 2s 52ms/step - loss: 0.4955 - accuracy: 0.7499 - val_loss: 0.4341 - val_accuracy: 0.8007\n",
            "Epoch 3/30\n",
            "33/33 [==============================] - 2s 51ms/step - loss: 0.4758 - accuracy: 0.7587 - val_loss: 0.4296 - val_accuracy: 0.7934\n",
            "Epoch 4/30\n",
            "33/33 [==============================] - 2s 50ms/step - loss: 0.4883 - accuracy: 0.7670 - val_loss: 0.4681 - val_accuracy: 0.7712\n",
            "Epoch 5/30\n",
            "33/33 [==============================] - 2s 52ms/step - loss: 0.4734 - accuracy: 0.7658 - val_loss: 0.4728 - val_accuracy: 0.7638\n",
            "Epoch 6/30\n",
            "33/33 [==============================] - 2s 52ms/step - loss: 0.4627 - accuracy: 0.7768 - val_loss: 0.4378 - val_accuracy: 0.7749\n",
            "Epoch 7/30\n",
            "33/33 [==============================] - 2s 50ms/step - loss: 0.4673 - accuracy: 0.7801 - val_loss: 0.4589 - val_accuracy: 0.7786\n",
            "Epoch 8/30\n",
            "33/33 [==============================] - 2s 50ms/step - loss: 0.4578 - accuracy: 0.7761 - val_loss: 0.4557 - val_accuracy: 0.7638\n"
          ]
        },
        {
          "data": {
            "text/plain": [
              "[]"
            ]
          },
          "execution_count": 168,
          "metadata": {},
          "output_type": "execute_result"
        }
      ],
      "source": [
        "# Parameters to check\n",
        "number_of_layers = [3, 4, 5, 6, 7]\n",
        "number_of_neurons = [10, 100, 100, 5000]\n",
        "\n",
        "# Variables for saving data\n",
        "best_epoch = [[]];\n",
        "best_accuracy = [[]];\n",
        "i = 0;\n",
        "\n",
        "# Add early stopping into model training\n",
        "from tensorflow.keras.callbacks import EarlyStopping, ModelCheckpoint\n",
        "keras_callbacks = [\n",
        "      EarlyStopping(monitor='val_loss', patience=5, mode='min', min_delta=0.0001),\n",
        "]\n",
        "\n",
        "# Loop through all parameters\n",
        "for layers in number_of_layers:\n",
        "  for neurons in number_of_neurons:\n",
        "    print(\"Testing NN - Layers: \"+ str(layers) + \"; Neurons per layer:\" + str(neurons))\n",
        "    NN_model = build_NN(layers, neurons)\n",
        "    train_history = NN_model.fit(X_train_prepared, train_label_binary.values.ravel(), validation_data=(X_val_prepared,validation_label_binary.values.ravel()), batch_size=128, epochs = 30, callbacks=keras_callbacks)\n",
        "    # Using validation accuracy as performance metric\n",
        "    accuracy = train_history.history['val_accuracy']\n",
        "    best_accuracy[i].append(max(accuracy))\n",
        "    best_epoch[i].append(accuracy.index(max(accuracy)))\n",
        "  i = i + 1;\n",
        "  best_epoch.append([])\n",
        "  best_accuracy.append([])\n",
        "\n",
        "# Remove last element\n",
        "best_epoch.pop(i)\n",
        "best_accuracy.pop(i)"
      ]
    },
    {
      "cell_type": "code",
      "execution_count": null,
      "metadata": {
        "colab": {
          "background_save": true
        },
        "id": "-yawpd3NSGyi",
        "outputId": "81179a02-00b0-453f-cc33-64b211ad423c"
      },
      "outputs": [
        {
          "name": "stdout",
          "output_type": "stream",
          "text": [
            "Best number of layers: 3\n",
            "Best number of neurons: 100\n"
          ]
        }
      ],
      "source": [
        "# Build model with best parameters\n",
        "ideal_layers_index = best_accuracy.index(max(best_accuracy))\n",
        "ideal_layers = number_of_layers[ideal_layers_index]\n",
        "ideal_neurons = number_of_neurons[best_accuracy[ideal_layers_index].index(max(best_accuracy[ideal_layers_index]))]\n",
        "\n",
        "# Print Results\n",
        "print(\"Best number of layers:\", str(ideal_layers))\n",
        "print(\"Best number of neurons:\", str(ideal_neurons))"
      ]
    },
    {
      "cell_type": "markdown",
      "metadata": {
        "id": "YFpAkTVyngl8"
      },
      "source": [
        "## **Evaluate all the models on the Test Set**"
      ]
    },
    {
      "cell_type": "code",
      "execution_count": null,
      "metadata": {
        "colab": {
          "base_uri": "https://localhost:8080/"
        },
        "id": "F6yLSni_0Qr0",
        "outputId": "6832c2b5-6f9d-4fd3-ea12-d8f61c99397e"
      },
      "outputs": [
        {
          "data": {
            "text/plain": [
              "array([ True,  True,  True, ..., False, False,  True])"
            ]
          },
          "execution_count": 186,
          "metadata": {},
          "output_type": "execute_result"
        }
      ],
      "source": [
        "#Logistic Regression\n",
        "logistic_regression_final_model = LogisticRegression(solver ='liblinear', **best_model.best_params_)\n",
        "logistic_regression_final_model.fit(X_train_prepared, train_label_binary )\n",
        "logistic_prediction_test= logistic_regression_final_model.predict(X_test_prepared)\n",
        "logistic_prediction_test"
      ]
    },
    {
      "cell_type": "code",
      "execution_count": null,
      "metadata": {
        "colab": {
          "base_uri": "https://localhost:8080/"
        },
        "id": "K6hEZSTE0XnN",
        "outputId": "09ed795d-1c46-4664-e010-e66e9bdafe95"
      },
      "outputs": [
        {
          "data": {
            "text/plain": [
              "array([ True,  True,  True, ..., False, False,  True])"
            ]
          },
          "execution_count": 187,
          "metadata": {},
          "output_type": "execute_result"
        }
      ],
      "source": [
        "#Support Vector Machine\n",
        "SVM_final_model = SVC(C=0.1, kernel= 'linear', gamma = 'scale', probability=True)\n",
        "SVM_final_model.fit(X_train_prepared, train_label_binary)\n",
        "svm_prediction_test= SVM_final_model.predict(X_test_prepared)\n",
        "svm_prediction_test"
      ]
    },
    {
      "cell_type": "code",
      "execution_count": null,
      "metadata": {
        "colab": {
          "base_uri": "https://localhost:8080/"
        },
        "id": "ikuCKarh0dtz",
        "outputId": "819e1543-518e-4677-8814-f09be21f3d70"
      },
      "outputs": [
        {
          "data": {
            "text/plain": [
              "array([ True,  True,  True, ...,  True, False,  True])"
            ]
          },
          "execution_count": 188,
          "metadata": {},
          "output_type": "execute_result"
        }
      ],
      "source": [
        "# Random Forest Classifier\n",
        "random_forest_final_model = RandomForestClassifier(n_estimators = 400, max_features= 'sqrt')\n",
        "random_forest_final_model.fit(X_train_prepared, train_label_binary)\n",
        "random_forest_prediction_test= random_forest_final_model.predict(X_test_prepared)\n",
        "random_forest_prediction_test\n"
      ]
    },
    {
      "cell_type": "code",
      "execution_count": null,
      "metadata": {
        "colab": {
          "base_uri": "https://localhost:8080/"
        },
        "id": "q4BHkgiKSRaP",
        "outputId": "54d7096e-ccef-4f3f-9a5b-4a79c64cf90c"
      },
      "outputs": [
        {
          "name": "stdout",
          "output_type": "stream",
          "text": [
            "Epoch 1/30\n",
            "33/33 [==============================] - 1s 9ms/step - loss: 0.6186 - accuracy: 0.6426 - val_loss: 0.5092 - val_accuracy: 0.7417\n",
            "Epoch 2/30\n",
            "33/33 [==============================] - 0s 5ms/step - loss: 0.5529 - accuracy: 0.7147 - val_loss: 0.4665 - val_accuracy: 0.7749\n",
            "Epoch 3/30\n",
            "33/33 [==============================] - 0s 4ms/step - loss: 0.5185 - accuracy: 0.7468 - val_loss: 0.4448 - val_accuracy: 0.7749\n",
            "Epoch 4/30\n",
            "33/33 [==============================] - 0s 4ms/step - loss: 0.5068 - accuracy: 0.7513 - val_loss: 0.4462 - val_accuracy: 0.7749\n",
            "Epoch 5/30\n",
            "33/33 [==============================] - 0s 4ms/step - loss: 0.5004 - accuracy: 0.7518 - val_loss: 0.4422 - val_accuracy: 0.7786\n",
            "Epoch 6/30\n",
            "33/33 [==============================] - 0s 4ms/step - loss: 0.4962 - accuracy: 0.7518 - val_loss: 0.4431 - val_accuracy: 0.7749\n",
            "Epoch 7/30\n",
            "33/33 [==============================] - 0s 4ms/step - loss: 0.4872 - accuracy: 0.7618 - val_loss: 0.4372 - val_accuracy: 0.7970\n",
            "Epoch 8/30\n",
            "33/33 [==============================] - 0s 5ms/step - loss: 0.4817 - accuracy: 0.7675 - val_loss: 0.4361 - val_accuracy: 0.7897\n",
            "Epoch 9/30\n",
            "33/33 [==============================] - 0s 5ms/step - loss: 0.4807 - accuracy: 0.7665 - val_loss: 0.4332 - val_accuracy: 0.7749\n",
            "Epoch 10/30\n",
            "33/33 [==============================] - 0s 5ms/step - loss: 0.4795 - accuracy: 0.7615 - val_loss: 0.4326 - val_accuracy: 0.7749\n",
            "Epoch 11/30\n",
            "33/33 [==============================] - 0s 4ms/step - loss: 0.4735 - accuracy: 0.7715 - val_loss: 0.4314 - val_accuracy: 0.7712\n",
            "Epoch 12/30\n",
            "33/33 [==============================] - 0s 4ms/step - loss: 0.4726 - accuracy: 0.7703 - val_loss: 0.4358 - val_accuracy: 0.7970\n",
            "Epoch 13/30\n",
            "33/33 [==============================] - 0s 4ms/step - loss: 0.4761 - accuracy: 0.7732 - val_loss: 0.4331 - val_accuracy: 0.7675\n",
            "Epoch 14/30\n",
            "33/33 [==============================] - 0s 4ms/step - loss: 0.4706 - accuracy: 0.7634 - val_loss: 0.4327 - val_accuracy: 0.7860\n",
            "Epoch 15/30\n",
            "33/33 [==============================] - 0s 4ms/step - loss: 0.4709 - accuracy: 0.7742 - val_loss: 0.4322 - val_accuracy: 0.7675\n",
            "Epoch 16/30\n",
            "33/33 [==============================] - 0s 4ms/step - loss: 0.4684 - accuracy: 0.7711 - val_loss: 0.4344 - val_accuracy: 0.7934\n",
            "Epoch 17/30\n",
            "33/33 [==============================] - 0s 4ms/step - loss: 0.4647 - accuracy: 0.7715 - val_loss: 0.4333 - val_accuracy: 0.7638\n",
            "Epoch 18/30\n",
            "33/33 [==============================] - 0s 4ms/step - loss: 0.4643 - accuracy: 0.7723 - val_loss: 0.4388 - val_accuracy: 0.7638\n",
            "Epoch 19/30\n",
            "33/33 [==============================] - 0s 4ms/step - loss: 0.4656 - accuracy: 0.7780 - val_loss: 0.4372 - val_accuracy: 0.7786\n",
            "Epoch 20/30\n",
            "33/33 [==============================] - 0s 4ms/step - loss: 0.4616 - accuracy: 0.7763 - val_loss: 0.4353 - val_accuracy: 0.7823\n",
            "Epoch 21/30\n",
            "33/33 [==============================] - 0s 5ms/step - loss: 0.4617 - accuracy: 0.7770 - val_loss: 0.4311 - val_accuracy: 0.7749\n",
            "Epoch 22/30\n",
            "33/33 [==============================] - 0s 4ms/step - loss: 0.4609 - accuracy: 0.7765 - val_loss: 0.4312 - val_accuracy: 0.7712\n",
            "Epoch 23/30\n",
            "33/33 [==============================] - 0s 5ms/step - loss: 0.4557 - accuracy: 0.7758 - val_loss: 0.4306 - val_accuracy: 0.7675\n",
            "Epoch 24/30\n",
            "33/33 [==============================] - 0s 4ms/step - loss: 0.4555 - accuracy: 0.7761 - val_loss: 0.4344 - val_accuracy: 0.7712\n",
            "Epoch 25/30\n",
            "33/33 [==============================] - 0s 4ms/step - loss: 0.4531 - accuracy: 0.7780 - val_loss: 0.4290 - val_accuracy: 0.7712\n",
            "Epoch 26/30\n",
            "33/33 [==============================] - 0s 4ms/step - loss: 0.4515 - accuracy: 0.7820 - val_loss: 0.4325 - val_accuracy: 0.7712\n",
            "Epoch 27/30\n",
            "33/33 [==============================] - 0s 4ms/step - loss: 0.4532 - accuracy: 0.7782 - val_loss: 0.4349 - val_accuracy: 0.7638\n",
            "Epoch 28/30\n",
            "33/33 [==============================] - 0s 4ms/step - loss: 0.4528 - accuracy: 0.7796 - val_loss: 0.4385 - val_accuracy: 0.7712\n",
            "Epoch 29/30\n",
            "33/33 [==============================] - 0s 4ms/step - loss: 0.4504 - accuracy: 0.7796 - val_loss: 0.4358 - val_accuracy: 0.7786\n",
            "Epoch 30/30\n",
            "33/33 [==============================] - 0s 4ms/step - loss: 0.4457 - accuracy: 0.7901 - val_loss: 0.4428 - val_accuracy: 0.7638\n",
            "33/33 [==============================] - 0s 1ms/step\n"
          ]
        }
      ],
      "source": [
        "# Neural Network\n",
        "keras_callbacks = [\n",
        "      EarlyStopping(monitor='val_loss', patience=10, mode='min', min_delta=0.0001),\n",
        "      ModelCheckpoint('./checkmodel.h5', monitor='val_loss', save_best_only=True, mode='min')\n",
        "]\n",
        "NN_final_model = build_NN(ideal_layers, ideal_neurons, dropout=0.15)\n",
        "NN_final_model.fit(X_train_prepared, train_label_binary, validation_data=(X_val_prepared,validation_label_binary.values.ravel()), batch_size=128, epochs = 30, callbacks=keras_callbacks)\n",
        "NN_prediction_test= NN_final_model.predict(X_test_prepared)\n",
        "\n",
        "# Prepare prediction to be comparable\n",
        "NN_prediction_test = (NN_prediction_test >= NN_threshold)"
      ]
    },
    {
      "cell_type": "code",
      "execution_count": null,
      "metadata": {
        "id": "4jm0FohF0yaP"
      },
      "outputs": [],
      "source": [
        "from sklearn.metrics import accuracy_score, precision_score, recall_score, roc_auc_score, f1_score\n",
        "predictions = [logistic_prediction_test,svm_prediction_test, random_forest_prediction_test,NN_prediction_test]\n",
        "names = [\"Logistic_regression_test\",\"Support Vector machine_test\", \"Random_forest_test\",\"Neural_net_test\"]\n",
        "accuracy = []\n",
        "precision =[]\n",
        "recall = []\n",
        "ROC = []\n",
        "F1= []\n",
        "for i in predictions:\n",
        "  accuracyy = accuracy_score(test_label_binary, i)\n",
        "  accuracy.append(accuracyy)\n",
        "  precision1 = precision_score(test_label_binary, i)\n",
        "  precision.append(precision1)\n",
        "  recall1 = recall_score(test_label_binary, i)\n",
        "  recall.append(recall1)\n",
        "  ROC1 = roc_auc_score(test_label_binary, i)\n",
        "  ROC.append(ROC1)\n",
        "  F11 = f1_score(test_label_binary, i)\n",
        "  F1.append(F11)"
      ]
    },
    {
      "cell_type": "code",
      "execution_count": null,
      "metadata": {
        "colab": {
          "base_uri": "https://localhost:8080/",
          "height": 175
        },
        "id": "aDJWteZT09oR",
        "outputId": "d11226bd-2be3-4d04-f5cc-3829c039a065"
      },
      "outputs": [
        {
          "data": {
            "text/html": [
              "\n",
              "  <div id=\"df-2668e312-72ec-4818-be4e-f576832e3bad\">\n",
              "    <div class=\"colab-df-container\">\n",
              "      <div>\n",
              "<style scoped>\n",
              "    .dataframe tbody tr th:only-of-type {\n",
              "        vertical-align: middle;\n",
              "    }\n",
              "\n",
              "    .dataframe tbody tr th {\n",
              "        vertical-align: top;\n",
              "    }\n",
              "\n",
              "    .dataframe thead th {\n",
              "        text-align: right;\n",
              "    }\n",
              "</style>\n",
              "<table border=\"1\" class=\"dataframe\">\n",
              "  <thead>\n",
              "    <tr style=\"text-align: right;\">\n",
              "      <th></th>\n",
              "      <th>Method</th>\n",
              "      <th>Accuracy</th>\n",
              "      <th>Precision</th>\n",
              "      <th>Recall</th>\n",
              "      <th>ROC</th>\n",
              "      <th>F1 score</th>\n",
              "    </tr>\n",
              "  </thead>\n",
              "  <tbody>\n",
              "    <tr>\n",
              "      <th>0</th>\n",
              "      <td>Logistic_regression_test</td>\n",
              "      <td>0.786870</td>\n",
              "      <td>0.765657</td>\n",
              "      <td>0.778234</td>\n",
              "      <td>0.786280</td>\n",
              "      <td>0.771894</td>\n",
              "    </tr>\n",
              "    <tr>\n",
              "      <th>1</th>\n",
              "      <td>Support Vector machine_test</td>\n",
              "      <td>0.781161</td>\n",
              "      <td>0.761711</td>\n",
              "      <td>0.767967</td>\n",
              "      <td>0.780260</td>\n",
              "      <td>0.764826</td>\n",
              "    </tr>\n",
              "    <tr>\n",
              "      <th>2</th>\n",
              "      <td>Random_forest_test</td>\n",
              "      <td>0.761180</td>\n",
              "      <td>0.734127</td>\n",
              "      <td>0.759754</td>\n",
              "      <td>0.761082</td>\n",
              "      <td>0.746720</td>\n",
              "    </tr>\n",
              "    <tr>\n",
              "      <th>3</th>\n",
              "      <td>Neural_net_test</td>\n",
              "      <td>0.761180</td>\n",
              "      <td>0.755411</td>\n",
              "      <td>0.716632</td>\n",
              "      <td>0.758139</td>\n",
              "      <td>0.735511</td>\n",
              "    </tr>\n",
              "  </tbody>\n",
              "</table>\n",
              "</div>\n",
              "      <button class=\"colab-df-convert\" onclick=\"convertToInteractive('df-2668e312-72ec-4818-be4e-f576832e3bad')\"\n",
              "              title=\"Convert this dataframe to an interactive table.\"\n",
              "              style=\"display:none;\">\n",
              "        \n",
              "  <svg xmlns=\"http://www.w3.org/2000/svg\" height=\"24px\"viewBox=\"0 0 24 24\"\n",
              "       width=\"24px\">\n",
              "    <path d=\"M0 0h24v24H0V0z\" fill=\"none\"/>\n",
              "    <path d=\"M18.56 5.44l.94 2.06.94-2.06 2.06-.94-2.06-.94-.94-2.06-.94 2.06-2.06.94zm-11 1L8.5 8.5l.94-2.06 2.06-.94-2.06-.94L8.5 2.5l-.94 2.06-2.06.94zm10 10l.94 2.06.94-2.06 2.06-.94-2.06-.94-.94-2.06-.94 2.06-2.06.94z\"/><path d=\"M17.41 7.96l-1.37-1.37c-.4-.4-.92-.59-1.43-.59-.52 0-1.04.2-1.43.59L10.3 9.45l-7.72 7.72c-.78.78-.78 2.05 0 2.83L4 21.41c.39.39.9.59 1.41.59.51 0 1.02-.2 1.41-.59l7.78-7.78 2.81-2.81c.8-.78.8-2.07 0-2.86zM5.41 20L4 18.59l7.72-7.72 1.47 1.35L5.41 20z\"/>\n",
              "  </svg>\n",
              "      </button>\n",
              "      \n",
              "  <style>\n",
              "    .colab-df-container {\n",
              "      display:flex;\n",
              "      flex-wrap:wrap;\n",
              "      gap: 12px;\n",
              "    }\n",
              "\n",
              "    .colab-df-convert {\n",
              "      background-color: #E8F0FE;\n",
              "      border: none;\n",
              "      border-radius: 50%;\n",
              "      cursor: pointer;\n",
              "      display: none;\n",
              "      fill: #1967D2;\n",
              "      height: 32px;\n",
              "      padding: 0 0 0 0;\n",
              "      width: 32px;\n",
              "    }\n",
              "\n",
              "    .colab-df-convert:hover {\n",
              "      background-color: #E2EBFA;\n",
              "      box-shadow: 0px 1px 2px rgba(60, 64, 67, 0.3), 0px 1px 3px 1px rgba(60, 64, 67, 0.15);\n",
              "      fill: #174EA6;\n",
              "    }\n",
              "\n",
              "    [theme=dark] .colab-df-convert {\n",
              "      background-color: #3B4455;\n",
              "      fill: #D2E3FC;\n",
              "    }\n",
              "\n",
              "    [theme=dark] .colab-df-convert:hover {\n",
              "      background-color: #434B5C;\n",
              "      box-shadow: 0px 1px 3px 1px rgba(0, 0, 0, 0.15);\n",
              "      filter: drop-shadow(0px 1px 2px rgba(0, 0, 0, 0.3));\n",
              "      fill: #FFFFFF;\n",
              "    }\n",
              "  </style>\n",
              "\n",
              "      <script>\n",
              "        const buttonEl =\n",
              "          document.querySelector('#df-2668e312-72ec-4818-be4e-f576832e3bad button.colab-df-convert');\n",
              "        buttonEl.style.display =\n",
              "          google.colab.kernel.accessAllowed ? 'block' : 'none';\n",
              "\n",
              "        async function convertToInteractive(key) {\n",
              "          const element = document.querySelector('#df-2668e312-72ec-4818-be4e-f576832e3bad');\n",
              "          const dataTable =\n",
              "            await google.colab.kernel.invokeFunction('convertToInteractive',\n",
              "                                                     [key], {});\n",
              "          if (!dataTable) return;\n",
              "\n",
              "          const docLinkHtml = 'Like what you see? Visit the ' +\n",
              "            '<a target=\"_blank\" href=https://colab.research.google.com/notebooks/data_table.ipynb>data table notebook</a>'\n",
              "            + ' to learn more about interactive tables.';\n",
              "          element.innerHTML = '';\n",
              "          dataTable['output_type'] = 'display_data';\n",
              "          await google.colab.output.renderOutput(dataTable, element);\n",
              "          const docLink = document.createElement('div');\n",
              "          docLink.innerHTML = docLinkHtml;\n",
              "          element.appendChild(docLink);\n",
              "        }\n",
              "      </script>\n",
              "    </div>\n",
              "  </div>\n",
              "  "
            ],
            "text/plain": [
              "                        Method  Accuracy  Precision    Recall       ROC  \\\n",
              "0     Logistic_regression_test  0.786870   0.765657  0.778234  0.786280   \n",
              "1  Support Vector machine_test  0.781161   0.761711  0.767967  0.780260   \n",
              "2           Random_forest_test  0.761180   0.734127  0.759754  0.761082   \n",
              "3              Neural_net_test  0.761180   0.755411  0.716632  0.758139   \n",
              "\n",
              "   F1 score  \n",
              "0  0.771894  \n",
              "1  0.764826  \n",
              "2  0.746720  \n",
              "3  0.735511  "
            ]
          },
          "execution_count": 191,
          "metadata": {},
          "output_type": "execute_result"
        }
      ],
      "source": [
        "data3 = {'Method': names,\n",
        "        'Accuracy': accuracy,\n",
        "        'Precision': precision,\n",
        "        'Recall': recall,\n",
        "        'ROC': ROC,\n",
        "        'F1 score': F1,\n",
        "        }\n",
        "evaluation = pd.DataFrame(data3, columns=['Method', \"Accuracy\", \"Precision\",\"Recall\", \"ROC\", \"F1 score\"])\n",
        "evaluation"
      ]
    },
    {
      "cell_type": "markdown",
      "metadata": {
        "id": "MTzfWX1cv0wg"
      },
      "source": [
        "**Trade-off between precision and recall** **for** :\n",
        "\n",
        "1.   Logistic Regression\n",
        "2.   Support Vector Machine\n",
        "1.   Random Forest\n",
        "\n",
        "\n",
        "\n",
        "\n"
      ]
    },
    {
      "cell_type": "code",
      "execution_count": null,
      "metadata": {
        "colab": {
          "base_uri": "https://localhost:8080/",
          "height": 295
        },
        "id": "Be8WYoiicVgi",
        "outputId": "c119183c-ea38-4efb-b0b5-666456c14402"
      },
      "outputs": [
        {
          "data": {
            "image/png": "[encoded data removed]",
            "text/plain": [
              "<Figure size 432x288 with 1 Axes>"
            ]
          },
          "metadata": {},
          "output_type": "display_data"
        }
      ],
      "source": [
        "from sklearn.metrics import precision_recall_curve\n",
        "import matplotlib.pyplot as plt\n",
        "\n",
        "y_score = logistic_regression_final_model.predict_proba(X_test_prepared)[:, 1]\n",
        "\n",
        "#calculate precision and recall\n",
        "precision, recall, thresholds = precision_recall_curve(test_label_binary, y_score)\n",
        "#create precision recall curve\n",
        "fig, ax = plt.subplots()\n",
        "ax.plot(recall, precision, color='red')\n",
        "#add axis labels to plot\n",
        "ax.set_title('Precision-Recall Curve for Logistic Regression')\n",
        "ax.set_ylabel('Precision')\n",
        "ax.set_xlabel('Recall')\n",
        "\n",
        "#display plot\n",
        "plt.grid(True)\n",
        "plt.show()\n"
      ]
    },
    {
      "cell_type": "code",
      "execution_count": null,
      "metadata": {
        "colab": {
          "base_uri": "https://localhost:8080/",
          "height": 295
        },
        "id": "k9F5MMsCwEsy",
        "outputId": "fafddf9a-16f5-424a-de2d-10f4849b26ef"
      },
      "outputs": [
        {
          "data": {
            "image/png": "[encoded data removed]",
            "text/plain": [
              "<Figure size 432x288 with 1 Axes>"
            ]
          },
          "metadata": {},
          "output_type": "display_data"
        }
      ],
      "source": [
        "from sklearn.metrics import precision_recall_curve\n",
        "import matplotlib.pyplot as plt\n",
        "\n",
        "y_score = random_forest_final_model.predict_proba(X_test_prepared)[:, 1]\n",
        "\n",
        "#calculate precision and recall\n",
        "precision, recall, thresholds = precision_recall_curve(test_label_binary, y_score)\n",
        "#create precision recall curve\n",
        "fig, ax = plt.subplots()\n",
        "ax.plot(recall, precision, color='blue')\n",
        "#add axis labels to plot\n",
        "ax.set_title('Precision-Recall Curve for Support Vector Machine')\n",
        "ax.set_ylabel('Precision')\n",
        "ax.set_xlabel('Recall')\n",
        "\n",
        "#display plot\n",
        "plt.grid(True)\n",
        "plt.show()"
      ]
    },
    {
      "cell_type": "code",
      "execution_count": null,
      "metadata": {
        "colab": {
          "base_uri": "https://localhost:8080/",
          "height": 295
        },
        "id": "kuu6sOngwZLz",
        "outputId": "9a74ee8f-d8cf-49b6-eaf5-71ca8c9c6f50"
      },
      "outputs": [
        {
          "data": {
            "image/png": "[encoded data removed]",
            "text/plain": [
              "<Figure size 432x288 with 1 Axes>"
            ]
          },
          "metadata": {},
          "output_type": "display_data"
        }
      ],
      "source": [
        "from sklearn.metrics import precision_recall_curve\n",
        "import matplotlib.pyplot as plt\n",
        "\n",
        "y_score = SVM_final_model.predict_proba(X_test_prepared)[:, 1]\n",
        "\n",
        "#calculate precision and recall\n",
        "precision, recall, thresholds = precision_recall_curve(test_label_binary, y_score)\n",
        "#create precision recall curve\n",
        "fig, ax = plt.subplots()\n",
        "ax.plot(recall, precision, color='purple')\n",
        "#add axis labels to plot\n",
        "ax.set_title('Precision-Recall Curve for Random Forest Model')\n",
        "ax.set_ylabel('Precision')\n",
        "ax.set_xlabel('Recall')\n",
        "\n",
        "#display plot\n",
        "plt.grid(True)\n",
        "plt.show()"
      ]
    },
    {
      "cell_type": "markdown",
      "metadata": {
        "id": "EAGC4N4bj8CI"
      },
      "source": [
        "**Drawing the ROC curve of all models on the test dataset**"
      ]
    },
    {
      "cell_type": "code",
      "execution_count": null,
      "metadata": {
        "id": "MRSManeKfgVL"
      },
      "outputs": [],
      "source": [
        "from sklearn.model_selection import cross_val_predict\n",
        "from sklearn.metrics import roc_curve\n",
        "roc_curve_rates = []\n",
        "for model in [logistic_regression_final_model, random_forest_final_model,SVM_final_model]:  #models are 'Logistic Regression', 'RandomForestClassifier', 'SVC'\n",
        "  #finds the predicted probability for the sets and model\n",
        "  predict_probability = cross_val_predict(logistic_regression_final_model, X_test_prepared, test_label_binary, cv= 10, method = \"predict_proba\")\n",
        "  #gets the probs for pos class\n",
        "  y_scorse = predict_probability[:,1]\n",
        "  #calculates the fpr and tpr with te scores\n",
        "  fpr, tpr, threshold = roc_curve(test_label_binary, y_scorse)\n",
        "  roc_curve_rates.append({'fpr': fpr, 'tpr': tpr})"
      ]
    },
    {
      "cell_type": "code",
      "execution_count": null,
      "metadata": {
        "colab": {
          "base_uri": "https://localhost:8080/",
          "height": 295
        },
        "id": "WaOpsUXLjJN2",
        "outputId": "4033006a-0b79-4da6-c524-5b49c310cc50"
      },
      "outputs": [
        {
          "data": {
            "image/png": "[encoded data removed]",
            "text/plain": [
              "<Figure size 432x288 with 1 Axes>"
            ]
          },
          "metadata": {},
          "output_type": "display_data"
        }
      ],
      "source": [
        "#Takes the dics array and plots each line on the same graph\n",
        "line_names = ['Logistic Regression', 'RandomForestClassifier', 'SVC']\n",
        "plt.plot(fpr, tpr, linewidth=2)\n",
        "for i in range(len(roc_curve_rates)):\n",
        "  plt.plot(roc_curve_rates[i]['fpr'], roc_curve_rates[i]['tpr'], linewidth=2, label=line_names[i])\n",
        "plt.xlim([0,1])\n",
        "plt.ylim([0,1])\n",
        "plt.plot([0,1], [0,1], \"k--\")\n",
        "plt.title('ROC curve')\n",
        "plt.xlabel('False Positive Rate (1 - specifity)')\n",
        "plt.ylabel('True Positive Rate (Recall)')\n",
        "plt.legend(loc =\"lower right\")\n",
        "plt.grid()\n",
        "plt.show()"
      ]
    },
    {
      "cell_type": "markdown",
      "metadata": {
        "id": "ZJMWR21LSifn"
      },
      "source": [
        "# **PART III ----> Gradio Implementation**"
      ]
    },
    {
      "cell_type": "code",
      "execution_count": null,
      "metadata": {
        "id": "uzFiq_U7SnmC"
      },
      "outputs": [],
      "source": [
        "# Install Gradio\n",
        "!pip install --quiet gradio"
      ]
    },
    {
      "cell_type": "code",
      "execution_count": null,
      "metadata": {
        "id": "UV7rYzMhSoH2"
      },
      "outputs": [],
      "source": [
        "# Import Gradio Library\n",
        "import gradio as gr"
      ]
    },
    {
      "cell_type": "code",
      "execution_count": null,
      "metadata": {
        "id": "OSIutEzqSqLj"
      },
      "outputs": [],
      "source": [
        "# Define callback function\n",
        "def warfarin_callback(age, height, weight, gender, race, diabetes, medication, Cyp2C9, VKORC1, INR, model):\n",
        "  # Input validation\n",
        "  if not gender:\n",
        "    return \"Please select the patient's gender\"\n",
        "  if not race:\n",
        "    return \"Please select the patient's race\"\n",
        "\n",
        "  # Extract medication\n",
        "  simvastatin = 0.0\n",
        "  amiodarone = 0.0\n",
        "  if 'Simvastatin (Zocor)' in medication: simvastatin = 1.0\n",
        "  if 'Amiodarone (Cordarone)' in medication: amiodarone = 1.0\n",
        "  # Categorize age\n",
        "  age_categories = ['10 - 19', '20 - 29', '30 - 39', '40 - 49', '50 - 59', '60 - 69', '70 - 79', '80 - 89', '90+']\n",
        "  age_category = age_categories[int(np.floor(age/10)) - 1]\n",
        "\n",
        "  # Gender, Race (Reported), Age, Height (cm), Weight (kg), Diabetes, Simvastatin (Zocor), Amiodarone (Cordarone), Target INR, INR on Reported Therapeutic Dose of Warfarin, Cyp2C9 genotypes, VKORC1 genotype: -1639 G>A (3673); chr16:31015190; rs9923231; C/T\n",
        "  input_df = pd.DataFrame([[gender.lower(), race, age_category, height, weight, float(diabetes), simvastatin, amiodarone, 0.0, INR, Cyp2C9, VKORC1]], columns=[\"Gender\", \"Race (Reported)\", \"Age\", \"Height (cm)\", \"Weight (kg)\", \"Diabetes\", \"Simvastatin (Zocor)\", \"Amiodarone (Cordarone)\", \"Target INR\", \"INR on Reported Therapeutic Dose of Warfarin\", \"Cyp2C9 genotypes\", \"VKORC1 genotype: -1639 G>A (3673); chr16:31015190; rs9923231; C/T\"])\n",
        "  preprocessed_input_df = full_preprocess_function(input_df)\n",
        "\n",
        "  # Model Selection\n",
        "  if model == \"Logistic Regression\":\n",
        "    prediction = (logistic_regression_final_model.predict(preprocessed_input_df))\n",
        "  elif model == \"Support Vector Machine\":\n",
        "    prediction = (SVM_final_model.predict(preprocessed_input_df))\n",
        "  elif model == \"Random Forest\":\n",
        "    prediction = (random_forest_final_model.predict(preprocessed_input_df))\n",
        "  elif model == \"Neural Network\":\n",
        "    prediction = (NN_final_model.predict(preprocessed_input_df))\n",
        "    prediction = prediction > NN_threshold\n",
        "  else:\n",
        "    return \"Please select a Machine Learning Model\"\n",
        "\n",
        "  if prediction:\n",
        "    return \"The recommended Warfarin Dose is >=30mg\"\n",
        "  else:\n",
        "    return \"The recommended Warfarin Dose is <30mg\"\n"
      ]
    },
    {
      "cell_type": "code",
      "execution_count": null,
      "metadata": {
        "colab": {
          "background_save": true,
          "base_uri": "https://localhost:8080/",
          "height": 692
        },
        "id": "O3SG4cO2Sz1H",
        "outputId": "b03cfcad-ac57-4a59-fdb9-accf6cc2b61f"
      },
      "outputs": [
        {
          "name": "stderr",
          "output_type": "stream",
          "text": [
            "/usr/local/lib/python3.8/dist-packages/gradio/deprecation.py:43: UserWarning: You have unused kwarg parameters in Slider, please remove them: {'default': 30}\n",
            "  warnings.warn(\n",
            "/usr/local/lib/python3.8/dist-packages/gradio/deprecation.py:43: UserWarning: You have unused kwarg parameters in Slider, please remove them: {'default': 2.45}\n",
            "  warnings.warn(\n"
          ]
        },
        {
          "name": "stdout",
          "output_type": "stream",
          "text": [
            "Colab notebook detected. This cell will run indefinitely so that you can see errors and logs. To turn off, set debug=False in launch().\n",
            "Note: opening Chrome Inspector may crash demo inside Colab notebooks.\n",
            "\n",
            "To create a public link, set `share=True` in `launch()`.\n"
          ]
        },
        {
          "data": {
            "application/javascript": [
              "(async (port, path, width, height, cache, element) => {\n",
              "                        if (!google.colab.kernel.accessAllowed && !cache) {\n",
              "                            return;\n",
              "                        }\n",
              "                        element.appendChild(document.createTextNode(''));\n",
              "                        const url = await google.colab.kernel.proxyPort(port, {cache});\n",
              "\n",
              "                        const external_link = document.createElement('div');\n",
              "                        external_link.innerHTML = `\n",
              "                            <div style=\"font-family: monospace; margin-bottom: 0.5rem\">\n",
              "                                Running on <a href=${new URL(path, url).toString()} target=\"_blank\">\n",
              "                                    https://localhost:${port}${path}\n",
              "                                </a>\n",
              "                            </div>\n",
              "                        `;\n",
              "                        element.appendChild(external_link);\n",
              "\n",
              "                        const iframe = document.createElement('iframe');\n",
              "                        iframe.src = new URL(path, url).toString();\n",
              "                        iframe.height = height;\n",
              "                        iframe.allow = \"autoplay; camera; microphone; clipboard-read; clipboard-write;\"\n",
              "                        iframe.width = width;\n",
              "                        iframe.style.border = 0;\n",
              "                        element.appendChild(iframe);\n",
              "                    })(7860, \"/\", \"100%\", 500, false, window.element)"
            ],
            "text/plain": [
              "<IPython.core.display.Javascript object>"
            ]
          },
          "metadata": {},
          "output_type": "display_data"
        },
        {
          "name": "stdout",
          "output_type": "stream",
          "text": [
            "Keyboard interruption in main thread... closing server.\n"
          ]
        },
        {
          "data": {
            "text/plain": []
          },
          "execution_count": 200,
          "metadata": {},
          "output_type": "execute_result"
        }
      ],
      "source": [
        "# Define output module as Warfarin dose\n",
        "output_dose = gr.Textbox(label = \"Warfarin Dose\")\n",
        "\n",
        "# Define all input modules\n",
        "input_age = gr.Slider(10, 100, step=1, label = \"Age\", default=30)\n",
        "input_height = gr.Number(label = \"Height (cm)\")\n",
        "input_weight = gr.Number(label = \"Weight (kg)\")\n",
        "input_gender = gr.Radio(choices=[\"Male\", \"Female\"], label = \"Gender\")\n",
        "input_race = gr.Dropdown(choices=['Asian', 'Black or African American', 'Caucasian', 'Chinese', 'Han Chinese', 'Hispanic', 'Indian', 'Intermediate', 'Japanese', 'Korean', 'Malay', 'Other','Other Mixed Race', 'Unspecified', 'White'], label = \"Race\")\n",
        "input_diabetes = gr.Checkbox(label = \"Is the patient Diabetic?\")\n",
        "input_medication = gr.CheckboxGroup([\"Simvastatin (Zocor)\", \"Amiodarone (Cordarone)\"], label = \"Is the patient taking any of the following medication?\")\n",
        "input_Cyp269 = gr.Dropdown(['*1/*1', '*1/*11', '*1/*13', '*1/*14', '*1/*2', '*1/*3', '*1/*5', '*1/*6', '*2/*2', '*2/*3', '*3/*3'], label = \"Cyp2C9 genotype\")\n",
        "input_VKORC1 = gr.Dropdown(['A/A', 'A/G', 'G/G', 'Unknown'], label = \"VKORC1 genotype\")\n",
        "input_INR = gr.Slider(1, 5, step=0.01, label = \"INR on Reported Therapeutic Dose of Warfarin\", default=2.45)\n",
        "input_model = gr.Dropdown(choices=[\"Logistic Regression\", \"Support Vector Machine\", \"Random Forest\", \"Neural Network\" ], label = \"Machine Learning Model\")\n",
        "\n",
        "gr.Interface(fn=warfarin_callback, inputs=[input_age, input_height, input_weight,input_gender, input_race, input_diabetes, input_medication, input_Cyp269, input_VKORC1, input_INR, input_model], outputs=output_dose).launch(debug=True)"
      ]
    }
  ],
  "metadata": {
    "accelerator": "GPU",
    "colab": {
      "collapsed_sections": [
        "Qf_4tKl5m-WT",
        "SN8EP36Dnmy4",
        "ILtJCrrGq6th",
        "tS71bp2trVAR",
        "yXs8FaYirlOR",
        "goAf2qgqsxvH",
        "r6uN1w8Us76Y",
        "Ke4_DjYHiueM",
        "a1CAKrvxjEIl",
        "X2AidcVAjLAH",
        "68Xu_eAqjZIM",
        "eTFu_m-0j_tE",
        "qnhqflzQkNBu",
        "DJTqPE1ZkSt4",
        "N1EW2r4PkX7h",
        "BuGK1Z03kcjG",
        "3rJ3qIZ2kg1-",
        "0vpwWlmClaIy",
        "lfHtt1-Glos2",
        "A5RXjfCulr5C",
        "WQpCMcvblxsf",
        "TWtClR-Ul_si",
        "xhk_3RJemLeX",
        "7XWuzXMbmWMR",
        "k4niFN3rmZNz",
        "6h_n1t0Jmi1s",
        "W12bQIAlmpJ6",
        "mKAK1iibmrNP",
        "s34MHf6JmzfO",
        "Nx06QyvNneMA",
        "4l4D1gYRoG_7",
        "8Rt-YSKNoZJN",
        "AUsAvK7Wot7E",
        "HUh_ebSeoyuC",
        "PSIyA9uYo-lB",
        "kYAB7FrIp9x4",
        "rp-K4sRDqDK1",
        "uyNVOH1pqJoL",
        "N_jl3xlUqQSy",
        "8K4wUh32qYYe",
        "eDEhfEIXqdnB",
        "4KZB5Neiq4bF",
        "A-R3jMwAq64j"
      ],
      "provenance": []
    },
    "gpuClass": "standard",
    "kernelspec": {
      "display_name": "Python 3",
      "name": "python3"
    },
    "language_info": {
      "name": "python"
    }
  },
  "nbformat": 4,
  "nbformat_minor": 0
}